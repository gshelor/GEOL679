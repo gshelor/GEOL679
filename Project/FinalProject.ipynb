{
 "cells": [
  {
   "cell_type": "markdown",
   "metadata": {},
   "source": [
    "Griffin Shelor\\\n",
    "1-5-2024\n",
    "### Python for Earth Sciences Final Project"
   ]
  },
  {
   "cell_type": "markdown",
   "metadata": {},
   "source": [
    "# Forecasting Snow Water Equivalent (SWE) at Three SNOTEL Stations in Alaska from September 2021 - May 2022 using Random Forest modeling and SNOTEL data from January 2010 - May 2021"
   ]
  },
  {
   "cell_type": "markdown",
   "metadata": {},
   "source": [
    "## Loading packages and reading in dataset"
   ]
  },
  {
   "cell_type": "code",
   "execution_count": 28,
   "metadata": {},
   "outputs": [],
   "source": [
    "## importing modules/packages\n",
    "import numpy as np\n",
    "import pandas as pd\n",
    "from sklearn.ensemble import RandomForestRegressor\n",
    "from sklearn.model_selection import train_test_split\n",
    "from sklearn.metrics import root_mean_squared_error, r2_score\n",
    "import matplotlib.pyplot as plt\n",
    "import seaborn"
   ]
  },
  {
   "cell_type": "code",
   "execution_count": 29,
   "metadata": {},
   "outputs": [
    {
     "name": "stdout",
     "output_type": "stream",
     "text": [
      "(6396, 34)\n",
      "<class 'pandas.core.frame.DataFrame'>\n",
      "Index: 6396 entries, 0 to 6827\n",
      "Data columns (total 34 columns):\n",
      " #   Column                     Non-Null Count  Dtype  \n",
      "---  ------                     --------------  -----  \n",
      " 0   network                    6396 non-null   object \n",
      " 1   state                      6396 non-null   object \n",
      " 2   site_name                  6396 non-null   object \n",
      " 3   description                6396 non-null   object \n",
      " 4   start                      6396 non-null   object \n",
      " 5   end                        6396 non-null   object \n",
      " 6   latitude                   6396 non-null   float64\n",
      " 7   longitude                  6396 non-null   float64\n",
      " 8   elev                       6396 non-null   int64  \n",
      " 9   county                     6396 non-null   object \n",
      " 10  site_id                    6396 non-null   int64  \n",
      " 11  Year                       6396 non-null   int64  \n",
      " 12  Month                      6396 non-null   int64  \n",
      " 13  Day                        6396 non-null   int64  \n",
      " 14  yearday                    6396 non-null   int64  \n",
      " 15  date                       6396 non-null   object \n",
      " 16  snow_water_equivalent      6396 non-null   float64\n",
      " 17  precipitation_cumulative   6396 non-null   float64\n",
      " 18  temperature_max            6396 non-null   float64\n",
      " 19  temperature_min            6396 non-null   float64\n",
      " 20  temperature_mean           6396 non-null   float64\n",
      " 21  precipitation              6396 non-null   float64\n",
      " 22  study_year                 6396 non-null   int64  \n",
      " 23  daymet_maxtemp             6396 non-null   float64\n",
      " 24  daymet_mintemp             6396 non-null   float64\n",
      " 25  daymet_precip              6396 non-null   float64\n",
      " 26  daymet_meantemp            6396 non-null   float64\n",
      " 27  swe_plus                   6396 non-null   float64\n",
      " 28  prevday_swe                6396 non-null   float64\n",
      " 29  prevday_maxtemp            6396 non-null   float64\n",
      " 30  prevday_mintemp            6396 non-null   float64\n",
      " 31  prevday_meantemp           6396 non-null   float64\n",
      " 32  prevday_precip             6396 non-null   float64\n",
      " 33  prevday_cumulative_precip  6396 non-null   float64\n",
      "dtypes: float64(19), int64(7), object(8)\n",
      "memory usage: 1.7+ MB\n",
      "None\n"
     ]
    }
   ],
   "source": [
    "## reading in csv, printing info about it\n",
    "SnotelDaymet = pd.read_csv(\"SnotelDaymetAKSubset.csv\").dropna()\n",
    "print(SnotelDaymet.shape)\n",
    "print(SnotelDaymet.info())"
   ]
  },
  {
   "cell_type": "code",
   "execution_count": 30,
   "metadata": {},
   "outputs": [
    {
     "data": {
      "text/html": [
       "<div>\n",
       "<style scoped>\n",
       "    .dataframe tbody tr th:only-of-type {\n",
       "        vertical-align: middle;\n",
       "    }\n",
       "\n",
       "    .dataframe tbody tr th {\n",
       "        vertical-align: top;\n",
       "    }\n",
       "\n",
       "    .dataframe thead th {\n",
       "        text-align: right;\n",
       "    }\n",
       "</style>\n",
       "<table border=\"1\" class=\"dataframe\">\n",
       "  <thead>\n",
       "    <tr style=\"text-align: right;\">\n",
       "      <th></th>\n",
       "      <th>network</th>\n",
       "      <th>state</th>\n",
       "      <th>site_name</th>\n",
       "      <th>description</th>\n",
       "      <th>start</th>\n",
       "      <th>end</th>\n",
       "      <th>latitude</th>\n",
       "      <th>longitude</th>\n",
       "      <th>elev</th>\n",
       "      <th>county</th>\n",
       "      <th>...</th>\n",
       "      <th>daymet_mintemp</th>\n",
       "      <th>daymet_precip</th>\n",
       "      <th>daymet_meantemp</th>\n",
       "      <th>swe_plus</th>\n",
       "      <th>prevday_swe</th>\n",
       "      <th>prevday_maxtemp</th>\n",
       "      <th>prevday_mintemp</th>\n",
       "      <th>prevday_meantemp</th>\n",
       "      <th>prevday_precip</th>\n",
       "      <th>prevday_cumulative_precip</th>\n",
       "    </tr>\n",
       "  </thead>\n",
       "  <tbody>\n",
       "    <tr>\n",
       "      <th>0</th>\n",
       "      <td>SNTL</td>\n",
       "      <td>AK</td>\n",
       "      <td>munson ridge</td>\n",
       "      <td>Rock Creek-Chena River (190803060602)</td>\n",
       "      <td>1979-10-01</td>\n",
       "      <td>2024-05-02</td>\n",
       "      <td>64.85</td>\n",
       "      <td>-146.21</td>\n",
       "      <td>945</td>\n",
       "      <td>Fairbanks North Star</td>\n",
       "      <td>...</td>\n",
       "      <td>-3.49</td>\n",
       "      <td>0.00</td>\n",
       "      <td>-1.735</td>\n",
       "      <td>92.4</td>\n",
       "      <td>91.4</td>\n",
       "      <td>1.23</td>\n",
       "      <td>-13.94</td>\n",
       "      <td>-6.355</td>\n",
       "      <td>3.69</td>\n",
       "      <td>86.4</td>\n",
       "    </tr>\n",
       "    <tr>\n",
       "      <th>1</th>\n",
       "      <td>SNTL</td>\n",
       "      <td>AK</td>\n",
       "      <td>kenai moose pens</td>\n",
       "      <td>Upper Moose River (190203021601)</td>\n",
       "      <td>1982-10-01</td>\n",
       "      <td>2024-05-02</td>\n",
       "      <td>60.73</td>\n",
       "      <td>-150.48</td>\n",
       "      <td>91</td>\n",
       "      <td>Kenai Peninsula</td>\n",
       "      <td>...</td>\n",
       "      <td>0.16</td>\n",
       "      <td>0.00</td>\n",
       "      <td>3.150</td>\n",
       "      <td>44.2</td>\n",
       "      <td>43.2</td>\n",
       "      <td>2.34</td>\n",
       "      <td>-4.98</td>\n",
       "      <td>-1.320</td>\n",
       "      <td>0.00</td>\n",
       "      <td>119.4</td>\n",
       "    </tr>\n",
       "    <tr>\n",
       "      <th>2</th>\n",
       "      <td>SNTL</td>\n",
       "      <td>AK</td>\n",
       "      <td>anchor river divide</td>\n",
       "      <td>Headwaters Anchor River (190203010701)</td>\n",
       "      <td>1980-10-01</td>\n",
       "      <td>2024-05-02</td>\n",
       "      <td>59.86</td>\n",
       "      <td>-151.32</td>\n",
       "      <td>504</td>\n",
       "      <td>Kenai Peninsula</td>\n",
       "      <td>...</td>\n",
       "      <td>-6.49</td>\n",
       "      <td>0.00</td>\n",
       "      <td>-3.950</td>\n",
       "      <td>214.4</td>\n",
       "      <td>213.4</td>\n",
       "      <td>0.29</td>\n",
       "      <td>-3.49</td>\n",
       "      <td>-1.600</td>\n",
       "      <td>12.35</td>\n",
       "      <td>299.7</td>\n",
       "    </tr>\n",
       "    <tr>\n",
       "      <th>3</th>\n",
       "      <td>SNTL</td>\n",
       "      <td>AK</td>\n",
       "      <td>munson ridge</td>\n",
       "      <td>Rock Creek-Chena River (190803060602)</td>\n",
       "      <td>1979-10-01</td>\n",
       "      <td>2024-05-02</td>\n",
       "      <td>64.85</td>\n",
       "      <td>-146.21</td>\n",
       "      <td>945</td>\n",
       "      <td>Fairbanks North Star</td>\n",
       "      <td>...</td>\n",
       "      <td>-6.35</td>\n",
       "      <td>0.00</td>\n",
       "      <td>-3.280</td>\n",
       "      <td>92.4</td>\n",
       "      <td>91.4</td>\n",
       "      <td>0.02</td>\n",
       "      <td>-3.49</td>\n",
       "      <td>-1.735</td>\n",
       "      <td>0.00</td>\n",
       "      <td>86.4</td>\n",
       "    </tr>\n",
       "    <tr>\n",
       "      <th>4</th>\n",
       "      <td>SNTL</td>\n",
       "      <td>AK</td>\n",
       "      <td>kenai moose pens</td>\n",
       "      <td>Upper Moose River (190203021601)</td>\n",
       "      <td>1982-10-01</td>\n",
       "      <td>2024-05-02</td>\n",
       "      <td>60.73</td>\n",
       "      <td>-150.48</td>\n",
       "      <td>91</td>\n",
       "      <td>Kenai Peninsula</td>\n",
       "      <td>...</td>\n",
       "      <td>-1.61</td>\n",
       "      <td>7.94</td>\n",
       "      <td>0.530</td>\n",
       "      <td>44.2</td>\n",
       "      <td>43.2</td>\n",
       "      <td>6.14</td>\n",
       "      <td>0.16</td>\n",
       "      <td>3.150</td>\n",
       "      <td>0.00</td>\n",
       "      <td>119.4</td>\n",
       "    </tr>\n",
       "  </tbody>\n",
       "</table>\n",
       "<p>5 rows × 34 columns</p>\n",
       "</div>"
      ],
      "text/plain": [
       "  network state            site_name                             description  \\\n",
       "0    SNTL    AK         munson ridge   Rock Creek-Chena River (190803060602)   \n",
       "1    SNTL    AK     kenai moose pens        Upper Moose River (190203021601)   \n",
       "2    SNTL    AK  anchor river divide  Headwaters Anchor River (190203010701)   \n",
       "3    SNTL    AK         munson ridge   Rock Creek-Chena River (190803060602)   \n",
       "4    SNTL    AK     kenai moose pens        Upper Moose River (190203021601)   \n",
       "\n",
       "        start         end  latitude  longitude  elev                county  \\\n",
       "0  1979-10-01  2024-05-02     64.85    -146.21   945  Fairbanks North Star   \n",
       "1  1982-10-01  2024-05-02     60.73    -150.48    91       Kenai Peninsula   \n",
       "2  1980-10-01  2024-05-02     59.86    -151.32   504       Kenai Peninsula   \n",
       "3  1979-10-01  2024-05-02     64.85    -146.21   945  Fairbanks North Star   \n",
       "4  1982-10-01  2024-05-02     60.73    -150.48    91       Kenai Peninsula   \n",
       "\n",
       "   ...  daymet_mintemp  daymet_precip  daymet_meantemp  swe_plus  prevday_swe  \\\n",
       "0  ...           -3.49           0.00           -1.735      92.4         91.4   \n",
       "1  ...            0.16           0.00            3.150      44.2         43.2   \n",
       "2  ...           -6.49           0.00           -3.950     214.4        213.4   \n",
       "3  ...           -6.35           0.00           -3.280      92.4         91.4   \n",
       "4  ...           -1.61           7.94            0.530      44.2         43.2   \n",
       "\n",
       "  prevday_maxtemp  prevday_mintemp  prevday_meantemp  prevday_precip  \\\n",
       "0            1.23           -13.94            -6.355            3.69   \n",
       "1            2.34            -4.98            -1.320            0.00   \n",
       "2            0.29            -3.49            -1.600           12.35   \n",
       "3            0.02            -3.49            -1.735            0.00   \n",
       "4            6.14             0.16             3.150            0.00   \n",
       "\n",
       "   prevday_cumulative_precip  \n",
       "0                       86.4  \n",
       "1                      119.4  \n",
       "2                      299.7  \n",
       "3                       86.4  \n",
       "4                      119.4  \n",
       "\n",
       "[5 rows x 34 columns]"
      ]
     },
     "execution_count": 30,
     "metadata": {},
     "output_type": "execute_result"
    }
   ],
   "source": [
    "## printing first 5 rows\n",
    "SnotelDaymet.head()"
   ]
  },
  {
   "cell_type": "markdown",
   "metadata": {},
   "source": [
    "## Subsetting data to be forecasted after model is built"
   ]
  },
  {
   "cell_type": "code",
   "execution_count": 31,
   "metadata": {},
   "outputs": [],
   "source": [
    "## filtering SnotelDaymet to remove 2023 days being forecasted (September 1 2023 through December 31 2023)\n",
    "Snotel_fcast = SnotelDaymet[(SnotelDaymet['Year']==2022) & (SnotelDaymet['Month']>=9) & (SnotelDaymet['Day'] >= 1)].copy()\n",
    "## identifying dependent variable, dropping it and other irrelevant variables from covariates\n",
    "columns = ['latitude', 'elev', 'prevday_cumulative_precip', 'prevday_maxtemp', 'prevday_mintemp', 'prevday_meantemp', 'prevday_precip']\n",
    "fcast_covariates = pd.DataFrame(Snotel_fcast, columns=columns)\n",
    "\n",
    "## subsetting rows not being forecasted so they are not used to build the model\n",
    "Snotel_ModelData = SnotelDaymet[~SnotelDaymet.isin(Snotel_fcast)]"
   ]
  },
  {
   "cell_type": "code",
   "execution_count": 32,
   "metadata": {},
   "outputs": [
    {
     "data": {
      "text/html": [
       "<div>\n",
       "<style scoped>\n",
       "    .dataframe tbody tr th:only-of-type {\n",
       "        vertical-align: middle;\n",
       "    }\n",
       "\n",
       "    .dataframe tbody tr th {\n",
       "        vertical-align: top;\n",
       "    }\n",
       "\n",
       "    .dataframe thead th {\n",
       "        text-align: right;\n",
       "    }\n",
       "</style>\n",
       "<table border=\"1\" class=\"dataframe\">\n",
       "  <thead>\n",
       "    <tr style=\"text-align: right;\">\n",
       "      <th></th>\n",
       "      <th>network</th>\n",
       "      <th>state</th>\n",
       "      <th>site_name</th>\n",
       "      <th>description</th>\n",
       "      <th>start</th>\n",
       "      <th>end</th>\n",
       "      <th>latitude</th>\n",
       "      <th>longitude</th>\n",
       "      <th>elev</th>\n",
       "      <th>county</th>\n",
       "      <th>...</th>\n",
       "      <th>daymet_mintemp</th>\n",
       "      <th>daymet_precip</th>\n",
       "      <th>daymet_meantemp</th>\n",
       "      <th>swe_plus</th>\n",
       "      <th>prevday_swe</th>\n",
       "      <th>prevday_maxtemp</th>\n",
       "      <th>prevday_mintemp</th>\n",
       "      <th>prevday_meantemp</th>\n",
       "      <th>prevday_precip</th>\n",
       "      <th>prevday_cumulative_precip</th>\n",
       "    </tr>\n",
       "  </thead>\n",
       "  <tbody>\n",
       "    <tr>\n",
       "      <th>6711</th>\n",
       "      <td>SNTL</td>\n",
       "      <td>AK</td>\n",
       "      <td>munson ridge</td>\n",
       "      <td>Rock Creek-Chena River (190803060602)</td>\n",
       "      <td>1979-10-01</td>\n",
       "      <td>2024-05-02</td>\n",
       "      <td>64.85</td>\n",
       "      <td>-146.21</td>\n",
       "      <td>945</td>\n",
       "      <td>Fairbanks North Star</td>\n",
       "      <td>...</td>\n",
       "      <td>0.70</td>\n",
       "      <td>13.36</td>\n",
       "      <td>2.510</td>\n",
       "      <td>1.0</td>\n",
       "      <td>0.0</td>\n",
       "      <td>7.66</td>\n",
       "      <td>3.02</td>\n",
       "      <td>5.340</td>\n",
       "      <td>11.91</td>\n",
       "      <td>581.7</td>\n",
       "    </tr>\n",
       "    <tr>\n",
       "      <th>6712</th>\n",
       "      <td>SNTL</td>\n",
       "      <td>AK</td>\n",
       "      <td>munson ridge</td>\n",
       "      <td>Rock Creek-Chena River (190803060602)</td>\n",
       "      <td>1979-10-01</td>\n",
       "      <td>2024-05-02</td>\n",
       "      <td>64.85</td>\n",
       "      <td>-146.21</td>\n",
       "      <td>945</td>\n",
       "      <td>Fairbanks North Star</td>\n",
       "      <td>...</td>\n",
       "      <td>-0.30</td>\n",
       "      <td>0.00</td>\n",
       "      <td>4.305</td>\n",
       "      <td>1.0</td>\n",
       "      <td>0.0</td>\n",
       "      <td>4.32</td>\n",
       "      <td>0.70</td>\n",
       "      <td>2.510</td>\n",
       "      <td>13.36</td>\n",
       "      <td>589.3</td>\n",
       "    </tr>\n",
       "    <tr>\n",
       "      <th>6713</th>\n",
       "      <td>SNTL</td>\n",
       "      <td>AK</td>\n",
       "      <td>munson ridge</td>\n",
       "      <td>Rock Creek-Chena River (190803060602)</td>\n",
       "      <td>1979-10-01</td>\n",
       "      <td>2024-05-02</td>\n",
       "      <td>64.85</td>\n",
       "      <td>-146.21</td>\n",
       "      <td>945</td>\n",
       "      <td>Fairbanks North Star</td>\n",
       "      <td>...</td>\n",
       "      <td>4.09</td>\n",
       "      <td>9.15</td>\n",
       "      <td>5.590</td>\n",
       "      <td>1.0</td>\n",
       "      <td>0.0</td>\n",
       "      <td>8.91</td>\n",
       "      <td>-0.30</td>\n",
       "      <td>4.305</td>\n",
       "      <td>0.00</td>\n",
       "      <td>594.4</td>\n",
       "    </tr>\n",
       "    <tr>\n",
       "      <th>6714</th>\n",
       "      <td>SNTL</td>\n",
       "      <td>AK</td>\n",
       "      <td>munson ridge</td>\n",
       "      <td>Rock Creek-Chena River (190803060602)</td>\n",
       "      <td>1979-10-01</td>\n",
       "      <td>2024-05-02</td>\n",
       "      <td>64.85</td>\n",
       "      <td>-146.21</td>\n",
       "      <td>945</td>\n",
       "      <td>Fairbanks North Star</td>\n",
       "      <td>...</td>\n",
       "      <td>3.61</td>\n",
       "      <td>0.00</td>\n",
       "      <td>7.120</td>\n",
       "      <td>1.0</td>\n",
       "      <td>0.0</td>\n",
       "      <td>7.09</td>\n",
       "      <td>4.09</td>\n",
       "      <td>5.590</td>\n",
       "      <td>9.15</td>\n",
       "      <td>604.5</td>\n",
       "    </tr>\n",
       "    <tr>\n",
       "      <th>6715</th>\n",
       "      <td>SNTL</td>\n",
       "      <td>AK</td>\n",
       "      <td>munson ridge</td>\n",
       "      <td>Rock Creek-Chena River (190803060602)</td>\n",
       "      <td>1979-10-01</td>\n",
       "      <td>2024-05-02</td>\n",
       "      <td>64.85</td>\n",
       "      <td>-146.21</td>\n",
       "      <td>945</td>\n",
       "      <td>Fairbanks North Star</td>\n",
       "      <td>...</td>\n",
       "      <td>2.54</td>\n",
       "      <td>2.70</td>\n",
       "      <td>4.025</td>\n",
       "      <td>1.0</td>\n",
       "      <td>0.0</td>\n",
       "      <td>10.63</td>\n",
       "      <td>3.61</td>\n",
       "      <td>7.120</td>\n",
       "      <td>0.00</td>\n",
       "      <td>635.0</td>\n",
       "    </tr>\n",
       "  </tbody>\n",
       "</table>\n",
       "<p>5 rows × 34 columns</p>\n",
       "</div>"
      ],
      "text/plain": [
       "     network state     site_name                            description  \\\n",
       "6711    SNTL    AK  munson ridge  Rock Creek-Chena River (190803060602)   \n",
       "6712    SNTL    AK  munson ridge  Rock Creek-Chena River (190803060602)   \n",
       "6713    SNTL    AK  munson ridge  Rock Creek-Chena River (190803060602)   \n",
       "6714    SNTL    AK  munson ridge  Rock Creek-Chena River (190803060602)   \n",
       "6715    SNTL    AK  munson ridge  Rock Creek-Chena River (190803060602)   \n",
       "\n",
       "           start         end  latitude  longitude  elev                county  \\\n",
       "6711  1979-10-01  2024-05-02     64.85    -146.21   945  Fairbanks North Star   \n",
       "6712  1979-10-01  2024-05-02     64.85    -146.21   945  Fairbanks North Star   \n",
       "6713  1979-10-01  2024-05-02     64.85    -146.21   945  Fairbanks North Star   \n",
       "6714  1979-10-01  2024-05-02     64.85    -146.21   945  Fairbanks North Star   \n",
       "6715  1979-10-01  2024-05-02     64.85    -146.21   945  Fairbanks North Star   \n",
       "\n",
       "      ...  daymet_mintemp  daymet_precip  daymet_meantemp  swe_plus  \\\n",
       "6711  ...            0.70          13.36            2.510       1.0   \n",
       "6712  ...           -0.30           0.00            4.305       1.0   \n",
       "6713  ...            4.09           9.15            5.590       1.0   \n",
       "6714  ...            3.61           0.00            7.120       1.0   \n",
       "6715  ...            2.54           2.70            4.025       1.0   \n",
       "\n",
       "      prevday_swe prevday_maxtemp  prevday_mintemp  prevday_meantemp  \\\n",
       "6711          0.0            7.66             3.02             5.340   \n",
       "6712          0.0            4.32             0.70             2.510   \n",
       "6713          0.0            8.91            -0.30             4.305   \n",
       "6714          0.0            7.09             4.09             5.590   \n",
       "6715          0.0           10.63             3.61             7.120   \n",
       "\n",
       "      prevday_precip  prevday_cumulative_precip  \n",
       "6711           11.91                      581.7  \n",
       "6712           13.36                      589.3  \n",
       "6713            0.00                      594.4  \n",
       "6714            9.15                      604.5  \n",
       "6715            0.00                      635.0  \n",
       "\n",
       "[5 rows x 34 columns]"
      ]
     },
     "execution_count": 32,
     "metadata": {},
     "output_type": "execute_result"
    }
   ],
   "source": [
    "Snotel_fcast.head()"
   ]
  },
  {
   "cell_type": "code",
   "execution_count": 33,
   "metadata": {},
   "outputs": [
    {
     "data": {
      "text/html": [
       "<div>\n",
       "<style scoped>\n",
       "    .dataframe tbody tr th:only-of-type {\n",
       "        vertical-align: middle;\n",
       "    }\n",
       "\n",
       "    .dataframe tbody tr th {\n",
       "        vertical-align: top;\n",
       "    }\n",
       "\n",
       "    .dataframe thead th {\n",
       "        text-align: right;\n",
       "    }\n",
       "</style>\n",
       "<table border=\"1\" class=\"dataframe\">\n",
       "  <thead>\n",
       "    <tr style=\"text-align: right;\">\n",
       "      <th></th>\n",
       "      <th>network</th>\n",
       "      <th>state</th>\n",
       "      <th>site_name</th>\n",
       "      <th>description</th>\n",
       "      <th>start</th>\n",
       "      <th>end</th>\n",
       "      <th>latitude</th>\n",
       "      <th>longitude</th>\n",
       "      <th>elev</th>\n",
       "      <th>county</th>\n",
       "      <th>...</th>\n",
       "      <th>daymet_mintemp</th>\n",
       "      <th>daymet_precip</th>\n",
       "      <th>daymet_meantemp</th>\n",
       "      <th>swe_plus</th>\n",
       "      <th>prevday_swe</th>\n",
       "      <th>prevday_maxtemp</th>\n",
       "      <th>prevday_mintemp</th>\n",
       "      <th>prevday_meantemp</th>\n",
       "      <th>prevday_precip</th>\n",
       "      <th>prevday_cumulative_precip</th>\n",
       "    </tr>\n",
       "  </thead>\n",
       "  <tbody>\n",
       "    <tr>\n",
       "      <th>0</th>\n",
       "      <td>SNTL</td>\n",
       "      <td>AK</td>\n",
       "      <td>munson ridge</td>\n",
       "      <td>Rock Creek-Chena River (190803060602)</td>\n",
       "      <td>1979-10-01</td>\n",
       "      <td>2024-05-02</td>\n",
       "      <td>64.85</td>\n",
       "      <td>-146.21</td>\n",
       "      <td>945.0</td>\n",
       "      <td>Fairbanks North Star</td>\n",
       "      <td>...</td>\n",
       "      <td>-3.49</td>\n",
       "      <td>0.00</td>\n",
       "      <td>-1.735</td>\n",
       "      <td>92.4</td>\n",
       "      <td>91.4</td>\n",
       "      <td>1.23</td>\n",
       "      <td>-13.94</td>\n",
       "      <td>-6.355</td>\n",
       "      <td>3.69</td>\n",
       "      <td>86.4</td>\n",
       "    </tr>\n",
       "    <tr>\n",
       "      <th>1</th>\n",
       "      <td>SNTL</td>\n",
       "      <td>AK</td>\n",
       "      <td>kenai moose pens</td>\n",
       "      <td>Upper Moose River (190203021601)</td>\n",
       "      <td>1982-10-01</td>\n",
       "      <td>2024-05-02</td>\n",
       "      <td>60.73</td>\n",
       "      <td>-150.48</td>\n",
       "      <td>91.0</td>\n",
       "      <td>Kenai Peninsula</td>\n",
       "      <td>...</td>\n",
       "      <td>0.16</td>\n",
       "      <td>0.00</td>\n",
       "      <td>3.150</td>\n",
       "      <td>44.2</td>\n",
       "      <td>43.2</td>\n",
       "      <td>2.34</td>\n",
       "      <td>-4.98</td>\n",
       "      <td>-1.320</td>\n",
       "      <td>0.00</td>\n",
       "      <td>119.4</td>\n",
       "    </tr>\n",
       "    <tr>\n",
       "      <th>2</th>\n",
       "      <td>SNTL</td>\n",
       "      <td>AK</td>\n",
       "      <td>anchor river divide</td>\n",
       "      <td>Headwaters Anchor River (190203010701)</td>\n",
       "      <td>1980-10-01</td>\n",
       "      <td>2024-05-02</td>\n",
       "      <td>59.86</td>\n",
       "      <td>-151.32</td>\n",
       "      <td>504.0</td>\n",
       "      <td>Kenai Peninsula</td>\n",
       "      <td>...</td>\n",
       "      <td>-6.49</td>\n",
       "      <td>0.00</td>\n",
       "      <td>-3.950</td>\n",
       "      <td>214.4</td>\n",
       "      <td>213.4</td>\n",
       "      <td>0.29</td>\n",
       "      <td>-3.49</td>\n",
       "      <td>-1.600</td>\n",
       "      <td>12.35</td>\n",
       "      <td>299.7</td>\n",
       "    </tr>\n",
       "    <tr>\n",
       "      <th>3</th>\n",
       "      <td>SNTL</td>\n",
       "      <td>AK</td>\n",
       "      <td>munson ridge</td>\n",
       "      <td>Rock Creek-Chena River (190803060602)</td>\n",
       "      <td>1979-10-01</td>\n",
       "      <td>2024-05-02</td>\n",
       "      <td>64.85</td>\n",
       "      <td>-146.21</td>\n",
       "      <td>945.0</td>\n",
       "      <td>Fairbanks North Star</td>\n",
       "      <td>...</td>\n",
       "      <td>-6.35</td>\n",
       "      <td>0.00</td>\n",
       "      <td>-3.280</td>\n",
       "      <td>92.4</td>\n",
       "      <td>91.4</td>\n",
       "      <td>0.02</td>\n",
       "      <td>-3.49</td>\n",
       "      <td>-1.735</td>\n",
       "      <td>0.00</td>\n",
       "      <td>86.4</td>\n",
       "    </tr>\n",
       "    <tr>\n",
       "      <th>4</th>\n",
       "      <td>SNTL</td>\n",
       "      <td>AK</td>\n",
       "      <td>kenai moose pens</td>\n",
       "      <td>Upper Moose River (190203021601)</td>\n",
       "      <td>1982-10-01</td>\n",
       "      <td>2024-05-02</td>\n",
       "      <td>60.73</td>\n",
       "      <td>-150.48</td>\n",
       "      <td>91.0</td>\n",
       "      <td>Kenai Peninsula</td>\n",
       "      <td>...</td>\n",
       "      <td>-1.61</td>\n",
       "      <td>7.94</td>\n",
       "      <td>0.530</td>\n",
       "      <td>44.2</td>\n",
       "      <td>43.2</td>\n",
       "      <td>6.14</td>\n",
       "      <td>0.16</td>\n",
       "      <td>3.150</td>\n",
       "      <td>0.00</td>\n",
       "      <td>119.4</td>\n",
       "    </tr>\n",
       "  </tbody>\n",
       "</table>\n",
       "<p>5 rows × 34 columns</p>\n",
       "</div>"
      ],
      "text/plain": [
       "  network state            site_name                             description  \\\n",
       "0    SNTL    AK         munson ridge   Rock Creek-Chena River (190803060602)   \n",
       "1    SNTL    AK     kenai moose pens        Upper Moose River (190203021601)   \n",
       "2    SNTL    AK  anchor river divide  Headwaters Anchor River (190203010701)   \n",
       "3    SNTL    AK         munson ridge   Rock Creek-Chena River (190803060602)   \n",
       "4    SNTL    AK     kenai moose pens        Upper Moose River (190203021601)   \n",
       "\n",
       "        start         end  latitude  longitude   elev                county  \\\n",
       "0  1979-10-01  2024-05-02     64.85    -146.21  945.0  Fairbanks North Star   \n",
       "1  1982-10-01  2024-05-02     60.73    -150.48   91.0       Kenai Peninsula   \n",
       "2  1980-10-01  2024-05-02     59.86    -151.32  504.0       Kenai Peninsula   \n",
       "3  1979-10-01  2024-05-02     64.85    -146.21  945.0  Fairbanks North Star   \n",
       "4  1982-10-01  2024-05-02     60.73    -150.48   91.0       Kenai Peninsula   \n",
       "\n",
       "   ...  daymet_mintemp  daymet_precip  daymet_meantemp  swe_plus  prevday_swe  \\\n",
       "0  ...           -3.49           0.00           -1.735      92.4         91.4   \n",
       "1  ...            0.16           0.00            3.150      44.2         43.2   \n",
       "2  ...           -6.49           0.00           -3.950     214.4        213.4   \n",
       "3  ...           -6.35           0.00           -3.280      92.4         91.4   \n",
       "4  ...           -1.61           7.94            0.530      44.2         43.2   \n",
       "\n",
       "  prevday_maxtemp  prevday_mintemp  prevday_meantemp  prevday_precip  \\\n",
       "0            1.23           -13.94            -6.355            3.69   \n",
       "1            2.34            -4.98            -1.320            0.00   \n",
       "2            0.29            -3.49            -1.600           12.35   \n",
       "3            0.02            -3.49            -1.735            0.00   \n",
       "4            6.14             0.16             3.150            0.00   \n",
       "\n",
       "   prevday_cumulative_precip  \n",
       "0                       86.4  \n",
       "1                      119.4  \n",
       "2                      299.7  \n",
       "3                       86.4  \n",
       "4                      119.4  \n",
       "\n",
       "[5 rows x 34 columns]"
      ]
     },
     "execution_count": 33,
     "metadata": {},
     "output_type": "execute_result"
    }
   ],
   "source": [
    "Snotel_ModelData.head()"
   ]
  },
  {
   "cell_type": "markdown",
   "metadata": {},
   "source": [
    "# Creating training and testing datasets"
   ]
  },
  {
   "cell_type": "code",
   "execution_count": 34,
   "metadata": {},
   "outputs": [],
   "source": [
    "## identifying dependent variable, dropping it from covariates\n",
    "columns = ['latitude','elev', 'prevday_cumulative_precip', 'prevday_maxtemp', 'prevday_mintemp', 'prevday_meantemp', 'prevday_precip']\n",
    "x_covariates = pd.DataFrame(Snotel_ModelData, columns=columns).dropna()\n",
    "y_swe = Snotel_ModelData['snow_water_equivalent'].dropna()\n",
    "#  setting 1/4 of the data aside for model testing\n",
    "x_train, x_test, y_train, y_test = train_test_split(x_covariates, y_swe, test_size=0.25, random_state=802)"
   ]
  },
  {
   "cell_type": "markdown",
   "metadata": {},
   "source": [
    "The code chunk below wouldn't run for some reason unless I added the dropna to the middle lines in the above chunk? I'm not sure why this is, I can run a random forest model just fine in R with the exact same csv"
   ]
  },
  {
   "cell_type": "code",
   "execution_count": 35,
   "metadata": {},
   "outputs": [
    {
     "name": "stdout",
     "output_type": "stream",
     "text": [
      "0.41045866674391196\n"
     ]
    }
   ],
   "source": [
    "# Fit model to training data, evaluate performance on test dataset\n",
    "SWEmodel_rf = RandomForestRegressor(max_depth=3, n_estimators=10000, random_state=802)\n",
    "SWEmodel_rf_fit = SWEmodel_rf.fit(x_train, y_train)\n",
    "## predicting on test dataset\n",
    "ymodel_rf = SWEmodel_rf_fit.predict(x_test)\n",
    "print(r2_score(y_test, ymodel_rf))"
   ]
  },
  {
   "cell_type": "code",
   "execution_count": 36,
   "metadata": {},
   "outputs": [],
   "source": [
    "# Add prediction for forecasted data points\n",
    "swe_forecast = SWEmodel_rf.predict(fcast_covariates)\n",
    "\n",
    "Snotel_fcast['swe_forecast'] = swe_forecast\n"
   ]
  },
  {
   "cell_type": "code",
   "execution_count": 61,
   "metadata": {},
   "outputs": [
    {
     "data": {
      "image/png": "[encoded data removed]",
      "text/plain": [
       "<Figure size 640x480 with 1 Axes>"
      ]
     },
     "metadata": {},
     "output_type": "display_data"
    }
   ],
   "source": [
    "# Plot the feature importance\n",
    "n_features= SWEmodel_rf.n_features_in_\n",
    "plt.barh(np.arange(n_features), SWEmodel_rf.feature_importances_, align='center')\n",
    "plt.title(\"RF Model 1 Variable Importance\")\n",
    "plt.yticks(np.arange(n_features), x_covariates.columns)\n",
    "plt.xlabel(\"Feature importance\")\n",
    "plt.ylabel(\"Feature\")\n",
    "plt.ylim(-1, n_features);\n",
    "plt.savefig('Model1VarImp.png',dpi=300)"
   ]
  },
  {
   "cell_type": "code",
   "execution_count": 51,
   "metadata": {},
   "outputs": [
    {
     "name": "stdout",
     "output_type": "stream",
     "text": [
      "Random Forest Regression r2_score = 0.41\n",
      "Random Forest Regression RMSE score on test dataset = 92.22\n",
      "Random Forest Regression RMSE score on forecasted 2021-2022 data = 81.54\n"
     ]
    }
   ],
   "source": [
    "## printing r2 score and RMSE on for model compared to test data, as well as model compared to true forecast\n",
    "print('Random Forest Regression r2_score = {:4.2f}'.format(r2_score(y_test, ymodel_rf)))\n",
    "print('Random Forest Regression RMSE score on test dataset = {:4.2f}'.format(root_mean_squared_error(y_test, ymodel_rf)))\n",
    "print('Random Forest Regression RMSE score on forecasted 2021-2022 data = {:4.2f}'.format(root_mean_squared_error(Snotel_fcast['swe_forecast'], Snotel_fcast['snow_water_equivalent'])))"
   ]
  },
  {
   "cell_type": "markdown",
   "metadata": {},
   "source": [
    "## Random Forest Model 2, dropping unimportant features"
   ]
  },
  {
   "cell_type": "code",
   "execution_count": 39,
   "metadata": {},
   "outputs": [],
   "source": [
    "## identifying dependent variable, dropping it and other irrelevant variables from covariates in forecasted days\n",
    "columns_mod2 = ['prevday_cumulative_precip', 'prevday_mintemp', 'prevday_meantemp']\n",
    "fcast_covariates_mod2 = pd.DataFrame(Snotel_fcast, columns=columns_mod2)\n",
    "x_covariates_mod2 = pd.DataFrame(Snotel_ModelData, columns=columns_mod2).dropna()\n",
    "y_swe_mod2 = Snotel_ModelData['snow_water_equivalent'].dropna()\n",
    "#  the same proportions of examples in each class\n",
    "x_train_mod2, x_test_mod2, y_train_mod2, y_test_mod2 = train_test_split(x_covariates_mod2, y_swe_mod2, test_size=0.25, random_state=802)\n"
   ]
  },
  {
   "cell_type": "code",
   "execution_count": 40,
   "metadata": {},
   "outputs": [
    {
     "name": "stdout",
     "output_type": "stream",
     "text": [
      "0.40308497735735105\n"
     ]
    }
   ],
   "source": [
    "## fitting 2nd model with different covariates\n",
    "# Fit model to training data, evaluate performance on test dataset\n",
    "SWEmodel_rf_mod2 = RandomForestRegressor(max_depth=3, n_estimators=10000, random_state=802)\n",
    "SWEmodel_rf_fit_mod2 = SWEmodel_rf_mod2.fit(x_train_mod2, y_train_mod2)\n",
    "## predicting on test dataset\n",
    "ymodel_rf_mod2 = SWEmodel_rf_fit_mod2.predict(x_test_mod2)\n",
    "print(r2_score(y_test_mod2, ymodel_rf_mod2))"
   ]
  },
  {
   "cell_type": "code",
   "execution_count": 41,
   "metadata": {},
   "outputs": [],
   "source": [
    "# Add prediction for forecasted data points\n",
    "swe_forecast_mod2 = SWEmodel_rf_mod2.predict(fcast_covariates_mod2)\n",
    "\n",
    "Snotel_fcast['swe_forecast_mod2'] = swe_forecast_mod2"
   ]
  },
  {
   "cell_type": "code",
   "execution_count": 57,
   "metadata": {},
   "outputs": [
    {
     "data": {
      "image/png": "[encoded data removed]",
      "text/plain": [
       "<Figure size 640x480 with 1 Axes>"
      ]
     },
     "metadata": {},
     "output_type": "display_data"
    }
   ],
   "source": [
    "# Plot the feature importance\n",
    "n_features_mod2 = SWEmodel_rf_mod2.n_features_in_\n",
    "plt.barh(np.arange(n_features_mod2), SWEmodel_rf_mod2.feature_importances_, align='center')\n",
    "plt.title(\"RF Model 2 Variable Importance\")\n",
    "plt.yticks(np.arange(n_features_mod2), x_covariates_mod2.columns)\n",
    "plt.xlabel(\"Feature importance\")\n",
    "plt.ylabel(\"Feature\")\n",
    "plt.ylim(-1, n_features_mod2);\n",
    "plt.savefig('Model2VarImp.png',dpi=300)"
   ]
  },
  {
   "cell_type": "markdown",
   "metadata": {},
   "source": [
    "### Evaluating r2 score and RMSE of 2nd model"
   ]
  },
  {
   "cell_type": "code",
   "execution_count": 50,
   "metadata": {},
   "outputs": [
    {
     "name": "stdout",
     "output_type": "stream",
     "text": [
      "Random Forest Model 2 Regression r2_score = 0.40\n",
      "Random Forest Model 2 Regression RMSE score on test dataset = 92.80\n",
      "Random Forest Model 2 Regression RMSE score on forecasted 2021-2022 data = 81.14\n"
     ]
    }
   ],
   "source": [
    "## printing r2 score and RMSE on for model compared to test data, as well as model compared to true forecast\n",
    "print('Random Forest Model 2 Regression r2_score = {:4.2f}'.format(r2_score(y_test_mod2, ymodel_rf_mod2)))\n",
    "print('Random Forest Model 2 Regression RMSE score on test dataset = {:4.2f}'.format(root_mean_squared_error(y_test_mod2, ymodel_rf_mod2)))\n",
    "print('Random Forest Model 2 Regression RMSE score on forecasted 2021-2022 data = {:4.2f}'.format(root_mean_squared_error(Snotel_fcast['swe_forecast_mod2'], Snotel_fcast['snow_water_equivalent'])))"
   ]
  },
  {
   "cell_type": "markdown",
   "metadata": {},
   "source": [
    "### Adjusting Hyper paramters of model 2 to see if it continues to perform better"
   ]
  },
  {
   "cell_type": "code",
   "execution_count": 44,
   "metadata": {},
   "outputs": [],
   "source": [
    "## Model 3\n",
    "## Adjusting hyperparameters of model 2, using same covariates as model 2\n",
    "# cumulative precipitation, mean temp, min temp\n",
    "# Fit model to training data, evaluate performance on test dataset\n",
    "# using same training data, just changing hyper parameters\n",
    "SWEmodel_rf_mod3 = RandomForestRegressor(max_depth=2, n_estimators=5000, random_state=802)\n",
    "SWEmodel_rf_fit_mod3 = SWEmodel_rf_mod3.fit(x_train_mod2, y_train_mod2)\n",
    "## predicting on test dataset\n",
    "ymodel_rf_mod3 = SWEmodel_rf_fit_mod3.predict(x_test_mod2)\n",
    "\n",
    "# Add prediction for forecasted data points\n",
    "swe_forecast_mod3 = SWEmodel_rf_fit_mod3.predict(fcast_covariates_mod2)\n",
    "\n",
    "Snotel_fcast['swe_forecast_mod3'] = swe_forecast_mod3\n"
   ]
  },
  {
   "cell_type": "code",
   "execution_count": 58,
   "metadata": {},
   "outputs": [
    {
     "data": {
      "image/png": "[encoded data removed]",
      "text/plain": [
       "<Figure size 640x480 with 1 Axes>"
      ]
     },
     "metadata": {},
     "output_type": "display_data"
    }
   ],
   "source": [
    "# Plot the feature importance\n",
    "n_features_mod3 = SWEmodel_rf_fit_mod3.n_features_in_\n",
    "plt.barh(np.arange(n_features_mod3), SWEmodel_rf_fit_mod3.feature_importances_, align='center')\n",
    "plt.title(\"RF Model 3 Variable Importance\")\n",
    "plt.yticks(np.arange(n_features_mod3), x_covariates_mod2.columns)\n",
    "plt.xlabel(\"Feature importance\")\n",
    "plt.ylabel(\"Feature\")\n",
    "plt.ylim(-1, n_features_mod3);\n",
    "plt.savefig('Model3VarImp.png',dpi=300)"
   ]
  },
  {
   "cell_type": "markdown",
   "metadata": {},
   "source": [
    "Evaluating R2 score and RMSE of 3rd model (2nd model but with adjusted hyperparameters)"
   ]
  },
  {
   "cell_type": "code",
   "execution_count": 64,
   "metadata": {},
   "outputs": [
    {
     "name": "stdout",
     "output_type": "stream",
     "text": [
      "Random Forest Model 3 Regression r2_score = 0.30\n",
      "Random Forest Model 3 Regression RMSE score on test dataset = 100.43\n",
      "Random Forest Model 3 Regression RMSE score on forecasted 2022-2023 data = 71.87\n"
     ]
    }
   ],
   "source": [
    "## printing r2 score and RMSE on for model compared to test data, as well as model compared to true forecast\n",
    "## y_test_mod2 can remain because the train/test split was not changed for the 3rd model\n",
    "print('Random Forest Model 3 Regression r2_score = {:4.2f}'.format(r2_score(y_test_mod2, ymodel_rf_mod3)))\n",
    "print('Random Forest Model 3 Regression RMSE score on test dataset = {:4.2f}'.format(root_mean_squared_error(y_test_mod2, ymodel_rf_mod3)))\n",
    "print('Random Forest Model 3 Regression RMSE score on forecasted 2022-2023 data = {:4.2f}'.format(root_mean_squared_error(Snotel_fcast['swe_forecast_mod3'], Snotel_fcast['snow_water_equivalent'])))"
   ]
  },
  {
   "cell_type": "markdown",
   "metadata": {},
   "source": [
    "### Model 4: Again using the same train and test data as Model 2 but with increased hyperparameters"
   ]
  },
  {
   "cell_type": "code",
   "execution_count": 53,
   "metadata": {},
   "outputs": [
    {
     "data": {
      "image/png": "[encoded data removed]",
      "text/plain": [
       "<Figure size 640x480 with 1 Axes>"
      ]
     },
     "metadata": {},
     "output_type": "display_data"
    }
   ],
   "source": [
    "## Model 3\n",
    "## Adjusting hyperparameters of model 2, using same covariates as model 2\n",
    "# cumulative precipitation, mean temp, min temp\n",
    "# Fit model to training data, evaluate performance on test dataset\n",
    "# using same training data, just changing hyper parameters\n",
    "SWEmodel_rf_mod4 = RandomForestRegressor(max_depth=5, n_estimators=25000, random_state=802)\n",
    "SWEmodel_rf_fit_mod4 = SWEmodel_rf_mod4.fit(x_train_mod2, y_train_mod2)\n",
    "## predicting on test dataset\n",
    "ymodel_rf_mod4 = SWEmodel_rf_fit_mod4.predict(x_test_mod2)\n",
    "\n",
    "# Add prediction for forecasted data points\n",
    "swe_forecast_mod4 = SWEmodel_rf_fit_mod4.predict(fcast_covariates_mod2)\n",
    "\n",
    "Snotel_fcast['swe_forecast_mod4'] = swe_forecast_mod4\n",
    "\n",
    "# Plot the feature importance\n",
    "n_features_mod4 = SWEmodel_rf_fit_mod4.n_features_in_\n",
    "plt.barh(np.arange(n_features_mod4), SWEmodel_rf_fit_mod4.feature_importances_, align='center')\n",
    "plt.title(\"RF Model 4 Variable Importance\")\n",
    "plt.yticks(np.arange(n_features_mod4), x_covariates_mod2.columns)\n",
    "plt.xlabel(\"Feature importance\")\n",
    "plt.ylabel(\"Feature\")\n",
    "plt.ylim(-1, n_features_mod4);\n",
    "plt.savefig('Model4VarImp.png',dpi=300)"
   ]
  },
  {
   "cell_type": "code",
   "execution_count": 63,
   "metadata": {},
   "outputs": [
    {
     "name": "stdout",
     "output_type": "stream",
     "text": [
      "Random Forest Model 4 Regression r2_score = 0.53\n",
      "Random Forest Model 4 Regression RMSE score on test dataset = 82.02\n",
      "Random Forest Model 4 Regression RMSE score on forecasted 2021-2022 data = 37.62\n"
     ]
    }
   ],
   "source": [
    "## printing r2 score and RMSE on for model compared to test data, as well as model compared to true forecast\n",
    "## y_test_mod2 can remain because the train/test split was not changed for the 3rd model\n",
    "print('Random Forest Model 4 Regression r2_score = {:4.2f}'.format(r2_score(y_test_mod2, ymodel_rf_mod4)))\n",
    "print('Random Forest Model 4 Regression RMSE score on test dataset = {:4.2f}'.format(root_mean_squared_error(y_test_mod2, ymodel_rf_mod4)))\n",
    "print('Random Forest Model 4 Regression RMSE score on forecasted 2021-2022 data = {:4.2f}'.format(root_mean_squared_error(Snotel_fcast['swe_forecast_mod4'], Snotel_fcast['snow_water_equivalent'])))"
   ]
  }
 ],
 "metadata": {
  "kernelspec": {
   "display_name": "pyclassproject",
   "language": "python",
   "name": "python3"
  },
  "language_info": {
   "codemirror_mode": {
    "name": "ipython",
    "version": 3
   },
   "file_extension": ".py",
   "mimetype": "text/x-python",
   "name": "python",
   "nbconvert_exporter": "python",
   "pygments_lexer": "ipython3",
   "version": "3.12.3"
  }
 },
 "nbformat": 4,
 "nbformat_minor": 2
}
