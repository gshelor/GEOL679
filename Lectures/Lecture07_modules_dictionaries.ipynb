{
 "cells": [
  {
   "cell_type": "markdown",
   "metadata": {},
   "source": [
    "# Modules: load in functions written by other programmers\n",
    "\n",
    "Most Python installations contain several rather sophisticated modules that you can easily import and apply to solve various problems. Other modules can be installed in your `conda` or `mamba` environment. And you can even write your own! "
   ]
  },
  {
   "cell_type": "markdown",
   "metadata": {},
   "source": [
    "### `math` module - contains useful math functions\n",
    "* trigonometry functions like `sin`, `cos`\n",
    "* values for `pi`, `e`\n",
    "* many other useful functions"
   ]
  },
  {
   "cell_type": "markdown",
   "metadata": {},
   "source": [
    "### To import a module, use the statement `import`\n",
    "* Note: typically import statements are placed at the beginning of the Jupyter notebook"
   ]
  },
  {
   "cell_type": "code",
   "execution_count": 47,
   "metadata": {},
   "outputs": [],
   "source": [
    "import math"
   ]
  },
  {
   "cell_type": "markdown",
   "metadata": {},
   "source": [
    "### To use a function in the `math` module, precede with `math.[X]`. For example, something like: `math.sqrt(4)`"
   ]
  },
  {
   "cell_type": "code",
   "execution_count": 48,
   "metadata": {},
   "outputs": [
    {
     "data": {
      "text/plain": [
       "2.0"
      ]
     },
     "execution_count": 48,
     "metadata": {},
     "output_type": "execute_result"
    }
   ],
   "source": [
    "math.sqrt(4)"
   ]
  },
  {
   "cell_type": "markdown",
   "metadata": {},
   "source": [
    "### Type `math.[TAB]` to see a list of commands (functions or constants)"
   ]
  },
  {
   "cell_type": "code",
   "execution_count": 49,
   "metadata": {},
   "outputs": [
    {
     "data": {
      "text/plain": [
       "3.141592653589793"
      ]
     },
     "execution_count": 49,
     "metadata": {},
     "output_type": "execute_result"
    }
   ],
   "source": [
    "math.pi"
   ]
  },
  {
   "cell_type": "markdown",
   "metadata": {},
   "source": [
    "### If the module has a long name, you can give it a nickname"
   ]
  },
  {
   "cell_type": "code",
   "execution_count": 50,
   "metadata": {},
   "outputs": [],
   "source": [
    "import math as m"
   ]
  },
  {
   "cell_type": "code",
   "execution_count": 51,
   "metadata": {},
   "outputs": [
    {
     "data": {
      "text/plain": [
       "2.718281828459045"
      ]
     },
     "execution_count": 51,
     "metadata": {},
     "output_type": "execute_result"
    }
   ],
   "source": [
    "m.e"
   ]
  },
  {
   "cell_type": "markdown",
   "metadata": {},
   "source": [
    "### Can import a specific function from a module"
   ]
  },
  {
   "cell_type": "code",
   "execution_count": 52,
   "metadata": {},
   "outputs": [],
   "source": [
    "from math import sqrt"
   ]
  },
  {
   "cell_type": "code",
   "execution_count": 53,
   "metadata": {},
   "outputs": [
    {
     "data": {
      "text/plain": [
       "3.1622776601683795"
      ]
     },
     "execution_count": 53,
     "metadata": {},
     "output_type": "execute_result"
    }
   ],
   "source": [
    "sqrt(10) # no need for math.sqrt() here, sqrt() lives as its own function"
   ]
  },
  {
   "cell_type": "code",
   "execution_count": 54,
   "metadata": {},
   "outputs": [],
   "source": [
    "from math import pi"
   ]
  },
  {
   "cell_type": "code",
   "execution_count": 55,
   "metadata": {},
   "outputs": [
    {
     "data": {
      "text/plain": [
       "3.141592653589793"
      ]
     },
     "execution_count": 55,
     "metadata": {},
     "output_type": "execute_result"
    }
   ],
   "source": [
    "pi"
   ]
  },
  {
   "cell_type": "markdown",
   "metadata": {},
   "source": [
    "### One can import all functions from a module\n",
    "\n",
    "However, this is not in general recommended because if you import multiple modules, sometimes they have functions with the same name!"
   ]
  },
  {
   "cell_type": "code",
   "execution_count": 56,
   "metadata": {},
   "outputs": [],
   "source": [
    "from math import *"
   ]
  },
  {
   "cell_type": "code",
   "execution_count": 57,
   "metadata": {},
   "outputs": [
    {
     "name": "stdout",
     "output_type": "stream",
     "text": [
      "Variable              Type                          Data/Info\n",
      "-------------------------------------------------------------\n",
      "acos                  builtin_function_or_method    <built-in function acos>\n",
      "acosh                 builtin_function_or_method    <built-in function acosh>\n",
      "age1                  int                           44\n",
      "age2                  int                           6\n",
      "ages                  list                          n=4\n",
      "asin                  builtin_function_or_method    <built-in function asin>\n",
      "asinh                 builtin_function_or_method    <built-in function asinh>\n",
      "atan                  builtin_function_or_method    <built-in function atan>\n",
      "atan2                 builtin_function_or_method    <built-in function atan2>\n",
      "atanh                 builtin_function_or_method    <built-in function atanh>\n",
      "ceil                  builtin_function_or_method    <built-in function ceil>\n",
      "comb                  builtin_function_or_method    <built-in function comb>\n",
      "copysign              builtin_function_or_method    <built-in function copysign>\n",
      "cos                   builtin_function_or_method    <built-in function cos>\n",
      "cosh                  builtin_function_or_method    <built-in function cosh>\n",
      "degrees               builtin_function_or_method    <built-in function degrees>\n",
      "dict_words            dict                          n=137\n",
      "dist                  builtin_function_or_method    <built-in function dist>\n",
      "e                     float                         2.718281828459045\n",
      "erf                   builtin_function_or_method    <built-in function erf>\n",
      "erfc                  builtin_function_or_method    <built-in function erfc>\n",
      "exp                   builtin_function_or_method    <built-in function exp>\n",
      "expm1                 builtin_function_or_method    <built-in function expm1>\n",
      "fabs                  builtin_function_or_method    <built-in function fabs>\n",
      "factorial             builtin_function_or_method    <built-in function factorial>\n",
      "floor                 builtin_function_or_method    <built-in function floor>\n",
      "fmod                  builtin_function_or_method    <built-in function fmod>\n",
      "frexp                 builtin_function_or_method    <built-in function frexp>\n",
      "fsum                  builtin_function_or_method    <built-in function fsum>\n",
      "gamma                 builtin_function_or_method    <built-in function gamma>\n",
      "gcd                   builtin_function_or_method    <built-in function gcd>\n",
      "hypot                 builtin_function_or_method    <built-in function hypot>\n",
      "inf                   float                         inf\n",
      "isclose               builtin_function_or_method    <built-in function isclose>\n",
      "isfinite              builtin_function_or_method    <built-in function isfinite>\n",
      "isinf                 builtin_function_or_method    <built-in function isinf>\n",
      "isnan                 builtin_function_or_method    <built-in function isnan>\n",
      "isqrt                 builtin_function_or_method    <built-in function isqrt>\n",
      "key                   str                           years\n",
      "lcm                   builtin_function_or_method    <built-in function lcm>\n",
      "ldexp                 builtin_function_or_method    <built-in function ldexp>\n",
      "lecture07_functions   module                        <module 'lecture07_functi<...>/lecture07_functions.py'>\n",
      "lgamma                builtin_function_or_method    <built-in function lgamma>\n",
      "log                   builtin_function_or_method    <built-in function log>\n",
      "log10                 builtin_function_or_method    <built-in function log10>\n",
      "log1p                 builtin_function_or_method    <built-in function log1p>\n",
      "log2                  builtin_function_or_method    <built-in function log2>\n",
      "m                     module                        <module 'math' from '/Use<...>h.cpython-310-darwin.so'>\n",
      "math                  module                        <module 'math' from '/Use<...>h.cpython-310-darwin.so'>\n",
      "modf                  builtin_function_or_method    <built-in function modf>\n",
      "myitems               list                          n=4\n",
      "mykeys                list                          n=4\n",
      "mystring              str                           Fourscore and seven years<...>not perish from the earth\n",
      "myvalues              list                          n=4\n",
      "name_age              dict                          n=4\n",
      "names                 list                          n=4\n",
      "nan                   float                         nan\n",
      "nextafter             builtin_function_or_method    <built-in function nextafter>\n",
      "perm                  builtin_function_or_method    <built-in function perm>\n",
      "pi                    float                         3.141592653589793\n",
      "pow                   builtin_function_or_method    <built-in function pow>\n",
      "prod                  builtin_function_or_method    <built-in function prod>\n",
      "radians               builtin_function_or_method    <built-in function radians>\n",
      "reload                function                      <function reload at 0x1045e5240>\n",
      "remainder             builtin_function_or_method    <built-in function remainder>\n",
      "scores1               list                          n=3\n",
      "scores2               list                          n=3\n",
      "sin                   builtin_function_or_method    <built-in function sin>\n",
      "sinh                  builtin_function_or_method    <built-in function sinh>\n",
      "sqrt                  builtin_function_or_method    <built-in function sqrt>\n",
      "tan                   builtin_function_or_method    <built-in function tan>\n",
      "tanh                  builtin_function_or_method    <built-in function tanh>\n",
      "tau                   float                         6.283185307179586\n",
      "tests                 dict                          n=4\n",
      "trunc                 builtin_function_or_method    <built-in function trunc>\n",
      "ulp                   builtin_function_or_method    <built-in function ulp>\n",
      "val                   int                           5\n",
      "value                 int                           1\n",
      "word                  str                           earth\n",
      "word_list             list                          n=270\n",
      "x                     list                          n=6\n"
     ]
    }
   ],
   "source": [
    "%whos"
   ]
  },
  {
   "cell_type": "markdown",
   "metadata": {},
   "source": [
    "### `Random` module - (pseudo) random number generators for various distributions\n",
    "* `random.random()` - random float between 0.0 and 1.0\n",
    "* `random.choice([list])` - randomly select a value from a list"
   ]
  },
  {
   "cell_type": "code",
   "execution_count": 58,
   "metadata": {},
   "outputs": [],
   "source": [
    "import random"
   ]
  },
  {
   "cell_type": "code",
   "execution_count": 59,
   "metadata": {},
   "outputs": [
    {
     "name": "stdout",
     "output_type": "stream",
     "text": [
      "0.7579544029403025\n",
      "0.420571580830845\n",
      "0.25891675029296335\n",
      "0.5112747213686085\n",
      "0.4049341374504143\n"
     ]
    }
   ],
   "source": [
    "# five examples of random numbers \n",
    "#  (your results may differ, and that's the point!)\n",
    "print(random.random())\n",
    "print(random.random())\n",
    "print(random.random())\n",
    "print(random.random())\n",
    "print(random.random())"
   ]
  },
  {
   "cell_type": "code",
   "execution_count": 60,
   "metadata": {},
   "outputs": [
    {
     "name": "stdout",
     "output_type": "stream",
     "text": [
      "paper\n",
      "paper\n",
      "paper\n",
      "scissors\n",
      "rock\n"
     ]
    }
   ],
   "source": [
    "# five examples of random choices\n",
    "#  (your results may differ, and that's the point!)\n",
    "print(random.choice(['rock','paper','scissors']))\n",
    "print(random.choice(['rock','paper','scissors']))\n",
    "print(random.choice(['rock','paper','scissors']))\n",
    "print(random.choice(['rock','paper','scissors']))\n",
    "print(random.choice(['rock','paper','scissors']))"
   ]
  },
  {
   "cell_type": "code",
   "execution_count": 61,
   "metadata": {},
   "outputs": [
    {
     "name": "stdout",
     "output_type": "stream",
     "text": [
      "scissors\n"
     ]
    }
   ],
   "source": [
    "# we can import choice() directly if we prefer\n",
    "from random import choice\n",
    "print(choice(['rock','paper','scissors']))"
   ]
  },
  {
   "cell_type": "markdown",
   "metadata": {},
   "source": [
    "#### Sometimes, you want to fix the `seed` for repeatability. Doing this gives you the same set of random (looking) numbers each time you run a cell."
   ]
  },
  {
   "cell_type": "code",
   "execution_count": 62,
   "metadata": {},
   "outputs": [
    {
     "name": "stdout",
     "output_type": "stream",
     "text": [
      "0.8444218515250481\n"
     ]
    }
   ],
   "source": [
    "# fixed seed\n",
    "random.seed(0)\n",
    "print(random.random())"
   ]
  },
  {
   "cell_type": "code",
   "execution_count": 63,
   "metadata": {},
   "outputs": [
    {
     "name": "stdout",
     "output_type": "stream",
     "text": [
      "0.13436424411240122\n"
     ]
    }
   ],
   "source": [
    "# change the seed\n",
    "random.seed(1)\n",
    "print(random.random())"
   ]
  },
  {
   "cell_type": "code",
   "execution_count": 64,
   "metadata": {},
   "outputs": [
    {
     "name": "stdout",
     "output_type": "stream",
     "text": [
      "0.8444218515250481\n"
     ]
    }
   ],
   "source": [
    "# back to original seed\n",
    "random.seed(0)\n",
    "print(random.random())"
   ]
  },
  {
   "cell_type": "markdown",
   "metadata": {},
   "source": [
    "### Importing your own functions"
   ]
  },
  {
   "cell_type": "code",
   "execution_count": 65,
   "metadata": {},
   "outputs": [],
   "source": [
    "%reset"
   ]
  },
  {
   "cell_type": "code",
   "execution_count": 66,
   "metadata": {},
   "outputs": [
    {
     "name": "stdout",
     "output_type": "stream",
     "text": [
      "Variable              Type      Data/Info\n",
      "-----------------------------------------\n",
      "lecture07_functions   module    <module 'lecture07_functi<...>/lecture07_functions.py'>\n"
     ]
    }
   ],
   "source": [
    "import lecture07_functions # this is a from a file called lecture07_functions.py in our working directory\n",
    "%whos"
   ]
  },
  {
   "cell_type": "code",
   "execution_count": 67,
   "metadata": {},
   "outputs": [
    {
     "name": "stdout",
     "output_type": "stream",
     "text": [
      "(10, 7)\n",
      "(2.5, 3)\n"
     ]
    }
   ],
   "source": [
    "# in this module, there is a function called glc1\n",
    "print( lecture07_functions.glc1(5, 2) )\n",
    "print( lecture07_functions.glc2(5, 2) ) # clearly involves random numbers"
   ]
  },
  {
   "cell_type": "markdown",
   "metadata": {},
   "source": [
    "### Note: if you change the code in a `*.py` file, you will need to restart your kernel to import the revised code, or use `importlib.reload()`"
   ]
  },
  {
   "cell_type": "code",
   "execution_count": 68,
   "metadata": {},
   "outputs": [],
   "source": [
    "from importlib import reload\n",
    "reload(lecture07_functions);"
   ]
  },
  {
   "cell_type": "markdown",
   "metadata": {},
   "source": [
    "### Use the magic command `%run` to run an external `.py` program."
   ]
  },
  {
   "cell_type": "code",
   "execution_count": 69,
   "metadata": {},
   "outputs": [
    {
     "name": "stdout",
     "output_type": "stream",
     "text": [
      "0\n",
      "1\n",
      "2\n",
      "3\n",
      "4\n",
      "5\n"
     ]
    }
   ],
   "source": [
    "%run lecture07_test # another file called lecture07_test.py"
   ]
  },
  {
   "cell_type": "markdown",
   "metadata": {},
   "source": [
    "# Dictionaries"
   ]
  },
  {
   "cell_type": "markdown",
   "metadata": {},
   "source": [
    "### A dictionary is an important data structure in Python. Dictionaries are collections with a set of (key, value) pairs, with the requirement that the keys are unique (within the dictionary). Once a dictionary is setup, you give it a key to look up and it will return the associated value. Think of dictionaries like a rapid (near-instant) lookup table.\n",
    "\n",
    "### Dictionaries can be created using curly braces `{}` or `dict()`.\n"
   ]
  },
  {
   "cell_type": "code",
   "execution_count": 70,
   "metadata": {},
   "outputs": [
    {
     "name": "stdout",
     "output_type": "stream",
     "text": [
      "{'Fred': 5, 'George': 13, 'Mary': 6, 'José': 44}\n"
     ]
    }
   ],
   "source": [
    "# a dictionary mapping names (keys) to ages (values)\n",
    "name_age = {'Fred': 5, 'George': 13, 'Mary': 6, 'José': 44}\n",
    "print(name_age)"
   ]
  },
  {
   "cell_type": "code",
   "execution_count": 71,
   "metadata": {},
   "outputs": [
    {
     "name": "stdout",
     "output_type": "stream",
     "text": [
      "{'Fred': 5, 'George': 13, 'Mary': 6, 'José': 44}\n"
     ]
    }
   ],
   "source": [
    "# this is the same thing\n",
    "name_age = dict(Fred = 5, George = 13, Mary = 6, José = 44)\n",
    "print(name_age)"
   ]
  },
  {
   "cell_type": "markdown",
   "metadata": {},
   "source": [
    "#### Often, it is convenient to use `zip` if we have a lists of keys and values"
   ]
  },
  {
   "cell_type": "code",
   "execution_count": 72,
   "metadata": {},
   "outputs": [
    {
     "name": "stdout",
     "output_type": "stream",
     "text": [
      "{'Fred': 5, 'George': 13, 'Mary': 6, 'José': 44}\n"
     ]
    }
   ],
   "source": [
    "names = [\"Fred\", \"George\", \"Mary\", \"José\"] # keys\n",
    "ages = [5, 13, 6, 44] # values\n",
    "name_age = dict(zip(names,ages)) # zip the keys with the values\n",
    "print(name_age)"
   ]
  },
  {
   "cell_type": "markdown",
   "metadata": {},
   "source": [
    "### Lookup a value by indexing the `[key]`"
   ]
  },
  {
   "cell_type": "code",
   "execution_count": 73,
   "metadata": {},
   "outputs": [
    {
     "name": "stdout",
     "output_type": "stream",
     "text": [
      "44 6\n"
     ]
    }
   ],
   "source": [
    "age1 = name_age['José']\n",
    "age2 = name_age['Mary']\n",
    "print(age1,age2)"
   ]
  },
  {
   "cell_type": "markdown",
   "metadata": {},
   "source": [
    "### Values can be integers, floats, strings, lists, and more"
   ]
  },
  {
   "cell_type": "code",
   "execution_count": 74,
   "metadata": {},
   "outputs": [],
   "source": [
    "tests = {'George': [95, 80, 92], 'Fred': [85, 88, 83],\n",
    "         'Mary': [95, 96, 98], 'Juan': [93, 100, 90]}"
   ]
  },
  {
   "cell_type": "code",
   "execution_count": 75,
   "metadata": {},
   "outputs": [
    {
     "name": "stdout",
     "output_type": "stream",
     "text": [
      "[95, 80, 92] [85, 88, 83]\n"
     ]
    }
   ],
   "source": [
    "scores1 = tests['George']\n",
    "scores2 = tests['Fred']\n",
    "print(scores1,scores2)"
   ]
  },
  {
   "cell_type": "markdown",
   "metadata": {},
   "source": [
    "### Add or change an item by indexing the `[key]`\n",
    "* If the key exists, the value will be changed\n",
    "* If the key does not exist, a new one will be added"
   ]
  },
  {
   "cell_type": "code",
   "execution_count": 76,
   "metadata": {},
   "outputs": [
    {
     "name": "stdout",
     "output_type": "stream",
     "text": [
      "{'Fred': 5, 'George': 13, 'Mary': 6, 'José': 44}\n",
      "{'Fred': 5, 'George': 4, 'Mary': 6, 'José': 44, 'Pedro': 7}\n"
     ]
    }
   ],
   "source": [
    "print(name_age)\n",
    "name_age['Pedro'] = 7\n",
    "name_age['George'] = 4\n",
    "print(name_age)"
   ]
  },
  {
   "cell_type": "markdown",
   "metadata": {},
   "source": [
    "### Delete a key with `del`"
   ]
  },
  {
   "cell_type": "code",
   "execution_count": 77,
   "metadata": {},
   "outputs": [
    {
     "name": "stdout",
     "output_type": "stream",
     "text": [
      "{'Fred': 5, 'George': 4, 'Mary': 6, 'José': 44, 'Pedro': 7}\n",
      "{'Fred': 5, 'George': 4, 'José': 44, 'Pedro': 7}\n"
     ]
    }
   ],
   "source": [
    "print(name_age)\n",
    "del name_age['Mary']\n",
    "print(name_age)"
   ]
  },
  {
   "cell_type": "markdown",
   "metadata": {},
   "source": [
    "### Test for a key by using `in`"
   ]
  },
  {
   "cell_type": "code",
   "execution_count": 78,
   "metadata": {},
   "outputs": [
    {
     "data": {
      "text/plain": [
       "True"
      ]
     },
     "execution_count": 78,
     "metadata": {},
     "output_type": "execute_result"
    }
   ],
   "source": [
    "'Pedro' in name_age"
   ]
  },
  {
   "cell_type": "code",
   "execution_count": 79,
   "metadata": {},
   "outputs": [
    {
     "data": {
      "text/plain": [
       "False"
      ]
     },
     "execution_count": 79,
     "metadata": {},
     "output_type": "execute_result"
    }
   ],
   "source": [
    "'Daniel' in name_age"
   ]
  },
  {
   "cell_type": "markdown",
   "metadata": {},
   "source": [
    "### Get all keys by using `keys()`. \n",
    "\n",
    "Note these are not always returned in sorted order, so be careful."
   ]
  },
  {
   "cell_type": "code",
   "execution_count": 80,
   "metadata": {},
   "outputs": [
    {
     "name": "stdout",
     "output_type": "stream",
     "text": [
      "dict_keys(['Fred', 'George', 'José', 'Pedro'])\n"
     ]
    }
   ],
   "source": [
    "# notice the special data type\n",
    "mykeys = name_age.keys()\n",
    "print(mykeys)"
   ]
  },
  {
   "cell_type": "code",
   "execution_count": 81,
   "metadata": {},
   "outputs": [
    {
     "name": "stdout",
     "output_type": "stream",
     "text": [
      "['Fred', 'George', 'José', 'Pedro']\n"
     ]
    }
   ],
   "source": [
    "# list() converts this to a standard list\n",
    "mykeys = list(name_age.keys())\n",
    "print(mykeys)"
   ]
  },
  {
   "cell_type": "markdown",
   "metadata": {},
   "source": [
    "### Get all values by using `values()`"
   ]
  },
  {
   "cell_type": "code",
   "execution_count": 82,
   "metadata": {},
   "outputs": [
    {
     "name": "stdout",
     "output_type": "stream",
     "text": [
      "[5, 4, 44, 7]\n"
     ]
    }
   ],
   "source": [
    "# notice the use of list\n",
    "myvalues = list(name_age.values())\n",
    "print(myvalues)"
   ]
  },
  {
   "cell_type": "markdown",
   "metadata": {},
   "source": [
    "### Get all key-value  pairs by using `items()`"
   ]
  },
  {
   "cell_type": "code",
   "execution_count": 83,
   "metadata": {},
   "outputs": [
    {
     "name": "stdout",
     "output_type": "stream",
     "text": [
      "[('Fred', 5), ('George', 4), ('José', 44), ('Pedro', 7)]\n"
     ]
    }
   ],
   "source": [
    "# key,val are stored as list of \"tuples\"\n",
    "myitems = list(name_age.items())\n",
    "print(myitems)"
   ]
  },
  {
   "cell_type": "markdown",
   "metadata": {},
   "source": [
    "### Loop through key-value pairs with `items()`"
   ]
  },
  {
   "cell_type": "code",
   "execution_count": 84,
   "metadata": {},
   "outputs": [
    {
     "name": "stdout",
     "output_type": "stream",
     "text": [
      "key = Fred --> value = 5\n",
      "key = George --> value = 4\n",
      "key = José --> value = 44\n",
      "key = Pedro --> value = 7\n"
     ]
    }
   ],
   "source": [
    "# iteration using a for loop\n",
    "for key,value in name_age.items():\n",
    "    print('key =', key, '--> value =', value)"
   ]
  },
  {
   "cell_type": "markdown",
   "metadata": {},
   "source": [
    "### Example: Word-count dictionary "
   ]
  },
  {
   "cell_type": "code",
   "execution_count": 85,
   "metadata": {},
   "outputs": [],
   "source": [
    "### And you thought you'd finished US history...\n",
    "mystring = 'Fourscore and seven years ago our fathers brought forth on this continent, a new nation, \\\n",
    "conceived in Liberty, and dedicated to the proposition that all men are created equal. Now we are \\\n",
    "engaged in a great civil war, testing whether that nation, or any nation so conceived and so dedicated, \\\n",
    "can long endure. We are met on a great battle-field of that war. We have come to dedicate a portion of \\\n",
    "that field, as a final resting place for those who here gave their lives that that nation might live. \\\n",
    "It is altogether fitting and proper that we should do this. But, in a larger sense, we can not dedicate - \\\n",
    "we can not consecrate - we can not hallow - this ground. The brave men, living and dead, who struggled here, \\\n",
    "have consecrated it, far above our poor power to add or detract. The world will little note, nor long \\\n",
    "remember what we say here, but it can never forget what they did here. It is for us the living, rather, \\\n",
    "to be dedicated here to the unfinished work which they who fought here have thus far so nobly advanced. \\\n",
    "It is rather for us to be here dedicated to the great task remaining before us - that from these honored \\\n",
    "dead we take increased devotion to that cause for which they gave the last full measure of devotion - that \\\n",
    "we here highly resolve that these dead shall not have died in vain - that this nation, under God, shall \\\n",
    "have a new birth of freedom - and that government of the people, by the people, for the people shall not \\\n",
    "perish from the earth.'"
   ]
  },
  {
   "cell_type": "code",
   "execution_count": 86,
   "metadata": {},
   "outputs": [
    {
     "name": "stdout",
     "output_type": "stream",
     "text": [
      "['fourscore', 'and', 'seven', 'years', 'ago', 'our', 'fathers', 'brought', 'forth', 'on', 'this', 'continent', 'a', 'new', 'nation', 'conceived', 'in', 'liberty', 'and', 'dedicated', 'to', 'the', 'proposition', 'that', 'all', 'men', 'are', 'created', 'equal', 'now', 'we', 'are', 'engaged', 'in', 'a', 'great', 'civil', 'war', 'testing', 'whether', 'that', 'nation', 'or', 'any', 'nation', 'so', 'conceived', 'and', 'so', 'dedicated', 'can', 'long', 'endure', 'we', 'are', 'met', 'on', 'a', 'great', 'battlefield', 'of', 'that', 'war', 'we', 'have', 'come', 'to', 'dedicate', 'a', 'portion', 'of', 'that', 'field', 'as', 'a', 'final', 'resting', 'place', 'for', 'those', 'who', 'here', 'gave', 'their', 'lives', 'that', 'that', 'nation', 'might', 'live', 'it', 'is', 'altogether', 'fitting', 'and', 'proper', 'that', 'we', 'should', 'do', 'this', 'but', 'in', 'a', 'larger', 'sense', 'we', 'can', 'not', 'dedicate', 'we', 'can', 'not', 'consecrate', 'we', 'can', 'not', 'hallow', 'this', 'ground', 'the', 'brave', 'men', 'living', 'and', 'dead', 'who', 'struggled', 'here', 'have', 'consecrated', 'it', 'far', 'above', 'our', 'poor', 'power', 'to', 'add', 'or', 'detract', 'the', 'world', 'will', 'little', 'note', 'nor', 'long', 'remember', 'what', 'we', 'say', 'here', 'but', 'it', 'can', 'never', 'forget', 'what', 'they', 'did', 'here', 'it', 'is', 'for', 'us', 'the', 'living', 'rather', 'to', 'be', 'dedicated', 'here', 'to', 'the', 'unfinished', 'work', 'which', 'they', 'who', 'fought', 'here', 'have', 'thus', 'far', 'so', 'nobly', 'advanced', 'it', 'is', 'rather', 'for', 'us', 'to', 'be', 'here', 'dedicated', 'to', 'the', 'great', 'task', 'remaining', 'before', 'us', 'that', 'from', 'these', 'honored', 'dead', 'we', 'take', 'increased', 'devotion', 'to', 'that', 'cause', 'for', 'which', 'they', 'gave', 'the', 'last', 'full', 'measure', 'of', 'devotion', 'that', 'we', 'here', 'highly', 'resolve', 'that', 'these', 'dead', 'shall', 'not', 'have', 'died', 'in', 'vain', 'that', 'this', 'nation', 'under', 'god', 'shall', 'have', 'a', 'new', 'birth', 'of', 'freedom', 'and', 'that', 'government', 'of', 'the', 'people', 'by', 'the', 'people', 'for', 'the', 'people', 'shall', 'not', 'perish', 'from', 'the', 'earth']\n"
     ]
    }
   ],
   "source": [
    "### Get a list of all words\n",
    "#   (We will learn more about these string functions in a future lecture)\n",
    "mystring = mystring.replace(',','').replace('.','').replace('-','') # removes punctuation\n",
    "word_list = mystring.lower().split() # this breaks the string into a list of words\n",
    "print(word_list)"
   ]
  },
  {
   "cell_type": "code",
   "execution_count": 87,
   "metadata": {},
   "outputs": [
    {
     "name": "stdout",
     "output_type": "stream",
     "text": [
      "{'fourscore': 1, 'and': 6, 'seven': 1, 'years': 1, 'ago': 1, 'our': 2, 'fathers': 1, 'brought': 1, 'forth': 1, 'on': 2, 'this': 4, 'continent': 1, 'a': 7, 'new': 2, 'nation': 5, 'conceived': 2, 'in': 4, 'liberty': 1, 'dedicated': 4, 'to': 8, 'the': 11, 'proposition': 1, 'that': 13, 'all': 1, 'men': 2, 'are': 3, 'created': 1, 'equal': 1, 'now': 1, 'we': 10, 'engaged': 1, 'great': 3, 'civil': 1, 'war': 2, 'testing': 1, 'whether': 1, 'or': 2, 'any': 1, 'so': 3, 'can': 5, 'long': 2, 'endure': 1, 'met': 1, 'battlefield': 1, 'of': 5, 'have': 5, 'come': 1, 'dedicate': 2, 'portion': 1, 'field': 1, 'as': 1, 'final': 1, 'resting': 1, 'place': 1, 'for': 5, 'those': 1, 'who': 3, 'here': 8, 'gave': 2, 'their': 1, 'lives': 1, 'might': 1, 'live': 1, 'it': 5, 'is': 3, 'altogether': 1, 'fitting': 1, 'proper': 1, 'should': 1, 'do': 1, 'but': 2, 'larger': 1, 'sense': 1, 'not': 5, 'consecrate': 1, 'hallow': 1, 'ground': 1, 'brave': 1, 'living': 2, 'dead': 3, 'struggled': 1, 'consecrated': 1, 'far': 2, 'above': 1, 'poor': 1, 'power': 1, 'add': 1, 'detract': 1, 'world': 1, 'will': 1, 'little': 1, 'note': 1, 'nor': 1, 'remember': 1, 'what': 2, 'say': 1, 'never': 1, 'forget': 1, 'they': 3, 'did': 1, 'us': 3, 'rather': 2, 'be': 2, 'unfinished': 1, 'work': 1, 'which': 2, 'fought': 1, 'thus': 1, 'nobly': 1, 'advanced': 1, 'task': 1, 'remaining': 1, 'before': 1, 'from': 2, 'these': 2, 'honored': 1, 'take': 1, 'increased': 1, 'devotion': 2, 'cause': 1, 'last': 1, 'full': 1, 'measure': 1, 'highly': 1, 'resolve': 1, 'shall': 3, 'died': 1, 'vain': 1, 'under': 1, 'god': 1, 'birth': 1, 'freedom': 1, 'government': 1, 'people': 3, 'by': 1, 'perish': 1, 'earth': 1}\n"
     ]
    }
   ],
   "source": [
    "### Count all words\n",
    "dict_words={}\n",
    "for word in word_list:\n",
    "    if word in dict_words: # existing word\n",
    "        dict_words[word] += 1\n",
    "    else: # new word\n",
    "        dict_words[word] = 1\n",
    "print(dict_words)"
   ]
  },
  {
   "cell_type": "code",
   "execution_count": 88,
   "metadata": {},
   "outputs": [
    {
     "name": "stdout",
     "output_type": "stream",
     "text": [
      "11\n"
     ]
    }
   ],
   "source": [
    "# What is the word-count for 'the'?\n",
    "print(dict_words['the'])"
   ]
  },
  {
   "cell_type": "code",
   "execution_count": 89,
   "metadata": {},
   "outputs": [
    {
     "name": "stdout",
     "output_type": "stream",
     "text": [
      "5\n"
     ]
    }
   ],
   "source": [
    "# What is the word-count for 'nation'?\n",
    "print(dict_words['nation'])"
   ]
  },
  {
   "cell_type": "code",
   "execution_count": 90,
   "metadata": {},
   "outputs": [
    {
     "name": "stdout",
     "output_type": "stream",
     "text": [
      "nation\n",
      "can\n",
      "of\n",
      "have\n",
      "for\n",
      "it\n",
      "not\n"
     ]
    }
   ],
   "source": [
    "# Which words have a word-count of 5?\n",
    "for key,value in dict_words.items():\n",
    "    if value == 5:\n",
    "        print(key)"
   ]
  },
  {
   "cell_type": "code",
   "execution_count": 91,
   "metadata": {},
   "outputs": [
    {
     "name": "stdout",
     "output_type": "stream",
     "text": [
      "fourscore\n",
      "seven\n",
      "years\n",
      "ago\n",
      "fathers\n",
      "brought\n",
      "forth\n",
      "continent\n",
      "liberty\n",
      "proposition\n",
      "all\n",
      "created\n",
      "equal\n",
      "now\n",
      "engaged\n",
      "civil\n",
      "testing\n",
      "whether\n",
      "any\n",
      "endure\n",
      "met\n",
      "battlefield\n",
      "come\n",
      "portion\n",
      "field\n",
      "as\n",
      "final\n",
      "resting\n",
      "place\n",
      "those\n",
      "their\n",
      "lives\n",
      "might\n",
      "live\n",
      "altogether\n",
      "fitting\n",
      "proper\n",
      "should\n",
      "do\n",
      "larger\n",
      "sense\n",
      "consecrate\n",
      "hallow\n",
      "ground\n",
      "brave\n",
      "struggled\n",
      "consecrated\n",
      "above\n",
      "poor\n",
      "power\n",
      "add\n",
      "detract\n",
      "world\n",
      "will\n",
      "little\n",
      "note\n",
      "nor\n",
      "remember\n",
      "say\n",
      "never\n",
      "forget\n",
      "did\n",
      "unfinished\n",
      "work\n",
      "fought\n",
      "thus\n",
      "nobly\n",
      "advanced\n",
      "task\n",
      "remaining\n",
      "before\n",
      "honored\n",
      "take\n",
      "increased\n",
      "cause\n",
      "last\n",
      "full\n",
      "measure\n",
      "highly\n",
      "resolve\n",
      "died\n",
      "vain\n",
      "under\n",
      "god\n",
      "birth\n",
      "freedom\n",
      "government\n",
      "by\n",
      "perish\n",
      "earth\n"
     ]
    }
   ],
   "source": [
    "# Which words have a word-count of 1?\n",
    "for key,value in dict_words.items():\n",
    "    if value == 1:\n",
    "        print(key)"
   ]
  },
  {
   "cell_type": "code",
   "execution_count": 92,
   "metadata": {},
   "outputs": [
    {
     "name": "stdout",
     "output_type": "stream",
     "text": [
      "a --> 7\n",
      "above --> 1\n",
      "add --> 1\n",
      "advanced --> 1\n",
      "ago --> 1\n",
      "all --> 1\n",
      "altogether --> 1\n",
      "and --> 6\n",
      "any --> 1\n",
      "are --> 3\n",
      "as --> 1\n",
      "battlefield --> 1\n",
      "be --> 2\n",
      "before --> 1\n",
      "birth --> 1\n",
      "brave --> 1\n",
      "brought --> 1\n",
      "but --> 2\n",
      "by --> 1\n",
      "can --> 5\n",
      "cause --> 1\n",
      "civil --> 1\n",
      "come --> 1\n",
      "conceived --> 2\n",
      "consecrate --> 1\n",
      "consecrated --> 1\n",
      "continent --> 1\n",
      "created --> 1\n",
      "dead --> 3\n",
      "dedicate --> 2\n",
      "dedicated --> 4\n",
      "detract --> 1\n",
      "devotion --> 2\n",
      "did --> 1\n",
      "died --> 1\n",
      "do --> 1\n",
      "earth --> 1\n",
      "endure --> 1\n",
      "engaged --> 1\n",
      "equal --> 1\n",
      "far --> 2\n",
      "fathers --> 1\n",
      "field --> 1\n",
      "final --> 1\n",
      "fitting --> 1\n",
      "for --> 5\n",
      "forget --> 1\n",
      "forth --> 1\n",
      "fought --> 1\n",
      "fourscore --> 1\n",
      "freedom --> 1\n",
      "from --> 2\n",
      "full --> 1\n",
      "gave --> 2\n",
      "god --> 1\n",
      "government --> 1\n",
      "great --> 3\n",
      "ground --> 1\n",
      "hallow --> 1\n",
      "have --> 5\n",
      "here --> 8\n",
      "highly --> 1\n",
      "honored --> 1\n",
      "in --> 4\n",
      "increased --> 1\n",
      "is --> 3\n",
      "it --> 5\n",
      "larger --> 1\n",
      "last --> 1\n",
      "liberty --> 1\n",
      "little --> 1\n",
      "live --> 1\n",
      "lives --> 1\n",
      "living --> 2\n",
      "long --> 2\n",
      "measure --> 1\n",
      "men --> 2\n",
      "met --> 1\n",
      "might --> 1\n",
      "nation --> 5\n",
      "never --> 1\n",
      "new --> 2\n",
      "nobly --> 1\n",
      "nor --> 1\n",
      "not --> 5\n",
      "note --> 1\n",
      "now --> 1\n",
      "of --> 5\n",
      "on --> 2\n",
      "or --> 2\n",
      "our --> 2\n",
      "people --> 3\n",
      "perish --> 1\n",
      "place --> 1\n",
      "poor --> 1\n",
      "portion --> 1\n",
      "power --> 1\n",
      "proper --> 1\n",
      "proposition --> 1\n",
      "rather --> 2\n",
      "remaining --> 1\n",
      "remember --> 1\n",
      "resolve --> 1\n",
      "resting --> 1\n",
      "say --> 1\n",
      "sense --> 1\n",
      "seven --> 1\n",
      "shall --> 3\n",
      "should --> 1\n",
      "so --> 3\n",
      "struggled --> 1\n",
      "take --> 1\n",
      "task --> 1\n",
      "testing --> 1\n",
      "that --> 13\n",
      "the --> 11\n",
      "their --> 1\n",
      "these --> 2\n",
      "they --> 3\n",
      "this --> 4\n",
      "those --> 1\n",
      "thus --> 1\n",
      "to --> 8\n",
      "under --> 1\n",
      "unfinished --> 1\n",
      "us --> 3\n",
      "vain --> 1\n",
      "war --> 2\n",
      "we --> 10\n",
      "what --> 2\n",
      "whether --> 1\n",
      "which --> 2\n",
      "who --> 3\n",
      "will --> 1\n",
      "work --> 1\n",
      "world --> 1\n",
      "years --> 1\n"
     ]
    }
   ],
   "source": [
    "# Print all word counts, with words in alphabetical order\n",
    "for key in sorted(dict_words.keys()):\n",
    "    print(key, \"-->\", dict_words[key])"
   ]
  },
  {
   "cell_type": "code",
   "execution_count": 95,
   "metadata": {},
   "outputs": [
    {
     "data": {
      "text/plain": [
       "{'fourscore': 1,\n",
       " 'and': 6,\n",
       " 'seven': 1,\n",
       " 'years': 1,\n",
       " 'ago': 1,\n",
       " 'our': 2,\n",
       " 'fathers': 1,\n",
       " 'brought': 1,\n",
       " 'forth': 1,\n",
       " 'on': 2,\n",
       " 'this': 4,\n",
       " 'continent': 1,\n",
       " 'a': 7,\n",
       " 'new': 2,\n",
       " 'nation': 5,\n",
       " 'conceived': 2,\n",
       " 'in': 4,\n",
       " 'liberty': 1,\n",
       " 'dedicated': 4,\n",
       " 'to': 8,\n",
       " 'the': 11,\n",
       " 'proposition': 1,\n",
       " 'that': 13,\n",
       " 'all': 1,\n",
       " 'men': 2,\n",
       " 'are': 3,\n",
       " 'created': 1,\n",
       " 'equal': 1,\n",
       " 'now': 1,\n",
       " 'we': 10,\n",
       " 'engaged': 1,\n",
       " 'great': 3,\n",
       " 'civil': 1,\n",
       " 'war': 2,\n",
       " 'testing': 1,\n",
       " 'whether': 1,\n",
       " 'or': 2,\n",
       " 'any': 1,\n",
       " 'so': 3,\n",
       " 'can': 5,\n",
       " 'long': 2,\n",
       " 'endure': 1,\n",
       " 'met': 1,\n",
       " 'battlefield': 1,\n",
       " 'of': 5,\n",
       " 'have': 5,\n",
       " 'come': 1,\n",
       " 'dedicate': 2,\n",
       " 'portion': 1,\n",
       " 'field': 1,\n",
       " 'as': 1,\n",
       " 'final': 1,\n",
       " 'resting': 1,\n",
       " 'place': 1,\n",
       " 'for': 5,\n",
       " 'those': 1,\n",
       " 'who': 3,\n",
       " 'here': 8,\n",
       " 'gave': 2,\n",
       " 'their': 1,\n",
       " 'lives': 1,\n",
       " 'might': 1,\n",
       " 'live': 1,\n",
       " 'it': 5,\n",
       " 'is': 3,\n",
       " 'altogether': 1,\n",
       " 'fitting': 1,\n",
       " 'proper': 1,\n",
       " 'should': 1,\n",
       " 'do': 1,\n",
       " 'but': 2,\n",
       " 'larger': 1,\n",
       " 'sense': 1,\n",
       " 'not': 5,\n",
       " 'consecrate': 1,\n",
       " 'hallow': 1,\n",
       " 'ground': 1,\n",
       " 'brave': 1,\n",
       " 'living': 2,\n",
       " 'dead': 3,\n",
       " 'struggled': 1,\n",
       " 'consecrated': 1,\n",
       " 'far': 2,\n",
       " 'above': 1,\n",
       " 'poor': 1,\n",
       " 'power': 1,\n",
       " 'add': 1,\n",
       " 'detract': 1,\n",
       " 'world': 1,\n",
       " 'will': 1,\n",
       " 'little': 1,\n",
       " 'note': 1,\n",
       " 'nor': 1,\n",
       " 'remember': 1,\n",
       " 'what': 2,\n",
       " 'say': 1,\n",
       " 'never': 1,\n",
       " 'forget': 1,\n",
       " 'they': 3,\n",
       " 'did': 1,\n",
       " 'us': 3,\n",
       " 'rather': 2,\n",
       " 'be': 2,\n",
       " 'unfinished': 1,\n",
       " 'work': 1,\n",
       " 'which': 2,\n",
       " 'fought': 1,\n",
       " 'thus': 1,\n",
       " 'nobly': 1,\n",
       " 'advanced': 1,\n",
       " 'task': 1,\n",
       " 'remaining': 1,\n",
       " 'before': 1,\n",
       " 'from': 2,\n",
       " 'these': 2,\n",
       " 'honored': 1,\n",
       " 'take': 1,\n",
       " 'increased': 1,\n",
       " 'devotion': 2,\n",
       " 'cause': 1,\n",
       " 'last': 1,\n",
       " 'full': 1,\n",
       " 'measure': 1,\n",
       " 'highly': 1,\n",
       " 'resolve': 1,\n",
       " 'shall': 3,\n",
       " 'died': 1,\n",
       " 'vain': 1,\n",
       " 'under': 1,\n",
       " 'god': 1,\n",
       " 'birth': 1,\n",
       " 'freedom': 1,\n",
       " 'government': 1,\n",
       " 'people': 3,\n",
       " 'by': 1,\n",
       " 'perish': 1,\n",
       " 'earth': 1}"
      ]
     },
     "execution_count": 95,
     "metadata": {},
     "output_type": "execute_result"
    }
   ],
   "source": [
    "dict_words.keys()\n",
    "dict_words.values()\n",
    "dict_words"
   ]
  },
  {
   "cell_type": "markdown",
   "metadata": {},
   "source": [
    "# Summary\n",
    "* Modules are external collections of functions and code that can be loaded with `import`\n",
    "* `random` numbers can be useful for simulations (e.g., synthetic data)\n",
    "* Dictionaries are lookup objects that store key->value pairs\n",
    "* We make dictionaries with `{}` or `dict()` commands\n",
    "* Keys in dictionaries must be unique\n",
    "* Dictionaries are \"mutable\" and can be updated on the fly\n",
    "* We can iterate over all `items()` or `keys()` in a dictionary"
   ]
  }
 ],
 "metadata": {
  "kernelspec": {
   "display_name": "Python 3 (ipykernel)",
   "language": "python",
   "name": "python3"
  },
  "language_info": {
   "codemirror_mode": {
    "name": "ipython",
    "version": 3
   },
   "file_extension": ".py",
   "mimetype": "text/x-python",
   "name": "python",
   "nbconvert_exporter": "python",
   "pygments_lexer": "ipython3",
   "version": "3.10.9"
  }
 },
 "nbformat": 4,
 "nbformat_minor": 4
}
