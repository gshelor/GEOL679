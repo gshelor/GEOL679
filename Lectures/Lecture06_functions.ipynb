{
 "cells": [
  {
   "cell_type": "markdown",
   "metadata": {},
   "source": [
    "# Functions"
   ]
  },
  {
   "cell_type": "markdown",
   "metadata": {},
   "source": [
    "## Functions are useful when you want to repeat a series of steps or calculations in your code (\"an algorithm\"), but maybe with different input data values or in different situations.\n",
    "* Functions are named\n",
    "* Functions can take any number and type of input parameters (sometimes called *arguments*)\n",
    "* Functions can return any number and type of output results\n",
    "* We define a function with `def`, e.g. `def function1(x):`\n",
    "*    --> the name in this case is `function1`\n",
    "*    --> the input parameter is the one inside the parentheses: `x`\n",
    "\n",
    "After we make a function we can use it once or reuse it many times. Each use is sometimes called \"calling\" our function. \n",
    "\n",
    "A good analogy is that the process of writing a function is a bit like writing a recipe down in a cookbook. Calling a function is then like making a meal following that recipe."
   ]
  },
  {
   "cell_type": "markdown",
   "metadata": {},
   "source": [
    "### Example: calculating factorials (!)"
   ]
  },
  {
   "cell_type": "markdown",
   "metadata": {},
   "source": [
    "#### First - basic code to compute the factorial of a value"
   ]
  },
  {
   "cell_type": "code",
   "execution_count": 1,
   "metadata": {},
   "outputs": [
    {
     "name": "stdout",
     "output_type": "stream",
     "text": [
      "24\n"
     ]
    }
   ],
   "source": [
    "# Compute 4! with a for loop\n",
    "n = 4\n",
    "fact = 1\n",
    "for ii in range(2, n+1):\n",
    "    fact *= ii\n",
    "print(fact)"
   ]
  },
  {
   "cell_type": "markdown",
   "metadata": {},
   "source": [
    "#### Now let's make it a function that can find the factorial of any value of n"
   ]
  },
  {
   "cell_type": "code",
   "execution_count": 2,
   "metadata": {},
   "outputs": [],
   "source": [
    "# simple function to compute n!\n",
    "def factorial1(n):\n",
    "    fact = 1\n",
    "    for ii in range(2, n+1):\n",
    "        fact *= ii\n",
    "    print(fact) # print final result within function"
   ]
  },
  {
   "cell_type": "code",
   "execution_count": 5,
   "metadata": {},
   "outputs": [
    {
     "name": "stdout",
     "output_type": "stream",
     "text": [
      "24\n"
     ]
    }
   ],
   "source": [
    "# Input of 4\n",
    "factorial1(4)"
   ]
  },
  {
   "cell_type": "code",
   "execution_count": 6,
   "metadata": {},
   "outputs": [
    {
     "name": "stdout",
     "output_type": "stream",
     "text": [
      "40320\n"
     ]
    }
   ],
   "source": [
    "# Input of x (or whatever we like)\n",
    "x = 8\n",
    "factorial1(x)"
   ]
  },
  {
   "cell_type": "markdown",
   "metadata": {},
   "source": [
    "### The `return` statement: provides values from the function back to the user\n",
    "\n",
    "While subtle, this is different in an important way than just printing inside the function.\n",
    "\n",
    "In essence, the typical workflow of a function is something like:\n",
    "\n",
    "`user inputs data` ---> `function does stuff with data` ---> `function returns results back to user`"
   ]
  },
  {
   "cell_type": "code",
   "execution_count": 7,
   "metadata": {},
   "outputs": [],
   "source": [
    "# Function to compute a factorial\n",
    "def factorial2(n):\n",
    "    fact = 1\n",
    "    for ii in range(2, n+1):\n",
    "        fact *= ii\n",
    "    return fact # here we return the value to the user rather than just print"
   ]
  },
  {
   "cell_type": "code",
   "execution_count": 8,
   "metadata": {},
   "outputs": [
    {
     "name": "stdout",
     "output_type": "stream",
     "text": [
      "144\n"
     ]
    }
   ],
   "source": [
    "# Call our new function\n",
    "x1 = factorial2(4)\n",
    "x2 = factorial2(5)\n",
    "print(x1 + x2) # here we can \"do something\" with the results of the function"
   ]
  },
  {
   "cell_type": "code",
   "execution_count": 9,
   "metadata": {},
   "outputs": [
    {
     "name": "stdout",
     "output_type": "stream",
     "text": [
      "24\n",
      "120\n"
     ]
    },
    {
     "ename": "TypeError",
     "evalue": "unsupported operand type(s) for +: 'NoneType' and 'NoneType'",
     "output_type": "error",
     "traceback": [
      "\u001b[0;31m---------------------------------------------------------------------------\u001b[0m",
      "\u001b[0;31mTypeError\u001b[0m                                 Traceback (most recent call last)",
      "Input \u001b[0;32mIn [9]\u001b[0m, in \u001b[0;36m<module>\u001b[0;34m\u001b[0m\n\u001b[1;32m      2\u001b[0m x1 \u001b[38;5;241m=\u001b[39m factorial1(\u001b[38;5;241m4\u001b[39m)\n\u001b[1;32m      3\u001b[0m x2 \u001b[38;5;241m=\u001b[39m factorial1(\u001b[38;5;241m5\u001b[39m)\n\u001b[0;32m----> 4\u001b[0m \u001b[38;5;28mprint\u001b[39m(\u001b[43mx1\u001b[49m\u001b[43m \u001b[49m\u001b[38;5;241;43m+\u001b[39;49m\u001b[43m \u001b[49m\u001b[43mx2\u001b[49m)\n",
      "\u001b[0;31mTypeError\u001b[0m: unsupported operand type(s) for +: 'NoneType' and 'NoneType'"
     ]
    }
   ],
   "source": [
    "# Try to call the old function\n",
    "x1 = factorial1(4)\n",
    "x2 = factorial1(5)\n",
    "print(x1 + x2) # oops, x1 and x2 are \"None\""
   ]
  },
  {
   "cell_type": "markdown",
   "metadata": {},
   "source": [
    "### No values are returned without a `return` statement!"
   ]
  },
  {
   "cell_type": "code",
   "execution_count": 10,
   "metadata": {},
   "outputs": [],
   "source": [
    "# If a tree falls in a forest...\n",
    "def factorial3(n):\n",
    "    fact = 1\n",
    "    for ii in range(2, n+1):\n",
    "        fact *= ii"
   ]
  },
  {
   "cell_type": "code",
   "execution_count": 11,
   "metadata": {},
   "outputs": [
    {
     "name": "stdout",
     "output_type": "stream",
     "text": [
      "None\n"
     ]
    }
   ],
   "source": [
    "# Try to call the new function\n",
    "x = factorial3(5)\n",
    "print(x) # returns \"None\" by default"
   ]
  },
  {
   "cell_type": "markdown",
   "metadata": {},
   "source": [
    "### Printing is not the same as returning a value..."
   ]
  },
  {
   "cell_type": "code",
   "execution_count": 12,
   "metadata": {},
   "outputs": [],
   "source": [
    "# Factorial printing\n",
    "def factorial(n):\n",
    "    fact = 1\n",
    "    for ii in range(2,n+1):\n",
    "        fact *= ii\n",
    "    print(fact)"
   ]
  },
  {
   "cell_type": "code",
   "execution_count": 13,
   "metadata": {},
   "outputs": [
    {
     "name": "stdout",
     "output_type": "stream",
     "text": [
      "120\n",
      "The factorial of 5 is  None\n"
     ]
    }
   ],
   "source": [
    "# Doesn't do what we want even though the math is right\n",
    "x = factorial(5)\n",
    "print('The factorial of 5 is ',x)"
   ]
  },
  {
   "cell_type": "markdown",
   "metadata": {},
   "source": [
    "### You don't need to pass any inputs to a function."
   ]
  },
  {
   "cell_type": "code",
   "execution_count": 14,
   "metadata": {},
   "outputs": [],
   "source": [
    "# Factorial function without arguments\n",
    "def factorial(): # notice, nothing in the parentheses\n",
    "    n=int(input('Enter positive integer to factorial '))\n",
    "    fact = 1\n",
    "    for ii in range(2, n+1):\n",
    "        fact *= ii\n",
    "    return fact"
   ]
  },
  {
   "cell_type": "code",
   "execution_count": 15,
   "metadata": {},
   "outputs": [
    {
     "name": "stdout",
     "output_type": "stream",
     "text": [
      "Enter positive integer to factorial 9\n",
      "362880\n"
     ]
    }
   ],
   "source": [
    "# Call our function\n",
    "x=factorial()\n",
    "print(x)"
   ]
  },
  {
   "cell_type": "markdown",
   "metadata": {},
   "source": [
    "### In practice, you often write code and then turn it into a function later when you know its useful. To indent select the code and use Tab. (To unindent select the code and use shift Tab). "
   ]
  },
  {
   "cell_type": "code",
   "execution_count": 16,
   "metadata": {},
   "outputs": [
    {
     "name": "stdout",
     "output_type": "stream",
     "text": [
      "Sum from 1 to 6 is 21\n"
     ]
    }
   ],
   "source": [
    "# A simple for loop to add up some numbers\n",
    "n = 6\n",
    "sumN = 0\n",
    "for i in range(n+1):\n",
    "    sumN += i\n",
    "print('Sum from 1 to', n, 'is', sumN)"
   ]
  },
  {
   "cell_type": "markdown",
   "metadata": {},
   "source": [
    "### Cut and past the above, turn it into a function where you pass the number n"
   ]
  },
  {
   "cell_type": "code",
   "execution_count": 17,
   "metadata": {},
   "outputs": [],
   "source": [
    "# Let's define the function here\n",
    "def mysum(n):\n",
    "    sumN = 0\n",
    "    for i in range(n+1):\n",
    "        sumN += i\n",
    "    print('Sum from 1 to', n,' is', sumN)\n",
    "\n",
    "    "
   ]
  },
  {
   "cell_type": "code",
   "execution_count": 18,
   "metadata": {},
   "outputs": [
    {
     "name": "stdout",
     "output_type": "stream",
     "text": [
      "Sum from 1 to 8 is 36\n",
      "Sum from 1 to 5 is 15\n",
      "Sum from 1 to 10 is 55\n"
     ]
    }
   ],
   "source": [
    "# Let's run the function here\n",
    "x = mysum(8)\n",
    "y = mysum(5)\n",
    "z = mysum(10)\n",
    "print(x, y, z)"
   ]
  },
  {
   "cell_type": "markdown",
   "metadata": {},
   "source": [
    "### You can define default values for any input parameter."
   ]
  },
  {
   "cell_type": "code",
   "execution_count": 19,
   "metadata": {},
   "outputs": [],
   "source": [
    "# Print a range of numbers, forward or backward\n",
    "def print_numbers(n, reverse=False): # False is the default for the reverse parameter\n",
    "    if reverse:\n",
    "        for i in range(n, -1, -1):\n",
    "            print(i)\n",
    "    else:\n",
    "        for i in range(n+1):\n",
    "            print(i)            "
   ]
  },
  {
   "cell_type": "code",
   "execution_count": 20,
   "metadata": {},
   "outputs": [
    {
     "name": "stdout",
     "output_type": "stream",
     "text": [
      "0\n",
      "1\n",
      "2\n",
      "3\n",
      "4\n",
      "5\n"
     ]
    }
   ],
   "source": [
    "# Call with defaults\n",
    "print_numbers(5)"
   ]
  },
  {
   "cell_type": "code",
   "execution_count": 21,
   "metadata": {},
   "outputs": [
    {
     "name": "stdout",
     "output_type": "stream",
     "text": [
      "5\n",
      "4\n",
      "3\n",
      "2\n",
      "1\n",
      "0\n"
     ]
    }
   ],
   "source": [
    "# Here we reverse\n",
    "print_numbers(5, reverse=True)"
   ]
  },
  {
   "cell_type": "code",
   "execution_count": 22,
   "metadata": {},
   "outputs": [
    {
     "name": "stdout",
     "output_type": "stream",
     "text": [
      "0\n",
      "1\n",
      "2\n",
      "3\n",
      "4\n",
      "5\n"
     ]
    }
   ],
   "source": [
    "# Here we don't but are more specific in use of the default\n",
    "print_numbers(5, reverse=False)"
   ]
  },
  {
   "cell_type": "markdown",
   "metadata": {},
   "source": [
    "### Returning multiple values"
   ]
  },
  {
   "cell_type": "code",
   "execution_count": 23,
   "metadata": {},
   "outputs": [],
   "source": [
    "# A function to do ... not much\n",
    "def useless_program(a, b):\n",
    "    c = a + b\n",
    "    d = a * b\n",
    "    e = b - a\n",
    "    return c, d, e # notice the multiple returns"
   ]
  },
  {
   "cell_type": "code",
   "execution_count": 24,
   "metadata": {},
   "outputs": [
    {
     "name": "stdout",
     "output_type": "stream",
     "text": [
      "8 15 2\n"
     ]
    }
   ],
   "source": [
    "# Call our function\n",
    "x1, x2, x3 = useless_program(3, 5)\n",
    "print(x1, x2, x3) # \"unpacked\""
   ]
  },
  {
   "cell_type": "code",
   "execution_count": 25,
   "metadata": {},
   "outputs": [
    {
     "name": "stdout",
     "output_type": "stream",
     "text": [
      "(8, 15, 2)\n"
     ]
    }
   ],
   "source": [
    "# Call our function\n",
    "x = useless_program(3, 5)\n",
    "print(x) # \"packed\" as a tuple"
   ]
  },
  {
   "cell_type": "code",
   "execution_count": 26,
   "metadata": {},
   "outputs": [
    {
     "data": {
      "text/plain": [
       "8"
      ]
     },
     "execution_count": 26,
     "metadata": {},
     "output_type": "execute_result"
    }
   ],
   "source": [
    "x[0] # we index tuples just like lists"
   ]
  },
  {
   "cell_type": "markdown",
   "metadata": {},
   "source": [
    "## Namespaces"
   ]
  },
  {
   "cell_type": "markdown",
   "metadata": {},
   "source": [
    "### The main part of a program defines the global namespace: variables in this namespace are global variables."
   ]
  },
  {
   "cell_type": "code",
   "execution_count": 27,
   "metadata": {},
   "outputs": [
    {
     "name": "stdout",
     "output_type": "stream",
     "text": [
      "Once deleted, variables cannot be recovered. Proceed (y/[n])? y\n"
     ]
    }
   ],
   "source": [
    "# first let's clear our variables and start over\n",
    "%reset"
   ]
  },
  {
   "cell_type": "code",
   "execution_count": 28,
   "metadata": {},
   "outputs": [
    {
     "name": "stdout",
     "output_type": "stream",
     "text": [
      "Variable   Type     Data/Info\n",
      "-----------------------------\n",
      "x1         int      10\n",
      "x2         float    30.0\n",
      "x3         str      str1\n",
      "x4         str      str2\n"
     ]
    }
   ],
   "source": [
    "# define new variables and see what's going on\n",
    "x1 = 10\n",
    "x2 = 30.0\n",
    "x3 = 'str1'\n",
    "x4 = 'str2'\n",
    "%whos"
   ]
  },
  {
   "cell_type": "markdown",
   "metadata": {},
   "source": [
    "### Each function has its own namespace. These are called local namespaces, and variables are local variables.\n",
    "\n",
    "The scope of the function (controlled by indentation) defines a local namespace. In a nutshell, this is basically all the variables and information that \"live\" inside a mini-world defined by the function."
   ]
  },
  {
   "cell_type": "code",
   "execution_count": 31,
   "metadata": {},
   "outputs": [
    {
     "name": "stdout",
     "output_type": "stream",
     "text": [
      "Variable   Type        Data/Info\n",
      "--------------------------------\n",
      "my_func    function    <function my_func at 0x106bf9670>\n",
      "x1         int         10\n",
      "x2         float       30.0\n",
      "x3         str         str1\n",
      "x4         str         str2\n"
     ]
    }
   ],
   "source": [
    "# define function\n",
    "def my_func(): # all indented commands are local...\n",
    "    \n",
    "    # all of these variables are local\n",
    "    x1 = 55.0\n",
    "    x2 = 61.5\n",
    "    y33 = 22.1\n",
    "    y44 = -10\n",
    "    \n",
    "# call function and see variables\n",
    "my_func()\n",
    "%whos"
   ]
  },
  {
   "cell_type": "markdown",
   "metadata": {},
   "source": [
    "### You can use the value of a global variable within a function"
   ]
  },
  {
   "cell_type": "code",
   "execution_count": 32,
   "metadata": {},
   "outputs": [
    {
     "name": "stdout",
     "output_type": "stream",
     "text": [
      "10 20\n"
     ]
    }
   ],
   "source": [
    "# define function\n",
    "def my_func2():\n",
    "    y1 = x1 * 2\n",
    "    print(x1, y1) # x1 is global, y1 is local\n",
    "\n",
    "# call function\n",
    "my_func2()"
   ]
  },
  {
   "cell_type": "markdown",
   "metadata": {},
   "source": [
    "### But, you cannot change a global variable within a function\n",
    "\n",
    "Think of global variables as \"read-only\" inside functions. It's fine to make a variable inside a function with the same name as a global variable, but then you can no longer refer to the global one until you leave the function."
   ]
  },
  {
   "cell_type": "code",
   "execution_count": 33,
   "metadata": {},
   "outputs": [
    {
     "ename": "UnboundLocalError",
     "evalue": "local variable 'x1' referenced before assignment",
     "output_type": "error",
     "traceback": [
      "\u001b[0;31m---------------------------------------------------------------------------\u001b[0m",
      "\u001b[0;31mUnboundLocalError\u001b[0m                         Traceback (most recent call last)",
      "Input \u001b[0;32mIn [33]\u001b[0m, in \u001b[0;36m<module>\u001b[0;34m\u001b[0m\n\u001b[1;32m      5\u001b[0m     x1\u001b[38;5;241m=\u001b[39m\u001b[38;5;241m23.8\u001b[39m \u001b[38;5;66;03m# we failed because this line made x1 (temporarily) a local variable\u001b[39;00m\n\u001b[1;32m      7\u001b[0m \u001b[38;5;66;03m# call function\u001b[39;00m\n\u001b[0;32m----> 8\u001b[0m \u001b[43mmy_func2\u001b[49m\u001b[43m(\u001b[49m\u001b[43m)\u001b[49m\n",
      "Input \u001b[0;32mIn [33]\u001b[0m, in \u001b[0;36mmy_func2\u001b[0;34m()\u001b[0m\n\u001b[1;32m      2\u001b[0m \u001b[38;5;28;01mdef\u001b[39;00m \u001b[38;5;21mmy_func2\u001b[39m():\n\u001b[0;32m----> 3\u001b[0m     y1\u001b[38;5;241m=\u001b[39m\u001b[43mx1\u001b[49m\u001b[38;5;241m*\u001b[39m\u001b[38;5;241m2\u001b[39m \u001b[38;5;66;03m# here, we are trying (and failing) to refer to the global variable x1\u001b[39;00m\n\u001b[1;32m      4\u001b[0m     \u001b[38;5;28mprint\u001b[39m(x1,y1) \n\u001b[1;32m      5\u001b[0m     x1\u001b[38;5;241m=\u001b[39m\u001b[38;5;241m23.8\u001b[39m\n",
      "\u001b[0;31mUnboundLocalError\u001b[0m: local variable 'x1' referenced before assignment"
     ]
    }
   ],
   "source": [
    "# define function\n",
    "def my_func2():\n",
    "    y1 = x1 * 2 # here, we are trying (and failing) to refer to the global variable x1\n",
    "    print(x1, y1) \n",
    "    x1 = 23.8 # we failed because this line made x1 (temporarily) a local variable\n",
    "\n",
    "# call function\n",
    "my_func2()"
   ]
  },
  {
   "cell_type": "code",
   "execution_count": 34,
   "metadata": {},
   "outputs": [
    {
     "name": "stdout",
     "output_type": "stream",
     "text": [
      "23.8 20\n",
      "10\n"
     ]
    }
   ],
   "source": [
    "### Often, it's best to have global variables as inputs\n",
    "\n",
    "# define function\n",
    "def my_func2(x1): # x1 is an input variable --> becomes local\n",
    "    y1 = x1 * 2 # uses the input value\n",
    "    x1 = 23.8 # we can change x1's local value inside\n",
    "    print(x1, y1) # x1 is now local, y1 is local\n",
    "\n",
    "# call function    \n",
    "my_func2(x1) # input the global variable explicitly\n",
    "print(x1) # but its global value remains the same"
   ]
  },
  {
   "cell_type": "markdown",
   "metadata": {},
   "source": [
    "### Be careful using global variables in a function..."
   ]
  },
  {
   "cell_type": "code",
   "execution_count": 35,
   "metadata": {},
   "outputs": [
    {
     "name": "stdout",
     "output_type": "stream",
     "text": [
      "113.0973372\n"
     ]
    }
   ],
   "source": [
    "### Calculate volume of a sphere\n",
    "\n",
    "# a simple function to compute sphere volume\n",
    "pi = 3.1415927\n",
    "def calc_volume(r):\n",
    "    vol = 4/3 * pi * r**3\n",
    "    return vol\n",
    "\n",
    "# call function and print result\n",
    "print(calc_volume(3))"
   ]
  },
  {
   "cell_type": "code",
   "execution_count": 36,
   "metadata": {},
   "outputs": [
    {
     "name": "stdout",
     "output_type": "stream",
     "text": [
      "899.9999999999999\n"
     ]
    }
   ],
   "source": [
    "### Code runs but is incorrect...\n",
    "\n",
    "# let's try again\n",
    "pi = 25.0 # a big pi\n",
    "print(calc_volume(3)) # gives a wrong volume"
   ]
  },
  {
   "cell_type": "code",
   "execution_count": 37,
   "metadata": {},
   "outputs": [
    {
     "ename": "NameError",
     "evalue": "name 'pi' is not defined",
     "output_type": "error",
     "traceback": [
      "\u001b[0;31m---------------------------------------------------------------------------\u001b[0m",
      "\u001b[0;31mNameError\u001b[0m                                 Traceback (most recent call last)",
      "Input \u001b[0;32mIn [37]\u001b[0m, in \u001b[0;36m<module>\u001b[0;34m\u001b[0m\n\u001b[1;32m      1\u001b[0m \u001b[38;5;66;03m### Code breaks\u001b[39;00m\n\u001b[1;32m      2\u001b[0m \n\u001b[1;32m      3\u001b[0m \u001b[38;5;66;03m# let's try again\u001b[39;00m\n\u001b[1;32m      4\u001b[0m \u001b[38;5;28;01mdel\u001b[39;00m pi \u001b[38;5;66;03m# no more pie\u001b[39;00m\n\u001b[0;32m----> 5\u001b[0m \u001b[38;5;28mprint\u001b[39m(\u001b[43mcalc_volume\u001b[49m\u001b[43m(\u001b[49m\u001b[38;5;241;43m3\u001b[39;49m\u001b[43m)\u001b[49m)\n",
      "Input \u001b[0;32mIn [35]\u001b[0m, in \u001b[0;36mcalc_volume\u001b[0;34m(r)\u001b[0m\n\u001b[1;32m      5\u001b[0m \u001b[38;5;28;01mdef\u001b[39;00m \u001b[38;5;21mcalc_volume\u001b[39m(r):\n\u001b[0;32m----> 6\u001b[0m     vol \u001b[38;5;241m=\u001b[39m (\u001b[38;5;241m4.0\u001b[39m\u001b[38;5;241m/\u001b[39m\u001b[38;5;241m3.0\u001b[39m)\u001b[38;5;241m*\u001b[39m\u001b[43mpi\u001b[49m\u001b[38;5;241m*\u001b[39mr\u001b[38;5;241m*\u001b[39m\u001b[38;5;241m*\u001b[39m\u001b[38;5;241m3\u001b[39m\n\u001b[1;32m      7\u001b[0m     \u001b[38;5;28;01mreturn\u001b[39;00m vol\n",
      "\u001b[0;31mNameError\u001b[0m: name 'pi' is not defined"
     ]
    }
   ],
   "source": [
    "### Code breaks\n",
    "\n",
    "# let's try again\n",
    "del pi # no more pie\n",
    "print(calc_volume(3))"
   ]
  },
  {
   "cell_type": "code",
   "execution_count": 38,
   "metadata": {},
   "outputs": [
    {
     "name": "stdout",
     "output_type": "stream",
     "text": [
      "113.0973372\n"
     ]
    }
   ],
   "source": [
    "### Here, it is better to have pi as a local variable\n",
    "\n",
    "# notice, pi is a local variable inside the function\n",
    "def calc_volume(r):\n",
    "    pi = 3.1415927 # safe!\n",
    "    vol = 4/3 * pi * r**3\n",
    "    return vol\n",
    "print(calc_volume(3))"
   ]
  },
  {
   "cell_type": "markdown",
   "metadata": {},
   "source": [
    "# Summary\n",
    "* Functions allow you to define a series of steps or calculations (an algorithm)\n",
    "* The function can then be called to repeated calculations efficiently\n",
    "* You can provide input values (arguments) to functions, e.g. `myfunc(5,3)` - these are inside the parentheses\n",
    "* `x = myfunc(5,3)` - `x` will have the value provided in the `return` statement\n",
    "* `x = myfunc(5,3)` - if you do not have a `return` statement `x` will be `None`\n",
    "* _Printing_ a value in a function is not the same as _returning_ a value\n",
    "* Python variables exist within a universe defined by the scope or namespace (e.g. global or local)\n",
    "* Be careful about calling the global variables within a function"
   ]
  }
 ],
 "metadata": {
  "kernelspec": {
   "display_name": "Python 3 (ipykernel)",
   "language": "python",
   "name": "python3"
  },
  "language_info": {
   "codemirror_mode": {
    "name": "ipython",
    "version": 3
   },
   "file_extension": ".py",
   "mimetype": "text/x-python",
   "name": "python",
   "nbconvert_exporter": "python",
   "pygments_lexer": "ipython3",
   "version": "3.10.13"
  }
 },
 "nbformat": 4,
 "nbformat_minor": 4
}
