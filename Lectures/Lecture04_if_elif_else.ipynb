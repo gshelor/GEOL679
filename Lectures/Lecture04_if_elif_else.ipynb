{
 "cells": [
  {
   "cell_type": "markdown",
   "metadata": {},
   "source": [
    "# Comparison Operators: Return a value of True or False"
   ]
  },
  {
   "cell_type": "markdown",
   "metadata": {},
   "source": [
    "Comparison operators are used to look for differences between two variables. For example, is `x` greater than `y`? They are very commonly used in computer programs to control the flow of logic or information.\n",
    "\n",
    "In Python, the most common ones to be aware of are:\n",
    "*  `=`:  assignment\n",
    "*  `==`: equality\n",
    "* `!=`: inequality\n",
    "* `<`: less than\n",
    "* `>`: greater than\n",
    "* `<=`: less than or equal to\n",
    "* `>=`: greater than or equal to\n",
    "* `in`: membership (in a list for example)"
   ]
  },
  {
   "cell_type": "markdown",
   "metadata": {},
   "source": [
    "### Assignment (`=`), Equality (`==`) and Inequality (`!=`)"
   ]
  },
  {
   "cell_type": "code",
   "execution_count": 1,
   "metadata": {},
   "outputs": [
    {
     "name": "stdout",
     "output_type": "stream",
     "text": [
      "True\n"
     ]
    }
   ],
   "source": [
    "a = 5 # = --> \"assignment\"\n",
    "b = 5\n",
    "print (a == b) # == --> test for \"equality\""
   ]
  },
  {
   "cell_type": "code",
   "execution_count": 2,
   "metadata": {},
   "outputs": [
    {
     "name": "stdout",
     "output_type": "stream",
     "text": [
      "True\n"
     ]
    }
   ],
   "source": [
    "a = 5\n",
    "b = 5.0\n",
    "print(a == b) # Python thinks these are equal despite being of different type"
   ]
  },
  {
   "cell_type": "code",
   "execution_count": 3,
   "metadata": {},
   "outputs": [
    {
     "name": "stdout",
     "output_type": "stream",
     "text": [
      "False\n"
     ]
    }
   ],
   "source": [
    "a = 5\n",
    "b = \"5\"\n",
    "print(a == b) # But integers and strings are not the same"
   ]
  },
  {
   "cell_type": "code",
   "execution_count": 4,
   "metadata": {},
   "outputs": [
    {
     "name": "stdout",
     "output_type": "stream",
     "text": [
      "True\n"
     ]
    }
   ],
   "source": [
    "a = 5\n",
    "b = \"5\"\n",
    "print(a == (int(b))) # Notice we first converted the string to an integer"
   ]
  },
  {
   "cell_type": "code",
   "execution_count": 5,
   "metadata": {},
   "outputs": [
    {
     "name": "stdout",
     "output_type": "stream",
     "text": [
      "True\n"
     ]
    }
   ],
   "source": [
    "a = 5\n",
    "b = 3\n",
    "print(a != b)"
   ]
  },
  {
   "cell_type": "markdown",
   "metadata": {},
   "source": [
    "**You _will_ make the following mistake at some point...**"
   ]
  },
  {
   "cell_type": "code",
   "execution_count": 6,
   "metadata": {},
   "outputs": [
    {
     "ename": "TypeError",
     "evalue": "'a' is an invalid keyword argument for print()",
     "output_type": "error",
     "traceback": [
      "\u001b[0;31m---------------------------------------------------------------------------\u001b[0m",
      "\u001b[0;31mTypeError\u001b[0m                                 Traceback (most recent call last)",
      "Cell \u001b[0;32mIn[6], line 4\u001b[0m\n\u001b[1;32m      2\u001b[0m a \u001b[38;5;241m=\u001b[39m \u001b[38;5;241m5\u001b[39m\n\u001b[1;32m      3\u001b[0m b \u001b[38;5;241m=\u001b[39m \u001b[38;5;241m3\u001b[39m\n\u001b[0;32m----> 4\u001b[0m \u001b[38;5;28;43mprint\u001b[39;49m\u001b[43m(\u001b[49m\u001b[43ma\u001b[49m\u001b[43m \u001b[49m\u001b[38;5;241;43m=\u001b[39;49m\u001b[43m \u001b[49m\u001b[43mb\u001b[49m\u001b[43m)\u001b[49m \u001b[38;5;66;03m# here we have \"assigned\" a to b...\u001b[39;00m\n",
      "\u001b[0;31mTypeError\u001b[0m: 'a' is an invalid keyword argument for print()"
     ]
    }
   ],
   "source": [
    "# Make sure to use ==, not =\n",
    "a = 5\n",
    "b = 3\n",
    "print(a = b) # here we have \"assigned\" a to b..."
   ]
  },
  {
   "cell_type": "markdown",
   "metadata": {},
   "source": [
    "### Less than `<`, greater than `>`"
   ]
  },
  {
   "cell_type": "code",
   "execution_count": 7,
   "metadata": {},
   "outputs": [
    {
     "name": "stdout",
     "output_type": "stream",
     "text": [
      "True\n"
     ]
    }
   ],
   "source": [
    "a = 6\n",
    "b = 10\n",
    "print(a < b) "
   ]
  },
  {
   "cell_type": "code",
   "execution_count": 8,
   "metadata": {},
   "outputs": [
    {
     "name": "stdout",
     "output_type": "stream",
     "text": [
      "False\n"
     ]
    }
   ],
   "source": [
    "print(a > b)"
   ]
  },
  {
   "cell_type": "code",
   "execution_count": 9,
   "metadata": {},
   "outputs": [
    {
     "name": "stdout",
     "output_type": "stream",
     "text": [
      "Variable   Type    Data/Info\n",
      "----------------------------\n",
      "a          int     6\n",
      "b          int     10\n",
      "c          bool    False\n"
     ]
    }
   ],
   "source": [
    "c = a > b # c is a boolean variable\n",
    "%whos"
   ]
  },
  {
   "cell_type": "markdown",
   "metadata": {},
   "source": [
    "### Less than or equal to `<=`, greater than or equal to `>=`"
   ]
  },
  {
   "cell_type": "code",
   "execution_count": 10,
   "metadata": {},
   "outputs": [
    {
     "name": "stdout",
     "output_type": "stream",
     "text": [
      "True\n"
     ]
    }
   ],
   "source": [
    "a = 6\n",
    "b = 6\n",
    "print(a <= b)"
   ]
  },
  {
   "cell_type": "code",
   "execution_count": 11,
   "metadata": {},
   "outputs": [
    {
     "name": "stdout",
     "output_type": "stream",
     "text": [
      "True\n"
     ]
    }
   ],
   "source": [
    "print(a >= b)"
   ]
  },
  {
   "cell_type": "markdown",
   "metadata": {},
   "source": [
    "### Multiple comparisons with one line\n",
    "* `5 < x < 10`"
   ]
  },
  {
   "cell_type": "code",
   "execution_count": 12,
   "metadata": {},
   "outputs": [
    {
     "name": "stdout",
     "output_type": "stream",
     "text": [
      "True\n"
     ]
    }
   ],
   "source": [
    "x = 7\n",
    "print(5 < x < 10)"
   ]
  },
  {
   "cell_type": "code",
   "execution_count": 13,
   "metadata": {},
   "outputs": [
    {
     "name": "stdout",
     "output_type": "stream",
     "text": [
      "False\n"
     ]
    }
   ],
   "source": [
    "x = 5\n",
    "print(5 < x < 10)"
   ]
  },
  {
   "cell_type": "markdown",
   "metadata": {},
   "source": [
    "### Membership `in`\n",
    "`in` tests membership in a \"collection\" (a list, set, dictionary, tuple, array, ...)\n",
    "* `a = [1, 5, 3]`\n",
    "* `5 in a`"
   ]
  },
  {
   "cell_type": "code",
   "execution_count": 14,
   "metadata": {},
   "outputs": [
    {
     "name": "stdout",
     "output_type": "stream",
     "text": [
      "True\n"
     ]
    }
   ],
   "source": [
    "a = [1, 5, 3]\n",
    "print (5 in a) # this is very handy!"
   ]
  },
  {
   "cell_type": "code",
   "execution_count": 15,
   "metadata": {},
   "outputs": [
    {
     "name": "stdout",
     "output_type": "stream",
     "text": [
      "False\n"
     ]
    }
   ],
   "source": [
    "print(2 in a)"
   ]
  },
  {
   "cell_type": "code",
   "execution_count": 16,
   "metadata": {},
   "outputs": [
    {
     "name": "stdout",
     "output_type": "stream",
     "text": [
      "True <class 'bool'>\n"
     ]
    }
   ],
   "source": [
    "d = 3 in a\n",
    "print(d, type(d)) # again, the result of a comparison is a bool"
   ]
  },
  {
   "cell_type": "markdown",
   "metadata": {},
   "source": [
    "### Logical (Boolean) Operators"
   ]
  },
  {
   "cell_type": "markdown",
   "metadata": {},
   "source": [
    "* `and` - True if both operands are True\n",
    "* `or` - True if either operand is True\n",
    "* `not` - return the opposite\n",
    "\n",
    "When using multiple operators in the same command, it advisable (but not required) to use parentheses for clarity."
   ]
  },
  {
   "cell_type": "code",
   "execution_count": 17,
   "metadata": {},
   "outputs": [
    {
     "data": {
      "text/plain": [
       "False"
      ]
     },
     "execution_count": 17,
     "metadata": {},
     "output_type": "execute_result"
    }
   ],
   "source": [
    "a = 5\n",
    "b = 10\n",
    "c = 2\n",
    "(a < b) and (b < c)"
   ]
  },
  {
   "cell_type": "code",
   "execution_count": 18,
   "metadata": {},
   "outputs": [
    {
     "data": {
      "text/plain": [
       "True"
      ]
     },
     "execution_count": 18,
     "metadata": {},
     "output_type": "execute_result"
    }
   ],
   "source": [
    "a = 5\n",
    "b = 10\n",
    "c = 20\n",
    "(a < b) and (b < c)"
   ]
  },
  {
   "cell_type": "code",
   "execution_count": 19,
   "metadata": {},
   "outputs": [
    {
     "data": {
      "text/plain": [
       "True"
      ]
     },
     "execution_count": 19,
     "metadata": {},
     "output_type": "execute_result"
    }
   ],
   "source": [
    "a = 5\n",
    "b = 10\n",
    "c = 2\n",
    "(a < b) or (b < c)"
   ]
  },
  {
   "cell_type": "code",
   "execution_count": 20,
   "metadata": {},
   "outputs": [
    {
     "data": {
      "text/plain": [
       "True"
      ]
     },
     "execution_count": 20,
     "metadata": {},
     "output_type": "execute_result"
    }
   ],
   "source": [
    "a = 5\n",
    "b = 10\n",
    "c = 2\n",
    "a < b or b < c  # You do not need to include the parentheses, but it doesn't hurt!"
   ]
  },
  {
   "cell_type": "code",
   "execution_count": 21,
   "metadata": {},
   "outputs": [
    {
     "name": "stdout",
     "output_type": "stream",
     "text": [
      "True\n"
     ]
    }
   ],
   "source": [
    "a = [1, 5, 3]\n",
    "print(2 not in a)"
   ]
  },
  {
   "cell_type": "markdown",
   "metadata": {},
   "source": [
    "# if, elif, else statements"
   ]
  },
  {
   "cell_type": "markdown",
   "metadata": {},
   "source": [
    "### See the following code cells for the format of the `if`, `elif`, `else` statements. \n",
    "- The colon and indenting are required!!!! \n",
    "- In Python, indentation controls the \"scope\" of a block of code."
   ]
  },
  {
   "cell_type": "code",
   "execution_count": 22,
   "metadata": {},
   "outputs": [
    {
     "name": "stdout",
     "output_type": "stream",
     "text": [
      "6\n"
     ]
    }
   ],
   "source": [
    "a = 5\n",
    "if a > 2: # notice the colon after 2\n",
    "    a += 1 # indented because this is part of the if block\n",
    "print(a)"
   ]
  },
  {
   "cell_type": "code",
   "execution_count": 23,
   "metadata": {},
   "outputs": [
    {
     "name": "stdout",
     "output_type": "stream",
     "text": [
      "2\n"
     ]
    }
   ],
   "source": [
    "a = 1\n",
    "if a > 2:\n",
    "    a -= 1\n",
    "else: # else is not indented because it is not inside the if statement...\n",
    "    a += 1\n",
    "print(a)    "
   ]
  },
  {
   "cell_type": "code",
   "execution_count": 24,
   "metadata": {},
   "outputs": [
    {
     "name": "stdout",
     "output_type": "stream",
     "text": [
      "2\n"
     ]
    }
   ],
   "source": [
    "a = 2\n",
    "if a > 2:\n",
    "    a -= 1\n",
    "elif a == 2: # we can have as many elifs as we like\n",
    "    a += 0\n",
    "else:\n",
    "    a += 1\n",
    "print(a)    "
   ]
  },
  {
   "cell_type": "code",
   "execution_count": 25,
   "metadata": {},
   "outputs": [
    {
     "name": "stdout",
     "output_type": "stream",
     "text": [
      "M is not a vowel\n"
     ]
    }
   ],
   "source": [
    "## Simple test to see if a letter is a vowel\n",
    "\n",
    "# test a letter\n",
    "letter = 'M'\n",
    "\n",
    "# list of vowels\n",
    "vowels = ['a', 'e', 'i', 'o', 'u', \n",
    "          'A', 'E', 'I', 'O', 'U']\n",
    "\n",
    "# check whether this is a vowel\n",
    "if letter in vowels:\n",
    "    print(letter,'is a vowel')\n",
    "else:\n",
    "    print(letter,'is not a vowel')"
   ]
  },
  {
   "cell_type": "code",
   "execution_count": 26,
   "metadata": {},
   "outputs": [
    {
     "name": "stdout",
     "output_type": "stream",
     "text": [
      "A is a vowel\n"
     ]
    }
   ],
   "source": [
    "## This is equivalent - why?\n",
    "\n",
    "# test a letter\n",
    "letter = 'A'\n",
    "\n",
    "# vowel characters\n",
    "vowels = 'aeiouAEIOU'\n",
    "\n",
    "# check whether this is a vowel\n",
    "if letter in vowels:\n",
    "    print(letter,'is a vowel')\n",
    "else:\n",
    "    print(letter,'is not a vowel')"
   ]
  },
  {
   "cell_type": "code",
   "execution_count": 27,
   "metadata": {},
   "outputs": [
    {
     "name": "stdout",
     "output_type": "stream",
     "text": [
      "x is not a vowel\n"
     ]
    }
   ],
   "source": [
    "## We could also write it like this\n",
    "\n",
    "# test a letter\n",
    "letter = 'x'\n",
    "\n",
    "# vowel characters\n",
    "vowels = 'aeiouAEIOU'\n",
    "\n",
    "# check whether this is a vowel\n",
    "if letter not in vowels:\n",
    "    print(letter,'is not a vowel')\n",
    "else:\n",
    "    print(letter,'is a vowel')"
   ]
  },
  {
   "cell_type": "code",
   "execution_count": 28,
   "metadata": {},
   "outputs": [
    {
     "name": "stdout",
     "output_type": "stream",
     "text": [
      "r is not a vowel\n"
     ]
    }
   ],
   "source": [
    "## Or this\n",
    "\n",
    "# test a letter\n",
    "letter = 'r'\n",
    "\n",
    "# check whether this is a vowel\n",
    "if letter not in 'aeiouAEIOU':\n",
    "    print(letter,'is not a vowel')\n",
    "else:\n",
    "    print(letter,'is a vowel')"
   ]
  },
  {
   "cell_type": "markdown",
   "metadata": {},
   "source": [
    "### Jupyter helps you out with the formatting"
   ]
  },
  {
   "cell_type": "code",
   "execution_count": 29,
   "metadata": {},
   "outputs": [],
   "source": [
    "# Type in the if/else block from the previous example. Don't cut and paste! \n",
    "# Notice how Jupyter automatically indents for you\n"
   ]
  },
  {
   "cell_type": "markdown",
   "metadata": {},
   "source": [
    "### Multiple layers of if/elif/else statements are allowed - just keep indenting!"
   ]
  },
  {
   "cell_type": "code",
   "execution_count": 30,
   "metadata": {},
   "outputs": [
    {
     "name": "stdout",
     "output_type": "stream",
     "text": [
      "Is it a cat?\n"
     ]
    }
   ],
   "source": [
    "### Example of a nested if/else statements ###\n",
    "\n",
    "# traits of our animal\n",
    "furry = True\n",
    "small = True\n",
    "\n",
    "# ask questions to find out what the animal is\n",
    "if furry:\n",
    "    if small: # nested if statement\n",
    "        print('Is it a cat?')\n",
    "    else:     # nested else statment\n",
    "        print('Is it a bear?')\n",
    "else:\n",
    "    if small: # nested if statement\n",
    "        print('Is it a lizard?')\n",
    "    else:     # nested else statment\n",
    "        print('Is it an elephant?')\n"
   ]
  },
  {
   "cell_type": "markdown",
   "metadata": {},
   "source": [
    "### If / else can be used in an interactive program"
   ]
  },
  {
   "cell_type": "code",
   "execution_count": 31,
   "metadata": {},
   "outputs": [
    {
     "name": "stdin",
     "output_type": "stream",
     "text": [
      "Enter a number between 1 and 10:   8\n"
     ]
    },
    {
     "name": "stdout",
     "output_type": "stream",
     "text": [
      "Number: 8\n",
      "Squared: 64\n",
      "Cubed: 512\n",
      "Square root: 2.8284271247461903\n"
     ]
    }
   ],
   "source": [
    "### An Interactive Program\n",
    "\n",
    "# ask user for a number - note conversion to integer!\n",
    "num = int(input(\"Enter a number between 1 and 10:  \"))\n",
    "\n",
    "# process the number\n",
    "if (1 <= num <= 10) == False: # check if instructions are followed\n",
    "    print(\"Error, number not between 1 and 10!\")\n",
    "else: # if so, print some information\n",
    "    print(\"Number:\",num)\n",
    "    print(\"Squared:\",num**2)\n",
    "    print(\"Cubed:\",num**3)\n",
    "    print(\"Square root:\",num**0.5)\n"
   ]
  },
  {
   "cell_type": "markdown",
   "metadata": {},
   "source": [
    "# Summary\n",
    "- Assignment (`=`) versus equality (`==`)\n",
    "- Comparison operators: `<`, `>`, `>=`, `<=`\n",
    "- Both of these return a value (of type `bool`): `True` or `False`\n",
    "- Logical operators: `and`, `or`, `not`\n",
    "- Testing whether an item is `in` a list\n",
    "- `if`/`elif`/`else` --> indentation matters!\n",
    "- These statements can be used to control the \"flow\" of the program."
   ]
  }
 ],
 "metadata": {
  "kernelspec": {
   "display_name": "Python 3 (ipykernel)",
   "language": "python",
   "name": "python3"
  },
  "language_info": {
   "codemirror_mode": {
    "name": "ipython",
    "version": 3
   },
   "file_extension": ".py",
   "mimetype": "text/x-python",
   "name": "python",
   "nbconvert_exporter": "python",
   "pygments_lexer": "ipython3",
   "version": "3.10.13"
  }
 },
 "nbformat": 4,
 "nbformat_minor": 4
}
