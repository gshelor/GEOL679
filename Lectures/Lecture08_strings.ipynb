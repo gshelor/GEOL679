{
 "cells": [
  {
   "cell_type": "markdown",
   "metadata": {},
   "source": [
    "# Strings"
   ]
  },
  {
   "cell_type": "markdown",
   "metadata": {},
   "source": [
    "### Strings are the basic data type for storing text.\n",
    "\n",
    "We can create a string with quotes: single `'`, double `\"`, triple `'''` - all quotes work in Python!"
   ]
  },
  {
   "cell_type": "code",
   "execution_count": 1,
   "metadata": {},
   "outputs": [
    {
     "name": "stdout",
     "output_type": "stream",
     "text": [
      "Prof. Daniel Trugman\n"
     ]
    }
   ],
   "source": [
    "str0 = '''Prof.'''\n",
    "str1 = 'Daniel'\n",
    "str2 = \"Trugman\"\n",
    "print(str0,str1,str2) # the print statement puts a space between the strings"
   ]
  },
  {
   "cell_type": "markdown",
   "metadata": {},
   "source": [
    "### Use `\\` for special characters\n",
    "* `\\n` - newline\n",
    "* `\\t` - tab"
   ]
  },
  {
   "cell_type": "code",
   "execution_count": 2,
   "metadata": {},
   "outputs": [
    {
     "name": "stdout",
     "output_type": "stream",
     "text": [
      "This is how \n",
      " you print on 2 lines\n"
     ]
    }
   ],
   "source": [
    "print('This is how \\n you print on 2 lines')"
   ]
  },
  {
   "cell_type": "code",
   "execution_count": 3,
   "metadata": {},
   "outputs": [
    {
     "name": "stdout",
     "output_type": "stream",
     "text": [
      "This is how \n",
      "you print on 2 lines\n"
     ]
    }
   ],
   "source": [
    "print('This is how \\nyou print on 2 lines')"
   ]
  },
  {
   "cell_type": "code",
   "execution_count": 4,
   "metadata": {},
   "outputs": [
    {
     "name": "stdout",
     "output_type": "stream",
     "text": [
      "A tab\tbetween words\n"
     ]
    }
   ],
   "source": [
    "print('A tab\\tbetween words')"
   ]
  },
  {
   "cell_type": "code",
   "execution_count": 5,
   "metadata": {},
   "outputs": [
    {
     "name": "stdout",
     "output_type": "stream",
     "text": [
      "What if we want an actual backslash? \\\n"
     ]
    }
   ],
   "source": [
    "print(\"What if we want an actual backslash? \\\\\")"
   ]
  },
  {
   "cell_type": "markdown",
   "metadata": {},
   "source": [
    "### Combine strings with `+`"
   ]
  },
  {
   "cell_type": "code",
   "execution_count": 6,
   "metadata": {},
   "outputs": [
    {
     "name": "stdout",
     "output_type": "stream",
     "text": [
      "Prof.DanielTrugman\n"
     ]
    }
   ],
   "source": [
    "str3 = str0 + str1 + str2\n",
    "print(str3) # no spaces"
   ]
  },
  {
   "cell_type": "code",
   "execution_count": 7,
   "metadata": {},
   "outputs": [
    {
     "name": "stdout",
     "output_type": "stream",
     "text": [
      "Prof. Daniel Trugman\n"
     ]
    }
   ],
   "source": [
    "str3 = str0 + ' ' + str1 + ' ' + str2\n",
    "print(str3) # add spaces"
   ]
  },
  {
   "cell_type": "markdown",
   "metadata": {},
   "source": [
    "### What happens when you multiply strings by a number?"
   ]
  },
  {
   "cell_type": "code",
   "execution_count": 8,
   "metadata": {},
   "outputs": [
    {
     "name": "stdout",
     "output_type": "stream",
     "text": [
      "DanielDanielDaniel\n"
     ]
    }
   ],
   "source": [
    "str4 = 3 * str1\n",
    "print(str4)"
   ]
  },
  {
   "cell_type": "code",
   "execution_count": 9,
   "metadata": {},
   "outputs": [
    {
     "name": "stdout",
     "output_type": "stream",
     "text": [
      "55555\n"
     ]
    }
   ],
   "source": [
    "str5 = 5 * '5'\n",
    "print(str5)"
   ]
  },
  {
   "cell_type": "markdown",
   "metadata": {},
   "source": [
    "### Access string elements just like indexing with a list\n",
    "Think of strings as a list of characters: `\"abcd\" = 'a' + 'b' + 'c' + 'd'`"
   ]
  },
  {
   "cell_type": "code",
   "execution_count": 10,
   "metadata": {},
   "outputs": [
    {
     "name": "stdout",
     "output_type": "stream",
     "text": [
      "Daniel\n",
      "D l\n"
     ]
    }
   ],
   "source": [
    "print(str1)\n",
    "print(str1[0], str1[-1]) # first and last character"
   ]
  },
  {
   "cell_type": "markdown",
   "metadata": {},
   "source": [
    "### You can slice strings by index just like normal lists"
   ]
  },
  {
   "cell_type": "code",
   "execution_count": 11,
   "metadata": {},
   "outputs": [
    {
     "name": "stdout",
     "output_type": "stream",
     "text": [
      "Trugman\n",
      "Trugm\n"
     ]
    }
   ],
   "source": [
    "print(str2)\n",
    "print(str2[0:5]) # first 5 characters only"
   ]
  },
  {
   "cell_type": "code",
   "execution_count": 12,
   "metadata": {},
   "outputs": [
    {
     "name": "stdout",
     "output_type": "stream",
     "text": [
      "Tumn\n"
     ]
    }
   ],
   "source": [
    "print(str2[0::2]) # every other character"
   ]
  },
  {
   "cell_type": "code",
   "execution_count": 13,
   "metadata": {},
   "outputs": [
    {
     "name": "stdout",
     "output_type": "stream",
     "text": [
      "an\n"
     ]
    }
   ],
   "source": [
    "print(str2[5:]) # start at index 5 and go to the end"
   ]
  },
  {
   "cell_type": "markdown",
   "metadata": {},
   "source": [
    "### Strings are immutable!!!\n",
    "This means we cannot change characters in a string once created. (This is distinct from the way lists work)."
   ]
  },
  {
   "cell_type": "code",
   "execution_count": 14,
   "metadata": {},
   "outputs": [
    {
     "ename": "TypeError",
     "evalue": "'str' object does not support item assignment",
     "output_type": "error",
     "traceback": [
      "\u001b[0;31m---------------------------------------------------------------------------\u001b[0m",
      "\u001b[0;31mTypeError\u001b[0m                                 Traceback (most recent call last)",
      "Cell \u001b[0;32mIn[14], line 2\u001b[0m\n\u001b[1;32m      1\u001b[0m str1 \u001b[38;5;241m=\u001b[39m \u001b[38;5;124m'\u001b[39m\u001b[38;5;124meric\u001b[39m\u001b[38;5;124m'\u001b[39m \u001b[38;5;66;03m# define a string\u001b[39;00m\n\u001b[0;32m----> 2\u001b[0m \u001b[43mstr1\u001b[49m\u001b[43m[\u001b[49m\u001b[38;5;241;43m3\u001b[39;49m\u001b[43m]\u001b[49m \u001b[38;5;241m=\u001b[39m \u001b[38;5;124m'\u001b[39m\u001b[38;5;124mk\u001b[39m\u001b[38;5;124m'\u001b[39m \u001b[38;5;66;03m# change the spelling\u001b[39;00m\n",
      "\u001b[0;31mTypeError\u001b[0m: 'str' object does not support item assignment"
     ]
    }
   ],
   "source": [
    "str1 = 'eric' # define a string\n",
    "str1[3] = 'k' # change the spelling"
   ]
  },
  {
   "cell_type": "code",
   "execution_count": 15,
   "metadata": {},
   "outputs": [
    {
     "ename": "TypeError",
     "evalue": "'str' object does not support item assignment",
     "output_type": "error",
     "traceback": [
      "\u001b[0;31m---------------------------------------------------------------------------\u001b[0m",
      "\u001b[0;31mTypeError\u001b[0m                                 Traceback (most recent call last)",
      "Cell \u001b[0;32mIn[15], line 2\u001b[0m\n\u001b[1;32m      1\u001b[0m str1 \u001b[38;5;241m=\u001b[39m \u001b[38;5;124m'\u001b[39m\u001b[38;5;124meric\u001b[39m\u001b[38;5;124m'\u001b[39m \u001b[38;5;66;03m# define a string\u001b[39;00m\n\u001b[0;32m----> 2\u001b[0m \u001b[43mstr1\u001b[49m\u001b[43m[\u001b[49m\u001b[38;5;241;43m4\u001b[39;49m\u001b[43m]\u001b[49m \u001b[38;5;241m=\u001b[39m \u001b[38;5;124m'\u001b[39m\u001b[38;5;124mk\u001b[39m\u001b[38;5;124m'\u001b[39m \u001b[38;5;66;03m# can't append either\u001b[39;00m\n",
      "\u001b[0;31mTypeError\u001b[0m: 'str' object does not support item assignment"
     ]
    }
   ],
   "source": [
    "str1 = 'eric' # define a string\n",
    "str1[4] = 'k' # can't append either"
   ]
  },
  {
   "cell_type": "markdown",
   "metadata": {},
   "source": [
    "#### A workaround: redefine a string to update it"
   ]
  },
  {
   "cell_type": "code",
   "execution_count": 16,
   "metadata": {},
   "outputs": [
    {
     "name": "stdout",
     "output_type": "stream",
     "text": [
      "erik\n"
     ]
    }
   ],
   "source": [
    "str1 = 'eric' # define a string\n",
    "str1 = str1[0:-1] + 'k' # a new string with character replaced\n",
    "print(str1)"
   ]
  },
  {
   "cell_type": "code",
   "execution_count": 17,
   "metadata": {},
   "outputs": [
    {
     "name": "stdout",
     "output_type": "stream",
     "text": [
      "erick\n"
     ]
    }
   ],
   "source": [
    "str1 = 'eric' # define a string\n",
    "str1 += 'k' # append to end by redefinition\n",
    "print(str1)"
   ]
  },
  {
   "cell_type": "markdown",
   "metadata": {},
   "source": [
    "### `len()` returns length of string (number of characters)"
   ]
  },
  {
   "cell_type": "code",
   "execution_count": 18,
   "metadata": {},
   "outputs": [
    {
     "name": "stdout",
     "output_type": "stream",
     "text": [
      "5 7\n"
     ]
    }
   ],
   "source": [
    "print(len(str1), len(str2)) # analogous to list"
   ]
  },
  {
   "cell_type": "markdown",
   "metadata": {},
   "source": [
    "### Use `split()` for splitting a string into pieces using a break character (e.g. space, comma).\n",
    "\n",
    "This is especially useful when breaking a long block of text into words, or parsing a text file with a known format."
   ]
  },
  {
   "cell_type": "code",
   "execution_count": 19,
   "metadata": {},
   "outputs": [
    {
     "name": "stdout",
     "output_type": "stream",
     "text": [
      "This class     teaches fundamental and scientific Python\n",
      "['This', 'class', 'teaches', 'fundamental', 'and', 'scientific', 'Python']\n"
     ]
    }
   ],
   "source": [
    "# Make a sentence\n",
    "sentence = 'This class     teaches fundamental and scientific Python'\n",
    "print(sentence)\n",
    "\n",
    "# Split with no arguments will split on white space by default\n",
    "words = sentence.split()\n",
    "print(words)"
   ]
  },
  {
   "cell_type": "code",
   "execution_count": 20,
   "metadata": {},
   "outputs": [
    {
     "name": "stdout",
     "output_type": "stream",
     "text": [
      "['This', 'class', 'teaches', 'fundamental', 'Python', 'and', 'scientific', 'Python']\n"
     ]
    }
   ],
   "source": [
    "# What happens if there is leading or trailing whitespace?\n",
    "sentence = '  This class teaches fundamental Python and scientific Python  '\n",
    "words = sentence.split()\n",
    "print(words)"
   ]
  },
  {
   "cell_type": "code",
   "execution_count": 21,
   "metadata": {
    "scrolled": true
   },
   "outputs": [
    {
     "name": "stdout",
     "output_type": "stream",
     "text": [
      "['English', ' French', ' German', ' Japanese', ' Spanish', ' Chinese']\n"
     ]
    }
   ],
   "source": [
    "# We can split with other delimiters like a comma\n",
    "languages='English, French, German, Japanese, Spanish, Chinese'\n",
    "words2 = languages.split(',') # comma delimiter\n",
    "print(words2) # Note that some of these words have spaces with them"
   ]
  },
  {
   "cell_type": "code",
   "execution_count": 22,
   "metadata": {},
   "outputs": [
    {
     "name": "stdout",
     "output_type": "stream",
     "text": [
      "['English,', 'French,', 'German,', 'Japanese,', 'Spanish,', 'Chinese']\n"
     ]
    }
   ],
   "source": [
    "# Compare to default options\n",
    "words3 = languages.split()\n",
    "print(words3) # These words don't have spaces, but have commas"
   ]
  },
  {
   "cell_type": "markdown",
   "metadata": {},
   "source": [
    "### Remove or change characters with .replace()\n",
    "* `mystr.replace(',', '')` will remove a comma"
   ]
  },
  {
   "cell_type": "code",
   "execution_count": 23,
   "metadata": {},
   "outputs": [],
   "source": [
    "# notice the usage of \\ to continue writing on a new line\n",
    "mystring = 'that this nation, under God, shall have a new birth of freedom -\\\n",
    "and that government of the people, by the people, for the people shall not \\\n",
    "perish from the earth.'"
   ]
  },
  {
   "cell_type": "code",
   "execution_count": 24,
   "metadata": {},
   "outputs": [
    {
     "name": "stdout",
     "output_type": "stream",
     "text": [
      "that this nation under God shall have a new birth of freedom and that government of the people by the people for the people shall not perish from the earth\n"
     ]
    }
   ],
   "source": [
    "# Note that because strings are immutable, we can't do this \"in-place\"\n",
    "mystring = mystring.replace(',', '') \n",
    "mystring = mystring.replace('.', '')\n",
    "mystring = mystring.replace('-', '')\n",
    "print(mystring)"
   ]
  },
  {
   "cell_type": "code",
   "execution_count": 25,
   "metadata": {},
   "outputs": [],
   "source": [
    "mystring = 'that this nation, under God, shall have a new birth of freedom -\\\n",
    "and that government of the people, by the people, for the people shall not \\\n",
    "perish from the earth.'"
   ]
  },
  {
   "cell_type": "code",
   "execution_count": 26,
   "metadata": {},
   "outputs": [
    {
     "name": "stdout",
     "output_type": "stream",
     "text": [
      "that this nation, under God, shall have a new birth of freedom -and that government of the people, by the people, for the people shall not perish from the earth.\n"
     ]
    }
   ],
   "source": [
    "# this doesnt do anything to mystring - why?\n",
    "mystring.replace(',', '')\n",
    "print(mystring)"
   ]
  },
  {
   "cell_type": "markdown",
   "metadata": {},
   "source": [
    "#### You can enchain multiple operations like `.replace().replace().split()`\n",
    "\n",
    "The operations are then performed right to left."
   ]
  },
  {
   "cell_type": "code",
   "execution_count": 27,
   "metadata": {},
   "outputs": [
    {
     "name": "stdout",
     "output_type": "stream",
     "text": [
      "['that', 'this', 'nation', 'under', 'God', 'shall', 'have', 'a', 'new', 'birth', 'of', 'freedom', 'and', 'that', 'government', 'of', 'the', 'people', 'by', 'the', 'people', 'for', 'the', 'people', 'shall', 'not', 'perish', 'from', 'the', 'earth']\n"
     ]
    }
   ],
   "source": [
    "mystring = 'that this nation, under God, shall have a new birth of freedom - \\\n",
    "and that government of the people, by the people, for the people shall not \\\n",
    "perish from the earth.'\n",
    "\n",
    "# this will remove all punctuation and split into a list of words at the end\n",
    "wordlist = mystring.replace(',', '').replace('.', '').replace('-', '').split()\n",
    "print(wordlist)"
   ]
  },
  {
   "cell_type": "markdown",
   "metadata": {},
   "source": [
    "### The opposite of `split()` is `join()`"
   ]
  },
  {
   "cell_type": "code",
   "execution_count": 28,
   "metadata": {},
   "outputs": [
    {
     "name": "stdout",
     "output_type": "stream",
     "text": [
      "Hello world\n"
     ]
    }
   ],
   "source": [
    "str3 = \" \".join([\"Hello\", \"world\"]) # puts a space between Hello and world\n",
    "print(str3)"
   ]
  },
  {
   "cell_type": "code",
   "execution_count": 29,
   "metadata": {},
   "outputs": [
    {
     "name": "stdout",
     "output_type": "stream",
     "text": [
      "Hello___world\n"
     ]
    }
   ],
   "source": [
    "str3 = \"___\".join([\"Hello\", \"world\"]) # puts ___ between Hello and world\n",
    "print(str3)"
   ]
  },
  {
   "cell_type": "code",
   "execution_count": 30,
   "metadata": {},
   "outputs": [
    {
     "name": "stdout",
     "output_type": "stream",
     "text": [
      "giraffe, monkey, lion, elephant\n"
     ]
    }
   ],
   "source": [
    "animals = ['giraffe', 'monkey', 'lion', 'elephant']\n",
    "str_animals = ', '.join(animals) # convert the list to a phrase\n",
    "print(str_animals)"
   ]
  },
  {
   "cell_type": "code",
   "execution_count": 31,
   "metadata": {},
   "outputs": [
    {
     "ename": "TypeError",
     "evalue": "sequence item 0: expected str instance, float found",
     "output_type": "error",
     "traceback": [
      "\u001b[0;31m---------------------------------------------------------------------------\u001b[0m",
      "\u001b[0;31mTypeError\u001b[0m                                 Traceback (most recent call last)",
      "Cell \u001b[0;32mIn[31], line 2\u001b[0m\n\u001b[1;32m      1\u001b[0m mylist \u001b[38;5;241m=\u001b[39m [\u001b[38;5;241m3.0\u001b[39m, \u001b[38;5;241m4\u001b[39m, \u001b[38;5;241m5.0\u001b[39m, \u001b[38;5;241m6.3\u001b[39m]\n\u001b[0;32m----> 2\u001b[0m test \u001b[38;5;241m=\u001b[39m \u001b[38;5;124;43m'\u001b[39;49m\u001b[38;5;124;43m, \u001b[39;49m\u001b[38;5;124;43m'\u001b[39;49m\u001b[38;5;241;43m.\u001b[39;49m\u001b[43mjoin\u001b[49m\u001b[43m(\u001b[49m\u001b[43mmylist\u001b[49m\u001b[43m)\u001b[49m \u001b[38;5;66;03m# whoops\u001b[39;00m\n\u001b[1;32m      3\u001b[0m \u001b[38;5;28mprint\u001b[39m(test)\n",
      "\u001b[0;31mTypeError\u001b[0m: sequence item 0: expected str instance, float found"
     ]
    }
   ],
   "source": [
    "mylist = [3.0, 4, 5.0, 6.3]\n",
    "test = ', '.join(mylist) # whoops\n",
    "print(test)"
   ]
  },
  {
   "cell_type": "markdown",
   "metadata": {},
   "source": [
    "### Strings have many built-in functions for things like capitalizing, lowercase, uppercase,  etc.\n",
    "https://docs.python.org/3/library/stdtypes.html#string-methods"
   ]
  },
  {
   "cell_type": "code",
   "execution_count": 32,
   "metadata": {},
   "outputs": [
    {
     "name": "stdout",
     "output_type": "stream",
     "text": [
      "john, rick, mary, sebastian, jaime\n"
     ]
    }
   ],
   "source": [
    "names = 'John, Rick, Mary, Sebastian, Jaime'\n",
    "names = names.lower() # all lowercase\n",
    "print(names)"
   ]
  },
  {
   "cell_type": "code",
   "execution_count": 33,
   "metadata": {},
   "outputs": [
    {
     "name": "stdout",
     "output_type": "stream",
     "text": [
      "JOHN, RICK, MARY, SEBASTIAN, JAIME\n"
     ]
    }
   ],
   "source": [
    "names = names.upper() # all uppercase\n",
    "print(names)"
   ]
  },
  {
   "cell_type": "code",
   "execution_count": 34,
   "metadata": {},
   "outputs": [
    {
     "name": "stdout",
     "output_type": "stream",
     "text": [
      "John, rick, mary, sebastian, jaime\n"
     ]
    }
   ],
   "source": [
    "names = names.capitalize() # first letter caps, only\n",
    "print(names)"
   ]
  },
  {
   "cell_type": "code",
   "execution_count": 35,
   "metadata": {},
   "outputs": [
    {
     "name": "stdout",
     "output_type": "stream",
     "text": [
      "['fourscore', 'and', 'seven', 'years', 'ago', 'our', 'fathers', 'brought', 'forth', 'on', 'this', 'continent', 'a', 'new', 'nation', 'conceived', 'in', 'liberty', 'and', 'dedicated', 'to', 'the', 'proposition', 'that', 'all', 'men', 'are', 'created', 'equal', 'now', 'we', 'are', 'engaged', 'in', 'a', 'great', 'civil', 'war', 'testing', 'whether', 'that', 'nation', 'or', 'any', 'nation', 'so', 'conceived', 'and', 'so', 'dedicated', 'can', 'long', 'endure', 'we', 'are', 'met', 'on', 'a', 'great', 'battlefield', 'of', 'that', 'war', 'we', 'have', 'come', 'to', 'dedicate', 'a', 'portion', 'of', 'that', 'field', 'as', 'a', 'final', 'resting', 'place', 'for', 'those', 'who', 'here', 'gave', 'their', 'lives', 'that', 'that', 'nation', 'might', 'live', 'it', 'is', 'altogether', 'fitting', 'and', 'proper', 'that', 'we', 'should', 'do', 'this', 'but', 'in', 'a', 'larger', 'sense', 'we', 'can', 'not', 'dedicate', 'we', 'can', 'not', 'consecrate', 'we', 'can', 'not', 'hallow', 'this', 'ground', 'the', 'brave', 'men', 'living', 'and', 'dead', 'who', 'struggled', 'here', 'have', 'consecrated', 'it', 'far', 'above', 'our', 'poor', 'power', 'to', 'add', 'or', 'detract', 'the', 'world', 'will', 'little', 'note', 'nor', 'long', 'remember', 'what', 'we', 'say', 'here', 'but', 'it', 'can', 'never', 'forget', 'what', 'they', 'did', 'here', 'it', 'is', 'for', 'us', 'the', 'living', 'rather', 'to', 'be', 'dedicated', 'here', 'to', 'the', 'unfinished', 'work', 'which', 'they', 'who', 'fought', 'here', 'have', 'thus', 'far', 'so', 'nobly', 'advanced', 'it', 'is', 'rather', 'for', 'us', 'to', 'be', 'here', 'dedicated', 'to', 'the', 'great', 'task', 'remaining', 'before', 'us', 'that', 'from', 'these', 'honored', 'dead', 'we', 'take', 'increased', 'devotion', 'to', 'that', 'cause', 'for', 'which', 'they', 'gave', 'the', 'last', 'full', 'measure', 'of', 'devotion', 'that', 'we', 'here', 'highly', 'resolve', 'that', 'these', 'dead', 'shall', 'not', 'have', 'died', 'in', 'vain', 'that', 'this', 'nation', 'under', 'god', 'shall', 'have', 'a', 'new', 'birth', 'of', 'freedom', 'and', 'that', 'government', 'of', 'the', 'people', 'by', 'the', 'people', 'for', 'the', 'people', 'shall', 'not', 'perish', 'from', 'the', 'earth']\n"
     ]
    }
   ],
   "source": [
    "### A large block of text to process... \n",
    "mystring = 'Fourscore and seven years ago our fathers brought forth on this continent, a new nation, \\\n",
    "conceived in Liberty, and dedicated to the proposition that all men are created equal. Now we are \\\n",
    "engaged in a great civil war, testing whether that nation, or any nation so conceived and so dedicated, \\\n",
    "can long endure. We are met on a great battle-field of that war. We have come to dedicate a portion of \\\n",
    "that field, as a final resting place for those who here gave their lives that that nation might live. \\\n",
    "It is altogether fitting and proper that we should do this. But, in a larger sense, we can not dedicate - \\\n",
    "we can not consecrate - we can not hallow - this ground. The brave men, living and dead, who struggled here, \\\n",
    "have consecrated it, far above our poor power to add or detract. The world will little note, nor long \\\n",
    "remember what we say here, but it can never forget what they did here. It is for us the living, rather, \\\n",
    "to be dedicated here to the unfinished work which they who fought here have thus far so nobly advanced. \\\n",
    "It is rather for us to be here dedicated to the great task remaining before us - that from these honored \\\n",
    "dead we take increased devotion to that cause for which they gave the last full measure of devotion - that \\\n",
    "we here highly resolve that these dead shall not have died in vain - that this nation, under God, shall \\\n",
    "have a new birth of freedom - and that government of the people, by the people, for the people shall not \\\n",
    "perish from the earth.'\n",
    "\n",
    "# We did this last time, now hopefully it makes sense!\n",
    "# remove punctuation, convert to lowercase, split into words\n",
    "wordlist = mystring.replace(',', '').replace('.','').replace('-', '').lower().split()\n",
    "print(wordlist)"
   ]
  },
  {
   "cell_type": "markdown",
   "metadata": {},
   "source": [
    "### Convert numbers to strings using `str()`"
   ]
  },
  {
   "cell_type": "code",
   "execution_count": 36,
   "metadata": {},
   "outputs": [
    {
     "name": "stdout",
     "output_type": "stream",
     "text": [
      "123 has type: <class 'int'>\n",
      "123 has type: <class 'str'>\n"
     ]
    }
   ],
   "source": [
    "k = 123 # an int\n",
    "print(k,\"has type:\", type(k))\n",
    "kstr = str(k) # now a string\n",
    "print(kstr,\"has type:\", type(kstr))"
   ]
  },
  {
   "cell_type": "markdown",
   "metadata": {},
   "source": [
    "### Locate substrings with `find()`\n",
    "This locates the index in a larger string where a *substring* starts. (Substrings are just a small pieces of a larger string, one or more characters). `find()` only finds the first occurrence!"
   ]
  },
  {
   "cell_type": "code",
   "execution_count": 37,
   "metadata": {},
   "outputs": [
    {
     "name": "stdout",
     "output_type": "stream",
     "text": [
      "giraffe, monkey, lion, elephant\n",
      "0123456789012345678901234567890\n"
     ]
    }
   ],
   "source": [
    "print(str_animals) # we defined this above\n",
    "print(\"0123456789012345678901234567890\") # indices for reference"
   ]
  },
  {
   "cell_type": "code",
   "execution_count": 38,
   "metadata": {},
   "outputs": [
    {
     "name": "stdout",
     "output_type": "stream",
     "text": [
      "9\n"
     ]
    }
   ],
   "source": [
    "print(str_animals.find('monkey')) # starts at index 9"
   ]
  },
  {
   "cell_type": "code",
   "execution_count": 39,
   "metadata": {},
   "outputs": [
    {
     "name": "stdout",
     "output_type": "stream",
     "text": [
      "0\n"
     ]
    }
   ],
   "source": [
    "print(str_animals.find('giraffe')) # starts at index 0"
   ]
  },
  {
   "cell_type": "code",
   "execution_count": 40,
   "metadata": {},
   "outputs": [
    {
     "name": "stdout",
     "output_type": "stream",
     "text": [
      "-1\n"
     ]
    }
   ],
   "source": [
    "print(str_animals.find('longhorn')) # not in our list"
   ]
  },
  {
   "cell_type": "code",
   "execution_count": 41,
   "metadata": {},
   "outputs": [
    {
     "name": "stdout",
     "output_type": "stream",
     "text": [
      "giraffe, monkey, lion, elephant\n",
      "3\n",
      "28\n"
     ]
    }
   ],
   "source": [
    "print(str_animals) # defined above\n",
    "print(str_animals.find('a')) # searches from left to right\n",
    "print(str_animals.rfind('a')) # search from right to left"
   ]
  },
  {
   "cell_type": "markdown",
   "metadata": {},
   "source": [
    "### Count substrings with `count()`"
   ]
  },
  {
   "cell_type": "code",
   "execution_count": 42,
   "metadata": {},
   "outputs": [
    {
     "name": "stdout",
     "output_type": "stream",
     "text": [
      "2\n"
     ]
    }
   ],
   "source": [
    "print(str_animals.count('a')) # appears twice"
   ]
  },
  {
   "cell_type": "code",
   "execution_count": 43,
   "metadata": {},
   "outputs": [
    {
     "name": "stdout",
     "output_type": "stream",
     "text": [
      "1\n"
     ]
    }
   ],
   "source": [
    "print(str_animals.count('g')) # appears once"
   ]
  },
  {
   "cell_type": "code",
   "execution_count": 44,
   "metadata": {},
   "outputs": [
    {
     "name": "stdout",
     "output_type": "stream",
     "text": [
      "0\n"
     ]
    }
   ],
   "source": [
    "print(str_animals.count('z')) # appears not at all"
   ]
  },
  {
   "cell_type": "markdown",
   "metadata": {},
   "source": [
    "### The `string` module has lots of interesting string constants"
   ]
  },
  {
   "cell_type": "code",
   "execution_count": 45,
   "metadata": {},
   "outputs": [],
   "source": [
    "import string # need to import to use"
   ]
  },
  {
   "cell_type": "code",
   "execution_count": 46,
   "metadata": {},
   "outputs": [
    {
     "name": "stdout",
     "output_type": "stream",
     "text": [
      "abcdefghijklmnopqrstuvwxyz\n"
     ]
    }
   ],
   "source": [
    "# lowercase letters\n",
    "print(string.ascii_lowercase)"
   ]
  },
  {
   "cell_type": "code",
   "execution_count": 47,
   "metadata": {},
   "outputs": [
    {
     "name": "stdout",
     "output_type": "stream",
     "text": [
      "ABCDEFGHIJKLMNOPQRSTUVWXYZ\n"
     ]
    }
   ],
   "source": [
    "# uppercase letters\n",
    "print(string.ascii_uppercase)"
   ]
  },
  {
   "cell_type": "code",
   "execution_count": 48,
   "metadata": {},
   "outputs": [
    {
     "name": "stdout",
     "output_type": "stream",
     "text": [
      "0123456789\n"
     ]
    }
   ],
   "source": [
    "# digits 0-9\n",
    "print(string.digits)"
   ]
  },
  {
   "cell_type": "code",
   "execution_count": 49,
   "metadata": {},
   "outputs": [
    {
     "name": "stdout",
     "output_type": "stream",
     "text": [
      "!\"#$%&'()*+,-./:;<=>?@[\\]^_`{|}~\n"
     ]
    }
   ],
   "source": [
    "# punctuation characters\n",
    "print(string.punctuation)"
   ]
  },
  {
   "cell_type": "markdown",
   "metadata": {},
   "source": [
    "### Example: remove punctuation"
   ]
  },
  {
   "cell_type": "code",
   "execution_count": 50,
   "metadata": {},
   "outputs": [
    {
     "name": "stdout",
     "output_type": "stream",
     "text": [
      "Smash! What happened?\n",
      "Smash What happened\n"
     ]
    }
   ],
   "source": [
    "# replace all punctuation as follows\n",
    "mytext = 'Smash! What happened?'\n",
    "print(mytext)\n",
    "for val in string.punctuation:\n",
    "    mytext = mytext.replace(val, '')\n",
    "print(mytext)"
   ]
  },
  {
   "cell_type": "markdown",
   "metadata": {},
   "source": [
    "### String formatting: An Introduction\n",
    "Using `format()` can be very useful, but takes some getting used to. We'll return to this later, but for those that are interested in diving in now, check this out: https://docs.python.org/3/library/string.html#format-string-syntax"
   ]
  },
  {
   "cell_type": "markdown",
   "metadata": {},
   "source": [
    "Python supports two different types of formatting, one using the character `%` and one using the characters `{:}`. The first one is similar to formatting in other languages and is somewhat simpler. The second option is more flexible and recommended once you get the hang of it.\n",
    "\n",
    "In the example below, notice how we use different letters after `%` to print in different ways."
   ]
  },
  {
   "cell_type": "code",
   "execution_count": 51,
   "metadata": {},
   "outputs": [
    {
     "name": "stdout",
     "output_type": "stream",
     "text": [
      "a=3.0 b=30 c=3.0e+05 d='three hundred'\n"
     ]
    }
   ],
   "source": [
    "# \"old-school formating\" with % is a bit less flexible than the new school approach\n",
    "a = 3.0\n",
    "b = 30\n",
    "c = 300000\n",
    "d = \"three hundred\"\n",
    "print(\"a=%.1f b=%d c=%.1e d='%s'\" %(a, b, c, d))"
   ]
  },
  {
   "cell_type": "markdown",
   "metadata": {},
   "source": [
    "The block of code below does the same thing but with the new-school formatting strings `{:}`."
   ]
  },
  {
   "cell_type": "code",
   "execution_count": 52,
   "metadata": {},
   "outputs": [
    {
     "name": "stdout",
     "output_type": "stream",
     "text": [
      "a=3.0 b=30 c=3.0e+05 d='three hundred'\n"
     ]
    }
   ],
   "source": [
    "# new school formatting, with the .format()\n",
    "a = 3.0\n",
    "b = 30\n",
    "c = 300000\n",
    "d = \"three hundred\"\n",
    "print(\"a={:.1f} b={:d} c={:.1e} d='{:s}'\".format(a, b, c, d))"
   ]
  },
  {
   "cell_type": "markdown",
   "metadata": {},
   "source": [
    "We can get pretty fancy with padding strings in different ways..."
   ]
  },
  {
   "cell_type": "code",
   "execution_count": 53,
   "metadata": {},
   "outputs": [
    {
     "name": "stdout",
     "output_type": "stream",
     "text": [
      "a=  3.0000 b=30 c=3.0000e+05 d='  three hundred'\n"
     ]
    }
   ],
   "source": [
    "# :> pads on left\n",
    "a = 3.0\n",
    "b = 30\n",
    "c = 300000\n",
    "d = \"three hundred\"\n",
    "print(\"a={:>8.4f} b={:d} c={:.4e} d='{:>15s}'\".format(a, b, c, d)) "
   ]
  },
  {
   "cell_type": "code",
   "execution_count": 54,
   "metadata": {},
   "outputs": [
    {
     "name": "stdout",
     "output_type": "stream",
     "text": [
      "a=3.0000   b=30 c=3.0000e+05 d='three hundred  '\n"
     ]
    }
   ],
   "source": [
    "# :< pads on right\n",
    "a = 3.0\n",
    "b = 30\n",
    "c = 300000\n",
    "d = \"three hundred\"\n",
    "print(\"a={:<8.4f} b={:d} c={:.4e} d='{:<15s}'\".format(a, b, c, d)) "
   ]
  },
  {
   "cell_type": "markdown",
   "metadata": {},
   "source": [
    "There is a lot more that can be done, see https://docs.python.org/3/library/string.html#format-string-syntax to get started."
   ]
  },
  {
   "cell_type": "markdown",
   "metadata": {},
   "source": [
    "# Summary\n",
    "* Strings store textual data\n",
    "* Strings are lists of characters and be indexed or sliced\n",
    "* Strings are immutable: they cannot be modified \"in-place\" but can be updated as a new variable\n",
    "* There are many built-in and handy functions: `split()`, `replace()`, `join()`, etc.\n",
    "* String formatting can be used to control printing of numeric data\n",
    "* Knowing these tricks will be useful when parsing trick text files of data"
   ]
  }
 ],
 "metadata": {
  "kernelspec": {
   "display_name": "Python 3 (ipykernel)",
   "language": "python",
   "name": "python3"
  },
  "language_info": {
   "codemirror_mode": {
    "name": "ipython",
    "version": 3
   },
   "file_extension": ".py",
   "mimetype": "text/x-python",
   "name": "python",
   "nbconvert_exporter": "python",
   "pygments_lexer": "ipython3",
   "version": "3.10.13"
  }
 },
 "nbformat": 4,
 "nbformat_minor": 4
}
