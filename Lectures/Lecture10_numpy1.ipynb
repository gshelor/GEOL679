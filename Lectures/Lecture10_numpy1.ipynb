{
 "cells": [
  {
   "cell_type": "markdown",
   "metadata": {},
   "source": [
    "# NumPy - Numerical Python http://www.numpy.org/"
   ]
  },
  {
   "cell_type": "markdown",
   "metadata": {},
   "source": [
    "## `numpy` is designed for efficient analysis of large arrays of data. \n",
    "\n",
    "Arrays are in some ways analogous to lists but store homogenous datasets in a contiguous block of memory, allowing `numpy` to perform complex computations much more efficiently. Many of the functions are pre-compiled for added speed."
   ]
  },
  {
   "cell_type": "code",
   "execution_count": 1,
   "metadata": {},
   "outputs": [],
   "source": [
    "import numpy as np # the standard import\n",
    "import matplotlib.pyplot as plt # to plot stuff\n",
    "import time # useful for timing"
   ]
  },
  {
   "cell_type": "markdown",
   "metadata": {},
   "source": [
    "### Speed test: `numpy` vs `list`"
   ]
  },
  {
   "cell_type": "code",
   "execution_count": 2,
   "metadata": {},
   "outputs": [],
   "source": [
    "# Create an array and list of 1 million integers\n",
    "my_arr = np.arange(1e6)\n",
    "my_list=list( range( int(1e6) ) )"
   ]
  },
  {
   "cell_type": "code",
   "execution_count": 3,
   "metadata": {},
   "outputs": [
    {
     "name": "stdout",
     "output_type": "stream",
     "text": [
      "Numpy Array Time =  0.00240 seconds\n"
     ]
    }
   ],
   "source": [
    "# Measure time to square all values in an array\n",
    "\n",
    "start_time = time.time()\n",
    "my_arr2 = my_arr ** 2\n",
    "total_time = time.time() - start_time\n",
    "print(\"Numpy Array Time = {:8.5f} seconds\".format(total_time))"
   ]
  },
  {
   "cell_type": "code",
   "execution_count": 4,
   "metadata": {},
   "outputs": [
    {
     "name": "stdout",
     "output_type": "stream",
     "text": [
      "List Time =  0.36860 seconds\n"
     ]
    }
   ],
   "source": [
    "# Measure time to square all values in a list\n",
    "start_time2 = time.time()\n",
    "my_list2 = []\n",
    "for val in my_list:\n",
    "    my_list2.append(val**2)\n",
    "total_time2 = time.time() - start_time2\n",
    "print(\"List Time = {:8.5f} seconds\".format(total_time2))"
   ]
  },
  {
   "cell_type": "code",
   "execution_count": 5,
   "metadata": {},
   "outputs": [
    {
     "name": "stdout",
     "output_type": "stream",
     "text": [
      "Numpy is 153.8x faster than a list with a for loop\n"
     ]
    }
   ],
   "source": [
    "# Compare the times\n",
    "scale = total_time2 / total_time\n",
    "print(\"Numpy is {:5.1f}x faster than a list with a for loop\".format(scale))"
   ]
  },
  {
   "cell_type": "markdown",
   "metadata": {},
   "source": [
    "## `ndarray` - `numpy` array objects for homogeneous data types (can be N-dimensional)"
   ]
  },
  {
   "cell_type": "markdown",
   "metadata": {},
   "source": [
    "### Creating `arrays`: from a `list` of values"
   ]
  },
  {
   "cell_type": "code",
   "execution_count": 6,
   "metadata": {},
   "outputs": [],
   "source": [
    "arr1 = np.array([2, 6, 8, 5]) # array 1\n",
    "arr2 = np.array([2.0, 6.0, 8.0, 5.0]) # array 2"
   ]
  },
  {
   "cell_type": "code",
   "execution_count": 7,
   "metadata": {},
   "outputs": [
    {
     "name": "stdout",
     "output_type": "stream",
     "text": [
      "int64 float64\n"
     ]
    }
   ],
   "source": [
    "# xxx.dtype will provide the data type numpy used to store the array\n",
    "print(arr1.dtype,arr2.dtype)"
   ]
  },
  {
   "cell_type": "markdown",
   "metadata": {},
   "source": [
    "### Create an array of `zeros()` or `ones()`\n",
    "\n",
    "Often, these are used as placeholders before filling them with actual data."
   ]
  },
  {
   "cell_type": "code",
   "execution_count": 8,
   "metadata": {},
   "outputs": [
    {
     "name": "stdout",
     "output_type": "stream",
     "text": [
      "[0. 0. 0. 0. 0.] float64\n"
     ]
    }
   ],
   "source": [
    "# zeros\n",
    "arr_0 = np.zeros(5)\n",
    "print(arr_0, arr_0.dtype)"
   ]
  },
  {
   "cell_type": "code",
   "execution_count": 9,
   "metadata": {},
   "outputs": [
    {
     "name": "stdout",
     "output_type": "stream",
     "text": [
      "[1. 1. 1. 1. 1. 1.] float64\n"
     ]
    }
   ],
   "source": [
    "# ones\n",
    "arr_1 = np.ones(6)\n",
    "print(arr_1, arr_1.dtype)"
   ]
  },
  {
   "cell_type": "code",
   "execution_count": 10,
   "metadata": {},
   "outputs": [
    {
     "name": "stdout",
     "output_type": "stream",
     "text": [
      "[1 1 1 1 1 1] int64\n"
     ]
    }
   ],
   "source": [
    "# specified data type\n",
    "arr_1b = np.ones(6, dtype='int')\n",
    "print(arr_1b, arr_1b.dtype)"
   ]
  },
  {
   "cell_type": "markdown",
   "metadata": {},
   "source": [
    "### Create a sequence of numbers using `np.arange()`. This has the same format as `range()` but can have non-integer values."
   ]
  },
  {
   "cell_type": "code",
   "execution_count": 11,
   "metadata": {},
   "outputs": [
    {
     "name": "stdout",
     "output_type": "stream",
     "text": [
      "[0 1 2 3 4] int64\n"
     ]
    }
   ],
   "source": [
    "# arange example\n",
    "arr1 = np.arange(5) # start at 5\n",
    "print(arr1, arr1.dtype)"
   ]
  },
  {
   "cell_type": "code",
   "execution_count": 12,
   "metadata": {},
   "outputs": [
    {
     "name": "stdout",
     "output_type": "stream",
     "text": [
      "[5 6 7] int64\n"
     ]
    }
   ],
   "source": [
    "# arange example\n",
    "arr2 = np.arange(5, 8) # 5 up to 8\n",
    "print(arr2, arr2.dtype)"
   ]
  },
  {
   "cell_type": "code",
   "execution_count": 13,
   "metadata": {},
   "outputs": [
    {
     "name": "stdout",
     "output_type": "stream",
     "text": [
      "[0 2 4 6 8] int64\n"
     ]
    }
   ],
   "source": [
    "# arange example\n",
    "arr3 = np.arange(0, 10, 2) # step by 2\n",
    "print(arr3, arr3.dtype)"
   ]
  },
  {
   "cell_type": "code",
   "execution_count": 14,
   "metadata": {},
   "outputs": [
    {
     "name": "stdout",
     "output_type": "stream",
     "text": [
      "[0.  0.1 0.2 0.3 0.4 0.5 0.6 0.7 0.8 0.9] float64\n"
     ]
    }
   ],
   "source": [
    "# can use floats\n",
    "arr4 = np.arange(0.0, 1.0, 0.1) # start, stop, step\n",
    "print(arr4, arr4.dtype) # note: missing 1.0!"
   ]
  },
  {
   "cell_type": "code",
   "execution_count": 15,
   "metadata": {},
   "outputs": [
    {
     "name": "stdout",
     "output_type": "stream",
     "text": [
      "[0.  0.1 0.2 0.3 0.4 0.5 0.6 0.7 0.8 0.9 1. ] float64\n"
     ]
    }
   ],
   "source": [
    "# padding if we need to include the endpoint...\n",
    "arr4 = np.arange(0.0, 1.001, 0.1) \n",
    "print(arr4, arr4.dtype) # now we have it..."
   ]
  },
  {
   "cell_type": "markdown",
   "metadata": {},
   "source": [
    "### A related function called `linspace()` creates a sequential `array` using start value, end value, and number of elements (instead of a step). This will include the endpoint."
   ]
  },
  {
   "cell_type": "code",
   "execution_count": 16,
   "metadata": {},
   "outputs": [
    {
     "name": "stdout",
     "output_type": "stream",
     "text": [
      "[0.  0.1 0.2 0.3 0.4 0.5 0.6 0.7 0.8 0.9 1. ] float64\n"
     ]
    }
   ],
   "source": [
    "# linspace\n",
    "x = np.linspace(0.0, 1.0, 11) # 11 values between 0 and 1\n",
    "print(x,x.dtype)"
   ]
  },
  {
   "cell_type": "markdown",
   "metadata": {},
   "source": [
    "### Create higher dimensional arrays"
   ]
  },
  {
   "cell_type": "code",
   "execution_count": 17,
   "metadata": {},
   "outputs": [
    {
     "name": "stdout",
     "output_type": "stream",
     "text": [
      "[[0. 0.]\n",
      " [0. 0.]\n",
      " [0. 0.]\n",
      " [0. 0.]\n",
      " [0. 0.]]\n"
     ]
    }
   ],
   "source": [
    "# a 2D array, like a matrix\n",
    "arr_0a = np.zeros((5, 2)) #(nrow,ncol)=(5,2)\n",
    "print(arr_0a)"
   ]
  },
  {
   "cell_type": "code",
   "execution_count": 18,
   "metadata": {},
   "outputs": [
    {
     "name": "stdout",
     "output_type": "stream",
     "text": [
      "[[0. 0. 0. 0. 0.]\n",
      " [0. 0. 0. 0. 0.]]\n"
     ]
    }
   ],
   "source": [
    "# different shape\n",
    "arr_0b = np.zeros((2, 5)) #(nrow,ncol)=(2,5)\n",
    "print(arr_0b)"
   ]
  },
  {
   "cell_type": "markdown",
   "metadata": {},
   "source": [
    "### Array `shape`, `size`, and `ndim`"
   ]
  },
  {
   "cell_type": "code",
   "execution_count": 19,
   "metadata": {},
   "outputs": [
    {
     "name": "stdout",
     "output_type": "stream",
     "text": [
      "[[1 3 3]\n",
      " [2 6 3]]\n"
     ]
    }
   ],
   "source": [
    "# example array\n",
    "arr6 = np.array([[1, 3, 3],[2, 6, 3]])\n",
    "print(arr6)"
   ]
  },
  {
   "cell_type": "code",
   "execution_count": 20,
   "metadata": {},
   "outputs": [
    {
     "data": {
      "text/plain": [
       "(2, 3)"
      ]
     },
     "execution_count": 20,
     "metadata": {},
     "output_type": "execute_result"
    }
   ],
   "source": [
    "# shape gives rows and cols\n",
    "arr6.shape"
   ]
  },
  {
   "cell_type": "code",
   "execution_count": 21,
   "metadata": {},
   "outputs": [
    {
     "data": {
      "text/plain": [
       "6"
      ]
     },
     "execution_count": 21,
     "metadata": {},
     "output_type": "execute_result"
    }
   ],
   "source": [
    "# size gives total number of data points\n",
    "arr6.size"
   ]
  },
  {
   "cell_type": "code",
   "execution_count": 22,
   "metadata": {},
   "outputs": [
    {
     "data": {
      "text/plain": [
       "2"
      ]
     },
     "execution_count": 22,
     "metadata": {},
     "output_type": "execute_result"
    }
   ],
   "source": [
    "# we have a 2D array\n",
    "arr6.ndim"
   ]
  },
  {
   "cell_type": "markdown",
   "metadata": {},
   "source": [
    "### Array manipulation with single arrays\n",
    "* `arr.reshape((nrows,ncols))` - reshape the array `arr` to have `nrows` rows and `ncols` columns\n",
    "* `arr.transpose` or `arr.T` - transpose the array `arr`\n",
    "* `np.ravel(array)` - flatten the array (change from 2-d to 1-d)"
   ]
  },
  {
   "cell_type": "markdown",
   "metadata": {},
   "source": [
    "#### `reshape()`"
   ]
  },
  {
   "cell_type": "code",
   "execution_count": 23,
   "metadata": {},
   "outputs": [
    {
     "name": "stdout",
     "output_type": "stream",
     "text": [
      "[0 1 2 3 4 5 6 7 8 9]\n"
     ]
    }
   ],
   "source": [
    "# a 1D array\n",
    "arr = np.arange(10)\n",
    "print(arr)"
   ]
  },
  {
   "cell_type": "code",
   "execution_count": 24,
   "metadata": {},
   "outputs": [
    {
     "name": "stdout",
     "output_type": "stream",
     "text": [
      "[[0 1]\n",
      " [2 3]\n",
      " [4 5]\n",
      " [6 7]\n",
      " [8 9]]\n"
     ]
    }
   ],
   "source": [
    "# 2D after reshaping\n",
    "arr2 = arr.reshape(5, 2)\n",
    "print(arr2)"
   ]
  },
  {
   "cell_type": "code",
   "execution_count": 25,
   "metadata": {},
   "outputs": [
    {
     "name": "stdout",
     "output_type": "stream",
     "text": [
      "[[0 1]\n",
      " [2 3]\n",
      " [4 5]\n",
      " [6 7]\n",
      " [8 9]]\n"
     ]
    }
   ],
   "source": [
    "# You can enchain multiple operations\n",
    "arr1 = np.arange(10).reshape(5, 2)\n",
    "print(arr1)"
   ]
  },
  {
   "cell_type": "markdown",
   "metadata": {},
   "source": [
    "#### `transpose()`"
   ]
  },
  {
   "cell_type": "code",
   "execution_count": 26,
   "metadata": {},
   "outputs": [
    {
     "name": "stdout",
     "output_type": "stream",
     "text": [
      "[[0 1]\n",
      " [2 3]\n",
      " [4 5]\n",
      " [6 7]\n",
      " [8 9]]\n"
     ]
    }
   ],
   "source": [
    "# our starting array\n",
    "print(arr2)"
   ]
  },
  {
   "cell_type": "code",
   "execution_count": 27,
   "metadata": {},
   "outputs": [
    {
     "name": "stdout",
     "output_type": "stream",
     "text": [
      "[[0 2 4 6 8]\n",
      " [1 3 5 7 9]]\n"
     ]
    }
   ],
   "source": [
    "# transposed\n",
    "arr3 = arr2.transpose()\n",
    "print(arr3)"
   ]
  },
  {
   "cell_type": "code",
   "execution_count": 28,
   "metadata": {},
   "outputs": [
    {
     "name": "stdout",
     "output_type": "stream",
     "text": [
      "[[0 2 4 6 8]\n",
      " [1 3 5 7 9]]\n"
     ]
    }
   ],
   "source": [
    "# shortcut\n",
    "arr3 = arr2.T\n",
    "print(arr3)"
   ]
  },
  {
   "cell_type": "markdown",
   "metadata": {},
   "source": [
    "#### `ravel()`"
   ]
  },
  {
   "cell_type": "code",
   "execution_count": 29,
   "metadata": {},
   "outputs": [
    {
     "name": "stdout",
     "output_type": "stream",
     "text": [
      "arr1 =\n",
      " [[0 1]\n",
      " [2 3]\n",
      " [4 5]\n",
      " [6 7]\n",
      " [8 9]]\n",
      "shape: (5, 2)\n"
     ]
    }
   ],
   "source": [
    "# 2D array\n",
    "arr1 = np.arange(10).reshape(5, 2)\n",
    "print('arr1 =\\n', arr1)\n",
    "print(\"shape:\", arr1.shape) # a 2D array"
   ]
  },
  {
   "cell_type": "code",
   "execution_count": 30,
   "metadata": {},
   "outputs": [
    {
     "name": "stdout",
     "output_type": "stream",
     "text": [
      "arr2 =\n",
      " [0 1 2 3 4 5 6 7 8 9]\n",
      "shape: (10,)\n"
     ]
    }
   ],
   "source": [
    "# flattening with ravel\n",
    "arr2 = np.ravel(arr1)\n",
    "print('arr2 =\\n', arr2)\n",
    "print(\"shape:\", arr2.shape) # flattened to 1D"
   ]
  },
  {
   "cell_type": "markdown",
   "metadata": {},
   "source": [
    "#### `reshape` is not quite the same as `ravel`..."
   ]
  },
  {
   "cell_type": "code",
   "execution_count": 31,
   "metadata": {},
   "outputs": [
    {
     "name": "stdout",
     "output_type": "stream",
     "text": [
      "[[0 1 2 3 4 5 6 7 8 9]]\n",
      "(1, 10)\n"
     ]
    }
   ],
   "source": [
    "# reshaped\n",
    "arr2 = arr1.reshape(1, 10)  \n",
    "print(arr2)\n",
    "print(arr2.shape) # still a 2D array"
   ]
  },
  {
   "cell_type": "code",
   "execution_count": 32,
   "metadata": {},
   "outputs": [
    {
     "name": "stdout",
     "output_type": "stream",
     "text": [
      "[[0]\n",
      " [1]\n",
      " [2]\n",
      " [3]\n",
      " [4]\n",
      " [5]\n",
      " [6]\n",
      " [7]\n",
      " [8]\n",
      " [9]]\n",
      "(10, 1)\n"
     ]
    }
   ],
   "source": [
    "# reshaped\n",
    "arr2 = arr1.reshape(10, 1)  \n",
    "print(arr2)\n",
    "print(arr2.shape) # still a 2D array"
   ]
  },
  {
   "cell_type": "code",
   "execution_count": 33,
   "metadata": {},
   "outputs": [
    {
     "name": "stdout",
     "output_type": "stream",
     "text": [
      "[0 1 2 3 4 5 6 7 8 9]\n",
      "(10,)\n"
     ]
    }
   ],
   "source": [
    "# 1D reshape is possible but less simple than ravel\n",
    "arr2 = arr1.reshape(10,)  \n",
    "print(arr2)\n",
    "print(arr2.shape) # now a 1D array, just like ravel"
   ]
  },
  {
   "cell_type": "markdown",
   "metadata": {},
   "source": [
    "### Array manipulation with multiple arrays\n",
    "* `np.concatenate((array1,array2))` - join a sequence of arrays \n",
    "* `np.stack((array1,array2),axis=...)` - stack the arrays on the given axis; `axis=0` for columns, `axis=1` for rows\n",
    "* `np.fliplr(array)` - flip the array horizontally\n",
    "* `np.flipud(array)` - flip the array vertically"
   ]
  },
  {
   "cell_type": "markdown",
   "metadata": {},
   "source": [
    "#### `concatenate()`"
   ]
  },
  {
   "cell_type": "code",
   "execution_count": 34,
   "metadata": {},
   "outputs": [
    {
     "name": "stdout",
     "output_type": "stream",
     "text": [
      "[0 1 2 3 4 5 6 7 8 9] [10 11 12 13 14 15 16 17 18 19]\n"
     ]
    }
   ],
   "source": [
    "# two examples\n",
    "arr1 = np.arange(10)\n",
    "arr2 = np.arange(10, 20)\n",
    "print(arr1,arr2)"
   ]
  },
  {
   "cell_type": "code",
   "execution_count": 35,
   "metadata": {},
   "outputs": [
    {
     "name": "stdout",
     "output_type": "stream",
     "text": [
      "[ 0  1  2  3  4  5  6  7  8  9 10 11 12 13 14 15 16 17 18 19]\n"
     ]
    }
   ],
   "source": [
    "# concatenated, still 1D\n",
    "arr3 = np.concatenate((arr1, arr2)) # need to input the arrays as a tuple\n",
    "print(arr3)"
   ]
  },
  {
   "cell_type": "markdown",
   "metadata": {},
   "source": [
    "#### `stack()`"
   ]
  },
  {
   "cell_type": "code",
   "execution_count": 36,
   "metadata": {},
   "outputs": [
    {
     "name": "stdout",
     "output_type": "stream",
     "text": [
      "[0 1 2 3]\n",
      "[5 6 7 8]\n"
     ]
    }
   ],
   "source": [
    "# two examples\n",
    "a = np.arange(4);\n",
    "b = np.arange(5, 9)\n",
    "print(a)\n",
    "print(b)"
   ]
  },
  {
   "cell_type": "code",
   "execution_count": 37,
   "metadata": {},
   "outputs": [
    {
     "name": "stdout",
     "output_type": "stream",
     "text": [
      "[[0 1 2 3]\n",
      " [5 6 7 8]]\n"
     ]
    }
   ],
   "source": [
    "# stacking\n",
    "c = np.stack((a, b), axis=0) # axis=0 --> a stack with two rows\n",
    "print(c)"
   ]
  },
  {
   "cell_type": "code",
   "execution_count": 38,
   "metadata": {},
   "outputs": [
    {
     "name": "stdout",
     "output_type": "stream",
     "text": [
      "[[0 5]\n",
      " [1 6]\n",
      " [2 7]\n",
      " [3 8]]\n"
     ]
    }
   ],
   "source": [
    "# stacking\n",
    "d = np.stack((a, b), axis=1) # axis=1 --> a stack with two columns\n",
    "print(d)"
   ]
  },
  {
   "cell_type": "markdown",
   "metadata": {},
   "source": [
    "#### `fliplr()` and `flipud()`"
   ]
  },
  {
   "cell_type": "code",
   "execution_count": 39,
   "metadata": {},
   "outputs": [
    {
     "name": "stdout",
     "output_type": "stream",
     "text": [
      "[[0 1]\n",
      " [2 3]\n",
      " [4 5]\n",
      " [6 7]\n",
      " [8 9]]\n"
     ]
    }
   ],
   "source": [
    "# example array\n",
    "arr1 = np.arange(10).reshape(5, 2)\n",
    "print(arr1)"
   ]
  },
  {
   "cell_type": "code",
   "execution_count": 40,
   "metadata": {},
   "outputs": [
    {
     "name": "stdout",
     "output_type": "stream",
     "text": [
      "[[1 0]\n",
      " [3 2]\n",
      " [5 4]\n",
      " [7 6]\n",
      " [9 8]]\n"
     ]
    }
   ],
   "source": [
    "# fliplr\n",
    "arr2 = np.fliplr(arr1)\n",
    "print(arr2)"
   ]
  },
  {
   "cell_type": "code",
   "execution_count": 41,
   "metadata": {},
   "outputs": [
    {
     "name": "stdout",
     "output_type": "stream",
     "text": [
      "[[8 9]\n",
      " [6 7]\n",
      " [4 5]\n",
      " [2 3]\n",
      " [0 1]]\n"
     ]
    }
   ],
   "source": [
    "# flipud\n",
    "arr3 = np.flipud(arr1)\n",
    "print(arr3)"
   ]
  },
  {
   "cell_type": "markdown",
   "metadata": {},
   "source": [
    "### Arithmetic with `numpy` arrays\n",
    "\n",
    "Most of the operations are \"elementwise\", meaning they operate on each item in the array independently."
   ]
  },
  {
   "cell_type": "code",
   "execution_count": 42,
   "metadata": {},
   "outputs": [
    {
     "name": "stdout",
     "output_type": "stream",
     "text": [
      "[0.  0.2 0.4 0.6 0.8 1. ]\n",
      "[10. 12. 14. 16. 18. 20.]\n"
     ]
    }
   ],
   "source": [
    "# example arrays\n",
    "arr1 = np.linspace(0, 1, 6)\n",
    "arr2 = np.linspace(10, 20, 6)\n",
    "print(arr1)\n",
    "print(arr2)"
   ]
  },
  {
   "cell_type": "code",
   "execution_count": 43,
   "metadata": {},
   "outputs": [
    {
     "name": "stdout",
     "output_type": "stream",
     "text": [
      "[10.  12.2 14.4 16.6 18.8 21. ]\n"
     ]
    }
   ],
   "source": [
    "# addition\n",
    "arr3 = arr1 + arr2 # add the elements of two arrays\n",
    "print(arr3)"
   ]
  },
  {
   "cell_type": "code",
   "execution_count": 44,
   "metadata": {},
   "outputs": [
    {
     "name": "stdout",
     "output_type": "stream",
     "text": [
      "[ 0.   2.4  5.6  9.6 14.4 20. ]\n"
     ]
    }
   ],
   "source": [
    "# multiplication\n",
    "arr4 = arr1 * arr2 # multiply the elements of two arrays\n",
    "print(arr4)"
   ]
  },
  {
   "cell_type": "code",
   "execution_count": 45,
   "metadata": {},
   "outputs": [
    {
     "name": "stdout",
     "output_type": "stream",
     "text": [
      "[0.  0.2 0.4 0.6 0.8 1. ]\n",
      "[0.  0.6 1.2 1.8 2.4 3. ]\n"
     ]
    }
   ],
   "source": [
    "# can multiply by a constant in place\n",
    "print(arr1) \n",
    "arr1 *= 3 # multiply all elements in array by 3 (in-place)\n",
    "print(arr1)"
   ]
  },
  {
   "cell_type": "markdown",
   "metadata": {},
   "source": [
    "### Indexing: very similar to lists"
   ]
  },
  {
   "cell_type": "code",
   "execution_count": 46,
   "metadata": {},
   "outputs": [
    {
     "name": "stdout",
     "output_type": "stream",
     "text": [
      "[0 1 2 3 4 5 6 7 8 9]\n"
     ]
    }
   ],
   "source": [
    "# example array\n",
    "arr = np.arange(10)\n",
    "print(arr)"
   ]
  },
  {
   "cell_type": "code",
   "execution_count": 47,
   "metadata": {},
   "outputs": [
    {
     "name": "stdout",
     "output_type": "stream",
     "text": [
      "3\n"
     ]
    }
   ],
   "source": [
    "print(arr[3])  # index 3 (counts from 0): 4th element"
   ]
  },
  {
   "cell_type": "code",
   "execution_count": 48,
   "metadata": {},
   "outputs": [
    {
     "name": "stdout",
     "output_type": "stream",
     "text": [
      "[[1 2 3]\n",
      " [4 5 6]\n",
      " [7 8 9]]\n"
     ]
    }
   ],
   "source": [
    "# example array\n",
    "arr2d = np.array([[1, 2, 3], [4, 5, 6], [7, 8, 9]])\n",
    "print(arr2d)"
   ]
  },
  {
   "cell_type": "code",
   "execution_count": 49,
   "metadata": {},
   "outputs": [
    {
     "name": "stdout",
     "output_type": "stream",
     "text": [
      "[7 8 9]\n"
     ]
    }
   ],
   "source": [
    "print(arr2d[2]) # row at index 2"
   ]
  },
  {
   "cell_type": "code",
   "execution_count": 50,
   "metadata": {},
   "outputs": [
    {
     "name": "stdout",
     "output_type": "stream",
     "text": [
      "7\n"
     ]
    }
   ],
   "source": [
    "print(arr2d[2, 0]) # row 2, column 0"
   ]
  },
  {
   "cell_type": "code",
   "execution_count": 51,
   "metadata": {},
   "outputs": [
    {
     "name": "stdout",
     "output_type": "stream",
     "text": [
      "9\n"
     ]
    }
   ],
   "source": [
    "print(arr2d[2, -1]) # row 2, last column"
   ]
  },
  {
   "cell_type": "code",
   "execution_count": 52,
   "metadata": {},
   "outputs": [
    {
     "name": "stdout",
     "output_type": "stream",
     "text": [
      "[2 5 8]\n"
     ]
    }
   ],
   "source": [
    "print(arr2d[:, 1]) # all rows, column 1"
   ]
  },
  {
   "cell_type": "markdown",
   "metadata": {},
   "source": [
    "### Slicing. Array slices are _views_ of the original array. The data is not copied, and any modifications to the _view_ will be reflected in the source array. Use `.copy()` if you want the slice to be a copy and not a view."
   ]
  },
  {
   "cell_type": "code",
   "execution_count": 53,
   "metadata": {},
   "outputs": [
    {
     "name": "stdout",
     "output_type": "stream",
     "text": [
      "[ 2  5  2  2  6  7  8  9 10]\n"
     ]
    }
   ],
   "source": [
    "# Example array\n",
    "arr = np.array([2, 5, 2, 2, 6, 7, 8, 9, 10])\n",
    "print(arr)"
   ]
  },
  {
   "cell_type": "code",
   "execution_count": 54,
   "metadata": {},
   "outputs": [
    {
     "name": "stdout",
     "output_type": "stream",
     "text": [
      "[ 2  5  2  2  6  7  8  9 10]\n",
      "[2 5 2]\n",
      "[-50   5   2]\n",
      "[-50   5   2   2   6   7   8   9  10]\n"
     ]
    }
   ],
   "source": [
    "# Remember - slices are views of the original data\n",
    "print(arr)\n",
    "arr_slice = arr[0:3]\n",
    "print(arr_slice)\n",
    "arr_slice[0] = -50 # modifies original array!\n",
    "print(arr_slice)\n",
    "print(arr) # whoops"
   ]
  },
  {
   "cell_type": "code",
   "execution_count": 55,
   "metadata": {},
   "outputs": [
    {
     "name": "stdout",
     "output_type": "stream",
     "text": [
      "[[1 2 3]\n",
      " [4 5 6]\n",
      " [7 8 9]]\n"
     ]
    }
   ],
   "source": [
    "# Example array\n",
    "arr2d = np.array([[1, 2, 3],[4, 5, 6],[7, 8, 9]])\n",
    "print(arr2d)"
   ]
  },
  {
   "cell_type": "code",
   "execution_count": 56,
   "metadata": {},
   "outputs": [
    {
     "name": "stdout",
     "output_type": "stream",
     "text": [
      "[-50   5   2   2   6   7   8   9  10]\n",
      "[25  5  2]\n"
     ]
    }
   ],
   "source": [
    "# If you really want a slice to be a copy, not a view, using .copy()\n",
    "arr_slice2 = arr[0:3].copy()\n",
    "arr_slice2[0] = 25\n",
    "print(arr)\n",
    "print(arr_slice2)"
   ]
  },
  {
   "cell_type": "markdown",
   "metadata": {},
   "source": [
    "### Pointers \n",
    "\n",
    "When we make an array, for example `a=np.zeros(10)`, the variable `a` is actually a _pointer_ to the chunk of memory storing this array. So what happens if we make a new variable `b = a`?\n"
   ]
  },
  {
   "cell_type": "code",
   "execution_count": 57,
   "metadata": {},
   "outputs": [
    {
     "name": "stdout",
     "output_type": "stream",
     "text": [
      "Original arrays:\n",
      "a: [0. 0. 0. 0. 0.]\n",
      "b: [0. 0. 0. 0. 0.]\n",
      "\n",
      "What if we change a[0]?\n",
      "a: [10.  0.  0.  0.  0.]\n",
      "b: [10.  0.  0.  0.  0.]\n"
     ]
    }
   ],
   "source": [
    "# A common mistake\n",
    "a = np.zeros(5)\n",
    "b = a # b and a point to the same chunk of memory\n",
    "print(\"Original arrays:\")\n",
    "print(\"a:\", a)\n",
    "print(\"b:\", b)\n",
    "a[0] = 10\n",
    "print(\"\\nWhat if we change a[0]?\")\n",
    "print(\"a:\", a)\n",
    "print(\"b:\", b)"
   ]
  },
  {
   "cell_type": "code",
   "execution_count": 58,
   "metadata": {},
   "outputs": [
    {
     "name": "stdout",
     "output_type": "stream",
     "text": [
      "Original arrays:\n",
      "a: [0. 0. 0. 0. 0.]\n",
      "b: [0. 0. 0. 0. 0.]\n",
      "\n",
      "What if we change a[0]?\n",
      "a: [10.  0.  0.  0.  0.]\n",
      "b: [0. 0. 0. 0. 0.]\n"
     ]
    }
   ],
   "source": [
    "# Here's how to fix this\n",
    "a = np.zeros(5)\n",
    "b = a.copy() # now we are safe\n",
    "print(\"Original arrays:\")\n",
    "print(\"a:\", a)\n",
    "print(\"b:\", b)\n",
    "a[0] = 10\n",
    "print(\"\\nWhat if we change a[0]?\")\n",
    "print(\"a:\", a)\n",
    "print(\"b:\", b)"
   ]
  },
  {
   "cell_type": "markdown",
   "metadata": {},
   "source": [
    "### Logical (boolean) Indexing: select elements that meet a condition"
   ]
  },
  {
   "cell_type": "code",
   "execution_count": 59,
   "metadata": {},
   "outputs": [
    {
     "name": "stdout",
     "output_type": "stream",
     "text": [
      "[2 5 2 2 6 7]\n"
     ]
    }
   ],
   "source": [
    "# example\n",
    "arr = np.array([2, 5, 2, 2, 6, 7])\n",
    "print(arr)"
   ]
  },
  {
   "cell_type": "code",
   "execution_count": 60,
   "metadata": {},
   "outputs": [
    {
     "name": "stdout",
     "output_type": "stream",
     "text": [
      "[2 2 2]\n"
     ]
    }
   ],
   "source": [
    "arr2 = arr[arr == 2] # slices elements equal to 2\n",
    "print(arr2)"
   ]
  },
  {
   "cell_type": "code",
   "execution_count": 61,
   "metadata": {},
   "outputs": [
    {
     "name": "stdout",
     "output_type": "stream",
     "text": [
      "[6 7]\n"
     ]
    }
   ],
   "source": [
    "arr3 = arr[arr >= 6] # slices elements greater or equal to 6\n",
    "print(arr3)"
   ]
  },
  {
   "cell_type": "code",
   "execution_count": 62,
   "metadata": {},
   "outputs": [],
   "source": [
    "# A more involved example...\n",
    "names = np.array([\"Dennis\", \"Dee\", \"Charlie\", \"Mac\", \"Frank\"])\n",
    "ages = np.array([43, 43, 44, 42, 74])\n",
    "genders = np.array(['male', 'female', 'male', 'male', 'male'])"
   ]
  },
  {
   "cell_type": "code",
   "execution_count": 63,
   "metadata": {},
   "outputs": [
    {
     "name": "stdout",
     "output_type": "stream",
     "text": [
      "['Dennis' 'Charlie' 'Frank']\n"
     ]
    }
   ],
   "source": [
    "# Which names are male *and* are over 42?\n",
    "print(names[(genders == \"male\") & (ages > 42)]) # & is the elementwise \"and\""
   ]
  },
  {
   "cell_type": "code",
   "execution_count": 64,
   "metadata": {},
   "outputs": [
    {
     "name": "stdout",
     "output_type": "stream",
     "text": [
      "['Dennis' 'Dee']\n"
     ]
    }
   ],
   "source": [
    "# Which names are female *or* have an age of 43?\n",
    "print(names[(genders == \"female\") | (ages == 43)]) # | is the elementwise \"or\""
   ]
  },
  {
   "cell_type": "markdown",
   "metadata": {},
   "source": [
    "**Note**: Unlike standard numerical slicing, arrays _created_ from logical/boolean slices will be copies. However, logical slices of _existing_ arrays will operate in place, the same as ordinary slices.\n",
    "\n",
    "For example:"
   ]
  },
  {
   "cell_type": "code",
   "execution_count": 65,
   "metadata": {},
   "outputs": [
    {
     "name": "stdout",
     "output_type": "stream",
     "text": [
      "[0 1 2 3 4 5 6 7 8 9]\n",
      "[0 1 2 3 4 5 6 7 8 9]\n"
     ]
    }
   ],
   "source": [
    "# create example arrays\n",
    "a = np.arange(10)\n",
    "b = a\n",
    "print(a)\n",
    "print(b)"
   ]
  },
  {
   "cell_type": "code",
   "execution_count": 66,
   "metadata": {},
   "outputs": [
    {
     "name": "stdout",
     "output_type": "stream",
     "text": [
      "[5 6 7 8 9]\n",
      "[0 1 2 3 4 5 6 7 8 9]\n",
      "[ 6  7  8  9 10]\n"
     ]
    }
   ],
   "source": [
    "# new array c is a copy of a\n",
    "\n",
    "c = a[a >= 5] # this makes a copy\n",
    "print(c)\n",
    "\n",
    "c += 1 # make a change to c\n",
    "print(a) # a is unchanged\n",
    "print(c)"
   ]
  },
  {
   "cell_type": "markdown",
   "metadata": {},
   "source": [
    "---\n",
    "\n",
    "In contrast:"
   ]
  },
  {
   "cell_type": "code",
   "execution_count": 67,
   "metadata": {},
   "outputs": [
    {
     "name": "stdout",
     "output_type": "stream",
     "text": [
      "[0 1 2 3 4 5 6 7 8 9]\n",
      "[0 1 2 3 4 5 6 7 8 9]\n"
     ]
    }
   ],
   "source": [
    "# re-create example arrays\n",
    "a = np.arange(10)\n",
    "b = a\n",
    "print(a)\n",
    "print(b)"
   ]
  },
  {
   "cell_type": "code",
   "execution_count": 68,
   "metadata": {},
   "outputs": [
    {
     "name": "stdout",
     "output_type": "stream",
     "text": [
      "[0 0 0 0 0 0 6 7 8 9]\n",
      "[0 0 0 0 0 0 6 7 8 9]\n"
     ]
    }
   ],
   "source": [
    "# since a point to the same array, this will modify both  a and b\n",
    "a[a <= 5] = 0 # applies to both arrays\n",
    "print(a)\n",
    "print(b)"
   ]
  },
  {
   "cell_type": "markdown",
   "metadata": {},
   "source": [
    "### *Broadcasting*: apply an assignment to an entire slice all at once"
   ]
  },
  {
   "cell_type": "code",
   "execution_count": 69,
   "metadata": {},
   "outputs": [
    {
     "name": "stdout",
     "output_type": "stream",
     "text": [
      "[2 5 2 2 6 7]\n"
     ]
    }
   ],
   "source": [
    "arr = np.array([2, 5, 2, 2, 6, 7]) # example array\n",
    "print(arr)"
   ]
  },
  {
   "cell_type": "code",
   "execution_count": 70,
   "metadata": {},
   "outputs": [
    {
     "name": "stdout",
     "output_type": "stream",
     "text": [
      "[ 2  5  2  2 25 25]\n"
     ]
    }
   ],
   "source": [
    "arr[4:6] = 25 # change all values in the slice to 25\n",
    "print(arr)"
   ]
  },
  {
   "cell_type": "code",
   "execution_count": 71,
   "metadata": {},
   "outputs": [
    {
     "name": "stdout",
     "output_type": "stream",
     "text": [
      "[-2  5 -2 -2 25 25]\n"
     ]
    }
   ],
   "source": [
    "arr[arr == 2] *= -1 # changes all values in the slice to -2\n",
    "print(arr)"
   ]
  },
  {
   "cell_type": "markdown",
   "metadata": {},
   "source": [
    "### pi, e, nan (similar to `math` library)\n",
    "* `np.pi`\n",
    "* `np.e`\n",
    "* `np.nan`"
   ]
  },
  {
   "cell_type": "code",
   "execution_count": 72,
   "metadata": {},
   "outputs": [
    {
     "name": "stdout",
     "output_type": "stream",
     "text": [
      "3.141592653589793 2.718281828459045 nan\n"
     ]
    }
   ],
   "source": [
    "print(np.pi, np.e, np.nan)"
   ]
  },
  {
   "cell_type": "markdown",
   "metadata": {},
   "source": [
    "## Universal Functions: Fast Element-Wise Array Functions"
   ]
  },
  {
   "cell_type": "markdown",
   "metadata": {},
   "source": [
    "* `abs`\n",
    "* `sqrt`\n",
    "* `square`\n",
    "* `exp`\n",
    "* `log`, `log10`\n",
    "* `sign`\n",
    "* `ceil` - round to higher integer\n",
    "* `floor` - round to lower integer\n",
    "* `rint` - round to nearest integer, preserve dtype\n",
    "* `cos`, `sin`, `tan` - arguments in radians!\n",
    "* `arccos`, `arcsin`, `arctan` - outputs in radians!"
   ]
  },
  {
   "cell_type": "code",
   "execution_count": 73,
   "metadata": {},
   "outputs": [
    {
     "name": "stdout",
     "output_type": "stream",
     "text": [
      "[-5.  -4.9 -4.8 -4.7 -4.6]\n"
     ]
    }
   ],
   "source": [
    "# example array\n",
    "arr1 = np.linspace(-5, 5, 101)\n",
    "print(arr1[:5])"
   ]
  },
  {
   "cell_type": "code",
   "execution_count": 74,
   "metadata": {},
   "outputs": [
    {
     "name": "stdout",
     "output_type": "stream",
     "text": [
      "[5.  4.9 4.8 4.7 4.6]\n"
     ]
    }
   ],
   "source": [
    "# abs\n",
    "arr2 = np.abs(arr1)\n",
    "print(arr2[:5])"
   ]
  },
  {
   "cell_type": "code",
   "execution_count": 75,
   "metadata": {},
   "outputs": [
    {
     "name": "stdout",
     "output_type": "stream",
     "text": [
      "[-0.6 -0.5 -0.4 -0.3 -0.2 -0.1  0.   0.1  0.2  0.3  0.4  0.5  0.6]\n"
     ]
    }
   ],
   "source": [
    "# example array\n",
    "arr1 = np.linspace(-0.6, 0.6, 13)\n",
    "print(arr1)"
   ]
  },
  {
   "cell_type": "code",
   "execution_count": 76,
   "metadata": {},
   "outputs": [
    {
     "name": "stdout",
     "output_type": "stream",
     "text": [
      "array: [-1.  -0.6 -0.2  0.2  0.6  1. ]\n",
      "floor: [-1. -1. -1.  0.  0.  1.]\n",
      " ceil: [-1. -0. -0.  1.  1.  1.]\n",
      " rint: [-1. -1. -0.  0.  1.  1.]\n"
     ]
    }
   ],
   "source": [
    "# floor versus ceil versus rint\n",
    "arr1 = np.linspace(-1.0, 1.0, 6)\n",
    "print(\"array:\", arr1)\n",
    "arr2 = np.floor(arr1)\n",
    "arr3 = np.ceil(arr1)\n",
    "arr4 = np.rint(arr1)\n",
    "print(\"floor:\", arr2)\n",
    "print(\" ceil:\", arr3)\n",
    "print(\" rint:\", arr4)"
   ]
  },
  {
   "cell_type": "code",
   "execution_count": 77,
   "metadata": {},
   "outputs": [
    {
     "data": {
      "image/png": "[encoded data removed]",
      "text/plain": [
       "<Figure size 640x480 with 1 Axes>"
      ]
     },
     "metadata": {},
     "output_type": "display_data"
    }
   ],
   "source": [
    "# plotting example\n",
    "x = np.linspace(0, 10, 11)\n",
    "y1 = np.exp(x)\n",
    "plt.semilogy(x,y1);"
   ]
  },
  {
   "cell_type": "code",
   "execution_count": 78,
   "metadata": {},
   "outputs": [
    {
     "data": {
      "image/png": "[encoded data removed]",
      "text/plain": [
       "<Figure size 640x480 with 1 Axes>"
      ]
     },
     "metadata": {},
     "output_type": "display_data"
    }
   ],
   "source": [
    "# plotting example\n",
    "x = np.linspace(0.0, 2.0*np.pi, 101) # radians\n",
    "y = np.sin(x)\n",
    "plt.plot(x,y);"
   ]
  },
  {
   "cell_type": "code",
   "execution_count": 79,
   "metadata": {},
   "outputs": [
    {
     "data": {
      "image/png": "[encoded data removed]",
      "text/plain": [
       "<Figure size 640x480 with 1 Axes>"
      ]
     },
     "metadata": {},
     "output_type": "display_data"
    }
   ],
   "source": [
    "# plotting example\n",
    "x = np.linspace(0.0, 360.0, 101) # common mistake...\n",
    "y = np.sin(x)\n",
    "plt.plot(x,y);"
   ]
  },
  {
   "cell_type": "markdown",
   "metadata": {},
   "source": [
    "# Summary\n",
    "* `numpy` is an efficient module for math and array operations\n",
    "* `import numpy as np`\n",
    "* creating arrays: from lists, `zeros`, `ones`, `arange`, `linspace`\n",
    "* we can create 1d or 2d arrays and reshape them as we like\n",
    "* indexing and slicing are analagous to lists\n",
    "* numerical slices are views of arrays, array variables are pointers\n",
    "* logical indexing creates slices based on conditions\n",
    "* broadcasting can apply an operation to an entire slice at once\n",
    "* there are many built-in mathematical operations\n",
    "* array mathematics is (usually) elementwise"
   ]
  }
 ],
 "metadata": {
  "kernelspec": {
   "display_name": "Python 3 (ipykernel)",
   "language": "python",
   "name": "python3"
  },
  "language_info": {
   "codemirror_mode": {
    "name": "ipython",
    "version": 3
   },
   "file_extension": ".py",
   "mimetype": "text/x-python",
   "name": "python",
   "nbconvert_exporter": "python",
   "pygments_lexer": "ipython3",
   "version": "3.10.13"
  }
 },
 "nbformat": 4,
 "nbformat_minor": 4
}
