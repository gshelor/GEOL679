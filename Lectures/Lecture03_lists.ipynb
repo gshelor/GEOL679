{
 "cells": [
  {
   "cell_type": "markdown",
   "metadata": {},
   "source": [
    "# Lists"
   ]
  },
  {
   "cell_type": "markdown",
   "metadata": {},
   "source": [
    "### Lists are a kind of Python object called a \"collection\" that contain zero or more items (sometimes called \"values\"). The items can be of different types."
   ]
  },
  {
   "cell_type": "markdown",
   "metadata": {},
   "source": [
    "#### Creating a list: Use square brackets `[]`. Each item is separated by commas.\n",
    "* `list1 = []`\n",
    "* `list2 = [5, 2, 7]`\n",
    "* `list3 = [5, 2.0, True, 'Python']`"
   ]
  },
  {
   "cell_type": "code",
   "execution_count": 1,
   "metadata": {},
   "outputs": [
    {
     "name": "stdout",
     "output_type": "stream",
     "text": [
      "Variable   Type    Data/Info\n",
      "----------------------------\n",
      "list1      list    n=0\n",
      "list2      list    n=3\n",
      "list3      list    n=4\n"
     ]
    }
   ],
   "source": [
    "### Let's make some lists!\n",
    "list1 = []\n",
    "list2 = [5, 2, 7]\n",
    "list3 = [5, 2.0, True, 'Python']\n",
    "%whos"
   ]
  },
  {
   "cell_type": "markdown",
   "metadata": {},
   "source": [
    "#### The function `list()` can also be used to create an empty list, or convert other data types into lists\n",
    "* `list4 = list()`\n",
    "* `list5 = list('cat')`"
   ]
  },
  {
   "cell_type": "code",
   "execution_count": 2,
   "metadata": {},
   "outputs": [
    {
     "name": "stdout",
     "output_type": "stream",
     "text": [
      "['c', 'a', 't']\n",
      "Variable   Type    Data/Info\n",
      "----------------------------\n",
      "list1      list    n=0\n",
      "list2      list    n=3\n",
      "list3      list    n=4\n",
      "list4      list    n=0\n",
      "list5      list    n=3\n"
     ]
    }
   ],
   "source": [
    "### Using list()\n",
    "list4 = list()\n",
    "list5 = list('cat')\n",
    "print(list5)\n",
    "%whos"
   ]
  },
  {
   "cell_type": "markdown",
   "metadata": {},
   "source": [
    "## Indexing: accessing values of items in a list"
   ]
  },
  {
   "cell_type": "markdown",
   "metadata": {},
   "source": [
    "### <font color=red>This is Super Important</font>: Python indices start with 0!!!\n",
    "* `my_list[0]` (index 0) will access the first item\n",
    "* `my_list[1]` (index 1) will access the second item"
   ]
  },
  {
   "cell_type": "code",
   "execution_count": 3,
   "metadata": {},
   "outputs": [
    {
     "name": "stdout",
     "output_type": "stream",
     "text": [
      "1\n",
      "2\n"
     ]
    }
   ],
   "source": [
    "### Example indexing\n",
    "my_list = [1, 2, 3, 4, 5]\n",
    "print(my_list[0]) # item 1 lives at index zero\n",
    "print(my_list[1]) # item 2 lives at index one"
   ]
  },
  {
   "cell_type": "markdown",
   "metadata": {},
   "source": [
    "#### You can also access items starting from the end\n",
    "* `my_list[-1]` (index -1) will access the last item\n",
    "* `my_list[-2]` (index -2) will access the next-to-last item"
   ]
  },
  {
   "cell_type": "code",
   "execution_count": 4,
   "metadata": {},
   "outputs": [
    {
     "name": "stdout",
     "output_type": "stream",
     "text": [
      "5 4\n"
     ]
    }
   ],
   "source": [
    "### More indexing\n",
    "my_list = [1, 2, 3, 4, 5]\n",
    "print(my_list[-1],my_list[-2])"
   ]
  },
  {
   "cell_type": "markdown",
   "metadata": {},
   "source": [
    "#### Nested lists (lists of lists)\n",
    "* `cat_animals = ['tiger','lion','cheetah']`\n",
    "* `dog_animals = ['wolf','dog']`\n",
    "* `animals = [cat_animals,dog_animals]`\n",
    "\n",
    "Here, `animals` is a nested list containing `cat_animals` and `dog_animals`."
   ]
  },
  {
   "cell_type": "code",
   "execution_count": 5,
   "metadata": {},
   "outputs": [
    {
     "name": "stdout",
     "output_type": "stream",
     "text": [
      "[['tiger', 'lion', 'cheetah'], ['wolf', 'dog']]\n"
     ]
    }
   ],
   "source": [
    "### Making a nested list\n",
    "cat_animals = ['tiger', 'lion', 'cheetah']\n",
    "dog_animals = ['wolf', 'dog']\n",
    "animals = [cat_animals,dog_animals]\n",
    "print(animals)"
   ]
  },
  {
   "cell_type": "markdown",
   "metadata": {},
   "source": [
    "#### Accessing items in a nested list\n",
    "* `animals[0]` will extract the first item (a list)\n",
    "* `animals[0][1]` will extract the second item of this list"
   ]
  },
  {
   "cell_type": "code",
   "execution_count": 6,
   "metadata": {},
   "outputs": [
    {
     "name": "stdout",
     "output_type": "stream",
     "text": [
      "[['tiger', 'lion', 'cheetah'], ['wolf', 'dog']]\n",
      "['tiger', 'lion', 'cheetah']\n",
      "lion\n"
     ]
    }
   ],
   "source": [
    "### Extracting data from nested lists\n",
    "print(animals)\n",
    "print(animals[0])\n",
    "print(animals[0][1])"
   ]
  },
  {
   "cell_type": "markdown",
   "metadata": {},
   "source": [
    "### Lists are mutable (think \"mutating\")\n",
    "This means we can change items inside a list after we create them:\n",
    "* `list1[2] = 7`\n",
    "* `animals[0][1] = 'jaguar'`\n",
    "\n",
    "Note: not all collections in Python are mutable. We'll see examples where this is not the case later in the semester."
   ]
  },
  {
   "cell_type": "code",
   "execution_count": 7,
   "metadata": {},
   "outputs": [
    {
     "name": "stdout",
     "output_type": "stream",
     "text": [
      "Initial list: [1, 2, 3, 4, 5]\n",
      "Mutated list: [1, 2, 7, 4, 5]\n"
     ]
    }
   ],
   "source": [
    "### \"Mutating\"\n",
    "list1 = [1, 2, 3, 4, 5]\n",
    "print(\"Initial list:\",list1)\n",
    "list1[2] = 7 # mutates the value to 7\n",
    "print(\"Mutated list:\",list1)"
   ]
  },
  {
   "cell_type": "code",
   "execution_count": 8,
   "metadata": {},
   "outputs": [
    {
     "name": "stdout",
     "output_type": "stream",
     "text": [
      "Initial list: [['tiger', 'lion', 'cheetah'], ['wolf', 'dog']]\n",
      "Mutated list: [['tiger', 'jaguar', 'cheetah'], ['wolf', 'dog']]\n"
     ]
    }
   ],
   "source": [
    "### Works with nested lists\n",
    "print(\"Initial list:\",animals)\n",
    "animals[0][1] = 'jaguar'\n",
    "print(\"Mutated list:\",animals)"
   ]
  },
  {
   "cell_type": "code",
   "execution_count": 9,
   "metadata": {},
   "outputs": [
    {
     "name": "stdout",
     "output_type": "stream",
     "text": [
      "[3.1415927, ['wolf', 'dog']]\n"
     ]
    }
   ],
   "source": [
    "### We can replace things with a completely different data type\n",
    "animals[0] = 3.1415927\n",
    "print(animals)"
   ]
  },
  {
   "cell_type": "markdown",
   "metadata": {},
   "source": [
    "### Slicing lists\n",
    "\n",
    "We extract a piece of a list using a \"slice\": `mylist[index1:index2]`\n",
    "\n",
    "<font color=red>**Super Important**</font>: the first item will be at index1, the last item will be the one **before** index2. That is:\n",
    "* index1 is **inclusive**\n",
    "* index2 is **exclusive**\n",
    "\n",
    "There will be `index2 - index1` items in the slice, starting at `index1` and ending with but **not including** `index2`. "
   ]
  },
  {
   "cell_type": "code",
   "execution_count": 10,
   "metadata": {},
   "outputs": [
    {
     "name": "stdout",
     "output_type": "stream",
     "text": [
      "[1, 2, 3]\n"
     ]
    }
   ],
   "source": [
    "### Slicing the first 3 items\n",
    "list1 = [1, 2, 3, 4, 5]\n",
    "print(list1[0:3])"
   ]
  },
  {
   "cell_type": "markdown",
   "metadata": {},
   "source": [
    "### Slicing: Specifying step interval\n",
    "\n",
    "We can change the step interval for our slice: `mylist[index1:index2:step]`"
   ]
  },
  {
   "cell_type": "code",
   "execution_count": 11,
   "metadata": {},
   "outputs": [
    {
     "name": "stdout",
     "output_type": "stream",
     "text": [
      "[1, 2, 3, 4, 5]\n",
      "[1, 3]\n",
      "[5, 4, 3, 2]\n"
     ]
    }
   ],
   "source": [
    "### Changing the step size\n",
    "print(list1)\n",
    "print(list1[0:4:2])\n",
    "print(list1[-1:-5:-1])"
   ]
  },
  {
   "cell_type": "markdown",
   "metadata": {},
   "source": [
    "### Slicing: Specifying beginning or end of a list\n",
    "\n",
    "You can specify the beginning or end of a list with the `:` symbol.\n",
    "* `list1[:3]`\n",
    "* `list1[0:]`\n",
    "* `list1[::-1]`"
   ]
  },
  {
   "cell_type": "code",
   "execution_count": 12,
   "metadata": {},
   "outputs": [
    {
     "name": "stdout",
     "output_type": "stream",
     "text": [
      "[1, 2, 3]\n"
     ]
    }
   ],
   "source": [
    "### First three items\n",
    "print(list1[:3])"
   ]
  },
  {
   "cell_type": "code",
   "execution_count": 13,
   "metadata": {},
   "outputs": [
    {
     "name": "stdout",
     "output_type": "stream",
     "text": [
      "[2, 3, 4, 5]\n"
     ]
    }
   ],
   "source": [
    "### Second item through the end\n",
    "print(list1[1:])"
   ]
  },
  {
   "cell_type": "code",
   "execution_count": 14,
   "metadata": {},
   "outputs": [
    {
     "name": "stdout",
     "output_type": "stream",
     "text": [
      "[5, 4, 3, 2, 1]\n"
     ]
    }
   ],
   "source": [
    "### This looks odd but is useful!\n",
    "print(list1[::-1])"
   ]
  },
  {
   "cell_type": "code",
   "execution_count": 15,
   "metadata": {},
   "outputs": [
    {
     "name": "stdout",
     "output_type": "stream",
     "text": [
      "[2, 4]\n"
     ]
    }
   ],
   "source": [
    "### Step by two, starting at 1\n",
    "list5 = [1, 2, 3, 4, 5]\n",
    "print(list5[1::2])"
   ]
  },
  {
   "cell_type": "code",
   "execution_count": 16,
   "metadata": {},
   "outputs": [
    {
     "name": "stdout",
     "output_type": "stream",
     "text": [
      "[2, 4]\n"
     ]
    }
   ],
   "source": [
    "### Step by 2, starting at 1, ending at 10\n",
    "print(list5[1:10:2])"
   ]
  },
  {
   "cell_type": "code",
   "execution_count": 17,
   "metadata": {},
   "outputs": [
    {
     "ename": "IndexError",
     "evalue": "list index out of range",
     "output_type": "error",
     "traceback": [
      "\u001b[0;31m---------------------------------------------------------------------------\u001b[0m",
      "\u001b[0;31mIndexError\u001b[0m                                Traceback (most recent call last)",
      "Input \u001b[0;32mIn [17]\u001b[0m, in \u001b[0;36m<module>\u001b[0;34m\u001b[0m\n\u001b[1;32m      1\u001b[0m \u001b[38;5;66;03m### What happens if we mess up?\u001b[39;00m\n\u001b[0;32m----> 2\u001b[0m \u001b[38;5;28mprint\u001b[39m(\u001b[43mlist5\u001b[49m\u001b[43m[\u001b[49m\u001b[38;5;241;43m10\u001b[39;49m\u001b[43m]\u001b[49m)\n",
      "\u001b[0;31mIndexError\u001b[0m: list index out of range"
     ]
    }
   ],
   "source": [
    "### What happens if we ask for an index that doesn't exist?\n",
    "print(list5[10])"
   ]
  },
  {
   "cell_type": "markdown",
   "metadata": {},
   "source": [
    "### `append()` - add items to the end of a list\n",
    "* `list1 = [1,2,3,4,5]`\n",
    "* add an item to the end: `list1.append(6)`"
   ]
  },
  {
   "cell_type": "code",
   "execution_count": 18,
   "metadata": {},
   "outputs": [
    {
     "name": "stdout",
     "output_type": "stream",
     "text": [
      "[1, 2, 3, 4, 5]\n",
      "[1, 2, 3, 4, 5, 6]\n"
     ]
    }
   ],
   "source": [
    "### Using append()\n",
    "list1 = [1, 2, 3, 4, 5]\n",
    "print(list1)\n",
    "list1.append(6)\n",
    "print(list1)"
   ]
  },
  {
   "cell_type": "markdown",
   "metadata": {},
   "source": [
    "### `insert()` - add items at a given index "
   ]
  },
  {
   "cell_type": "code",
   "execution_count": 19,
   "metadata": {},
   "outputs": [
    {
     "name": "stdout",
     "output_type": "stream",
     "text": [
      "[1, 2, 3, 4, 5]\n",
      "['hi', 1, 2, 3, 4, 5]\n"
     ]
    }
   ],
   "source": [
    "### Insert at beginning\n",
    "list1 = [1, 2, 3, 4, 5]\n",
    "print(list1)\n",
    "list1.insert(0,\"hi\")\n",
    "print(list1)"
   ]
  },
  {
   "cell_type": "code",
   "execution_count": 20,
   "metadata": {},
   "outputs": [
    {
     "name": "stdout",
     "output_type": "stream",
     "text": [
      "[1, 2, 3, 4, 5]\n",
      "[1, 2, 'hi', 3, 4, 5]\n"
     ]
    }
   ],
   "source": [
    "### Or in the middle somewhere\n",
    "list1 = [1, 2, 3, 4, 5]\n",
    "print(list1)\n",
    "list1.insert(2,\"hi\")\n",
    "print(list1)"
   ]
  },
  {
   "cell_type": "markdown",
   "metadata": {},
   "source": [
    "### Combining lists\n",
    "* Use `+`\n",
    "* `list3 = list1 + list2`\n",
    "* `list1 += list2`\n",
    "* **Note**: only use `append()` if you want a nested list!</font>"
   ]
  },
  {
   "cell_type": "code",
   "execution_count": 21,
   "metadata": {},
   "outputs": [
    {
     "name": "stdout",
     "output_type": "stream",
     "text": [
      "[1, 2, 3, 4, 5, 6, 7]\n"
     ]
    }
   ],
   "source": [
    "### Combining lists\n",
    "list1 = [1, 2, 3, 4]\n",
    "list2 = [5, 6, 7]\n",
    "list3 = list1 + list2\n",
    "print(list3)"
   ]
  },
  {
   "cell_type": "code",
   "execution_count": 22,
   "metadata": {},
   "outputs": [
    {
     "name": "stdout",
     "output_type": "stream",
     "text": [
      "[1, 2, 3, 4, 5, 6, 7]\n"
     ]
    }
   ],
   "source": [
    "### We can overwrite an old list\n",
    "list1 = [1, 2, 3, 4]\n",
    "list2 = [5, 6, 7]\n",
    "list1 = list1 + list2\n",
    "print(list1)"
   ]
  },
  {
   "cell_type": "code",
   "execution_count": 23,
   "metadata": {},
   "outputs": [
    {
     "name": "stdout",
     "output_type": "stream",
     "text": [
      "[1, 2, 3, 4, 5, 6, 7]\n"
     ]
    }
   ],
   "source": [
    "### We can even \"increment\" a list\n",
    "list1 = [1, 2, 3, 4]\n",
    "list2 = [5, 6, 7]\n",
    "list1 += list2\n",
    "print(list1)"
   ]
  },
  {
   "cell_type": "code",
   "execution_count": 24,
   "metadata": {},
   "outputs": [
    {
     "name": "stdout",
     "output_type": "stream",
     "text": [
      "[1, 2, 3, 4, [5, 6, 7]]\n"
     ]
    }
   ],
   "source": [
    "### This does strange things...\n",
    "list1 = [1, 2, 3, 4]\n",
    "list2 = [5, 6, 7]\n",
    "list1.append(list2)\n",
    "print(list1)"
   ]
  },
  {
   "cell_type": "code",
   "execution_count": 25,
   "metadata": {},
   "outputs": [
    {
     "name": "stdout",
     "output_type": "stream",
     "text": [
      "[[1, 2, 3, 4, [5, 6, 7]], [5, 6, 7]]\n"
     ]
    }
   ],
   "source": [
    "### Indexing this would be a chore...\n",
    "list3 =[list1, list2]\n",
    "print(list3)"
   ]
  },
  {
   "cell_type": "markdown",
   "metadata": {},
   "source": [
    "### Deleting list items\n",
    "\n",
    "Delete by index using `del`:\n",
    "* `list1 = [1, 2, 3, 4]`\n",
    "* `del list1[0]`\n",
    "\n",
    "Delete by value using `remove()`:\n",
    "* `list2 = [5, 6, 7]`\n",
    "* `list2.remove(7)`"
   ]
  },
  {
   "cell_type": "code",
   "execution_count": 26,
   "metadata": {},
   "outputs": [
    {
     "name": "stdout",
     "output_type": "stream",
     "text": [
      "[2, 3, 4]\n"
     ]
    }
   ],
   "source": [
    "### Using del\n",
    "list1 = [1, 2, 3, 4]\n",
    "del list1[0]\n",
    "print(list1)"
   ]
  },
  {
   "cell_type": "code",
   "execution_count": 27,
   "metadata": {},
   "outputs": [
    {
     "name": "stdout",
     "output_type": "stream",
     "text": [
      "[3, 4]\n"
     ]
    }
   ],
   "source": [
    "### Works for a slice\n",
    "list1 = [1, 2, 3, 4]\n",
    "del list1[0:2]\n",
    "print(list1)"
   ]
  },
  {
   "cell_type": "code",
   "execution_count": 28,
   "metadata": {},
   "outputs": [
    {
     "name": "stdout",
     "output_type": "stream",
     "text": [
      "[5, 6]\n"
     ]
    }
   ],
   "source": [
    "### Remove()\n",
    "list2 = [5, 6, 7]\n",
    "list2.remove(7)\n",
    "print(list2)"
   ]
  },
  {
   "cell_type": "code",
   "execution_count": 29,
   "metadata": {},
   "outputs": [
    {
     "name": "stdout",
     "output_type": "stream",
     "text": [
      "[5, 6, 7]\n"
     ]
    }
   ],
   "source": [
    "# Remove() takes just the first instance of a value away\n",
    "list2 = [5, 7, 6, 7]\n",
    "list2.remove(7)\n",
    "print(list2)"
   ]
  },
  {
   "cell_type": "markdown",
   "metadata": {},
   "source": [
    "### `index()`: finding an item's position in a list\n",
    "* `list1 = ['dog','cat','fish','hamster']`\n",
    "* `list1.index('fish')`"
   ]
  },
  {
   "cell_type": "code",
   "execution_count": 30,
   "metadata": {},
   "outputs": [
    {
     "data": {
      "text/plain": [
       "2"
      ]
     },
     "execution_count": 30,
     "metadata": {},
     "output_type": "execute_result"
    }
   ],
   "source": [
    "### Using index()\n",
    "list1 = ['dog', 'cat', 'fish', 'hamster']\n",
    "list1.index('fish')"
   ]
  },
  {
   "cell_type": "code",
   "execution_count": 31,
   "metadata": {},
   "outputs": [
    {
     "data": {
      "text/plain": [
       "2"
      ]
     },
     "execution_count": 31,
     "metadata": {},
     "output_type": "execute_result"
    }
   ],
   "source": [
    "### Again, just finds the first one\n",
    "list1 = ['dog', 'cat', 'fish', 'hamster', 'fish']\n",
    "list1.index('fish')"
   ]
  },
  {
   "cell_type": "markdown",
   "metadata": {},
   "source": [
    "### count\n",
    "\n",
    "`count()` will count how many times an item is in a list\n",
    "* `list1 = [5,2,5,3,5,8,3]`\n",
    "* `list1.count(5)`"
   ]
  },
  {
   "cell_type": "code",
   "execution_count": 32,
   "metadata": {},
   "outputs": [
    {
     "data": {
      "text/plain": [
       "3"
      ]
     },
     "execution_count": 32,
     "metadata": {},
     "output_type": "execute_result"
    }
   ],
   "source": [
    "### Counting\n",
    "list1 = [5, 2, 5, 3, 5, 8, 3]\n",
    "list1.count(5)"
   ]
  },
  {
   "cell_type": "code",
   "execution_count": 33,
   "metadata": {},
   "outputs": [
    {
     "data": {
      "text/plain": [
       "3"
      ]
     },
     "execution_count": 33,
     "metadata": {},
     "output_type": "execute_result"
    }
   ],
   "source": [
    "### Counting\n",
    "list1 = [5, 2, 5, 3, 5.0, 8, 3]\n",
    "list1.count(5)"
   ]
  },
  {
   "cell_type": "markdown",
   "metadata": {},
   "source": [
    "### sort\n",
    "\n",
    "`sort()` will sort items in a list by their values *in place*:\n",
    "* `list1.sort()`\n",
    "\n",
    "Use `sort(reverse=True)` to do a descending sort:\n",
    "* `list1.sort(reverse=True)`\n",
    "\n",
    "The function `sorted()` will return a sorted *copy* of the list, creating a new list:\n",
    "* `list2 = sorted(list1)`"
   ]
  },
  {
   "cell_type": "code",
   "execution_count": 34,
   "metadata": {},
   "outputs": [
    {
     "name": "stdout",
     "output_type": "stream",
     "text": [
      "[5, 2, 5, 3, 5.0, 8, 3]\n",
      "[2, 3, 3, 5, 5, 5.0, 8]\n"
     ]
    }
   ],
   "source": [
    "### Using sort()\n",
    "print(list1)\n",
    "list1.sort()\n",
    "print(list1)"
   ]
  },
  {
   "cell_type": "code",
   "execution_count": 35,
   "metadata": {},
   "outputs": [
    {
     "name": "stdout",
     "output_type": "stream",
     "text": [
      "[5, 2, 5, 3, 5, 8, 3]\n",
      "[2, 3, 3, 5, 5, 5, 8]\n"
     ]
    }
   ],
   "source": [
    "### Compare with sorted()\n",
    "list1 = [5, 2, 5, 3, 5, 8, 3]\n",
    "list2 = sorted(list1)\n",
    "print(list1)\n",
    "print(list2)"
   ]
  },
  {
   "cell_type": "code",
   "execution_count": 36,
   "metadata": {},
   "outputs": [
    {
     "name": "stdout",
     "output_type": "stream",
     "text": [
      "[5, 2, 8.5, 6, 3]\n",
      "[2, 3, 5, 6, 8.5]\n"
     ]
    }
   ],
   "source": [
    "### Sort() operates in place\n",
    "list1 = [5, 2, 8.5, 6, 3]\n",
    "print(list1)\n",
    "list1.sort()\n",
    "print(list1)"
   ]
  },
  {
   "cell_type": "code",
   "execution_count": 37,
   "metadata": {},
   "outputs": [
    {
     "data": {
      "text/plain": [
       "['cat', 'dog', 'fish', 'hamster', 'tiger']"
      ]
     },
     "execution_count": 37,
     "metadata": {},
     "output_type": "execute_result"
    }
   ],
   "source": [
    "### Sort works for strings as well\n",
    "list1 = ['cat', 'dog', 'hamster', 'tiger', 'fish']\n",
    "list1.sort()\n",
    "list1"
   ]
  },
  {
   "cell_type": "code",
   "execution_count": 38,
   "metadata": {},
   "outputs": [
    {
     "data": {
      "text/plain": [
       "[False, True, True, 3]"
      ]
     },
     "execution_count": 38,
     "metadata": {},
     "output_type": "execute_result"
    }
   ],
   "source": [
    "### And weird lists too\n",
    "list1 = [True, False, True, 3]\n",
    "list1.sort()\n",
    "list1"
   ]
  },
  {
   "cell_type": "code",
   "execution_count": 39,
   "metadata": {},
   "outputs": [
    {
     "data": {
      "text/plain": [
       "[3, True, True, False]"
      ]
     },
     "execution_count": 39,
     "metadata": {},
     "output_type": "execute_result"
    }
   ],
   "source": [
    "### We can reverse sort with ease\n",
    "list1.sort(reverse=True)\n",
    "list1"
   ]
  },
  {
   "cell_type": "markdown",
   "metadata": {},
   "source": [
    "### Use `len()` to return number of items in a list\n",
    "* `list1 = [3,6,1,6,4]`\n",
    "* `len(list1)`"
   ]
  },
  {
   "cell_type": "code",
   "execution_count": 40,
   "metadata": {},
   "outputs": [
    {
     "data": {
      "text/plain": [
       "5"
      ]
     },
     "execution_count": 40,
     "metadata": {},
     "output_type": "execute_result"
    }
   ],
   "source": [
    "### Length of a list\n",
    "list1 = [3, 6, 1, 6, 4]\n",
    "len(list1)"
   ]
  },
  {
   "cell_type": "markdown",
   "metadata": {},
   "source": [
    "### We can also do basic math with lists\n",
    "\n",
    "* `sum()`: adds elements\n",
    "* `min()`: finds smallest element\n",
    "* `max()`: finds largest element"
   ]
  },
  {
   "cell_type": "code",
   "execution_count": 41,
   "metadata": {},
   "outputs": [
    {
     "name": "stdout",
     "output_type": "stream",
     "text": [
      "[4, 2, 6, 8]\n",
      "Min: 2\n",
      "Max: 8\n",
      "Sum: 20\n"
     ]
    }
   ],
   "source": [
    "### Example using sum(), min(), max()\n",
    "list1 = [4, 2, 6, 8]\n",
    "print(list1)\n",
    "print(\"Min:\",min(list1))\n",
    "print(\"Max:\",max(list1))\n",
    "print(\"Sum:\",sum(list1))"
   ]
  },
  {
   "cell_type": "code",
   "execution_count": 42,
   "metadata": {},
   "outputs": [
    {
     "name": "stdout",
     "output_type": "stream",
     "text": [
      "['Jan', 'Feb', 'Mar']\n",
      "Min: Feb\n",
      "Max: Mar\n"
     ]
    }
   ],
   "source": [
    "### Example using sum(), min(), max()\n",
    "list1 = [\"Jan\", \"Feb\", \"Mar\"]\n",
    "print(list1)\n",
    "print(\"Min:\",min(list1))\n",
    "print(\"Max:\",max(list1))\n",
    "#print(\"Sum:\",sum(list1)) # doesn't work for strings"
   ]
  },
  {
   "cell_type": "markdown",
   "metadata": {},
   "source": [
    "### Be careful using `=` when assigning a list to another variable! Use `.copy()` if in doubt!\n",
    "* `a = [1,2,3]`\n",
    "* `b = a`\n",
    "* `a[0]=10`\n",
    "* what is `b`?"
   ]
  },
  {
   "cell_type": "code",
   "execution_count": 43,
   "metadata": {},
   "outputs": [
    {
     "name": "stdout",
     "output_type": "stream",
     "text": [
      "[1, 2, 3]\n",
      "[1, 2, 3]\n"
     ]
    }
   ],
   "source": [
    "### Let's test this!\n",
    "a = [1, 2, 3]\n",
    "b = a\n",
    "print(a)\n",
    "print(b)"
   ]
  },
  {
   "cell_type": "code",
   "execution_count": 44,
   "metadata": {},
   "outputs": [
    {
     "name": "stdout",
     "output_type": "stream",
     "text": [
      "[10, 2, 3]\n",
      "[10, 2, 3]\n"
     ]
    }
   ],
   "source": [
    "### Uh oh\n",
    "a[0] = 10\n",
    "print(a)\n",
    "print(b)"
   ]
  },
  {
   "cell_type": "markdown",
   "metadata": {},
   "source": [
    "The safe way:\n",
    "* `a = [1,2,3]`\n",
    "* `b = a.copy()`\n",
    "* `a[0]=10`\n",
    "* what is `b`?"
   ]
  },
  {
   "cell_type": "code",
   "execution_count": 45,
   "metadata": {},
   "outputs": [
    {
     "name": "stdout",
     "output_type": "stream",
     "text": [
      "[1, 2, 3]\n",
      "[1, 2, 3]\n"
     ]
    }
   ],
   "source": [
    "### So far so good...\n",
    "a = [1, 2, 3]\n",
    "b = a.copy()\n",
    "print(a)\n",
    "print(b)"
   ]
  },
  {
   "cell_type": "code",
   "execution_count": 46,
   "metadata": {},
   "outputs": [
    {
     "name": "stdout",
     "output_type": "stream",
     "text": [
      "[10, 2, 3]\n",
      "[1, 2, 3]\n"
     ]
    }
   ],
   "source": [
    "### Nice!\n",
    "a[0] = 10\n",
    "print(a)\n",
    "print(b)"
   ]
  },
  {
   "cell_type": "markdown",
   "metadata": {},
   "source": [
    "This counterintutive behavior occurs because the variables `a` and `b` are actually just \"pointers\" to a specific place in your computer memory that is storing the list values:\n",
    "* When you write `b` = `a`, both `a` and `b` point to the same location\n",
    "* When you write `b` = `a.copy()`, `b` points to a new location with identical values."
   ]
  },
  {
   "cell_type": "markdown",
   "metadata": {},
   "source": [
    "# Summary\n",
    "* Lists store an ordered collection of one or more items\n",
    "* The items of a list can be of different types\n",
    "* Indexing is used to access items in a list\n",
    "* In Python, indices start at 0\n",
    "* Slicing is used to extract pieces of a list\n",
    "* The first slice index is inclusive, the end slice index is exclusive\n",
    "* Lists are mutable (can be modified after creation)\n",
    "* We can do basic counting math with lists\n",
    "* We can add or subtract elements from a list\n",
    "* List variables are really pointers to a location in computer memory\n",
    "* When in doubt, make a copy!"
   ]
  }
 ],
 "metadata": {
  "kernelspec": {
   "display_name": "Python 3 (ipykernel)",
   "language": "python",
   "name": "python3"
  },
  "language_info": {
   "codemirror_mode": {
    "name": "ipython",
    "version": 3
   },
   "file_extension": ".py",
   "mimetype": "text/x-python",
   "name": "python",
   "nbconvert_exporter": "python",
   "pygments_lexer": "ipython3",
   "version": "3.10.9"
  }
 },
 "nbformat": 4,
 "nbformat_minor": 4
}
