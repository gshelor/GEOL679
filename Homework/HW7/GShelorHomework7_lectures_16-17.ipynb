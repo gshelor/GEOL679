{
 "cells": [
  {
   "cell_type": "markdown",
   "id": "e09b16a9",
   "metadata": {},
   "source": [
    "# Homework 7: File I/O and Datetime"
   ]
  },
  {
   "cell_type": "markdown",
   "id": "9e32d92d",
   "metadata": {},
   "source": [
    "In this homework, we will practice our newfound date/time, text parsing, and file I/O skills with real geoscience datasets. The exercise focus on analyzing seismic waveform data from KiK-net, a large array of strong-motion accelerometers in Japan (https://www.kyoshin.bosai.go.jp/). The data we will look at is stored in text files that are convenient enough to open and close with a text editor to look at them, but are not so easy to load into Python. This is where your new text parsing skills will come in handy!\n"
   ]
  },
  {
   "cell_type": "code",
   "execution_count": 1,
   "id": "778b5c74",
   "metadata": {},
   "outputs": [],
   "source": [
    "import numpy as np\n",
    "import pandas as pd\n",
    "import matplotlib.pyplot as plt\n",
    "from scipy import signal"
   ]
  },
  {
   "cell_type": "markdown",
   "id": "a5feb905",
   "metadata": {},
   "source": [
    "### Q1. Reading in the file.\n",
    "\n",
    "The file \"homework7_kumamoto_NGSH02_UD1.txt\" contains waveform information for the April 2016, Kumamoto, Japan earthquake recorded at the station NGSH02. For this problem:\n",
    "\n",
    "1. Read all the lines in the file into a single list.\n",
    "2. Print the total number of lines.\n",
    "3. Make a dictionary called \"meta\" (empty for now) that we will use to store \"metadata\" (auxiliary information / descriptive data about a dataset itself) for the waveform in subsequent problems."
   ]
  },
  {
   "cell_type": "code",
   "execution_count": null,
   "id": "1b743471",
   "metadata": {},
   "outputs": [],
   "source": []
  },
  {
   "cell_type": "markdown",
   "id": "984577bd",
   "metadata": {},
   "source": [
    "### Q2. Compiling meta data.\n",
    "\n",
    "The first 17 lines in your file (indices 0 through 16 in your list) store metadata (auxiliary information) about the waveform data. We'll parse this data into a dictionary as follows. Note that for all lines, the actual values of the information start at character 18; the characters before just list what the information is.\n",
    "\n",
    "* Line 0 gives the origin time when the earthquake occurred. Add a new key to your dictionary called \"otime\" with a value equal to the second part of this line (i.e., start on character 18). Use `pd.to_datetime(...)` to convert this to a `datetime`.\n",
    "\n",
    "* Lines 1, 2, 3, 4 give the earthquake's latitude, longitude, depth, and magnitude. Store these in your dictionary as floating point numbers with dictionary keys named \"qlat\", \"qlon\", \"qdep\", \"qmag\". (Again, the information starts at character 18).\n",
    "\n",
    "* Lines 5, 6, and 7 give the station name, latitude and longitude. Store these in your dictionary as a string, float, and float with keys named \"sta\", \"slat\", \"slon\". For \"sta\", be sure to strip of the final character (the newline, \\n)\n",
    "\n",
    "* Lines 9 and 10 give the start time of the recording and the sampling rate in Hz. Store these as a pandas `datetime` and a float with keys named \"tstart\" and \"fsamp\".\n",
    "\n",
    "When this is done, use a for loop to iterate over the `items()` in your dictionary, printing each item (key, value pair) on a separate line."
   ]
  },
  {
   "cell_type": "code",
   "execution_count": null,
   "id": "687d0a29",
   "metadata": {},
   "outputs": [],
   "source": [
    "\n"
   ]
  },
  {
   "cell_type": "markdown",
   "id": "3cd8ba47",
   "metadata": {},
   "source": [
    "### Q3. Load the waveform data.\n",
    "\n",
    "The remaining lines in the file (indices 17 and on in your list of lines) contain the waveform data itself (in digitized units). You will notice on each line there are 8 numbers, and there are hundreds of lines. These lines store a time series of data points, read left to right and top to bottom (a bit like a book). The first 8 data points are on the first line, the next 8 on the next line, and so on.\n",
    "\n",
    "To create a time series of data points from these lines, do the following:\n",
    "\n",
    "1. Create an empty list.\n",
    "2. Loop over the remaining lines in the file starting with line 17.\n",
    "3. Split each line into 8 numbers.\n",
    "4. Append each number in sequence as an `int` to your list.\n",
    "\n",
    "At the end, convert the list into a numpy array and print its length and the first 5 values."
   ]
  },
  {
   "cell_type": "code",
   "execution_count": null,
   "id": "760fa0ed",
   "metadata": {},
   "outputs": [],
   "source": []
  },
  {
   "cell_type": "markdown",
   "id": "74326a50",
   "metadata": {},
   "source": [
    "### Q4. Store waveform data in a `DataFrame`\n",
    "\n",
    "Make an empty `pandas DataFrame` called \"wf\". Add your seismic data as the first column, and add a second column with a timing array of the same length and the correct sampling rate. The time vector should start at t = 0.0 and have units of seconds.\n",
    "\n",
    "*Hint*: the time increment between points is equal to `1 / meta[\"fsamp\"]`. This can be used as the interval in `np.arange()`, for example."
   ]
  },
  {
   "cell_type": "code",
   "execution_count": null,
   "id": "808bf9f3",
   "metadata": {},
   "outputs": [],
   "source": []
  },
  {
   "cell_type": "markdown",
   "id": "81277880",
   "metadata": {},
   "source": [
    "### Q5. Convert your time vector to UTC.\n",
    "\n",
    "In Q4, you made a time vector with the right sampling rate but starting at a time of 0.0. To convert this to an actual timestamp, do the following:\n",
    "\n",
    "1. Create a new column in your `DataFrame` equal to `meta[\"tstart\"]` plus a datetime version of your time vector, e.g. `pd.to_timedelta(wf[\"time\"], unit=\"s\")`.\n",
    "2. Since \"tstart\" is Japan's time zone, we need to subtract nine hours to convert to the standard UTC. Do this by subtracting `pd.to_timedelta(9, unit=\"H\")` from your new column.\n",
    "\n",
    "Display your DataFrame with these updates."
   ]
  },
  {
   "cell_type": "code",
   "execution_count": null,
   "id": "d058f927",
   "metadata": {},
   "outputs": [],
   "source": []
  },
  {
   "cell_type": "markdown",
   "id": "bf5e0426",
   "metadata": {},
   "source": [
    "### Q6. Plot waveform data.\n",
    "\n",
    "Plot the time series (time in UTC as the x variable, data as the y-variable). Make the figure have a size of (10,4). Label both axes."
   ]
  },
  {
   "cell_type": "code",
   "execution_count": null,
   "id": "704241f5",
   "metadata": {},
   "outputs": [],
   "source": []
  },
  {
   "cell_type": "markdown",
   "id": "df0f74f7",
   "metadata": {},
   "source": [
    "### Q7. Filtering waveform data\n",
    "\n",
    "So far, we've worked with the raw seismic data as recorded by the seismometer. Often in seismology, we want to filter the data into a specific frequency band to aid visualization or other analysis. The `scipy` package has a nice set of functions in the `signal` module (https://docs.scipy.org/doc/scipy/reference/signal.html) that we can use to do this: \n",
    "\n",
    "For example, the cell below calculates the coefficients (`b` and `a`) of a 4-pole Butterworth filter that low passes the data with a corner frequency of 1.0 Hz. Notice how we input the known sampling rate of the data, 100.0 Hz."
   ]
  },
  {
   "cell_type": "code",
   "execution_count": null,
   "id": "90936628",
   "metadata": {},
   "outputs": [],
   "source": [
    "from scipy import signal\n",
    "b, a = signal.butter(4,1.0,\"low\",output=\"ba\",fs=100.0)"
   ]
  },
  {
   "cell_type": "markdown",
   "id": "f1afaad0",
   "metadata": {},
   "source": [
    "In the cells below, we will compare the original waveform data to a filter version as follows:\n",
    "\n",
    "* First, compute the mean value of the data array and subtract it from the data (centering the data in this way is a best practice before filtering).\n",
    "* Next, use the command `signal.filtfilt(b, a, data)` to filter the data (after mean has been removed).\n",
    "* Then make a single plot with two time series: the raw data (with the mean removed) in black (linewidth of 1), and the filtered data in red (linewidth of 2). Label your axes, and add a legend to your figure.\n",
    "\n",
    "Hint: see the documentation here https://docs.scipy.org/doc/scipy/reference/generated/scipy.signal.filtfilt.html if you get stuck."
   ]
  },
  {
   "cell_type": "code",
   "execution_count": null,
   "id": "cfded709",
   "metadata": {},
   "outputs": [],
   "source": []
  },
  {
   "cell_type": "markdown",
   "id": "8215b9d1",
   "metadata": {},
   "source": [
    "### Q8. Design your own filter.\n",
    "\n",
    "Use `signal.butter(...)` as in the example cell above to create a new filter in a frequency band of your choice. Notice that you can create lowpass, highpass, or bandpass filters by changing the third input argument to `butter` to \"low\", \"high\", or \"bandpass\", respectively. The second input argument controls the corner frequency of the filter (for the bandpass case, you need to pass a list of two corner frequencies instead of a single value).\n",
    "\n",
    "After you've designed your new filter, apply it to the raw (de-meaned) data and make an analogous plot to the one in Q7. \n"
   ]
  },
  {
   "cell_type": "code",
   "execution_count": null,
   "id": "1546cae6",
   "metadata": {},
   "outputs": [],
   "source": []
  },
  {
   "cell_type": "markdown",
   "id": "8ed67085",
   "metadata": {},
   "source": [
    "### Please list any other students that you worked with on this assignment"
   ]
  },
  {
   "cell_type": "code",
   "execution_count": null,
   "id": "77513b6a",
   "metadata": {},
   "outputs": [],
   "source": [
    "# I worked with the following students:"
   ]
  },
  {
   "cell_type": "markdown",
   "id": "6732b730",
   "metadata": {},
   "source": [
    "### To receive credit for this homework, upload both the .ipynb file and a .html version."
   ]
  }
 ],
 "metadata": {
  "kernelspec": {
   "display_name": "Python 3 (ipykernel)",
   "language": "python",
   "name": "python3"
  },
  "language_info": {
   "codemirror_mode": {
    "name": "ipython",
    "version": 3
   },
   "file_extension": ".py",
   "mimetype": "text/x-python",
   "name": "python",
   "nbconvert_exporter": "python",
   "pygments_lexer": "ipython3",
   "version": "3.10.13"
  }
 },
 "nbformat": 4,
 "nbformat_minor": 5
}
