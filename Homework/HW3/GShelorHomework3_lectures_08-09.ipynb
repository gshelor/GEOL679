{
 "cells": [
  {
   "cell_type": "markdown",
   "metadata": {},
   "source": [
    "Griffin Shelor\\\n",
    "29-2-2024"
   ]
  },
  {
   "cell_type": "markdown",
   "metadata": {},
   "source": [
    "# Homework 3: Strings and Plotting"
   ]
  },
  {
   "cell_type": "code",
   "execution_count": 1,
   "metadata": {},
   "outputs": [],
   "source": [
    "## importing packages\n",
    "import random\n",
    "import math\n",
    "import numpy as np\n",
    "import matplotlib.pyplot as plt\n",
    "import string"
   ]
  },
  {
   "cell_type": "markdown",
   "metadata": {},
   "source": [
    "### Q1. Write a function to play rock, paper, scissors.\n",
    "\n",
    "An example algorithm could be as follows:\n",
    "* Ask the player to `input()` 'rock', 'paper', or 'scissors'\n",
    "* Use the string function `lower()` to correct the entry if the user enters a capital letter (e.g. Rock or ROCK)\n",
    "* Use `choice()` from the module `random` to randomly choose 'rock', 'paper', or 'scissors'\n",
    "* Print out both the user and computer choices, and let player know whether they won, lost, or tied\n",
    "* Print out an error if player does not enter 'rock', 'paper', or 'scissors'\n",
    "\n",
    "Note that your function does not need an input or an output variable. The `print()` statements may be performed inside the fucntion."
   ]
  },
  {
   "cell_type": "code",
   "execution_count": 2,
   "metadata": {},
   "outputs": [
    {
     "name": "stdout",
     "output_type": "stream",
     "text": [
      "Computer: rock\n",
      "Computer chose rock, you win!\n"
     ]
    }
   ],
   "source": [
    "## asking for initial choice\n",
    "initial = input(\"Please choose 'rock', 'paper', or 'scissors':\")\n",
    "## putting it in lowercase\n",
    "rps_user = initial.lower()\n",
    "## generating random computer choice\n",
    "rps_random = random.choice(['rock', 'paper', 'scissors'])\n",
    "## invalid answer\n",
    "if rps_user != 'rock' and rps_user != 'paper' and rps_user != 'scissors':\n",
    "    print(\"You did not enter a valid option, please try again\")\n",
    "## tie\n",
    "elif rps_user == rps_random:\n",
    "    print(\"Computer:\", rps_random)\n",
    "    print(\"You tied.\")\n",
    "## if user and computer choices are different\n",
    "elif rps_user == 'rock' and rps_random == 'paper':\n",
    "    print(\"Computer:\", rps_random)\n",
    "    print(\"Sorry, Computer chose paper. You lose.\")\n",
    "elif rps_user == 'paper' and rps_random == 'rock':\n",
    "    print(\"Computer:\", rps_random)\n",
    "    print(\"Computer chose rock, you win!\")\n",
    "elif rps_user == 'rock' and rps_random == 'scissors':\n",
    "    print(\"Computer:\", rps_random)\n",
    "    print(\"Computer chose scissors, you win!\")\n",
    "elif rps_user == 'scissors' and rps_random == 'rock':\n",
    "    print(\"Computer:\", rps_random)\n",
    "    print(\"Sorry, Computer chose rock. You lose.\")\n",
    "elif rps_user == 'paper' and rps_random == 'scissors':\n",
    "    print(\"Computer:\", rps_random)\n",
    "    print(\"Sorry, Computer chose scissors. You lose.\")\n",
    "else:\n",
    "    print(\"Computer:\", rps_random)\n",
    "    print(\"Chomputer chose paper, you win!\")"
   ]
  },
  {
   "cell_type": "markdown",
   "metadata": {},
   "source": [
    "### Q2. Write a function called `cypher` that makes a _Caesar cypher_, which is a type of substitution cipher in which each letter in a string of text is replaced by a different letter positioned some fixed number of characters down the alphabet. For example, with a shift of -3, E would be replaced by B, D would become A, C would be replaced by Z, and so on. The method is named after Julius Caesar, who supposedly used it in his private correspondence. The result should be in all uppercase. \n",
    "* The function `cypher` should have two inputs: a word (a string), and a shift value (an int)\n",
    "* While the word may be a mix of upper and lowercase, for simplicity you should convert the output to all uppercase.\n",
    "* A positive shift will shift letters to the right in the alphabet\n",
    "* A negative shift will shift letters to the left in the alphabet\n",
    "* The function should return the shifted new word, in all capital letters.\n",
    "* For simplicity, you may assume that the input string only contains uppercase and lowercase letters (i.e. no numbers or punctuation), and that the shift is between -25 and +25.\n",
    "\n",
    "**Examples:**\n",
    "* `cypher('abc',-1)` should return 'ZAB'\n",
    "* `cypher('xyz',3)` should return 'ABC'\n",
    "* `cypher('Daniel',-5)` should return 'YVIDZG'\n",
    "\n",
    "**Please do not use the following functions in your solution (and don't worry if you've never heard of them!):** \n",
    "* `chr()`, `ord()`, `char()`"
   ]
  },
  {
   "cell_type": "code",
   "execution_count": 3,
   "metadata": {},
   "outputs": [
    {
     "name": "stdout",
     "output_type": "stream",
     "text": [
      "ZAB\n",
      "TUZW\n",
      "ABC\n",
      "CNFXAK\n",
      "YVIDZG\n"
     ]
    }
   ],
   "source": [
    "def cypher(word, shift_val):\n",
    "    ## setting list of alphabetical characters\n",
    "    alphabet = [\"A\",\"B\",\"C\",\"D\",\"E\",\"F\",\"G\",\"H\",\"I\",\"J\",\"K\",\"L\",\"M\",\"N\",\"O\",\"P\",\"Q\",\"R\",\"S\",\"T\",\"U\",\"V\",\"W\",\"X\",\"Y\",\"Z\"]\n",
    "    ## making word upper case\n",
    "    word_upper = word.upper()\n",
    "    ## checking length of shift_val\n",
    "    if abs(shift_val) > 25:\n",
    "        print(\"Error, shift value was more than 25 characters\")\n",
    "    else:\n",
    "        ## if shift_val is within acceptable limits, converting string to list\n",
    "        word_list = list(word_upper)\n",
    "    ## checking each letter to see if it would need to wrap around to the beginning or end of the alphabet depending on direction of adjustment, then applying appropriate adjustment\n",
    "    for letter in range(len(word_list)):\n",
    "        if alphabet.index(word_list[letter]) + shift_val > 25:\n",
    "            word_list[letter] = alphabet[abs(26 - (shift_val + alphabet.index(word_list[letter])))]\n",
    "        else:\n",
    "            word_list[letter] = alphabet[alphabet.index(word_list[letter]) + shift_val]\n",
    "        output_word = \"\".join(word_list)\n",
    "    return output_word\n",
    "print(cypher(\"abc\", -1))\n",
    "print(cypher(\"zafc\", -6))\n",
    "print(cypher(\"xyz\", 3))\n",
    "print(cypher('whzrue', 6))\n",
    "print(cypher('Daniel', -5))"
   ]
  },
  {
   "cell_type": "markdown",
   "metadata": {},
   "source": [
    "### Q3. Write a function that has an integer `n` as its input parameter, where `n` can be between 1 and 9, and prints a \"text triangle\" with `n` lines that uses the numbers from 1 to 9. For example, if `n = 3`, the 3 printed lines would be: \n",
    "\n",
    "1\\\n",
    "22\\\n",
    "333 \n",
    "\n",
    "### Print out an error if `n` is less than 1 or greater than 9."
   ]
  },
  {
   "cell_type": "code",
   "execution_count": 4,
   "metadata": {},
   "outputs": [
    {
     "name": "stdout",
     "output_type": "stream",
     "text": [
      "1\n",
      "22\n",
      "333\n",
      "4444\n",
      "55555\n",
      "666666\n",
      "7777777\n",
      "88888888\n",
      "None\n",
      "1\n",
      "22\n",
      "333\n",
      "4444\n",
      "55555\n",
      "666666\n",
      "None\n",
      "Error, please enter an integer between 1 and 9\n",
      "None\n"
     ]
    }
   ],
   "source": [
    "def test_triangle_func(n):\n",
    "    ## ensuring n is an acceptable integer\n",
    "    if n < 1 or n > 9 or type(n) != int:\n",
    "        print(\"Error, please enter an integer between 1 and 9\")\n",
    "    ## printing lines of \n",
    "    else:\n",
    "        for num in range(1,n + 1):\n",
    "            if num == n:\n",
    "                print(str(num) * n)\n",
    "            else:\n",
    "                print(str(num) * num)\n",
    "print(test_triangle_func(8))\n",
    "print(test_triangle_func(6))\n",
    "print(test_triangle_func(10))"
   ]
  },
  {
   "cell_type": "markdown",
   "metadata": {},
   "source": [
    "### Q4. Write a function that takes a string as its input parameter and tells the user if that string would make a strong password. You get a maximum of one point for each of the following:\n",
    "\n",
    "* Having at least one digit\n",
    "* Having at least one lowercase letter\n",
    "* Having at least one uppercase letter\n",
    "* Having at least one character that is in `string.punctuation`\n",
    "* Having at least 12 characters\n",
    "\n",
    "**Once you have tallied the points, score the password as follows:**\n",
    "- 0-2 points: print 'that is a weak password'\n",
    "- 3-4 points: print 'that is an decent password'\n",
    "- 5 points: print 'that is a strong password!'\n",
    "\n",
    "The scoring can be printed inside the function and does not need to be returned as a number."
   ]
  },
  {
   "cell_type": "code",
   "execution_count": 5,
   "metadata": {},
   "outputs": [
    {
     "name": "stdout",
     "output_type": "stream",
     "text": [
      "1 that is a weak password!\n",
      "None\n",
      "5 that is a strong password!\n",
      "None\n",
      "4 that is a decent password!\n",
      "None\n"
     ]
    }
   ],
   "source": [
    "def password_test(password):\n",
    "    ## setting initial points total for password and acceptable numbers and letters\n",
    "    score = 0\n",
    "    digits = ['0','1','2','3','4','5','6','7','8','9']\n",
    "    alphabet = [\"A\",\"B\",\"C\",\"D\",\"E\",\"F\",\"G\",\"H\",\"I\",\"J\",\"K\",\"L\",\"M\",\"N\",\"O\",\"P\",\"Q\",\"R\",\"S\",\"T\",\"U\",\"V\",\"W\",\"X\",\"Y\",\"Z\"]\n",
    "    alphabet_lower = [\"a\",\"b\",\"c\",\"d\",\"e\",\"f\",\"g\",\"h\",\"i\",\"j\",\"k\",\"l\",\"m\",\"n\",\"o\",\"p\",\"q\",\"r\",\"s\",\"t\",\"u\",\"v\",\"w\",\"x\",\"y\",\"z\"]\n",
    "    ## checking password to see if it has a number, uppercase letter, lowercase letter, or a punctuation character, then moving on to the next test once a relevant character is found\n",
    "    for a in password:\n",
    "        if a in digits:\n",
    "            score += 1\n",
    "            break\n",
    "    for a in password:\n",
    "        if a in alphabet:\n",
    "            score += 1\n",
    "            break\n",
    "    for a in password:\n",
    "        if a in alphabet_lower:\n",
    "            score += 1\n",
    "            break\n",
    "    for a in password:\n",
    "        if a in string.punctuation:\n",
    "            score += 1\n",
    "            break\n",
    "    if len(password) >= 12:\n",
    "        score += 1\n",
    "    ## evaluating password quality\n",
    "    if score == 5:\n",
    "        print(score, \"that is a strong password!\")\n",
    "    elif score > 3:\n",
    "        print(score, \"that is a decent password!\")\n",
    "    else:\n",
    "        print(score, \"that is a weak password!\")\n",
    "\n",
    "print(password_test(\"whgh\"))\n",
    "print(password_test(\"dSSGGsbbwbwodisn!64534@\"))\n",
    "print(password_test(\"fG$1\"))"
   ]
  },
  {
   "cell_type": "markdown",
   "metadata": {},
   "source": [
    "### Q5. Think of a creative way to use both the `random` and `math` libraries to make some interesting lists. (Alternatively, you may use `numpy` arrays if you are comfortable with that). Then use these lists/arrays to make a beautiful plot with `matplotlib` (get creative and don't just plot a solid line). Make sure the axes are labeled and there is a legend. Display the figure and save it as a png file.\n",
    "\n",
    "* **Note**: be sure your saved version is the same as the one seen in the notebook! A common mistake is to call `plt.show()` before saving, this will clear the figure such that your saved version is blank."
   ]
  },
  {
   "cell_type": "code",
   "execution_count": 6,
   "metadata": {},
   "outputs": [
    {
     "data": {
      "image/png": "[encoded data removed]",
      "text/plain": [
       "<Figure size 640x480 with 1 Axes>"
      ]
     },
     "metadata": {},
     "output_type": "display_data"
    }
   ],
   "source": [
    "## setting seed\n",
    "random.seed(802)\n",
    "max_y = random.randint(15,20)\n",
    "max_x = random.randint(20,25)\n",
    "## drawing \"TACO\" with numpy arrays\n",
    "y1 = np.linspace(0.9 * max_y, 0.9 * max_y, random.randint(5,10))\n",
    "x1 = np.linspace(0.1 * max_x, 0.25 * max_x, len(y1))\n",
    "y2 = np.linspace(0.9 * max_y, 0.1 * max_y, random.randint(15,20))\n",
    "x2 = np.linspace(0.175 * max_x, 0.175 * max_x, len(y2))\n",
    "y3 = np.linspace(0.1 * max_y, 0.9 * max_y, random.randint(10,15))\n",
    "x3 = np.linspace(0.3 * max_x, 0.375 * max_x, len(y3))\n",
    "y4 = np.linspace(0.9 * max_y, 0.1 * max_y, random.randint(10,15))\n",
    "x4 = np.linspace(0.375 * max_x, 0.45 * max_x, len(y4))\n",
    "y5 = np.linspace(np.median(y4), np.median(y4), random.randint(2,5))\n",
    "x5 = np.linspace(np.median(x3), np.median(x4), len(y5))\n",
    "## plot x6 with y1\n",
    "x6 = np.linspace(0.51 * max_x, 0.65 * max_x, len(y1))\n",
    "y7 = np.linspace(0.11 * max_y, 0.89 * max_y, len(y1))\n",
    "x7 = np.linspace(0.5 * max_x, 0.5 * max_x, len(y7))\n",
    "y8 = np.linspace(0.1 * max_y, 0.1 * max_y, len(y1))\n",
    "## plot x8 with y1\n",
    "## plot x8 with y8 as well\n",
    "x8 = np.linspace(0.71 * max_x, 0.84 * max_x, len(y1))\n",
    "## plot x9 with y7\n",
    "x9 = np.linspace(0.7 * max_x, 0.7 * max_x, len(y7))\n",
    "## plot x11 with y7\n",
    "x10 = np.linspace(0.85 * max_x, 0.85 * max_x, len(y7))\n",
    "\n",
    "\n",
    "\n",
    "plt.plot(x1, y1, 'o', color = 'blue', label = 'T')\n",
    "plt.plot(x2, y2, 'o', color = 'blue')\n",
    "plt.plot(x3, y3, 's', mfc = 'green', mec = 'red', label = 'A')\n",
    "plt.plot(x4, y4, 's', mfc = 'green', mec = 'red')\n",
    "plt.plot(x5, y5, 's', mfc = 'green', mec = 'red')\n",
    "plt.plot(x6, y1, '8', mfc = 'purple', mec = 'purple', label = 'C')\n",
    "plt.plot(x7, y7, marker = '8', mfc = 'purple')\n",
    "plt.plot(x6, y8, '8', mfc = 'purple', mec = 'purple')\n",
    "plt.plot(x8, y1, 'h', mfc = 'red', mec = 'cyan', label = 'O')\n",
    "plt.plot(x9, y7, marker = 'h', color = 'red', mec = 'cyan')\n",
    "plt.plot(x8, y8, 'h', mfc = 'red', mec = 'cyan')\n",
    "plt.plot(x10, y7, marker = 'h', color = 'red', mec = 'cyan')\n",
    "## setting x axis width\n",
    "plt.xlim([0, max_x])\n",
    "## adding labels and legend\n",
    "plt.xlabel('Width of word')\n",
    "plt.ylabel('Height of word')\n",
    "plt.legend(loc = 'best');\n",
    "\n",
    "plt.savefig('Homework3.png',dpi=300)"
   ]
  },
  {
   "cell_type": "markdown",
   "metadata": {},
   "source": [
    "### Please list any other students that you worked with on this assignment"
   ]
  },
  {
   "cell_type": "code",
   "execution_count": 7,
   "metadata": {},
   "outputs": [],
   "source": [
    "# I worked with the following students: Hannah Potts, Faith Machuca"
   ]
  },
  {
   "cell_type": "markdown",
   "metadata": {},
   "source": [
    "### To receive credit for this homework upload both the .ipynb file and an .html version."
   ]
  }
 ],
 "metadata": {
  "kernelspec": {
   "display_name": "Python 3 (ipykernel)",
   "language": "python",
   "name": "python3"
  },
  "language_info": {
   "codemirror_mode": {
    "name": "ipython",
    "version": 3
   },
   "file_extension": ".py",
   "mimetype": "text/x-python",
   "name": "python",
   "nbconvert_exporter": "python",
   "pygments_lexer": "ipython3",
   "version": "3.10.13"
  }
 },
 "nbformat": 4,
 "nbformat_minor": 4
}
