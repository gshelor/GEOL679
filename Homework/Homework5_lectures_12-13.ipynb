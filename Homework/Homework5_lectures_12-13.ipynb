{
 "cells": [
  {
   "cell_type": "markdown",
   "metadata": {},
   "source": [
    "## Homework 5: Numpy and Matplotlib"
   ]
  },
  {
   "cell_type": "code",
   "execution_count": null,
   "metadata": {},
   "outputs": [],
   "source": [
    "import numpy as np\n",
    "import matplotlib.pyplot as plt\n",
    "from netCDF4 import Dataset as netcdf_dataset\n",
    "\n",
    "# adds in special scipy datasets\n",
    "!pip install pooch # for special datasets\n",
    "from scipy import datasets"
   ]
  },
  {
   "cell_type": "markdown",
   "metadata": {},
   "source": [
    "### Q1-Q4 will work with data from the file \"lecture11_precipitation.csv\". The file contains monthly precipitation data for Southeast England between 1916 and 2016 provided by the Met Office. Each row represents a year, and each column represents a month.\n",
    "* Data courtesy of Introduction to Programming for Geoscientists, [Gerard J. Gorman (g.gorman@imperial.ac.uk)](http://www.imperial.ac.uk/people/g.gorman), [Nicolas Barral (n.barral@imperial.ac.uk)](http://www.imperial.ac.uk/people/n.barral) "
   ]
  },
  {
   "cell_type": "markdown",
   "metadata": {},
   "source": [
    "### Q1. Loading the Dataset\n",
    "\n",
    "- Load the data from \"homework5_precipitation.csv\" into a (2D) numpy `array`;\n",
    "- Create two, 1D `numpy` arrays, one containing the years 1916-2016 and the other containg the months 1-12.\n",
    "- Both of these arrays should have `dtype=int`;\n",
    "- Print out the `shape` of (i) the data array loaded from the text file, (ii) the years array, and (iii) the months arrays.\n",
    "\n",
    "Hint: if the length of your years array does not equal the number of rows in your data array, or the length of your months array does not equal the number of columns in your data array, you have done something wrong!"
   ]
  },
  {
   "cell_type": "code",
   "execution_count": null,
   "metadata": {},
   "outputs": [],
   "source": []
  },
  {
   "cell_type": "markdown",
   "metadata": {},
   "source": [
    "### Q2. Write a nested `for` loop over all the rows (years) and columns (months) in your precipitation data array. Print the year, month, and precipitation value of all instances when precipitation values are > 170. Each printed line should have the year, month, and value when this condition is met."
   ]
  },
  {
   "cell_type": "code",
   "execution_count": null,
   "metadata": {},
   "outputs": [],
   "source": []
  },
  {
   "cell_type": "markdown",
   "metadata": {},
   "source": [
    "### Q3. Use `numpy` to calculate the mean  and standard deviation of precipitation in each year. Make a plot with years on the x-axis and the mean precipitation in that year on the y-axis, with these calculated data points marked as red circles. Add error bars that correspond to the standard deviation in the precipitation values for each year. Label your plot axes.\n",
    "\n",
    "Hint: recall that you can specify the \"axis\" when using `np.mean` and `np.std` on 2D arrays."
   ]
  },
  {
   "cell_type": "code",
   "execution_count": null,
   "metadata": {},
   "outputs": [],
   "source": []
  },
  {
   "cell_type": "markdown",
   "metadata": {},
   "source": [
    "### Q4. Use `numpy` to calculate the total precipitation in each year. Print the year and the total precipitation in each of the five years with the lowest precipitation (five printed lines in total). Repeat this for the five years with the highest precipitation (again, five printed lines).\n",
    "\n",
    "Hint: the function `np.argsort()` may be of use!"
   ]
  },
  {
   "cell_type": "code",
   "execution_count": null,
   "metadata": {},
   "outputs": [],
   "source": []
  },
  {
   "cell_type": "markdown",
   "metadata": {},
   "source": [
    "### Q5. Did you know that image files can be treated as numpy `arrays`? In the cell below the code will load in an image and display it. Modify the code so that you \"zoom in\" and just display the face of the racoon. Save the zoomed image to a png file.\n",
    "\n",
    "Hint: since `face` is an array, it can be sliced!"
   ]
  },
  {
   "cell_type": "code",
   "execution_count": null,
   "metadata": {},
   "outputs": [],
   "source": [
    "# Edit this\n",
    "face = datasets.face(gray=True)\n",
    "plt.imshow(face, cmap=plt.cm.gray);"
   ]
  },
  {
   "cell_type": "code",
   "execution_count": null,
   "metadata": {},
   "outputs": [],
   "source": []
  },
  {
   "cell_type": "markdown",
   "metadata": {},
   "source": [
    "### Q6. Working with the full image (i.e., not just the zoomed in face), change all the values that are less than 50 to a value of 50, and all values that are greater than or equal 100 to a value of 100. Plot the image."
   ]
  },
  {
   "cell_type": "code",
   "execution_count": null,
   "metadata": {},
   "outputs": [],
   "source": []
  },
  {
   "cell_type": "markdown",
   "metadata": {},
   "source": [
    "### Q7. Plotting a topographic grid.\n",
    "\n",
    "1. Download a topographic grid in netcdf format from https://www.gmrt.org/GMRTMapTool/ with the following lon/lat limits: xlim=(-116.5, -114.5) for longitudes, ylim=(39.4, 41.3) for latitudes. \n",
    "2. After selecting these limits, press the \"Create Grid File\" button. When making your grid choose the following options: \"Coards/CF Compliant NetCDF\" format, \"Unmasked\", and \"Medium\" resolution. \n",
    "3. Load the data using the `netcdf_dataset` command and make three numpy `arrays` from the `lon`, `lat`, and `altitude` fields.\n",
    "4. Plot the grid using `plt.imshow` with the `'terrain'` colormap. Be sure to label the x and y axes, which should have units of longitude (degrees) and latitude (degrees). Save the image to a png file.\n",
    "\n",
    "**Hint**: At the same website you downloaded the .grd file, you can also display an image of the topography. This may help you check the plot you make below. "
   ]
  },
  {
   "cell_type": "code",
   "execution_count": null,
   "metadata": {},
   "outputs": [],
   "source": []
  },
  {
   "cell_type": "markdown",
   "metadata": {},
   "source": [
    "### Please list any other students that you worked with on this assignment"
   ]
  },
  {
   "cell_type": "code",
   "execution_count": null,
   "metadata": {},
   "outputs": [],
   "source": [
    "# I worked with the following students:"
   ]
  },
  {
   "cell_type": "markdown",
   "metadata": {},
   "source": [
    "### To receive credit for this homework upload both the .ipynb file and an .html version."
   ]
  }
 ],
 "metadata": {
  "kernelspec": {
   "display_name": "Python 3 (ipykernel)",
   "language": "python",
   "name": "python3"
  },
  "language_info": {
   "codemirror_mode": {
    "name": "ipython",
    "version": 3
   },
   "file_extension": ".py",
   "mimetype": "text/x-python",
   "name": "python",
   "nbconvert_exporter": "python",
   "pygments_lexer": "ipython3",
   "version": "3.10.13"
  }
 },
 "nbformat": 4,
 "nbformat_minor": 4
}
