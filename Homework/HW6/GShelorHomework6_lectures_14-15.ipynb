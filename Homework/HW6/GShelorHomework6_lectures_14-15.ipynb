{
 "cells": [
  {
   "cell_type": "markdown",
   "metadata": {},
   "source": [
    "Griffin Shelor\\\n",
    "28-3-2024"
   ]
  },
  {
   "cell_type": "markdown",
   "metadata": {},
   "source": [
    "# Homework 6: Working with Pandas"
   ]
  },
  {
   "cell_type": "code",
   "execution_count": 1,
   "metadata": {},
   "outputs": [],
   "source": [
    "import numpy as np\n",
    "import pandas as pd\n",
    "import matplotlib.pyplot as plt"
   ]
  },
  {
   "cell_type": "markdown",
   "metadata": {},
   "source": [
    "### Q1. Read the csv file 'homework6_movies.csv' into a `pandas` `DataFrame`. Display the column names - just the column names - don't use `.head()`."
   ]
  },
  {
   "cell_type": "code",
   "execution_count": 2,
   "metadata": {},
   "outputs": [
    {
     "data": {
      "text/plain": [
       "Index(['budget', 'genres', 'homepage', 'id', 'keywords', 'original_language',\n",
       "       'original_title', 'overview', 'popularity', 'production_companies',\n",
       "       'production_countries', 'release_date', 'revenue', 'runtime',\n",
       "       'spoken_languages', 'status', 'tagline', 'title', 'vote_average',\n",
       "       'vote_count'],\n",
       "      dtype='object')"
      ]
     },
     "execution_count": 2,
     "metadata": {},
     "output_type": "execute_result"
    }
   ],
   "source": [
    "## reading in data\n",
    "movies = pd.read_csv('homework6_movies.csv')\n",
    "## displaying column names\n",
    "movies.columns"
   ]
  },
  {
   "cell_type": "markdown",
   "metadata": {},
   "source": [
    "### Q2. Make a `DataFrame` that contains just the columns 'title', 'genres','budget', 'revenue', 'vote_average', 'release_date'. Print the shape of this dataframe, and display the first 5 rows. \n",
    "\n",
    "If you decide to give this `DataFrame` a new name then use `.copy()` when generating it (otherwise you may get pink warning messages when you do some of the later questions)."
   ]
  },
  {
   "cell_type": "code",
   "execution_count": 3,
   "metadata": {},
   "outputs": [
    {
     "data": {
      "text/html": [
       "<div>\n",
       "<style scoped>\n",
       "    .dataframe tbody tr th:only-of-type {\n",
       "        vertical-align: middle;\n",
       "    }\n",
       "\n",
       "    .dataframe tbody tr th {\n",
       "        vertical-align: top;\n",
       "    }\n",
       "\n",
       "    .dataframe thead th {\n",
       "        text-align: right;\n",
       "    }\n",
       "</style>\n",
       "<table border=\"1\" class=\"dataframe\">\n",
       "  <thead>\n",
       "    <tr style=\"text-align: right;\">\n",
       "      <th></th>\n",
       "      <th>title</th>\n",
       "      <th>genres</th>\n",
       "      <th>budget</th>\n",
       "      <th>revenue</th>\n",
       "      <th>vote_average</th>\n",
       "      <th>release_date</th>\n",
       "    </tr>\n",
       "  </thead>\n",
       "  <tbody>\n",
       "    <tr>\n",
       "      <th>0</th>\n",
       "      <td>Avatar</td>\n",
       "      <td>[{\"id\": 28, \"name\": \"Action\"}, {\"id\": 12, \"nam...</td>\n",
       "      <td>237000000</td>\n",
       "      <td>2787965087</td>\n",
       "      <td>7.2</td>\n",
       "      <td>2009-12-10</td>\n",
       "    </tr>\n",
       "    <tr>\n",
       "      <th>1</th>\n",
       "      <td>Pirates of the Caribbean: At World's End</td>\n",
       "      <td>[{\"id\": 12, \"name\": \"Adventure\"}, {\"id\": 14, \"...</td>\n",
       "      <td>300000000</td>\n",
       "      <td>961000000</td>\n",
       "      <td>6.9</td>\n",
       "      <td>2007-05-19</td>\n",
       "    </tr>\n",
       "    <tr>\n",
       "      <th>2</th>\n",
       "      <td>Spectre</td>\n",
       "      <td>[{\"id\": 28, \"name\": \"Action\"}, {\"id\": 12, \"nam...</td>\n",
       "      <td>245000000</td>\n",
       "      <td>880674609</td>\n",
       "      <td>6.3</td>\n",
       "      <td>2015-10-26</td>\n",
       "    </tr>\n",
       "    <tr>\n",
       "      <th>3</th>\n",
       "      <td>The Dark Knight Rises</td>\n",
       "      <td>[{\"id\": 28, \"name\": \"Action\"}, {\"id\": 80, \"nam...</td>\n",
       "      <td>250000000</td>\n",
       "      <td>1084939099</td>\n",
       "      <td>7.6</td>\n",
       "      <td>2012-07-16</td>\n",
       "    </tr>\n",
       "    <tr>\n",
       "      <th>4</th>\n",
       "      <td>John Carter</td>\n",
       "      <td>[{\"id\": 28, \"name\": \"Action\"}, {\"id\": 12, \"nam...</td>\n",
       "      <td>260000000</td>\n",
       "      <td>284139100</td>\n",
       "      <td>6.1</td>\n",
       "      <td>2012-03-07</td>\n",
       "    </tr>\n",
       "  </tbody>\n",
       "</table>\n",
       "</div>"
      ],
      "text/plain": [
       "                                      title  \\\n",
       "0                                    Avatar   \n",
       "1  Pirates of the Caribbean: At World's End   \n",
       "2                                   Spectre   \n",
       "3                     The Dark Knight Rises   \n",
       "4                               John Carter   \n",
       "\n",
       "                                              genres     budget     revenue  \\\n",
       "0  [{\"id\": 28, \"name\": \"Action\"}, {\"id\": 12, \"nam...  237000000  2787965087   \n",
       "1  [{\"id\": 12, \"name\": \"Adventure\"}, {\"id\": 14, \"...  300000000   961000000   \n",
       "2  [{\"id\": 28, \"name\": \"Action\"}, {\"id\": 12, \"nam...  245000000   880674609   \n",
       "3  [{\"id\": 28, \"name\": \"Action\"}, {\"id\": 80, \"nam...  250000000  1084939099   \n",
       "4  [{\"id\": 28, \"name\": \"Action\"}, {\"id\": 12, \"nam...  260000000   284139100   \n",
       "\n",
       "   vote_average release_date  \n",
       "0           7.2   2009-12-10  \n",
       "1           6.9   2007-05-19  \n",
       "2           6.3   2015-10-26  \n",
       "3           7.6   2012-07-16  \n",
       "4           6.1   2012-03-07  "
      ]
     },
     "execution_count": 3,
     "metadata": {},
     "output_type": "execute_result"
    }
   ],
   "source": [
    "## subsetting by specific columns\n",
    "movies_new = movies[[\"title\", \"genres\", \"budget\", \"revenue\", \"vote_average\", \"release_date\"]].copy()\n",
    "\n",
    "## printing first 5 rows\n",
    "movies_new.head()"
   ]
  },
  {
   "cell_type": "markdown",
   "metadata": {},
   "source": [
    "### Q3. Use `.replace()` to change all the revenue values of `0` to `np.NaN`. Next, drop all `NaN` values from the `DataFrame` and reset the row indices. Finally, use `info()` to check that all `NaN` values have been removed.\n",
    "\n",
    "\n",
    "**Important Note:** Make sure that the indices are properly reset as you will be working with this `DataFrame` for the rest of the homework.\n",
    "\n",
    "[Aside: Depending on how you use the function `dropna()` you may see pink warning messages. This is because `dropna()` returns a view and not a copy of the data, and thus changes to the view are frowned upon. Don't sweat this detail for our notebook today.]"
   ]
  },
  {
   "cell_type": "code",
   "execution_count": 4,
   "metadata": {},
   "outputs": [
    {
     "name": "stdout",
     "output_type": "stream",
     "text": [
      "<class 'pandas.core.frame.DataFrame'>\n",
      "RangeIndex: 3376 entries, 0 to 3375\n",
      "Data columns (total 6 columns):\n",
      " #   Column        Non-Null Count  Dtype  \n",
      "---  ------        --------------  -----  \n",
      " 0   title         3376 non-null   object \n",
      " 1   genres        3376 non-null   object \n",
      " 2   budget        3376 non-null   int64  \n",
      " 3   revenue       3376 non-null   float64\n",
      " 4   vote_average  3376 non-null   float64\n",
      " 5   release_date  3376 non-null   object \n",
      "dtypes: float64(2), int64(1), object(3)\n",
      "memory usage: 158.4+ KB\n"
     ]
    }
   ],
   "source": [
    "# replacing 0 with NaN\n",
    "movies_new[\"revenue\"] = movies_new[\"revenue\"].replace(0, np.NaN)\n",
    "\n",
    "# drop rows with NAs, resetting indices\n",
    "clean_movies = movies_new.dropna()\n",
    "clean_movies.reset_index(drop=True, inplace=True)\n",
    "# printing info\n",
    "clean_movies.info()"
   ]
  },
  {
   "cell_type": "markdown",
   "metadata": {},
   "source": [
    "### Q4. Add a 'year' column to your new `DataFrame` making sure it is of type 'int'. Delete the 'release_date' column. Display the first 5 rows of after these changes.\n",
    "* The year (as a string) can be extracted from the first 4 characters of 'release_date'\n",
    "* Consider using list comprehension or the `.str.slice()` function defined in `pandas`"
   ]
  },
  {
   "cell_type": "code",
   "execution_count": 5,
   "metadata": {},
   "outputs": [
    {
     "name": "stderr",
     "output_type": "stream",
     "text": [
      "/var/folders/mn/cz5gy25n1yg1r_ksn1lp_81r0000gn/T/ipykernel_27825/2416807183.py:2: SettingWithCopyWarning: \n",
      "A value is trying to be set on a copy of a slice from a DataFrame.\n",
      "Try using .loc[row_indexer,col_indexer] = value instead\n",
      "\n",
      "See the caveats in the documentation: https://pandas.pydata.org/pandas-docs/stable/user_guide/indexing.html#returning-a-view-versus-a-copy\n",
      "  clean_movies['year'] = clean_movies['release_date'].str.slice(stop = 4).astype(int)\n"
     ]
    },
    {
     "data": {
      "text/html": [
       "<div>\n",
       "<style scoped>\n",
       "    .dataframe tbody tr th:only-of-type {\n",
       "        vertical-align: middle;\n",
       "    }\n",
       "\n",
       "    .dataframe tbody tr th {\n",
       "        vertical-align: top;\n",
       "    }\n",
       "\n",
       "    .dataframe thead th {\n",
       "        text-align: right;\n",
       "    }\n",
       "</style>\n",
       "<table border=\"1\" class=\"dataframe\">\n",
       "  <thead>\n",
       "    <tr style=\"text-align: right;\">\n",
       "      <th></th>\n",
       "      <th>title</th>\n",
       "      <th>genres</th>\n",
       "      <th>budget</th>\n",
       "      <th>revenue</th>\n",
       "      <th>vote_average</th>\n",
       "      <th>year</th>\n",
       "    </tr>\n",
       "  </thead>\n",
       "  <tbody>\n",
       "    <tr>\n",
       "      <th>0</th>\n",
       "      <td>Avatar</td>\n",
       "      <td>[{\"id\": 28, \"name\": \"Action\"}, {\"id\": 12, \"nam...</td>\n",
       "      <td>237000000</td>\n",
       "      <td>2.787965e+09</td>\n",
       "      <td>7.2</td>\n",
       "      <td>2009</td>\n",
       "    </tr>\n",
       "    <tr>\n",
       "      <th>1</th>\n",
       "      <td>Pirates of the Caribbean: At World's End</td>\n",
       "      <td>[{\"id\": 12, \"name\": \"Adventure\"}, {\"id\": 14, \"...</td>\n",
       "      <td>300000000</td>\n",
       "      <td>9.610000e+08</td>\n",
       "      <td>6.9</td>\n",
       "      <td>2007</td>\n",
       "    </tr>\n",
       "    <tr>\n",
       "      <th>2</th>\n",
       "      <td>Spectre</td>\n",
       "      <td>[{\"id\": 28, \"name\": \"Action\"}, {\"id\": 12, \"nam...</td>\n",
       "      <td>245000000</td>\n",
       "      <td>8.806746e+08</td>\n",
       "      <td>6.3</td>\n",
       "      <td>2015</td>\n",
       "    </tr>\n",
       "    <tr>\n",
       "      <th>3</th>\n",
       "      <td>The Dark Knight Rises</td>\n",
       "      <td>[{\"id\": 28, \"name\": \"Action\"}, {\"id\": 80, \"nam...</td>\n",
       "      <td>250000000</td>\n",
       "      <td>1.084939e+09</td>\n",
       "      <td>7.6</td>\n",
       "      <td>2012</td>\n",
       "    </tr>\n",
       "    <tr>\n",
       "      <th>4</th>\n",
       "      <td>John Carter</td>\n",
       "      <td>[{\"id\": 28, \"name\": \"Action\"}, {\"id\": 12, \"nam...</td>\n",
       "      <td>260000000</td>\n",
       "      <td>2.841391e+08</td>\n",
       "      <td>6.1</td>\n",
       "      <td>2012</td>\n",
       "    </tr>\n",
       "  </tbody>\n",
       "</table>\n",
       "</div>"
      ],
      "text/plain": [
       "                                      title  \\\n",
       "0                                    Avatar   \n",
       "1  Pirates of the Caribbean: At World's End   \n",
       "2                                   Spectre   \n",
       "3                     The Dark Knight Rises   \n",
       "4                               John Carter   \n",
       "\n",
       "                                              genres     budget       revenue  \\\n",
       "0  [{\"id\": 28, \"name\": \"Action\"}, {\"id\": 12, \"nam...  237000000  2.787965e+09   \n",
       "1  [{\"id\": 12, \"name\": \"Adventure\"}, {\"id\": 14, \"...  300000000  9.610000e+08   \n",
       "2  [{\"id\": 28, \"name\": \"Action\"}, {\"id\": 12, \"nam...  245000000  8.806746e+08   \n",
       "3  [{\"id\": 28, \"name\": \"Action\"}, {\"id\": 80, \"nam...  250000000  1.084939e+09   \n",
       "4  [{\"id\": 28, \"name\": \"Action\"}, {\"id\": 12, \"nam...  260000000  2.841391e+08   \n",
       "\n",
       "   vote_average  year  \n",
       "0           7.2  2009  \n",
       "1           6.9  2007  \n",
       "2           6.3  2015  \n",
       "3           7.6  2012  \n",
       "4           6.1  2012  "
      ]
     },
     "execution_count": 5,
     "metadata": {},
     "output_type": "execute_result"
    }
   ],
   "source": [
    "## adding year column\n",
    "clean_movies['year'] = clean_movies['release_date'].str.slice(stop = 4).astype(int)\n",
    "## dropping release_date column\n",
    "clean_movies = clean_movies.drop(['release_date'], axis = 1)\n",
    "\n",
    "## displaying first 5 rows\n",
    "clean_movies.head()"
   ]
  },
  {
   "cell_type": "markdown",
   "metadata": {},
   "source": [
    "### Q5. Plot 'year' vs 'budget' using a scatter plot (i.e. with markers and not lines). Using different colored markers, plot the median budget in each year on top of the full scatter plot.\n",
    "\n",
    "Hint: Consider using `groupby` with the 'year' column to get the median values for the plot."
   ]
  },
  {
   "cell_type": "code",
   "execution_count": 6,
   "metadata": {},
   "outputs": [
    {
     "data": {
      "image/png": "[encoded data removed]",
      "text/plain": [
       "<Figure size 640x480 with 1 Axes>"
      ]
     },
     "metadata": {},
     "output_type": "display_data"
    }
   ],
   "source": [
    "## grouping movies by year\n",
    "movies_grp = clean_movies.groupby(\"year\")\n",
    "\n",
    "## Plot movie budgets by year\n",
    "plt.scatter(clean_movies[\"year\"], clean_movies[\"budget\"], s = 5, c = 'black', label = \"All Movies\")\n",
    "plt.scatter(movies_grp['year'].unique(), movies_grp['budget'].median(), s = 10, c = 'red', label = \"Median\")\n",
    "plt.xlabel('Year')\n",
    "plt.ylabel('Budget (hundreds of millions)')\n",
    "plt.title('Movie Budgets Over Time')\n",
    "plt.legend(loc = 'best');"
   ]
  },
  {
   "cell_type": "markdown",
   "metadata": {},
   "source": [
    "### Q6. Add a 'profit' column ('revenue' minus 'budget') to your `DataFrame`. After doing this, make a new `DataFrame` (a copy) and sort by 'profit'. Display the 5 movies with the highest profit in one cell and display the 5 movies that lost the most money in a second cell."
   ]
  },
  {
   "cell_type": "code",
   "execution_count": 7,
   "metadata": {},
   "outputs": [
    {
     "data": {
      "text/html": [
       "<div>\n",
       "<style scoped>\n",
       "    .dataframe tbody tr th:only-of-type {\n",
       "        vertical-align: middle;\n",
       "    }\n",
       "\n",
       "    .dataframe tbody tr th {\n",
       "        vertical-align: top;\n",
       "    }\n",
       "\n",
       "    .dataframe thead th {\n",
       "        text-align: right;\n",
       "    }\n",
       "</style>\n",
       "<table border=\"1\" class=\"dataframe\">\n",
       "  <thead>\n",
       "    <tr style=\"text-align: right;\">\n",
       "      <th></th>\n",
       "      <th>title</th>\n",
       "      <th>genres</th>\n",
       "      <th>budget</th>\n",
       "      <th>revenue</th>\n",
       "      <th>vote_average</th>\n",
       "      <th>year</th>\n",
       "      <th>profit</th>\n",
       "    </tr>\n",
       "  </thead>\n",
       "  <tbody>\n",
       "    <tr>\n",
       "      <th>0</th>\n",
       "      <td>Avatar</td>\n",
       "      <td>[{\"id\": 28, \"name\": \"Action\"}, {\"id\": 12, \"nam...</td>\n",
       "      <td>237000000</td>\n",
       "      <td>2.787965e+09</td>\n",
       "      <td>7.2</td>\n",
       "      <td>2009</td>\n",
       "      <td>2.550965e+09</td>\n",
       "    </tr>\n",
       "    <tr>\n",
       "      <th>25</th>\n",
       "      <td>Titanic</td>\n",
       "      <td>[{\"id\": 18, \"name\": \"Drama\"}, {\"id\": 10749, \"n...</td>\n",
       "      <td>200000000</td>\n",
       "      <td>1.845034e+09</td>\n",
       "      <td>7.5</td>\n",
       "      <td>1997</td>\n",
       "      <td>1.645034e+09</td>\n",
       "    </tr>\n",
       "    <tr>\n",
       "      <th>28</th>\n",
       "      <td>Jurassic World</td>\n",
       "      <td>[{\"id\": 28, \"name\": \"Action\"}, {\"id\": 12, \"nam...</td>\n",
       "      <td>150000000</td>\n",
       "      <td>1.513529e+09</td>\n",
       "      <td>6.5</td>\n",
       "      <td>2015</td>\n",
       "      <td>1.363529e+09</td>\n",
       "    </tr>\n",
       "    <tr>\n",
       "      <th>44</th>\n",
       "      <td>Furious 7</td>\n",
       "      <td>[{\"id\": 28, \"name\": \"Action\"}]</td>\n",
       "      <td>190000000</td>\n",
       "      <td>1.506249e+09</td>\n",
       "      <td>7.3</td>\n",
       "      <td>2015</td>\n",
       "      <td>1.316249e+09</td>\n",
       "    </tr>\n",
       "    <tr>\n",
       "      <th>16</th>\n",
       "      <td>The Avengers</td>\n",
       "      <td>[{\"id\": 878, \"name\": \"Science Fiction\"}, {\"id\"...</td>\n",
       "      <td>220000000</td>\n",
       "      <td>1.519558e+09</td>\n",
       "      <td>7.4</td>\n",
       "      <td>2012</td>\n",
       "      <td>1.299558e+09</td>\n",
       "    </tr>\n",
       "  </tbody>\n",
       "</table>\n",
       "</div>"
      ],
      "text/plain": [
       "             title                                             genres  \\\n",
       "0           Avatar  [{\"id\": 28, \"name\": \"Action\"}, {\"id\": 12, \"nam...   \n",
       "25         Titanic  [{\"id\": 18, \"name\": \"Drama\"}, {\"id\": 10749, \"n...   \n",
       "28  Jurassic World  [{\"id\": 28, \"name\": \"Action\"}, {\"id\": 12, \"nam...   \n",
       "44       Furious 7                     [{\"id\": 28, \"name\": \"Action\"}]   \n",
       "16    The Avengers  [{\"id\": 878, \"name\": \"Science Fiction\"}, {\"id\"...   \n",
       "\n",
       "       budget       revenue  vote_average  year        profit  \n",
       "0   237000000  2.787965e+09           7.2  2009  2.550965e+09  \n",
       "25  200000000  1.845034e+09           7.5  1997  1.645034e+09  \n",
       "28  150000000  1.513529e+09           6.5  2015  1.363529e+09  \n",
       "44  190000000  1.506249e+09           7.3  2015  1.316249e+09  \n",
       "16  220000000  1.519558e+09           7.4  2012  1.299558e+09  "
      ]
     },
     "execution_count": 7,
     "metadata": {},
     "output_type": "execute_result"
    }
   ],
   "source": [
    "## creating profit column\n",
    "clean_movies['profit'] = clean_movies['revenue'] - clean_movies['budget']\n",
    "\n",
    "## making new dataframe\n",
    "movie_profit = clean_movies.copy()\n",
    "\n",
    "## sorting by descending profit\n",
    "movie_profit_sort = movie_profit.sort_values(by=[\"profit\"], ascending = False)\n",
    "## displaying top 5 movies by profit\n",
    "movie_profit_sort.head(5)"
   ]
  },
  {
   "cell_type": "code",
   "execution_count": 8,
   "metadata": {},
   "outputs": [
    {
     "data": {
      "text/html": [
       "<div>\n",
       "<style scoped>\n",
       "    .dataframe tbody tr th:only-of-type {\n",
       "        vertical-align: middle;\n",
       "    }\n",
       "\n",
       "    .dataframe tbody tr th {\n",
       "        vertical-align: top;\n",
       "    }\n",
       "\n",
       "    .dataframe thead th {\n",
       "        text-align: right;\n",
       "    }\n",
       "</style>\n",
       "<table border=\"1\" class=\"dataframe\">\n",
       "  <thead>\n",
       "    <tr style=\"text-align: right;\">\n",
       "      <th></th>\n",
       "      <th>title</th>\n",
       "      <th>genres</th>\n",
       "      <th>budget</th>\n",
       "      <th>revenue</th>\n",
       "      <th>vote_average</th>\n",
       "      <th>year</th>\n",
       "      <th>profit</th>\n",
       "    </tr>\n",
       "  </thead>\n",
       "  <tbody>\n",
       "    <tr>\n",
       "      <th>13</th>\n",
       "      <td>The Lone Ranger</td>\n",
       "      <td>[{\"id\": 28, \"name\": \"Action\"}, {\"id\": 12, \"nam...</td>\n",
       "      <td>255000000</td>\n",
       "      <td>89289910.0</td>\n",
       "      <td>5.9</td>\n",
       "      <td>2013</td>\n",
       "      <td>-165710090.0</td>\n",
       "    </tr>\n",
       "    <tr>\n",
       "      <th>334</th>\n",
       "      <td>The Alamo</td>\n",
       "      <td>[{\"id\": 37, \"name\": \"Western\"}, {\"id\": 36, \"na...</td>\n",
       "      <td>145000000</td>\n",
       "      <td>25819961.0</td>\n",
       "      <td>5.8</td>\n",
       "      <td>2004</td>\n",
       "      <td>-119180039.0</td>\n",
       "    </tr>\n",
       "    <tr>\n",
       "      <th>139</th>\n",
       "      <td>Mars Needs Moms</td>\n",
       "      <td>[{\"id\": 12, \"name\": \"Adventure\"}, {\"id\": 16, \"...</td>\n",
       "      <td>150000000</td>\n",
       "      <td>38992758.0</td>\n",
       "      <td>5.5</td>\n",
       "      <td>2011</td>\n",
       "      <td>-111007242.0</td>\n",
       "    </tr>\n",
       "    <tr>\n",
       "      <th>206</th>\n",
       "      <td>The 13th Warrior</td>\n",
       "      <td>[{\"id\": 12, \"name\": \"Adventure\"}, {\"id\": 14, \"...</td>\n",
       "      <td>160000000</td>\n",
       "      <td>61698899.0</td>\n",
       "      <td>6.4</td>\n",
       "      <td>1999</td>\n",
       "      <td>-98301101.0</td>\n",
       "    </tr>\n",
       "    <tr>\n",
       "      <th>307</th>\n",
       "      <td>The Adventures of Pluto Nash</td>\n",
       "      <td>[{\"id\": 28, \"name\": \"Action\"}, {\"id\": 35, \"nam...</td>\n",
       "      <td>100000000</td>\n",
       "      <td>7103973.0</td>\n",
       "      <td>4.4</td>\n",
       "      <td>2002</td>\n",
       "      <td>-92896027.0</td>\n",
       "    </tr>\n",
       "  </tbody>\n",
       "</table>\n",
       "</div>"
      ],
      "text/plain": [
       "                            title  \\\n",
       "13                The Lone Ranger   \n",
       "334                     The Alamo   \n",
       "139               Mars Needs Moms   \n",
       "206              The 13th Warrior   \n",
       "307  The Adventures of Pluto Nash   \n",
       "\n",
       "                                                genres     budget     revenue  \\\n",
       "13   [{\"id\": 28, \"name\": \"Action\"}, {\"id\": 12, \"nam...  255000000  89289910.0   \n",
       "334  [{\"id\": 37, \"name\": \"Western\"}, {\"id\": 36, \"na...  145000000  25819961.0   \n",
       "139  [{\"id\": 12, \"name\": \"Adventure\"}, {\"id\": 16, \"...  150000000  38992758.0   \n",
       "206  [{\"id\": 12, \"name\": \"Adventure\"}, {\"id\": 14, \"...  160000000  61698899.0   \n",
       "307  [{\"id\": 28, \"name\": \"Action\"}, {\"id\": 35, \"nam...  100000000   7103973.0   \n",
       "\n",
       "     vote_average  year       profit  \n",
       "13            5.9  2013 -165710090.0  \n",
       "334           5.8  2004 -119180039.0  \n",
       "139           5.5  2011 -111007242.0  \n",
       "206           6.4  1999  -98301101.0  \n",
       "307           4.4  2002  -92896027.0  "
      ]
     },
     "execution_count": 8,
     "metadata": {},
     "output_type": "execute_result"
    }
   ],
   "source": [
    "## sorting by ascending profit\n",
    "movie_profit_descsort = movie_profit.sort_values(by=[\"profit\"])\n",
    "## displaying bottom 5 movies by profit\n",
    "movie_profit_descsort.head(5)"
   ]
  },
  {
   "cell_type": "markdown",
   "metadata": {},
   "source": [
    "### Q7. Make a scatter plot of 'vote_average' on the x-axis and 'profit' on the y-axis. Make sure your axes are labeled."
   ]
  },
  {
   "cell_type": "code",
   "execution_count": 9,
   "metadata": {},
   "outputs": [
    {
     "data": {
      "image/png": "[encoded data removed]",
      "text/plain": [
       "<Figure size 640x480 with 1 Axes>"
      ]
     },
     "metadata": {},
     "output_type": "display_data"
    }
   ],
   "source": [
    "## making scatter plot\n",
    "plt.scatter(movie_profit['vote_average'], movie_profit['profit'], c = 'indigo')\n",
    "plt.xlabel(\"Average Votes\")\n",
    "plt.ylabel(\"Profit ($)\")\n",
    "plt.title(\"Average Votes Relative to Profit Made by Movies\");"
   ]
  },
  {
   "cell_type": "markdown",
   "metadata": {},
   "source": [
    "### Q8. The 'genres' column is unusual - it contains lists of dictionaries. We want to convert this into something more usuable.\n",
    "\n",
    "[This code is from a Kaggle notebook. https://www.kaggle.com/ibtesama/getting-started-with-a-movie-recommendation-system ]\n",
    "\n",
    "To do this, apply the function below to your `DataFrame`, e.g., if your `DataFrame` is called `df` then the code would be `df = genre_list(df)`. \n",
    "\n",
    "This will change the column to lists of genre types. While this question is really simple, there are some important guidelines to follow: \n",
    "\n",
    "* Do not run this more than once (unless you re-run from the top), as it operates in-place on the `DataFrame`. \n",
    "\n",
    "* If this code is not working for your `DataFrame`, it may be that you did not properly remove the ill-formatted rows in Q3. Revisit that question.\n",
    "\n",
    "* For subseqeuent cells to run properly, the `DataFrame` you use for this exercise should have \"reset\" indices starting at 0."
   ]
  },
  {
   "cell_type": "code",
   "execution_count": 10,
   "metadata": {},
   "outputs": [],
   "source": [
    "### Functions to use for this exercise (do not modify!!!)\n",
    "\n",
    "def get_list(x):\n",
    "    if isinstance(x, list):\n",
    "        names = [i['name'] for i in x]\n",
    "        return names\n",
    "    return [] #Return empty list in case of missing/malformed data\n",
    "\n",
    "def genre_list(df):\n",
    "    \"\"\" Change the 'genres' column in a movie dataframe to a list of genres\n",
    "    Call function with df = genre_list(df)\"\"\"\n",
    "    from ast import literal_eval\n",
    "    df['genres'] = df['genres'].apply(literal_eval)    \n",
    "    df['genres'] = df['genres'].apply(get_list)\n",
    "    return df"
   ]
  },
  {
   "cell_type": "code",
   "execution_count": 11,
   "metadata": {},
   "outputs": [],
   "source": [
    "## converting genres into genres column\n",
    "movie_profit = genre_list(movie_profit)"
   ]
  },
  {
   "cell_type": "markdown",
   "metadata": {},
   "source": [
    "### Q9. Make a list of the unique genre types. You will need to iterate through the lists in the 'genres' columns to make your list of the unique genre types. Print your list.\n",
    "\n",
    "\n",
    "Consider using a nested loop, something like:\n",
    "\n",
    "`for list1 in df2['genres']:` for the outer loop\n",
    "\n",
    "and `for val in list1:` for the inner loop"
   ]
  },
  {
   "cell_type": "code",
   "execution_count": 12,
   "metadata": {},
   "outputs": [
    {
     "name": "stdout",
     "output_type": "stream",
     "text": [
      "['Action', 'Adventure', 'Fantasy', 'Science Fiction', 'Crime', 'Drama', 'Thriller', 'Animation', 'Family', 'Western', 'Comedy', 'Romance', 'Horror', 'Mystery', 'History', 'War', 'Music', 'Documentary', 'Foreign']\n"
     ]
    }
   ],
   "source": [
    "## creating empty list\n",
    "unique_genres = []\n",
    "## colecting list of unique genres\n",
    "for list in movie_profit['genres']:\n",
    "    for val in list:\n",
    "        if val not in unique_genres:\n",
    "            unique_genres.append(val)\n",
    "\n",
    "## printing unique genres\n",
    "print(unique_genres)"
   ]
  },
  {
   "cell_type": "markdown",
   "metadata": {},
   "source": [
    "### Q10. Calculate the median profit for each genre type. Most movies have multiple genres, but that is ok (e.g., count Avatar for 'Action', 'Adventure', 'Fantasy', and 'Science Fiction'). Print the median profit of each genre type in units of millions of dollars (that is, divide by 1e6) and save these computed values in a list.\n",
    "\n",
    "**Hint**: The cell below gives an example of how you can calculate the profit for all movies that contain the genre 'Action'. You will need to generalize this for all genres and compute the median values.\n",
    "\n",
    "**Important Note**: this code assumes your DataFrame has indices that correspond to row numbers. To ensure this, make sure you reset the indices in Q3."
   ]
  },
  {
   "cell_type": "code",
   "execution_count": 13,
   "metadata": {},
   "outputs": [
    {
     "name": "stdout",
     "output_type": "stream",
     "text": [
      "Median for profit for: Action 43.0209495\n"
     ]
    }
   ],
   "source": [
    "# Example calculation for Action movies\n",
    "\n",
    "genre = 'Action' # pick Action genre, for example\n",
    "\n",
    "# make an array to track rows with an action movie\n",
    "gslice = np.zeros(len(movie_profit),dtype=\"bool\") \n",
    "\n",
    "# iterate over rows, each one contains info about a movie\n",
    "for ii, movie in movie_profit.iterrows(): \n",
    "    gslice[ii] = genre in movie['genres'] # check whether movie is of this genre, updating array\n",
    "    \n",
    "# print median profit of movies with this genre (in Millions)\n",
    "mdp = movie_profit.loc[gslice,'profit'].median()/1e6\n",
    "print(\"Median for profit for:\", genre, mdp)\n",
    "\n",
    "    \n",
    "# display movies with this genre    \n",
    "# movie_profit.loc[gslice,['genres','profit']].head() "
   ]
  },
  {
   "cell_type": "code",
   "execution_count": 14,
   "metadata": {
    "scrolled": true
   },
   "outputs": [
    {
     "name": "stdout",
     "output_type": "stream",
     "text": [
      "Median profit for: Action 43.0209495\n",
      "Median profit for: Adventure 64.423521\n",
      "Median profit for: Fantasy 61.340801\n",
      "Median profit for: Science Fiction 34.945765\n",
      "Median profit for: Crime 19.785914\n",
      "Median profit for: Drama 13.801187\n",
      "Median profit for: Thriller 24.492759\n",
      "Median profit for: Animation 125.735876\n",
      "Median profit for: Family 64.3204555\n",
      "Median profit for: Western 5.0\n",
      "Median profit for: Comedy 25.134824\n",
      "Median profit for: Romance 18.778177\n",
      "Median profit for: Horror 24.8411145\n",
      "Median profit for: Mystery 25.2324605\n",
      "Median profit for: History 19.942855\n",
      "Median profit for: War 19.955685\n",
      "Median profit for: Music 18.907422\n",
      "Median profit for: Documentary 6.546368\n",
      "Median profit for: Foreign -0.2449545\n"
     ]
    }
   ],
   "source": [
    "### Your task: apply to all genre types and store results in a list\n",
    "\n",
    "## creating empty list of median profits to append to\n",
    "median_profits = []\n",
    "\n",
    "# make an array to track rows with a movie for the given genre\n",
    "gslice = np.zeros(len(movie_profit),dtype=\"bool\") \n",
    "\n",
    "# iterate over rows, each one contains info about a movie\n",
    "for i in unique_genres:\n",
    "    for ii, movie in movie_profit.iterrows():\n",
    "        gslice[ii] = i in movie['genres'] # check whether movie is of this genre, updating array\n",
    "    # print median profit of movies with this genre (in Millions)\n",
    "    mdp = movie_profit.loc[gslice,'profit'].median()/1e6\n",
    "    print(\"Median profit for:\", i, mdp)\n",
    "    median_profits.append(mdp)\n",
    "    # display movies with this genre    \n",
    "    movie_profit.loc[gslice,['genres','profit']].head()  \n"
   ]
  },
  {
   "cell_type": "markdown",
   "metadata": {},
   "source": [
    "### Q11. Make a new `DataFrame` that has two columns: 'genre' (the list you created in Q9) and the median profit you calculated above. Sort by median profit, in millions of dollars, and display the entire `DataFrame`."
   ]
  },
  {
   "cell_type": "code",
   "execution_count": 15,
   "metadata": {},
   "outputs": [
    {
     "data": {
      "text/html": [
       "<div>\n",
       "<style scoped>\n",
       "    .dataframe tbody tr th:only-of-type {\n",
       "        vertical-align: middle;\n",
       "    }\n",
       "\n",
       "    .dataframe tbody tr th {\n",
       "        vertical-align: top;\n",
       "    }\n",
       "\n",
       "    .dataframe thead th {\n",
       "        text-align: right;\n",
       "    }\n",
       "</style>\n",
       "<table border=\"1\" class=\"dataframe\">\n",
       "  <thead>\n",
       "    <tr style=\"text-align: right;\">\n",
       "      <th></th>\n",
       "      <th>genre</th>\n",
       "      <th>median_profit</th>\n",
       "    </tr>\n",
       "  </thead>\n",
       "  <tbody>\n",
       "    <tr>\n",
       "      <th>7</th>\n",
       "      <td>Animation</td>\n",
       "      <td>125.735876</td>\n",
       "    </tr>\n",
       "    <tr>\n",
       "      <th>1</th>\n",
       "      <td>Adventure</td>\n",
       "      <td>64.423521</td>\n",
       "    </tr>\n",
       "    <tr>\n",
       "      <th>8</th>\n",
       "      <td>Family</td>\n",
       "      <td>64.320455</td>\n",
       "    </tr>\n",
       "    <tr>\n",
       "      <th>2</th>\n",
       "      <td>Fantasy</td>\n",
       "      <td>61.340801</td>\n",
       "    </tr>\n",
       "    <tr>\n",
       "      <th>0</th>\n",
       "      <td>Action</td>\n",
       "      <td>43.020950</td>\n",
       "    </tr>\n",
       "    <tr>\n",
       "      <th>3</th>\n",
       "      <td>Science Fiction</td>\n",
       "      <td>34.945765</td>\n",
       "    </tr>\n",
       "    <tr>\n",
       "      <th>13</th>\n",
       "      <td>Mystery</td>\n",
       "      <td>25.232460</td>\n",
       "    </tr>\n",
       "    <tr>\n",
       "      <th>10</th>\n",
       "      <td>Comedy</td>\n",
       "      <td>25.134824</td>\n",
       "    </tr>\n",
       "    <tr>\n",
       "      <th>12</th>\n",
       "      <td>Horror</td>\n",
       "      <td>24.841114</td>\n",
       "    </tr>\n",
       "    <tr>\n",
       "      <th>6</th>\n",
       "      <td>Thriller</td>\n",
       "      <td>24.492759</td>\n",
       "    </tr>\n",
       "    <tr>\n",
       "      <th>15</th>\n",
       "      <td>War</td>\n",
       "      <td>19.955685</td>\n",
       "    </tr>\n",
       "    <tr>\n",
       "      <th>14</th>\n",
       "      <td>History</td>\n",
       "      <td>19.942855</td>\n",
       "    </tr>\n",
       "    <tr>\n",
       "      <th>4</th>\n",
       "      <td>Crime</td>\n",
       "      <td>19.785914</td>\n",
       "    </tr>\n",
       "    <tr>\n",
       "      <th>16</th>\n",
       "      <td>Music</td>\n",
       "      <td>18.907422</td>\n",
       "    </tr>\n",
       "    <tr>\n",
       "      <th>11</th>\n",
       "      <td>Romance</td>\n",
       "      <td>18.778177</td>\n",
       "    </tr>\n",
       "    <tr>\n",
       "      <th>5</th>\n",
       "      <td>Drama</td>\n",
       "      <td>13.801187</td>\n",
       "    </tr>\n",
       "    <tr>\n",
       "      <th>17</th>\n",
       "      <td>Documentary</td>\n",
       "      <td>6.546368</td>\n",
       "    </tr>\n",
       "    <tr>\n",
       "      <th>9</th>\n",
       "      <td>Western</td>\n",
       "      <td>5.000000</td>\n",
       "    </tr>\n",
       "    <tr>\n",
       "      <th>18</th>\n",
       "      <td>Foreign</td>\n",
       "      <td>-0.244954</td>\n",
       "    </tr>\n",
       "  </tbody>\n",
       "</table>\n",
       "</div>"
      ],
      "text/plain": [
       "              genre  median_profit\n",
       "7         Animation     125.735876\n",
       "1         Adventure      64.423521\n",
       "8            Family      64.320455\n",
       "2           Fantasy      61.340801\n",
       "0            Action      43.020950\n",
       "3   Science Fiction      34.945765\n",
       "13          Mystery      25.232460\n",
       "10           Comedy      25.134824\n",
       "12           Horror      24.841114\n",
       "6          Thriller      24.492759\n",
       "15              War      19.955685\n",
       "14          History      19.942855\n",
       "4             Crime      19.785914\n",
       "16            Music      18.907422\n",
       "11          Romance      18.778177\n",
       "5             Drama      13.801187\n",
       "17      Documentary       6.546368\n",
       "9           Western       5.000000\n",
       "18          Foreign      -0.244954"
      ]
     },
     "execution_count": 15,
     "metadata": {},
     "output_type": "execute_result"
    }
   ],
   "source": [
    "## making dictionary of unique genres and median profits\n",
    "genre_medianprof_dict = {'genre': unique_genres, 'median_profit': median_profits}\n",
    "## converting to dataframe\n",
    "genre_medianprof_df = pd.DataFrame(data = genre_medianprof_dict)\n",
    "genre_medianprof_df = genre_medianprof_df.sort_values(by=[\"median_profit\"], ascending=False)\n",
    "\n",
    "## printing dataframe\n",
    "genre_medianprof_df"
   ]
  },
  {
   "cell_type": "markdown",
   "metadata": {},
   "source": [
    "### To receive credit for this homework, upload both the .ipynb file and an .html version."
   ]
  }
 ],
 "metadata": {
  "kernelspec": {
   "display_name": "Python 3 (ipykernel)",
   "language": "python",
   "name": "python3"
  },
  "language_info": {
   "codemirror_mode": {
    "name": "ipython",
    "version": 3
   },
   "file_extension": ".py",
   "mimetype": "text/x-python",
   "name": "python",
   "nbconvert_exporter": "python",
   "pygments_lexer": "ipython3",
   "version": "3.10.13"
  }
 },
 "nbformat": 4,
 "nbformat_minor": 4
}
