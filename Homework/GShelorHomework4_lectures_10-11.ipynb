{
 "cells": [
  {
   "cell_type": "markdown",
   "id": "e09b16a9",
   "metadata": {},
   "source": [
    "# Homework 4: Numpy"
   ]
  },
  {
   "cell_type": "markdown",
   "id": "9e32d92d",
   "metadata": {},
   "source": [
    "In this homework, we will practice our newfound `numpy` and `matplotlib` skills with a classic geoscience dataset: the \"Keeling Curve\" (https://keelingcurve.ucsd.edu/) that tracks CO$_2$ levels at the Mauna Loa, Hawaii observatory."
   ]
  },
  {
   "cell_type": "code",
   "execution_count": null,
   "id": "778b5c74",
   "metadata": {},
   "outputs": [],
   "source": [
    "import numpy as np\n",
    "import matplotlib.pyplot as plt"
   ]
  },
  {
   "cell_type": "markdown",
   "id": "a5feb905",
   "metadata": {},
   "source": [
    "### Q1. Use `np.loadtxt()` to import the file \"homework4_mauna-loa_weekly.txt\" into a numpy array. Inspect the file (outside of Python) to see how many rows you need to skip with the `skiprows` parameter for `np.loadtxt()` - these are the lines that start with #. Print the shape of the data after you load it."
   ]
  },
  {
   "cell_type": "code",
   "execution_count": null,
   "id": "1b743471",
   "metadata": {},
   "outputs": [],
   "source": []
  },
  {
   "cell_type": "markdown",
   "id": "3cd8ba47",
   "metadata": {},
   "source": [
    "### Q2. Extract columns 4 and 5 (python indices 3 and 4) as two different (1D) numpy arrays. These arrays are the time in decimal years and the measured CO$_2$ in ppm. Print the shape of these two arrays."
   ]
  },
  {
   "cell_type": "code",
   "execution_count": null,
   "id": "760fa0ed",
   "metadata": {},
   "outputs": [],
   "source": []
  },
  {
   "cell_type": "markdown",
   "id": "74326a50",
   "metadata": {},
   "source": [
    "### Q3. In several weeks, data was not measured and saved correctly. These weeks are easy to spot because ppm values are negative. Use logical indexing to find these data points, and create two new or updated arrays (one for years, one for ppm) with the bad data points removed. Print the shape of these arrays."
   ]
  },
  {
   "cell_type": "code",
   "execution_count": null,
   "id": "808bf9f3",
   "metadata": {},
   "outputs": [],
   "source": []
  },
  {
   "cell_type": "markdown",
   "id": "81277880",
   "metadata": {},
   "source": [
    "### Q4. Make a plot of time on the x axis versus ppm on the y axis. Use a figure size of (9,6) for its width and height. In your plot, use circular markers with a markersize (`ms`) of 3 instead of a line. Add x and y labels to the plot, as well as a grid. "
   ]
  },
  {
   "cell_type": "code",
   "execution_count": null,
   "id": "d058f927",
   "metadata": {},
   "outputs": [],
   "source": []
  },
  {
   "cell_type": "markdown",
   "id": "bf5e0426",
   "metadata": {},
   "source": [
    "### Q5. Use a `for` loop to compute and print the average CO$_2$ ppm in (non-overlapping) 5 year time periods starting in 1975 and ending in 2020. For example, the first line should be the average from 1975-1980, the second from 1980-1985, and so on until the last line from 2015-2020. For clarity, print the start and end year in each line along with the mean value."
   ]
  },
  {
   "cell_type": "code",
   "execution_count": null,
   "id": "704241f5",
   "metadata": {},
   "outputs": [],
   "source": []
  },
  {
   "cell_type": "markdown",
   "id": "df0f74f7",
   "metadata": {},
   "source": [
    "### Q6. Make a \"zoomed\" in version of your plot from Q4 showing only years from 2010-2020. Manually set the x and y limits to make the plot more readable. What do you notice?"
   ]
  },
  {
   "cell_type": "code",
   "execution_count": null,
   "id": "90936628",
   "metadata": {},
   "outputs": [],
   "source": []
  },
  {
   "cell_type": "markdown",
   "id": "8215b9d1",
   "metadata": {},
   "source": [
    "### Q7. Fit a line to the 2010 - 2020 data, and add this line to a plot similar to the one in Q6. Add a legend to the line that labels the rate of increase of ppm per year, rounded to the two decimal point.\n",
    "\n",
    "* Be sure you are fitting a line (order 1 polynomial) and not a quadratic (order 2 polynomial)\n",
    "* Also make sure that you are using only the subset of data from 2010 to 2020\n",
    "* Hint: to convert a number `x` to a string `s` with 2 decimal point precision, you can use a command like `s = \"{:.2f}\".format(x)`."
   ]
  },
  {
   "cell_type": "code",
   "execution_count": null,
   "id": "1546cae6",
   "metadata": {},
   "outputs": [],
   "source": []
  },
  {
   "cell_type": "markdown",
   "id": "d883ec53",
   "metadata": {},
   "source": [
    "### Q8. The `matplotlib` function `scatter` can be used to plot data points with different colors. The basic syntax is `plt.scatter(x,y,s,c)`, where `x` and `y` are the data points to plot, `s` is the size of the marker (can be a number or array), and `c` is an array defining the color of the data point. We'll use this plotting function to color-code the datapoints by time of the year as follows:\n",
    "\n",
    "1. To compute the fractional time within the year we can make an array `np.mod(years,1.0)`. This will be the `c` array for `plt.scatter(...)`.\n",
    "2. Make a scatter plot with `x` being years, `y` being ppm, `s` being a fixed value of 10, and `c` being the array from part 1. Add the additional arguments to `plt.scatter()` to make a nice cyclical colormap: `vmin=0.0,vmax=1.0,cmap=\"twilight_r\"`.\n",
    "3. Add a colorbar with the command `cb = plt.colorbar()`, and set the ticks to be from 0 to one in increments of 1/12, which correspond roughly to the start of each month.\n",
    "4. Based on the colorbar, at what time of year is ppm highest? At what time of year is it lowest? (To answer this, it may help to rename the colorbar tick labels to month names using the command `cb.ax.set_yticklabels(...)`).\n",
    "\n",
    "Here, you can plot just the data points, no need to add the line used in Q7.\n"
   ]
  },
  {
   "cell_type": "code",
   "execution_count": null,
   "id": "d44b1b4f",
   "metadata": {},
   "outputs": [],
   "source": []
  },
  {
   "cell_type": "code",
   "execution_count": null,
   "id": "16609290",
   "metadata": {},
   "outputs": [],
   "source": [
    "# Comment here on the time of year where ppm is highest"
   ]
  },
  {
   "cell_type": "markdown",
   "id": "8ed67085",
   "metadata": {},
   "source": [
    "### Please list any other students that you worked with on this assignment"
   ]
  },
  {
   "cell_type": "code",
   "execution_count": null,
   "id": "77513b6a",
   "metadata": {},
   "outputs": [],
   "source": [
    "# I worked with the following students:"
   ]
  },
  {
   "cell_type": "markdown",
   "id": "6732b730",
   "metadata": {},
   "source": [
    "### To receive credit for this homework upload both the .ipynb file and a .html version."
   ]
  }
 ],
 "metadata": {
  "kernelspec": {
   "display_name": "Python 3 (ipykernel)",
   "language": "python",
   "name": "python3"
  },
  "language_info": {
   "codemirror_mode": {
    "name": "ipython",
    "version": 3
   },
   "file_extension": ".py",
   "mimetype": "text/x-python",
   "name": "python",
   "nbconvert_exporter": "python",
   "pygments_lexer": "ipython3",
   "version": "3.10.13"
  }
 },
 "nbformat": 4,
 "nbformat_minor": 5
}
