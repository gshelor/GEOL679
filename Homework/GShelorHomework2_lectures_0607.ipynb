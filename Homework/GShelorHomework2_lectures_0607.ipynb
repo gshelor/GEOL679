{
 "cells": [
  {
   "cell_type": "markdown",
   "metadata": {},
   "source": [
    "# Homework 2: Functions and Modules"
   ]
  },
  {
   "cell_type": "markdown",
   "metadata": {},
   "source": [
    "### Tip: look carefully at the question instructions!\n",
    "\n",
    "**Some questions will want you to provide one or more input parameter(s) to a function:**\n",
    "* You'll need to call the function with something like `function1(x)`. Here `x` is the input parameter.\n",
    "* Using `input()` inside the function is *not* the same as providing an input parameter like `x` to the function. \n",
    "\n",
    "\n",
    "**Some questions will want you to return a value from the function:**\n",
    "* You'll need to use the `return` statement - something like `return y`\n",
    "* Using `print()` inside the function is *not* the same as returning a value like `y`"
   ]
  },
  {
   "cell_type": "markdown",
   "metadata": {},
   "source": [
    "### Q1. Write a function that randomly flips a coin `n` times and `returns` the number of times that the flip was 'heads' and the number of times the flip was 'tails'. The argument `n` should be an input value passed to the function. Print the final result of your function call *after* it returns: don't `print` inside the function itself.\n",
    "* Example function call: `nhead, ntail = flip(50)`"
   ]
  },
  {
   "cell_type": "code",
   "execution_count": null,
   "metadata": {},
   "outputs": [],
   "source": []
  },
  {
   "cell_type": "markdown",
   "metadata": {},
   "source": [
    "### Q2. Write a function that takes an argument called `radius` and returns corresponding the circumference and area of a circle with that radius. Use the following rules:\n",
    "* The radius should be passed to the function as a single input parameter value (not a list).\n",
    "* To test your function, use a loop call with the values from the list `[1.0, 2.0, 5.0, 10.0, 20.0, 50.0]`\n",
    "* During the loop print the values of radius, circumference, and area returned from your function. Your function should have not print statements inside it.\n",
    "* Your function call should be something like: `circumference, area = circle_calc(radius)`.\n",
    "* Note: when you print you can use `round(circumference, 2)` and `round(area, 2)` to only print 2 decimal places. [Optional]."
   ]
  },
  {
   "cell_type": "code",
   "execution_count": null,
   "metadata": {},
   "outputs": [],
   "source": []
  },
  {
   "cell_type": "markdown",
   "metadata": {},
   "source": [
    "### Q3. Write a function that converts from degrees Fahrenheit to degrees Celsius. Use the following rules:\n",
    "* To convert temperatures in degrees Fahrenheit to Celsius, subtract 32 and multiply by (5/9). \n",
    "* Pass the temperature in degrees Fahrenheit as single input parameter to the function and `return` the value in degrees Celsius.\n",
    "* To test the function, use a loop to call the function with the values from the list `[0, 20, 40, 60, 80, 100, 120]`\n",
    "* During the loop `print` both the values in degrees Fahrenheit and degrees Celsius. There should be no `print` statement inside the function itself.\n",
    "* Your function call should be something like `degC = convertF2C(degF)`\n",
    "* Note: when you print you can use `round(degC, 1)` to only print 1 decimal place. [Optional]."
   ]
  },
  {
   "cell_type": "code",
   "execution_count": null,
   "metadata": {},
   "outputs": [],
   "source": []
  },
  {
   "cell_type": "markdown",
   "metadata": {},
   "source": [
    "### Q4. Write a function to return the trimmed mean of a list that contains numbers (integers or floats). Use the following rules:\n",
    "* The trimmed mean is the average of all values except the lowest value and highest value\n",
    "* Your function should take a list as its only input argument.\n",
    "* Your function should return the trimmed mean (a single number) as its output. [The value should be returned and not be printed inside the function.]\n",
    "\n",
    "\n",
    "Example: the trimmed mean of a list `[7, 0, 10.2, -1.0, 2.0]` is just the average of `[7, 0, 2.0]` which is `3.0`."
   ]
  },
  {
   "cell_type": "code",
   "execution_count": null,
   "metadata": {},
   "outputs": [],
   "source": []
  },
  {
   "cell_type": "markdown",
   "metadata": {},
   "source": [
    "### Q5. Write a function that takes an input value corresponding to a large timespan measured in seconds and converts it to the equivalent number of days, hours, minutes, and seconds elapsed. Make a list with these integer values, i.e. [days, hours, minutes, seconds] and return the list. Print an error statement if the passed seconds value is negative (don't return any values in this case).\n",
    "* Hint: Use the `//` operator we learned in Lecture 2\n",
    "* Example 1: `convert_seconds(567352)` should return `[6, 13, 35, 52]`\n",
    "* Example 2: `convert_seconds(12345)` should return `[0, 3, 25, 45]`\n",
    "* Example 3: `convert_seconds(-5)` should print `'Error - seconds value must be positive!'` and there should be no returned value"
   ]
  },
  {
   "cell_type": "code",
   "execution_count": null,
   "metadata": {},
   "outputs": [],
   "source": []
  },
  {
   "cell_type": "markdown",
   "metadata": {},
   "source": [
    "### Q6. Loop through the list values `[100, 1000, 10000,100000]` and call your Q5 function with each of these list values in order. Print the results of each function call with a statement like: `\"Input value: 10 --> days=0 , hours=0 , minutes=0 , seconds=10\"`"
   ]
  },
  {
   "cell_type": "code",
   "execution_count": null,
   "metadata": {},
   "outputs": [],
   "source": []
  },
  {
   "cell_type": "markdown",
   "metadata": {},
   "source": [
    "### Q7. Write a function that uses `random.randint` https://docs.python.org/3/library/random.html to generate 3 random integers between 0 and 20 (inclusive). Your function should then `print` these numbers and ask the user to add them, obtains the user's value using the `input()` statement. Your function should check their math and then `print` whether the user's addition calculation was correct.\n",
    "* Example: random integers 20, 5 and 15, user enters 40, you print 'Correct!'\n",
    "* Example: random integers 8, 19 and 8, user enters 25, you print 'Wrong!'\n",
    "\n",
    "Unlike in previous exercises, it's ok here to `print` inside the function."
   ]
  },
  {
   "cell_type": "code",
   "execution_count": null,
   "metadata": {},
   "outputs": [],
   "source": []
  },
  {
   "cell_type": "markdown",
   "metadata": {},
   "source": [
    "### Q8. Write a function that generates one random integer between 20 and 40 (inclusive) and a second random integer between 0 and 20 (inclusive) and `prints` them. The function should then ask the user to subtract the 2nd value from the 1st value, obtaining the user's value using the `input()` statement, and `print` whether the user's subtraction calculation was correct. "
   ]
  },
  {
   "cell_type": "code",
   "execution_count": null,
   "metadata": {},
   "outputs": [],
   "source": []
  },
  {
   "cell_type": "markdown",
   "metadata": {},
   "source": [
    "### Q9. In this problem, we'll see how we can call functions inside another function. In particular, write a function that asks the user to enter \"+\" if they want to practice addition and \"-\" if they want to practice subtraction. Call the appropriate function from Q7 or Q8 based on the input value and print an error message if user does not enter \"+\" or \"-\"."
   ]
  },
  {
   "cell_type": "code",
   "execution_count": null,
   "metadata": {},
   "outputs": [],
   "source": []
  },
  {
   "cell_type": "markdown",
   "metadata": {},
   "source": [
    "### Please list any other students that you worked with on this assignment"
   ]
  },
  {
   "cell_type": "code",
   "execution_count": null,
   "metadata": {},
   "outputs": [],
   "source": [
    " # I worked with the following students: "
   ]
  },
  {
   "cell_type": "markdown",
   "metadata": {},
   "source": [
    "### To receive credit for this homework upload both the .ipynb file and an .html version"
   ]
  }
 ],
 "metadata": {
  "kernelspec": {
   "display_name": "Python 3 (ipykernel)",
   "language": "python",
   "name": "python3"
  },
  "language_info": {
   "codemirror_mode": {
    "name": "ipython",
    "version": 3
   },
   "file_extension": ".py",
   "mimetype": "text/x-python",
   "name": "python",
   "nbconvert_exporter": "python",
   "pygments_lexer": "ipython3",
   "version": "3.10.13"
  }
 },
 "nbformat": 4,
 "nbformat_minor": 4
}
