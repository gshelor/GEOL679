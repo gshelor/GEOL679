{
 "cells": [
  {
   "cell_type": "markdown",
   "metadata": {},
   "source": [
    "Griffin Shelor \\\n",
    "21-2-2024"
   ]
  },
  {
   "cell_type": "markdown",
   "metadata": {},
   "source": [
    "# Homework 2: Functions and Modules"
   ]
  },
  {
   "cell_type": "markdown",
   "metadata": {},
   "source": [
    "### Tip: look carefully at the question instructions!\n",
    "\n",
    "**Some questions will want you to provide one or more input parameter(s) to a function:**\n",
    "* You'll need to call the function with something like `function1(x)`. Here `x` is the input parameter.\n",
    "* Using `input()` inside the function is *not* the same as providing an input parameter like `x` to the function. \n",
    "\n",
    "\n",
    "**Some questions will want you to return a value from the function:**\n",
    "* You'll need to use the `return` statement - something like `return y`\n",
    "* Using `print()` inside the function is *not* the same as returning a value like `y`"
   ]
  },
  {
   "cell_type": "markdown",
   "metadata": {},
   "source": [
    "### Q1. Write a function that randomly flips a coin `n` times and `returns` the number of times that the flip was 'heads' and the number of times the flip was 'tails'. The argument `n` should be an input value passed to the function. Print the final result of your function call *after* it returns: don't `print` inside the function itself.\n",
    "* Example function call: `nhead, ntail = flip(50)`"
   ]
  },
  {
   "cell_type": "code",
   "execution_count": 103,
   "metadata": {},
   "outputs": [],
   "source": [
    "## importing modules\n",
    "import random\n",
    "import math"
   ]
  },
  {
   "cell_type": "code",
   "execution_count": 104,
   "metadata": {},
   "outputs": [
    {
     "name": "stdout",
     "output_type": "stream",
     "text": [
      "22 28\n"
     ]
    }
   ],
   "source": [
    "## Question 1\n",
    "def coinflip(n):\n",
    "    random.seed(802)\n",
    "    heads = 0\n",
    "    tails = 0\n",
    "    for x in range(n):\n",
    "        result = random.choice(['heads', 'tails'])\n",
    "        if result == 'heads':\n",
    "            heads +=1\n",
    "        else:\n",
    "            tails +=1\n",
    "    return heads, tails\n",
    "\n",
    "nheads, ntails = coinflip(50)\n",
    "print(nheads, ntails)"
   ]
  },
  {
   "cell_type": "markdown",
   "metadata": {},
   "source": [
    "### Q2. Write a function that takes an argument called `radius` and returns corresponding the circumference and area of a circle with that radius. Use the following rules:\n",
    "* The radius should be passed to the function as a single input parameter value (not a list).\n",
    "* To test your function, use a loop call with the values from the list `[1.0, 2.0, 5.0, 10.0, 20.0, 50.0]`\n",
    "* During the loop print the values of radius, circumference, and area returned from your function. Your function should have not print statements inside it.\n",
    "* Your function call should be something like: `circumference, area = circle_calc(radius)`.\n",
    "* Note: when you print you can use `round(circumference, 2)` and `round(area, 2)` to only print 2 decimal places. [Optional]."
   ]
  },
  {
   "cell_type": "code",
   "execution_count": 105,
   "metadata": {},
   "outputs": [
    {
     "name": "stdout",
     "output_type": "stream",
     "text": [
      "6.28 , 3.14 , 1.0\n",
      "12.57 , 12.57 , 2.0\n",
      "31.42 , 78.54 , 5.0\n",
      "62.83 , 314.16 , 10.0\n",
      "125.66 , 1256.64 , 20.0\n",
      "314.16 , 7853.98 , 50.0\n"
     ]
    }
   ],
   "source": [
    "nums_test = [1.0, 2.0, 5.0, 10.0, 20.0, 50.0]\n",
    "def circle_stuff(radius):\n",
    "    circumference = 2*radius*math.pi\n",
    "    area = radius**2*math.pi\n",
    "    return circumference, area\n",
    "for x in nums_test:\n",
    "    circ, area_val = circle_stuff(x)\n",
    "    print(round(circ, 2),\",\", round(area_val, 2),\",\", x)"
   ]
  },
  {
   "cell_type": "markdown",
   "metadata": {},
   "source": [
    "### Q3. Write a function that converts from degrees Fahrenheit to degrees Celsius. Use the following rules:\n",
    "* To convert temperatures in degrees Fahrenheit to Celsius, subtract 32 and multiply by (5/9). \n",
    "* Pass the temperature in degrees Fahrenheit as single input parameter to the function and `return` the value in degrees Celsius.\n",
    "* To test the function, use a loop to call the function with the values from the list `[0, 20, 40, 60, 80, 100, 120]`\n",
    "* During the loop `print` both the values in degrees Fahrenheit and degrees Celsius. There should be no `print` statement inside the function itself.\n",
    "* Your function call should be something like `degC = convertF2C(degF)`\n",
    "* Note: when you print you can use `round(degC, 1)` to only print 1 decimal place. [Optional]."
   ]
  },
  {
   "cell_type": "code",
   "execution_count": 106,
   "metadata": {},
   "outputs": [
    {
     "name": "stdout",
     "output_type": "stream",
     "text": [
      "Fahrenheit: 0 Celsius: -17.8\n",
      "Fahrenheit: 20 Celsius: -6.7\n",
      "Fahrenheit: 40 Celsius: 4.4\n",
      "Fahrenheit: 60 Celsius: 15.6\n",
      "Fahrenheit: 80 Celsius: 26.7\n",
      "Fahrenheit: 100 Celsius: 37.8\n",
      "Fahrenheit: 120 Celsius: 48.9\n"
     ]
    }
   ],
   "source": [
    "fahrenheit_temps = [0,20,40,60,80,100,120]\n",
    "def fahr_to_cels(fahrenheit):\n",
    "    celsius = (fahrenheit - 32) * (5/9)\n",
    "    return celsius\n",
    "for x in fahrenheit_temps:\n",
    "    degC = fahr_to_cels(x)\n",
    "    print(\"Fahrenheit:\", x, \"Celsius:\", round(degC, 1))"
   ]
  },
  {
   "cell_type": "markdown",
   "metadata": {},
   "source": [
    "### Q4. Write a function to return the trimmed mean of a list that contains numbers (integers or floats). Use the following rules:\n",
    "* The trimmed mean is the average of all values except the lowest value and highest value\n",
    "* Your function should take a list as its only input argument.\n",
    "* Your function should return the trimmed mean (a single number) as its output. [The value should be returned and not be printed inside the function.]\n",
    "\n",
    "\n",
    "Example: the trimmed mean of a list `[7, 0, 10.2, -1.0, 2.0]` is just the average of `[7, 0, 2.0]` which is `3.0`."
   ]
  },
  {
   "cell_type": "code",
   "execution_count": 107,
   "metadata": {},
   "outputs": [
    {
     "data": {
      "text/plain": [
       "8.85"
      ]
     },
     "execution_count": 107,
     "metadata": {},
     "output_type": "execute_result"
    }
   ],
   "source": [
    "full_list = [3, 43, 5, 12.4, 3.5, 1.2, 3, 6, 9, 28.9]\n",
    "def trim_mean(l):\n",
    "   l.remove(min(l))\n",
    "   l.remove(max(l))\n",
    "   trimmed_mean = sum(l) / len(l)\n",
    "   return trimmed_mean\n",
    "trim_mean(full_list)"
   ]
  },
  {
   "cell_type": "markdown",
   "metadata": {},
   "source": [
    "### Q5. Write a function that takes an input value corresponding to a large timespan measured in seconds and converts it to the equivalent number of days, hours, minutes, and seconds elapsed. Make a list with these integer values, i.e. [days, hours, minutes, seconds] and return the list. Print an error statement if the passed seconds value is negative (don't return any values in this case).\n",
    "* Hint: Use the `//` operator we learned in Lecture 2\n",
    "* Example 1: `convert_seconds(567352)` should return `[6, 13, 35, 52]`\n",
    "* Example 2: `convert_seconds(12345)` should return `[0, 3, 25, 45]`\n",
    "* Example 3: `convert_seconds(-5)` should print `'Error - seconds value must be positive!'` and there should be no returned value"
   ]
  },
  {
   "cell_type": "code",
   "execution_count": 108,
   "metadata": {},
   "outputs": [
    {
     "name": "stdout",
     "output_type": "stream",
     "text": [
      "[0, 0, 10, 0]\n",
      "[0, 0, 16, 40]\n",
      "[0, 1, 40, 0]\n",
      "[6, 13, 35, 52]\n",
      "[1, 0, 0, 0]\n",
      "[1157, 9, 46, 40]\n",
      "Error. Seconds should be positive\n",
      "None\n"
     ]
    }
   ],
   "source": [
    "def convert_seconds(x):\n",
    "    time_list = [0,0,0,0]\n",
    "    if x < 0:\n",
    "        print(\"Error. Seconds should be positive\")\n",
    "    elif x == 0:\n",
    "        time_list = [0,0,0,0]\n",
    "        return time_list\n",
    "    else:\n",
    "        time_list[0] = (x // 60 // 60 // 24)\n",
    "        time_list[1] = (x - (time_list[0] * 60 * 60 * 24)) // (60 * 60)\n",
    "        time_list[2] = (x - (time_list[1] * 60 * 60) - (time_list[0] * 60 * 60 * 24)) // 60\n",
    "        time_list[3] = x - (time_list[2] * 60) - (time_list[1] * 60 * 60) - (time_list[0] * 60 * 60 * 24)\n",
    "        return time_list\n",
    "print(convert_seconds(600))\n",
    "print(convert_seconds(1000))\n",
    "print(convert_seconds(6000))\n",
    "print(convert_seconds(567352))\n",
    "print(convert_seconds(86400))\n",
    "print(convert_seconds(100000000))\n",
    "print(convert_seconds(-5))"
   ]
  },
  {
   "cell_type": "markdown",
   "metadata": {},
   "source": [
    "### Q6. Loop through the list values `[100, 1000, 10000,100000]` and call your Q5 function with each of these list values in order. Print the results of each function call with a statement like: `\"Input value: 10 --> days=0 , hours=0 , minutes=0 , seconds=10\"`"
   ]
  },
  {
   "cell_type": "code",
   "execution_count": 109,
   "metadata": {},
   "outputs": [
    {
     "name": "stdout",
     "output_type": "stream",
     "text": [
      "Input value= 100 , days= 0 , hours= 0 , minutes= 1 , seconds= 40\n",
      "Input value= 1000 , days= 0 , hours= 0 , minutes= 16 , seconds= 40\n",
      "Input value= 10000 , days= 0 , hours= 2 , minutes= 46 , seconds= 40\n",
      "Input value= 100000 , days= 1 , hours= 3 , minutes= 46 , seconds= 40\n"
     ]
    }
   ],
   "source": [
    "list_vals = [100,1000,10000,100000]\n",
    "for x in list_vals:\n",
    "    y = (convert_seconds(x))\n",
    "    print(\"Input value=\", x, \", days=\", y[0], \", hours=\", y[1], \", minutes=\", y[2], \", seconds=\", y[3])"
   ]
  },
  {
   "cell_type": "markdown",
   "metadata": {},
   "source": [
    "### Q7. Write a function that uses `random.randint` https://docs.python.org/3/library/random.html to generate 3 random integers between 0 and 20 (inclusive). Your function should then `print` these numbers and ask the user to add them, obtains the user's value using the `input()` statement. Your function should check their math and then `print` whether the user's addition calculation was correct.\n",
    "* Example: random integers 20, 5 and 15, user enters 40, you print 'Correct!'\n",
    "* Example: random integers 8, 19 and 8, user enters 25, you print 'Wrong!'\n",
    "\n",
    "Unlike in previous exercises, it's ok here to `print` inside the function."
   ]
  },
  {
   "cell_type": "code",
   "execution_count": 110,
   "metadata": {},
   "outputs": [
    {
     "name": "stdout",
     "output_type": "stream",
     "text": [
      "[14, 14, 10]\n",
      "Correct!\n",
      "[4, 13, 16]\n",
      "Wrong!\n"
     ]
    }
   ],
   "source": [
    "def input_ints():\n",
    "    nums = []\n",
    "    for i in range(3):\n",
    "        nums.append(random.randint(0,20))\n",
    "    print(nums)\n",
    "    user_sum = int(input(\"Please sum these 3 numbers!\"))\n",
    "    if user_sum == sum(nums):\n",
    "        print(\"Correct!\")\n",
    "    else:\n",
    "        print(\"Wrong!\")\n",
    "input_ints()\n",
    "input_ints()"
   ]
  },
  {
   "cell_type": "markdown",
   "metadata": {},
   "source": [
    "### Q8. Write a function that generates one random integer between 20 and 40 (inclusive) and a second random integer between 0 and 20 (inclusive) and `prints` them. The function should then ask the user to subtract the 2nd value from the 1st value, obtaining the user's value using the `input()` statement, and `print` whether the user's subtraction calculation was correct. "
   ]
  },
  {
   "cell_type": "code",
   "execution_count": 111,
   "metadata": {},
   "outputs": [
    {
     "name": "stdout",
     "output_type": "stream",
     "text": [
      "26 20\n",
      "Correct\n",
      "25 19\n",
      "Wrong\n"
     ]
    }
   ],
   "source": [
    "def int_diffs():\n",
    "    nums = []\n",
    "    nums.append(random.randint(20,40))\n",
    "    nums.append(random.randint(0,20))\n",
    "    print(nums[0], nums[1])\n",
    "    user_diff = int(input(\"Please subtract the 2nd number from the 1st!\"))\n",
    "    if user_diff == nums[0] - nums[1]:\n",
    "        print(\"Correct\")\n",
    "    else:\n",
    "        print(\"Wrong\")\n",
    "int_diffs()\n",
    "int_diffs()"
   ]
  },
  {
   "cell_type": "markdown",
   "metadata": {},
   "source": [
    "### Q9. In this problem, we'll see how we can call functions inside another function. In particular, write a function that asks the user to enter \"+\" if they want to practice addition and \"-\" if they want to practice subtraction. Call the appropriate function from Q7 or Q8 based on the input value and print an error message if user does not enter \"+\" or \"-\"."
   ]
  },
  {
   "cell_type": "code",
   "execution_count": 112,
   "metadata": {},
   "outputs": [
    {
     "name": "stdout",
     "output_type": "stream",
     "text": [
      "You did not enter a plus sign (+) or minus sign (-), please try again\n",
      "[18, 11, 13]\n",
      "Correct!\n",
      "38 19\n",
      "Wrong\n"
     ]
    }
   ],
   "source": [
    "def practice_func():\n",
    "    practice_type = input(\"Please enter a plus sign (+) or a minus sign (-) to practice either addition or subtraction\")\n",
    "    if practice_type == \"+\":\n",
    "        input_ints()\n",
    "    elif practice_type == \"-\":\n",
    "        int_diffs()\n",
    "    else:\n",
    "        print(\"You did not enter a plus sign (+) or minus sign (-), please try again\")\n",
    "practice_func()\n",
    "practice_func()\n",
    "practice_func()"
   ]
  },
  {
   "cell_type": "markdown",
   "metadata": {},
   "source": [
    "### Please list any other students that you worked with on this assignment"
   ]
  },
  {
   "cell_type": "code",
   "execution_count": 113,
   "metadata": {},
   "outputs": [],
   "source": [
    "# I worked with the following students: Hannah Potts, Faith Machuca"
   ]
  },
  {
   "cell_type": "markdown",
   "metadata": {},
   "source": [
    "### To receive credit for this homework upload both the .ipynb file and an .html version"
   ]
  }
 ],
 "metadata": {
  "kernelspec": {
   "display_name": "Python 3 (ipykernel)",
   "language": "python",
   "name": "python3"
  },
  "language_info": {
   "codemirror_mode": {
    "name": "ipython",
    "version": 3
   },
   "file_extension": ".py",
   "mimetype": "text/x-python",
   "name": "python",
   "nbconvert_exporter": "python",
   "pygments_lexer": "ipython3",
   "version": "3.10.9"
  }
 },
 "nbformat": 4,
 "nbformat_minor": 4
}
