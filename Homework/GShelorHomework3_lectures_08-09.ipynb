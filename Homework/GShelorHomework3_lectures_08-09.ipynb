{
 "cells": [
  {
   "cell_type": "markdown",
   "metadata": {},
   "source": [
    "# Homework 3: Strings and Plotting"
   ]
  },
  {
   "cell_type": "markdown",
   "metadata": {},
   "source": [
    "### Q1. Write a function to play rock, paper, scissors.\n",
    "\n",
    "An example algorithm could be as follows:\n",
    "* Ask the player to `input()` 'rock', 'paper', or 'scissors'\n",
    "* Use the string function `lower()` to correct the entry if the user enters a capital letter (e.g. Rock or ROCK)\n",
    "* Use `choice()` from the module `random` to randomly choose 'rock', 'paper', or 'scissors'\n",
    "* Print out both the user and computer choices, and let player know whether they won, lost, or tied\n",
    "* Print out an error if player does not enter 'rock', 'paper', or 'scissors'\n",
    "\n",
    "Note that your function does not need an input or an output variable. The `print()` statements may be performed inside the fucntion."
   ]
  },
  {
   "cell_type": "code",
   "execution_count": null,
   "metadata": {},
   "outputs": [],
   "source": [
    "  "
   ]
  },
  {
   "cell_type": "markdown",
   "metadata": {},
   "source": [
    "### Q2. Write a function called `cypher` that makes a _Caesar cypher_, which is a type of substitution cipher in which each letter in a string of text is replaced by a different letter positioned some fixed number of characters down the alphabet. For example, with a shift of -3, E would be replaced by B, D would become A, C would be replaced by Z, and so on. The method is named after Julius Caesar, who supposedly used it in his private correspondence. The result should be in all uppercase. \n",
    "* The function `cypher` should have two inputs: a word (a string), and a shift value (an int)\n",
    "* While the word may be a mix of upper and lowercase, for simplicity you should convert the output to all uppercase.\n",
    "* A positive shift will shift letters to the right in the alphabet\n",
    "* A negative shift will shift letters to the left in the alphabet\n",
    "* The function should return the shifted new word, in all capital letters.\n",
    "* For simplicity, you may assume that the input string only contains uppercase and lowercase letters (i.e. no numbers or punctuation), and that the shift is between -25 and +25.\n",
    "\n",
    "**Examples:**\n",
    "* `cypher('abc',-1)` should return 'ZAB'\n",
    "* `cypher('xyz',3)` should return 'ABC'\n",
    "* `cypher('Daniel',-5)` should return 'YVIDZG'\n",
    "\n",
    "**Please do not use the following functions in your solution (and don't worry if you've never heard of them!):** \n",
    "* `chr()`, `ord()`, `char()`"
   ]
  },
  {
   "cell_type": "code",
   "execution_count": null,
   "metadata": {},
   "outputs": [],
   "source": []
  },
  {
   "cell_type": "markdown",
   "metadata": {},
   "source": [
    "### Q3. Write a function that has an integer `n` as its input parameter, where `n` can be between 1 and 9, and prints a \"text triangle\" with `n` lines that uses the numbers from 1 to 9. For example, if `n = 3`, the 3 printed lines would be: \n",
    "\n",
    "1\\\n",
    "22\\\n",
    "333 \n",
    "\n",
    "### Print out an error if `n` is less than 1 or greater than 9."
   ]
  },
  {
   "cell_type": "code",
   "execution_count": null,
   "metadata": {},
   "outputs": [],
   "source": []
  },
  {
   "cell_type": "markdown",
   "metadata": {},
   "source": [
    "### Q4. Write a function that takes a string as its input parameter and tells the user if that string would make a strong password. You get a maximum of one point for each of the following:\n",
    "\n",
    "* Having at least one digit\n",
    "* Having at least one lowercase letter\n",
    "* Having at least one uppercase letter\n",
    "* Having at least one character that is in `string.punctuation`\n",
    "* Having at least 12 characters\n",
    "\n",
    "**Once you have tallied the points, score the password as follows:**\n",
    "- 0-2 points: print 'that is a weak password'\n",
    "- 3-4 points: print 'that is an decent password'\n",
    "- 5 points: print 'that is a strong password!'\n",
    "\n",
    "The scoring can be printed inside the function and does not need to be returned as a number."
   ]
  },
  {
   "cell_type": "code",
   "execution_count": null,
   "metadata": {},
   "outputs": [],
   "source": [
    "           "
   ]
  },
  {
   "cell_type": "markdown",
   "metadata": {},
   "source": [
    "### Q5. Think of a creative way to use both the `random` and `math` libraries to make some interesting lists. (Alternatively, you may use `numpy` arrays if you are comfortable with that). Then use these lists/arrays to make a beautiful plot with `matplotlib` (get creative and don't just plot a solid line). Make sure the axes are labeled and there is a legend. Display the figure and save it figure as a png file.\n",
    "\n",
    "* **Note**: be sure your saved version is the same as the one seen in the notebook! A common mistake is to call `plt.show()` before saving, this will clear the figure such that your saved version is blank."
   ]
  },
  {
   "cell_type": "code",
   "execution_count": null,
   "metadata": {},
   "outputs": [],
   "source": []
  },
  {
   "cell_type": "markdown",
   "metadata": {},
   "source": [
    "### Please list any other students that you worked with on this assignment"
   ]
  },
  {
   "cell_type": "code",
   "execution_count": null,
   "metadata": {},
   "outputs": [],
   "source": [
    "# I worked with the following students:"
   ]
  },
  {
   "cell_type": "markdown",
   "metadata": {},
   "source": [
    "### To receive credit for this homework upload both the .ipynb file and an .html version."
   ]
  }
 ],
 "metadata": {
  "kernelspec": {
   "display_name": "Python 3 (ipykernel)",
   "language": "python",
   "name": "python3"
  },
  "language_info": {
   "codemirror_mode": {
    "name": "ipython",
    "version": 3
   },
   "file_extension": ".py",
   "mimetype": "text/x-python",
   "name": "python",
   "nbconvert_exporter": "python",
   "pygments_lexer": "ipython3",
   "version": "3.10.13"
  }
 },
 "nbformat": 4,
 "nbformat_minor": 4
}
