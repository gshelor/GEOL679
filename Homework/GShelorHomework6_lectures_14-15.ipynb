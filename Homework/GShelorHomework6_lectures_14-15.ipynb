{
 "cells": [
  {
   "cell_type": "markdown",
   "metadata": {},
   "source": [
    "# Homework 6: Working with Pandas"
   ]
  },
  {
   "cell_type": "code",
   "execution_count": null,
   "metadata": {},
   "outputs": [],
   "source": [
    "import numpy as np\n",
    "import pandas as pd\n",
    "import matplotlib.pyplot as plt"
   ]
  },
  {
   "cell_type": "markdown",
   "metadata": {},
   "source": [
    "### Q1. Read the csv file 'homework6_movies.csv' into a `pandas` `DataFrame`. Display the column names - just the column names - don't use `.head()`."
   ]
  },
  {
   "cell_type": "code",
   "execution_count": null,
   "metadata": {},
   "outputs": [],
   "source": []
  },
  {
   "cell_type": "markdown",
   "metadata": {},
   "source": [
    "### Q2. Make a `DataFrame` that contains just the columns 'title', 'genres','budget', 'revenue', 'vote_average', 'release_date'. Print the shape of this dataframe, and display the first 5 rows. \n",
    "\n",
    "If you decide to give this `DataFrame` a new name then use `.copy()` when generating it (otherwise you may get pink warning messages when you do some of the later questions)."
   ]
  },
  {
   "cell_type": "code",
   "execution_count": null,
   "metadata": {},
   "outputs": [],
   "source": []
  },
  {
   "cell_type": "markdown",
   "metadata": {},
   "source": [
    "### Q3. Use `.replace()` to change all the revenue values of `0` to `np.NaN`. Next, drop all `NaN` values from the `DataFrame` and reset the row indices. Finally, use `info()` to check that all `NaN` values have been removed.\n",
    "\n",
    "\n",
    "**Important Note:** Make sure that the indices are properly reset as you will be working with this `DataFrame` for the rest of the homework.\n",
    "\n",
    "[Aside: Depending on how you use the function `dropna()` you may see pink warning messages. This is because `dropna()` returns a view and not a copy of the data, and thus changes to the view are frowned upon. Don't sweat this detail for our notebook today.]"
   ]
  },
  {
   "cell_type": "code",
   "execution_count": null,
   "metadata": {},
   "outputs": [],
   "source": []
  },
  {
   "cell_type": "markdown",
   "metadata": {},
   "source": [
    "### Q4. Add a 'year' column to your new `DataFrame` making sure it is of type 'int'. Delete the 'release_date' column. Display the first 5 rows of after these changes.\n",
    "* The year (as a string) can be extracted from the first 4 characters of 'release_date'\n",
    "* Consider using list comprehension or the `.str.slice()` function defined in `pandas`"
   ]
  },
  {
   "cell_type": "code",
   "execution_count": null,
   "metadata": {},
   "outputs": [],
   "source": []
  },
  {
   "cell_type": "markdown",
   "metadata": {},
   "source": [
    "### Q5. Plot 'year' vs 'budget' using a scatter plot (i.e. with markers and not lines). Using different colored markers, plot the median budget in each year on top of the full scatter plot.\n",
    "\n",
    "Hint: Consider using `groupby` with the 'year' column to get the median values for the plot."
   ]
  },
  {
   "cell_type": "code",
   "execution_count": null,
   "metadata": {},
   "outputs": [],
   "source": []
  },
  {
   "cell_type": "markdown",
   "metadata": {},
   "source": [
    "### Q6. Add a 'profit' column ('revenue' minus 'budget') to your `DataFrame`. After doing this, make a new `DataFrame` (a copy) and sort by 'profit'. Display the 5 movies with the highest profit in one cell and display the 5 movies that lost the most money in a second cell."
   ]
  },
  {
   "cell_type": "code",
   "execution_count": null,
   "metadata": {},
   "outputs": [],
   "source": []
  },
  {
   "cell_type": "code",
   "execution_count": null,
   "metadata": {},
   "outputs": [],
   "source": []
  },
  {
   "cell_type": "markdown",
   "metadata": {},
   "source": [
    "### Q7. Make a scatter plot of 'vote_average' on the x-axis and 'profit' on the y-axis. Make sure your axes are labeled."
   ]
  },
  {
   "cell_type": "code",
   "execution_count": null,
   "metadata": {},
   "outputs": [],
   "source": []
  },
  {
   "cell_type": "markdown",
   "metadata": {},
   "source": [
    "### Q8. The 'genres' column is unusual - it contains lists of dictionaries. We want to convert this into something more usuable.\n",
    "\n",
    "[This code is from a Kaggle notebook. https://www.kaggle.com/ibtesama/getting-started-with-a-movie-recommendation-system ]\n",
    "\n",
    "To do this, apply the function below to your `DataFrame`, e.g., if your `DataFrame` is called `df` then the code would be `df = genre_list(df)`. \n",
    "\n",
    "This will change the column to lists of genre types. While this question is really simple, there are some important guidelines to follow: \n",
    "\n",
    "* Do not run this more than once (unless you re-run from the top), as it operates in-place on the `DataFrame`. \n",
    "\n",
    "* If this code is not working for your `DataFrame`, it may be that you did not properly remove the ill-formatted rows in Q3. Revisit that question.\n",
    "\n",
    "* For subseqeuent cells to run properly, the `DataFrame` you use for this exercise should have \"reset\" indices starting at 0."
   ]
  },
  {
   "cell_type": "code",
   "execution_count": null,
   "metadata": {},
   "outputs": [],
   "source": [
    "### Functions to use for this exercise (do not modify!!!)\n",
    "\n",
    "def get_list(x):\n",
    "    if isinstance(x, list):\n",
    "        names = [i['name'] for i in x]\n",
    "        return names\n",
    "    return [] #Return empty list in case of missing/malformed data\n",
    "\n",
    "def genre_list(df):\n",
    "    \"\"\" Change the 'genres' column in a movie dataframe to a list of genres\n",
    "    Call function with df = genre_list(df)\"\"\"\n",
    "    from ast import literal_eval\n",
    "    df['genres'] = df['genres'].apply(literal_eval)    \n",
    "    df['genres'] = df['genres'].apply(get_list)\n",
    "    return df"
   ]
  },
  {
   "cell_type": "code",
   "execution_count": null,
   "metadata": {},
   "outputs": [],
   "source": []
  },
  {
   "cell_type": "markdown",
   "metadata": {},
   "source": [
    "### Q9. Make a list of the unique genre types. You will need to iterate through the lists in the 'genres' columns to make your list of the unique genre types. Print your list.\n",
    "\n",
    "\n",
    "Consider using a nested loop, something like:\n",
    "\n",
    "`for list1 in df2['genres']:` for the outer loop\n",
    "\n",
    "and `for val in list1:` for the inner loop"
   ]
  },
  {
   "cell_type": "code",
   "execution_count": null,
   "metadata": {},
   "outputs": [],
   "source": []
  },
  {
   "cell_type": "markdown",
   "metadata": {},
   "source": [
    "### Q10. Calculate the median profit for each genre type. Most movies have multiple genres, but that is ok (e.g., count Avatar for 'Action', 'Adventure', 'Fantasy', and 'Science Fiction'). Print the median profit of each genre type in units of millions of dollars (that is, divide by 1e6) and save these computed values in a list.\n",
    "\n",
    "**Hint**: The cell below gives an example of how you can calculate the profit for all movies that contain the genre 'Action'. You will need to generalize this for all genres and compute the median values.\n",
    "\n",
    "**Important Note**: this code assumes your DataFrame has indices that correspond to row numbers. To ensure this, make sure you reset the indices in Q3."
   ]
  },
  {
   "cell_type": "code",
   "execution_count": null,
   "metadata": {},
   "outputs": [],
   "source": [
    "# Example calculation for Action movies\n",
    "\n",
    "genre = 'Action' # pick Action genre, for example\n",
    "\n",
    "# make an array to track rows with an action movie\n",
    "gslice = np.zeros(len(df2),dtype=\"bool\") \n",
    "\n",
    "# iterate over rows, each one contains info about a movie\n",
    "for ii, movie in df2.iterrows(): \n",
    "    gslice[ii] = genre in movie['genres'] # check whether movie is of this genre, updating array\n",
    "    \n",
    "# print median profit of movies with this genre (in Millions)\n",
    "mdp = df2.loc[gslice,'profit'].median()/1e6\n",
    "print(\"Median for profit for:\", genre, mdp)\n",
    "\n",
    "    \n",
    "# display movies with this genre    \n",
    "df2.loc[gslice,['genres','profit']].head() "
   ]
  },
  {
   "cell_type": "code",
   "execution_count": null,
   "metadata": {
    "scrolled": true
   },
   "outputs": [],
   "source": [
    "### Your task: apply to all genre types and store results in a list\n",
    "\n"
   ]
  },
  {
   "cell_type": "markdown",
   "metadata": {},
   "source": [
    "### Q11. Make a new `DataFrame` that has two columns: 'genre' (the list you created in Q9) and the median profit you calculated above. Sort by median profit, in millions of dollars, and display the entire `DataFrame`."
   ]
  },
  {
   "cell_type": "code",
   "execution_count": null,
   "metadata": {},
   "outputs": [],
   "source": []
  },
  {
   "cell_type": "markdown",
   "metadata": {},
   "source": [
    "### To receive credit for this homework, upload both the .ipynb file and an .html version."
   ]
  }
 ],
 "metadata": {
  "kernelspec": {
   "display_name": "Python 3 (ipykernel)",
   "language": "python",
   "name": "python3"
  },
  "language_info": {
   "codemirror_mode": {
    "name": "ipython",
    "version": 3
   },
   "file_extension": ".py",
   "mimetype": "text/x-python",
   "name": "python",
   "nbconvert_exporter": "python",
   "pygments_lexer": "ipython3",
   "version": "3.10.13"
  }
 },
 "nbformat": 4,
 "nbformat_minor": 4
}
