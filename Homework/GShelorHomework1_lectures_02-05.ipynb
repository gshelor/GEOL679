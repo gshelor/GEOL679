{
 "cells": [
  {
   "cell_type": "markdown",
   "metadata": {},
   "source": [
    "# Homework 1: Lists, Conditionals, Loops"
   ]
  },
  {
   "cell_type": "markdown",
   "metadata": {},
   "source": [
    "## Griffin Shelor"
   ]
  },
  {
   "cell_type": "markdown",
   "metadata": {},
   "source": [
    "## Homework Rules:\n",
    "* Feel free to work with others, but your code should be your own (e.g., don't submit duplicate code)\n",
    "* Add some comments to your code to describe the **major** steps (i.e., you don't need to comment each line, but it is good practice to at least comment each block of code) "
   ]
  },
  {
   "cell_type": "markdown",
   "metadata": {},
   "source": [
    "### Q1. Multiplication Table. Use the `input()` statement to ask the user to enter an integer between 1 and 10 and then print out the multiplication table for that value.\n",
    "* If user enters a value that is not in the correct range, print out an error message.\n",
    "* The multiplication table should go from 1 to 10.\n",
    "* Example: User enters 3, program should print 10 lines. First line is '1 x 3 = 3', last line is '10 x 3 = 30'."
   ]
  },
  {
   "cell_type": "code",
   "execution_count": 4,
   "metadata": {},
   "outputs": [
    {
     "name": "stdout",
     "output_type": "stream",
     "text": [
      "[4, 8, 12, 16, 20, 24, 28, 32, 36, 40]\n"
     ]
    }
   ],
   "source": [
    "one_ten = [1,2,3,4,5,6,7,8,9,10]\n",
    "multi_table = []\n",
    "integer = int(input(\"Enter an integer between 1 and 10: \"))\n",
    "if (integer <= 10) and (integer > 0):\n",
    "    for i in one_ten:\n",
    "        multi_table.append(integer * i)\n",
    "    print(multi_table)\n",
    "else:\n",
    "    print(\"Value either not an integer or is not between 1 and 10\")"
   ]
  },
  {
   "cell_type": "markdown",
   "metadata": {},
   "source": [
    "### Q2. Triangle Type. This problem considers a list containing 3 values which correspond to the sides of a triangle. Write a program that examines the list and prints out the triangle \"type\" (see below) and its perimeter (sum of the sides). \n",
    "\n",
    "Your code should print an error for the following cases:\n",
    "- If the list is not of length 3\n",
    "- If the 3 values do not describe a triangle (remember: the sum of the length of two sides of a triangle is always greater than the length of the third side).\n",
    "\n",
    "For the triangle type, consider three types of triangles:\n",
    "* All 3 sides are equal: equilateral triangle\n",
    "* Only 2 sides are equal: isosceles triangle\n",
    "* All 3 sides are different: scalene triangle\n",
    "\n",
    "For example:\n",
    "* If `x = [3.0, 3.0, 3.0]`, print 'equilateral triangle, perimeter = 9.0'\n",
    "* If `x = [0.5, 1.0, 2.0]`, print 'Error - not a triangle!'"
   ]
  },
  {
   "cell_type": "code",
   "execution_count": 7,
   "metadata": {},
   "outputs": [
    {
     "name": "stdout",
     "output_type": "stream",
     "text": [
      "[3.0, 4.0, 5.0]\n"
     ]
    }
   ],
   "source": [
    "triangle_side1 = float(input(\"Please input 1 length of the sides of a triangle: \"))\n",
    "triangle_side2 = float(input(\"Please input 1 length of the sides of a triangle: \"))\n",
    "triangle_side3 = float(input(\"Please input 1 length of the sides of a triangle: \"))\n",
    "triangle_sides = [triangle_side1, triangle_side2, triangle_side3]\n",
    "print(triangle_sides)\n"
   ]
  },
  {
   "cell_type": "markdown",
   "metadata": {},
   "source": [
    "### Q3. Duplicates. Write a code that takes a list of numbers and makes a new list that (i) does not contain duplicate values and (ii) is sorted in reversed (i.e., decreasing) order. [Hint: use the `in` and/or `not in` commands.]\n",
    "For example:\n",
    "* If the original list `x = [1.0, 5.5, -9.0, 8.0, 1.0, -2.5, 7.0]`\n",
    "* Then the new list `x2 = [8.0, 7.0, 5.5, 1.0, -2.5, -9.0]`"
   ]
  },
  {
   "cell_type": "code",
   "execution_count": null,
   "metadata": {
    "scrolled": true
   },
   "outputs": [],
   "source": []
  },
  {
   "cell_type": "markdown",
   "metadata": {},
   "source": [
    "### Q4. List values. Write a simple program that takes a list of words and (i) counts the total number of characters, across all words in the list (including duplicate characters), and (ii) makes a new list called `uchars` that contains only the unique characters in the input list. Sort the character list `uchars` in alphabetical order before printing the results of (i) and (ii).\n",
    "\n",
    "Example 1:\n",
    "* Input lists: `mylist = [\"i\", \"love\", \"coding\", \"in\", \"python\"]`\n",
    "* Results:\n",
    "*   ---> `count = 19`\n",
    "*   ---> `uchars = ['c', 'd', 'e', 'g', 'h', 'i', 'l', 'n', 'o', 'p', 't', 'v', 'y']`\n"
   ]
  },
  {
   "cell_type": "code",
   "execution_count": null,
   "metadata": {},
   "outputs": [],
   "source": []
  },
  {
   "cell_type": "markdown",
   "metadata": {},
   "source": [
    "### Q5. Julian Day. Use 2 `input()` statements to ask the user for a month and a day. Calculate and print the Julian Day, assuming that it is not a leap year. [Make sure the Julian Day is an integer, not a float.]\n",
    "The Julian Day is the number of days since the start of the year:\n",
    "* January 1 has a Julian Day of 1.\n",
    "* February 1 has a Julian Day of 32.\n",
    "* August 4 has a Julian Day of 216.\n",
    "* December 31 has a Julian Day of 365.\n",
    "* Print an error if the day is < 1 or is too large for the month in question (e.g., 31 is too large for September)\n",
    "\n",
    "For this exercise, please do not use Python's built-in `datetime` functions."
   ]
  },
  {
   "cell_type": "code",
   "execution_count": null,
   "metadata": {},
   "outputs": [],
   "source": []
  },
  {
   "cell_type": "markdown",
   "metadata": {},
   "source": [
    "### Q6. Leap year. Use the `input()` function to ask the user for a year, and print whether it is a leap year. Every year that is exactly divisible by four is a leap year, except for years that are exactly divisible by 100, but these centurial years are leap years if they are exactly divisible by 400.\n",
    "\n",
    "For example, the years 1700, 1800, and 1900 are not leap years, but the years 1600 and 2000 are.\n",
    "\n",
    "Again, please do not use Python's `datetime` functionality."
   ]
  },
  {
   "cell_type": "code",
   "execution_count": null,
   "metadata": {},
   "outputs": [],
   "source": []
  },
  {
   "cell_type": "markdown",
   "metadata": {},
   "source": [
    "### Q7. Now combine Q5 and Q6 - use 3 `input()` statements to ask the user for a month, day, and year, and calculate the Julian Day taking into account leap years.\n",
    "* March 1, 1999 has a Julian Day of 60\n",
    "* March 1, 2000 has a Julian Day of 61\n",
    "\n",
    "Again, please do not use Python's `datetime` functionality."
   ]
  },
  {
   "cell_type": "code",
   "execution_count": null,
   "metadata": {},
   "outputs": [],
   "source": []
  },
  {
   "cell_type": "markdown",
   "metadata": {},
   "source": [
    "### List any other students that you worked with on this assignment."
   ]
  },
  {
   "cell_type": "code",
   "execution_count": null,
   "metadata": {},
   "outputs": [],
   "source": [
    "# I worked with the following students: "
   ]
  },
  {
   "cell_type": "markdown",
   "metadata": {},
   "source": [
    "### To receive credit for this homework upload both the .ipynb file and a .html version."
   ]
  }
 ],
 "metadata": {
  "kernelspec": {
   "display_name": "Python 3 (ipykernel)",
   "language": "python",
   "name": "python3"
  },
  "language_info": {
   "codemirror_mode": {
    "name": "ipython",
    "version": 3
   },
   "file_extension": ".py",
   "mimetype": "text/x-python",
   "name": "python",
   "nbconvert_exporter": "python",
   "pygments_lexer": "ipython3",
   "version": "3.10.9"
  }
 },
 "nbformat": 4,
 "nbformat_minor": 4
}
