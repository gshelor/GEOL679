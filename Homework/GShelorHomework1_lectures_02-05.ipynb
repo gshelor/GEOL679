{
 "cells": [
  {
   "cell_type": "markdown",
   "metadata": {},
   "source": [
    "# Griffin Shelor\n",
    "2-8-2024"
   ]
  },
  {
   "cell_type": "markdown",
   "metadata": {},
   "source": [
    "# Homework 1: Lists, Conditionals, Loops"
   ]
  },
  {
   "cell_type": "markdown",
   "metadata": {},
   "source": [
    "## Homework Rules:\n",
    "* Feel free to work with others, but your code should be your own (e.g., don't submit duplicate code)\n",
    "* Add some comments to your code to describe the **major** steps (i.e., you don't need to comment each line, but it is good practice to at least comment each block of code) "
   ]
  },
  {
   "cell_type": "markdown",
   "metadata": {},
   "source": [
    "### Q1. Multiplication Table. Use the `input()` statement to ask the user to enter an integer between 1 and 10 and then print out the multiplication table for that value.\n",
    "* If user enters a value that is not in the correct range, print out an error message.\n",
    "* The multiplication table should go from 1 to 10.\n",
    "* Example: User enters 3, program should print 10 lines. First line is '1 x 3 = 3', last line is '10 x 3 = 30'."
   ]
  },
  {
   "cell_type": "code",
   "execution_count": 130,
   "metadata": {},
   "outputs": [
    {
     "name": "stdout",
     "output_type": "stream",
     "text": [
      "1 x 6 = 6\n",
      "2 x 6 = 12\n",
      "3 x 6 = 18\n",
      "4 x 6 = 24\n",
      "5 x 6 = 30\n",
      "6 x 6 = 36\n",
      "7 x 6 = 42\n",
      "8 x 6 = 48\n",
      "9 x 6 = 54\n",
      "10 x 6 = 60\n"
     ]
    }
   ],
   "source": [
    "## creating list of acceptable integers\n",
    "one_ten = [1,2,3,4,5,6,7,8,9,10]\n",
    "integer = int(input(\"Enter an integer between 1 and 10: \"))\n",
    "## if integer is acceptable, multiply it by the integers in one_ten\n",
    "if (integer <= 10) and (integer > 0):\n",
    "    for i in one_ten:\n",
    "        print(str(i), \"x\", str(integer), \"=\", str(integer * i))\n",
    "else:\n",
    "    print(\"Value either not an integer or is not between 1 and 10\")"
   ]
  },
  {
   "cell_type": "markdown",
   "metadata": {},
   "source": [
    "### Q2. Triangle Type. This problem considers a list containing 3 values which correspond to the sides of a triangle. Write a program that examines the list and prints out the triangle \"type\" (see below) and its perimeter (sum of the sides). \n",
    "\n",
    "Your code should print an error for the following cases:\n",
    "- If the list is not of length 3\n",
    "- If the 3 values do not describe a triangle (remember: the sum of the length of two sides of a triangle is always greater than the length of the third side).\n",
    "\n",
    "For the triangle type, consider three types of triangles:\n",
    "* All 3 sides are equal: equilateral triangle\n",
    "* Only 2 sides are equal: isosceles triangle\n",
    "* All 3 sides are different: scalene triangle\n",
    "\n",
    "For example:\n",
    "* If `x = [3.0, 3.0, 3.0]`, print 'equilateral triangle, perimeter = 9.0'\n",
    "* If `x = [0.5, 1.0, 2.0]`, print 'Error - not a triangle!'"
   ]
  },
  {
   "cell_type": "code",
   "execution_count": 131,
   "metadata": {},
   "outputs": [
    {
     "name": "stdout",
     "output_type": "stream",
     "text": [
      "[4.0, 5.0, 8.0]\n",
      "Scalene triangle, perimeter = 17.0\n"
     ]
    }
   ],
   "source": [
    "## asking for sides list\n",
    "sides_list_str = list(input(\"Please input the side lengths of a triangle with commas between each side length:\"))\n",
    "if \" \" in sides_list_str:\n",
    "    while \" \" in sides_list_str:\n",
    "        sides_list_str.remove(' ')\n",
    "if \",\" in sides_list_str:\n",
    "    while \",\" in sides_list_str or \" \" in sides_list_str:\n",
    "        sides_list_str.remove(',')\n",
    "\n",
    "\n",
    "## checking length of list of sides to ensure it really is a triangle\n",
    "if len(sides_list_str) == 3:\n",
    "    sides_list = list(map(float, sides_list_str))\n",
    "    print(sides_list)\n",
    "else:\n",
    "    print(\"You have either not entered the correct number of sides for a triangle or not used commas to separate the side lengths, please try again.\")\n",
    "## checking type of triangle\n",
    "if sides_list[0] == sides_list[1] == sides_list[2]:\n",
    "    print(\"equilateral triangle, perimeter =\", sum(sides_list))\n",
    "elif (sides_list[0] + sides_list[1] < sides_list[2]) or (sides_list[0] + sides_list[2] < sides_list[1]) or (sides_list[1] + sides_list[2] < sides_list[0]):\n",
    "    print(\"Error - not a triangle!\")\n",
    "elif (sides_list[0] == sides_list[1]) or (sides_list[0] == sides_list[2]) or (sides_list[1] == sides_list[2]):\n",
    "    print(\"Isoceles triangle, perimeter =\", sum(sides_list))\n",
    "else:\n",
    "    print(\"Scalene triangle, perimeter =\", sum(sides_list))\n",
    "    "
   ]
  },
  {
   "cell_type": "markdown",
   "metadata": {},
   "source": [
    "### Q3. Duplicates. Write a code that takes a list of numbers and makes a new list that (i) does not contain duplicate values and (ii) is sorted in reversed (i.e., decreasing) order. [Hint: use the `in` and/or `not in` commands.]\n",
    "For example:\n",
    "* If the original list `x = [1.0, 5.5, -9.0, 8.0, 1.0, -2.5, 7.0]`\n",
    "* Then the new list `x2 = [8.0, 7.0, 5.5, 1.0, -2.5, -9.0]`"
   ]
  },
  {
   "cell_type": "code",
   "execution_count": 132,
   "metadata": {
    "scrolled": true
   },
   "outputs": [
    {
     "name": "stdout",
     "output_type": "stream",
     "text": [
      "Original list: [21.0, 3.4, -2.6, 3.0, 4.0, 21.0, 21.0, -2.5, 7.0, 3.4]\n",
      "Edited list: [21.0, 7.0, 4.0, 3.4, 3.0, -2.5, -2.6]\n"
     ]
    }
   ],
   "source": [
    "## creating list of numbers which includes multiple duplicates\n",
    "x = [21.0, 3.4, -2.6, 3.0, 4.0, 21.0, 21.0, -2.5, 7.0, 3.4]\n",
    "## creating copy of list which will have duplicates removed\n",
    "x2 = x.copy()\n",
    "for i in x:\n",
    "    if x.count(i) > 1 and x2.count(i) > 1:\n",
    "        x2.remove(i) \n",
    "## sorting edited list  \n",
    "x2.sort(reverse = True)\n",
    "print(\"Original list:\", x)\n",
    "print(\"Edited list:\", x2)"
   ]
  },
  {
   "cell_type": "markdown",
   "metadata": {},
   "source": [
    "### Q4. List values. Write a simple program that takes a list of words and (i) counts the total number of characters, across all words in the list (including duplicate characters), and (ii) makes a new list called `uchars` that contains only the unique characters in the input list. Sort the character list `uchars` in alphabetical order before printing the results of (i) and (ii).\n",
    "\n",
    "Example 1:\n",
    "* Input lists: `mylist = [\"i\", \"love\", \"coding\", \"in\", \"python\"]`\n",
    "* Results:\n",
    "*   ---> `count = 19`\n",
    "*   ---> `uchars = ['c', 'd', 'e', 'g', 'h', 'i', 'l', 'n', 'o', 'p', 't', 'v', 'y']`\n"
   ]
  },
  {
   "cell_type": "code",
   "execution_count": 133,
   "metadata": {},
   "outputs": [
    {
     "name": "stdout",
     "output_type": "stream",
     "text": [
      "29\n",
      "['a', 'c', 'e', 'f', 'h', 'i', 'k', 'm', 'n', 'o', 'r', 't', 'u', 'w', 'y']\n"
     ]
    }
   ],
   "source": [
    "## creating list\n",
    "mylist = [\"i\", \"am\", \"a\", \"chunky\", \"monkey\", \"from\", \"funkytown\"]\n",
    "## establishing count variable to count total letters and creating empty list to append unique characters to\n",
    "count = 0\n",
    "uchars = []\n",
    "for item in mylist:\n",
    "    for l in item:\n",
    "        if l not in uchars:\n",
    "            uchars.append(l)\n",
    "        count += 1\n",
    "uchars.sort()\n",
    "print(count)\n",
    "print(uchars)\n"
   ]
  },
  {
   "cell_type": "markdown",
   "metadata": {},
   "source": [
    "### Q5. Julian Day. Use 2 `input()` statements to ask the user for a month and a day. Calculate and print the Julian Day, assuming that it is not a leap year. [Make sure the Julian Day is an integer, not a float.]\n",
    "The Julian Day is the number of days since the start of the year:\n",
    "* January 1 has a Julian Day of 1.\n",
    "* February 1 has a Julian Day of 32.\n",
    "* August 4 has a Julian Day of 216.\n",
    "* December 31 has a Julian Day of 365.\n",
    "* Print an error if the day is < 1 or is too large for the month in question (e.g., 31 is too large for September)\n",
    "\n",
    "For this exercise, please do not use Python's built-in `datetime` functions."
   ]
  },
  {
   "cell_type": "code",
   "execution_count": 134,
   "metadata": {},
   "outputs": [
    {
     "name": "stdout",
     "output_type": "stream",
     "text": [
      "Julian Day: 136\n"
     ]
    }
   ],
   "source": [
    "## creating lists of months, months with 30 days, how many days are in each month\n",
    "months_list = [\"January\", \"February\", \"March\", \"April\", \"May\", \"June\", \"July\", \"August\", \"September\", \"October\", \"November\", \"December\"]\n",
    "months_30_list = [\"April\", \"June\", \"September\", \"November\"]\n",
    "months_days = [31, 28, 31, 30, 31, 30, 31, 31, 30, 31, 30, 31]\n",
    "## asking for month and day\n",
    "month = input(\"Please state a month: \")\n",
    "day = int(input(\"please state which number day of the month it is: \"))\n",
    "\n",
    "## checking if month and number of days are valid\n",
    "if (month not in months_list) or (day > 31) or (day < 1):\n",
    "    print(\"Either the month is not a valid month or the number of days is invalid, please try again\")\n",
    "## if 31 days was entered, checking if the month entered actually has 31 days\n",
    "elif (day == 31) and (month in months_30_list):\n",
    "    print(\"You have entered day '31' for a month which does not have 31 days, please try again\")\n",
    "## checking to make sure that all February entries fit with this question assuming this is not a leap year\n",
    "elif (day > 28) and (month == \"February\"):\n",
    "    print(\"You have entered a larger day number than 28 for February which is impossible since this is not a leap year, please try again\")\n",
    "## if it's January, then the Julian day is just whatever day number of January it is\n",
    "elif month == \"January\":\n",
    "    print(\"Julian Day: \", day)\n",
    "else:\n",
    "    month_list_index = months_list.index(month)\n",
    "    print(\"Julian Day:\", sum(months_days[0:month_list_index], day))\n"
   ]
  },
  {
   "cell_type": "markdown",
   "metadata": {},
   "source": [
    "### Q6. Leap year. Use the `input()` function to ask the user for a year, and print whether it is a leap year. Every year that is exactly divisible by four is a leap year, except for years that are exactly divisible by 100, but these centurial years are leap years if they are exactly divisible by 400.\n",
    "\n",
    "For example, the years 1700, 1800, and 1900 are not leap years, but the years 1600 and 2000 are.\n",
    "\n",
    "Again, please do not use Python's `datetime` functionality."
   ]
  },
  {
   "cell_type": "code",
   "execution_count": 135,
   "metadata": {},
   "outputs": [
    {
     "name": "stdout",
     "output_type": "stream",
     "text": [
      "This is a leap year!\n"
     ]
    }
   ],
   "source": [
    "## asking for year\n",
    "year = int(input(\"Please input a year: \"))\n",
    "## checking if leap year\n",
    "if ((year % 100 == 0) and (year % 400 != 0)) or (year % 4 != 0):\n",
    "    print(\"This is not a leap year\")\n",
    "else:\n",
    "    print(\"This is a leap year!\")"
   ]
  },
  {
   "cell_type": "markdown",
   "metadata": {},
   "source": [
    "### Q7. Now combine Q5 and Q6 - use 3 `input()` statements to ask the user for a month, day, and year, and calculate the Julian Day taking into account leap years.\n",
    "* March 1, 1999 has a Julian Day of 60\n",
    "* March 1, 2000 has a Julian Day of 61\n",
    "\n",
    "Again, please do not use Python's `datetime` functionality."
   ]
  },
  {
   "cell_type": "code",
   "execution_count": 136,
   "metadata": {},
   "outputs": [
    {
     "name": "stdout",
     "output_type": "stream",
     "text": [
      "Julian Day for September 14 , 2008 : 258\n"
     ]
    }
   ],
   "source": [
    "## setting lists of months, months with 30 days, list of days in each month in non-leap years, list of days in each month during leap years\n",
    "months_list = [\"January\", \"February\", \"March\", \"April\", \"May\", \"June\", \"July\", \"August\", \"September\", \"October\", \"November\", \"December\"]\n",
    "months_30_list = [\"April\", \"June\", \"September\", \"November\"]\n",
    "months_days = [31, 28, 31, 30, 31, 30, 31, 31, 30, 31, 30, 31]\n",
    "leapyear_month_days = [31, 29, 31, 30, 31, 30, 31, 31, 30, 31, 30, 31]\n",
    "## asking user for month, day, and year\n",
    "month = input(\"Please state a month:\")\n",
    "day = int(input(\"please state which number day of the month it is:\"))\n",
    "year = int(input(\"Please input a year:\"))\n",
    "\n",
    "\n",
    "## checking potential validity of month name and day number\n",
    "if (month not in months_list) or (day > 31) or (day < 1):\n",
    "    print(\"Either the month is not a valid month or the number of days is invalid, please try again\")\n",
    "## checking if user enters day 31 for a month that does not have 31 days\n",
    "elif (day == 31) and (month in months_30_list):\n",
    "    print(\"You have entered day '31' for a month which does not have 31 days, please try again\")\n",
    "## checking to make sure that the user does not enter in a day number for February which would not be valid outside of potentially a leap year\n",
    "elif (day > 28) and (month == \"February\") and (((year % 100 == 0) and (year % 400 != 0)) or (year % 4 != 0)):\n",
    "    print(\"You have entered a higher day number than 28 for February which is impossible since you have not input a leap year, please try again\")\n",
    "## if it's January, then the Julian day is just whatever day number of January it is\n",
    "elif month == \"January\":\n",
    "    print(\"Julian Day for\", month, str(day), \",\", str(year),\":\", day)\n",
    "## checking for leap years at the turn of a century\n",
    "elif (year % 100 == 0) and (year % 400 == 0):\n",
    "    month_list_index = months_list.index(month)\n",
    "    print(\"Julian Day for\", month, str(day), \",\", str(year),\":\", sum(leapyear_month_days[0:month_list_index], day))\n",
    "## checking for normal leap years\n",
    "elif (((year % 100 != 0) and (year % 400 != 0)) and (year % 4 == 0)):\n",
    "    month_list_index = months_list.index(month)\n",
    "    print(\"Julian Day for\", month, str(day), \",\", str(year),\":\", sum(leapyear_month_days[0:month_list_index], day))\n",
    "else:\n",
    "    month_list_index = months_list.index(month)\n",
    "    print(\"Julian Day for\", month, str(day), \",\", str(year), \":\", sum(months_days[0:month_list_index], day))\n"
   ]
  },
  {
   "cell_type": "markdown",
   "metadata": {},
   "source": [
    "### List any other students that you worked with on this assignment."
   ]
  },
  {
   "cell_type": "code",
   "execution_count": 137,
   "metadata": {},
   "outputs": [],
   "source": [
    "# I worked with the following students: Hannah Potts, Faith Machuca"
   ]
  },
  {
   "cell_type": "markdown",
   "metadata": {},
   "source": [
    "### To receive credit for this homework upload both the .ipynb file and a .html version."
   ]
  }
 ],
 "metadata": {
  "kernelspec": {
   "display_name": "Python 3 (ipykernel)",
   "language": "python",
   "name": "python3"
  },
  "language_info": {
   "codemirror_mode": {
    "name": "ipython",
    "version": 3
   },
   "file_extension": ".py",
   "mimetype": "text/x-python",
   "name": "python",
   "nbconvert_exporter": "python",
   "pygments_lexer": "ipython3",
   "version": "3.10.9"
  }
 },
 "nbformat": 4,
 "nbformat_minor": 4
}
