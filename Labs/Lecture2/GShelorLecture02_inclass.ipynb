{
 "cells": [
  {
   "cell_type": "markdown",
   "metadata": {},
   "source": [
    "# In-Class Exercise: Variables and Mathematical Operators"
   ]
  },
  {
   "cell_type": "markdown",
   "metadata": {},
   "source": [
    "## Griffin Shelor"
   ]
  },
  {
   "cell_type": "markdown",
   "metadata": {},
   "source": [
    "### Q1. Calculate how many seconds are in an hour, assigned to a variable called `seconds_per_hour`, and display the result. Use integer variables."
   ]
  },
  {
   "cell_type": "code",
   "execution_count": 1,
   "metadata": {},
   "outputs": [
    {
     "name": "stdout",
     "output_type": "stream",
     "text": [
      "3600\n"
     ]
    }
   ],
   "source": [
    "minutes = 60\n",
    "seconds = 60\n",
    "## calculating seconds per hour\n",
    "seconds_per_hour = minutes * seconds\n",
    "print(seconds_per_hour)"
   ]
  },
  {
   "cell_type": "markdown",
   "metadata": {},
   "source": [
    "### Q2. Calculate how many seconds are in a day, assigned to a variable called `seconds_per_day`, and display the result. Use integer variables."
   ]
  },
  {
   "cell_type": "code",
   "execution_count": 2,
   "metadata": {},
   "outputs": [
    {
     "name": "stdout",
     "output_type": "stream",
     "text": [
      "86400\n"
     ]
    }
   ],
   "source": [
    "hours = 24\n",
    "## calculating seconds per day\n",
    "seconds_per_day = minutes * seconds * hours\n",
    "print(seconds_per_day)"
   ]
  },
  {
   "cell_type": "markdown",
   "metadata": {},
   "source": [
    "### Q3. Divide `seconds_per_day` by `seconds_per_hour` using floating point (`/`) division and display the result."
   ]
  },
  {
   "cell_type": "code",
   "execution_count": 3,
   "metadata": {},
   "outputs": [
    {
     "name": "stdout",
     "output_type": "stream",
     "text": [
      "24.0\n"
     ]
    }
   ],
   "source": [
    "print(seconds_per_day / seconds_per_hour)"
   ]
  },
  {
   "cell_type": "markdown",
   "metadata": {},
   "source": [
    "### Q4. Divide `seconds_per_day` by `seconds_per_hour` using integer (`//`) division and display the result."
   ]
  },
  {
   "cell_type": "code",
   "execution_count": 4,
   "metadata": {},
   "outputs": [
    {
     "name": "stdout",
     "output_type": "stream",
     "text": [
      "24\n"
     ]
    }
   ],
   "source": [
    "print(seconds_per_day // seconds_per_hour)"
   ]
  },
  {
   "cell_type": "markdown",
   "metadata": {},
   "source": [
    "### Q5. Area and Circumference\n",
    "* Set the variable `radius` to 1.0\n",
    "* Set the variable `pi` to 3.1415927\n",
    "* Calculate the area (`pi` multiplied by `radius` squared), and assign the result to a variable `area`\n",
    "* Calculate the circumference (`pi` multiplied by 2 multiplied by the `radius`), and assign the result to a variable `circ`\n",
    "* Use `print` to print the values of `area` and `circ`"
   ]
  },
  {
   "cell_type": "code",
   "execution_count": 5,
   "metadata": {},
   "outputs": [
    {
     "name": "stdout",
     "output_type": "stream",
     "text": [
      "3.1415927\n",
      "6.2831854\n"
     ]
    }
   ],
   "source": [
    "radius = 1.0\n",
    "pi = 3.1415927\n",
    "## squaring radius to get area\n",
    "area = pi * radius ** 2\n",
    "## multiplying radius by 2 to get circumference\n",
    "circ = pi * (radius * 2)\n",
    "print(area)\n",
    "print(circ)"
   ]
  },
  {
   "cell_type": "markdown",
   "metadata": {},
   "source": [
    "### Q6. Write code that asks the user for a radius (use the `input()` function) and prints out the area and circumference. Test it for an input radius of 3.0."
   ]
  },
  {
   "cell_type": "code",
   "execution_count": 6,
   "metadata": {},
   "outputs": [
    {
     "name": "stdout",
     "output_type": "stream",
     "text": [
      "28.2743343\n",
      "18.8495562\n"
     ]
    }
   ],
   "source": [
    "## asking user for a radius\n",
    "radius = float(input(\"What is the radius?\"))\n",
    "area = pi * radius ** 2\n",
    "circ = pi * (radius * 2)\n",
    "print(area)\n",
    "print(circ)"
   ]
  },
  {
   "cell_type": "markdown",
   "metadata": {},
   "source": [
    "### Q7. Write code that asks the user for a weight in pounds and prints out the weight in kilograms (divide by 2.20462). Test it for an input weight of 110 pounds."
   ]
  },
  {
   "cell_type": "code",
   "execution_count": 7,
   "metadata": {},
   "outputs": [
    {
     "name": "stdout",
     "output_type": "stream",
     "text": [
      "49.895220037920375\n"
     ]
    }
   ],
   "source": [
    "## asking user for a weight in pounds\n",
    "weight_lb = float(input(\"Please state a weight in pounds:\"))\n",
    "## converting weight to kg\n",
    "weight_kg = weight_lb / 2.20462\n",
    "print(weight_kg)"
   ]
  },
  {
   "cell_type": "markdown",
   "metadata": {},
   "source": [
    "### Q8. Write code that asks the user for a temperature in Celsius and prints out the temperature in Fahrenheit (multiply by 1.8 and then add 32). Test it for an input temperature of 25.0 degrees Celsius."
   ]
  },
  {
   "cell_type": "code",
   "execution_count": 8,
   "metadata": {},
   "outputs": [
    {
     "name": "stdout",
     "output_type": "stream",
     "text": [
      "77.0\n"
     ]
    }
   ],
   "source": [
    "## asking user for a temperature in celsius\n",
    "temp_celsius = float(input(\"What is the temperature in celsius?\"))\n",
    "## converting temp to fahrenheit\n",
    "temp_fahrenheit = temp_celsius * 1.8 + 32\n",
    "print(temp_fahrenheit)"
   ]
  },
  {
   "cell_type": "markdown",
   "metadata": {},
   "source": [
    "### Save your notebook and output an html version. To receive credit for this in-class exercise upload both the .html and .ipynb files."
   ]
  }
 ],
 "metadata": {
  "kernelspec": {
   "display_name": "Python 3 (ipykernel)",
   "language": "python",
   "name": "python3"
  },
  "language_info": {
   "codemirror_mode": {
    "name": "ipython",
    "version": 3
   },
   "file_extension": ".py",
   "mimetype": "text/x-python",
   "name": "python",
   "nbconvert_exporter": "python",
   "pygments_lexer": "ipython3",
   "version": "3.10.9"
  }
 },
 "nbformat": 4,
 "nbformat_minor": 4
}
