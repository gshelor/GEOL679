{
 "cells": [
  {
   "cell_type": "markdown",
   "metadata": {},
   "source": [
    "# In-Class Exercise: if, elif,  else"
   ]
  },
  {
   "cell_type": "markdown",
   "metadata": {},
   "source": [
    "## Griffin Shelor"
   ]
  },
  {
   "cell_type": "markdown",
   "metadata": {},
   "source": [
    "### Q1. Even or odd\n",
    "* Ask the user for an integer (use the `input` function and remember to convert the result to an integer)\n",
    "* Print out whether the value is even or odd\n",
    "* Hint: Use the modulus operator (`%`)"
   ]
  },
  {
   "cell_type": "code",
   "execution_count": 1,
   "metadata": {},
   "outputs": [
    {
     "name": "stdout",
     "output_type": "stream",
     "text": [
      "Integer is even\n"
     ]
    }
   ],
   "source": [
    "integer = int(input(\"Please enter an integer: \"))\n",
    "if integer % 2 == 0:\n",
    "    print(\"Integer is even\")\n",
    "else:\n",
    "    print(\"Integer is odd\")"
   ]
  },
  {
   "cell_type": "markdown",
   "metadata": {},
   "source": [
    "### Q2. Guess a number\n",
    "* Ask the user to input an integer and assign the result to the variable `guess_me`\n",
    "* Use `if`/`elif`/`else` tests to print the string:\n",
    "* Print `'too low'` if `guess_me` is less than 5\n",
    "* Print `'too high'` if `guess_me` is greater than 5\n",
    "* Print `'just right!'` if `guess_me` is equal to 5"
   ]
  },
  {
   "cell_type": "code",
   "execution_count": 2,
   "metadata": {},
   "outputs": [
    {
     "name": "stdout",
     "output_type": "stream",
     "text": [
      "just right\n"
     ]
    }
   ],
   "source": [
    "guess_me = int(input(\"Guess an integer: \"))\n",
    "if guess_me < 5:\n",
    "    print(\"too low\")\n",
    "elif guess_me > 5:\n",
    "    print(\"too high\")\n",
    "else:\n",
    "    print(\"just right\")"
   ]
  },
  {
   "cell_type": "markdown",
   "metadata": {},
   "source": [
    "### Q3. Work or sleep?\n",
    "* Ask the user to enter a day of the week, with first letter capitalized\n",
    "* If it is a weekday, print \"Wake up, you need to go to work!\"\n",
    "* If it is a weekend, day print \"Good news, you get to sleep in!\"\n",
    "* If the user didn't enter a proper day, print \"ERROR - enter a valid day of the week: Monday through Sunday\"\n",
    "* Hint: Use `in` and two lists containing weekdays (\"Monday\", \"Tuesday\", etc) and weekends (\"Saturday\", \"Sunday\")"
   ]
  },
  {
   "cell_type": "code",
   "execution_count": 3,
   "metadata": {},
   "outputs": [
    {
     "name": "stdout",
     "output_type": "stream",
     "text": [
      "Wake up, you need to go to work!\n"
     ]
    }
   ],
   "source": [
    "weekday = [\"Monday\", \"Tuesday\", \"Wednesday\", \"Thursday\", \"Friday\"]\n",
    "weekend = [\"Saturday\", \"Sunday\"]\n",
    "day = input(\"guess a day of the week with the first letter capitalized: \")\n",
    "if day in weekday:\n",
    "    print('Wake up, you need to go to work!')\n",
    "elif day in weekend:\n",
    "    print('Good news, you get to sleep in')\n",
    "else:\n",
    "    print('ERROR - enter a valid day of the week: Monday through Sunday')\n"
   ]
  },
  {
   "cell_type": "markdown",
   "metadata": {},
   "source": [
    "### Q4. Paycheck\n",
    "* A worker makes \\$15.00 per hour if working anywhere from 0 to 8 hours in a day\n",
    "* A worker makes \\$25.00 per hour for each additional hour worked over 8\n",
    "* Ask the user for number of hours worked that day, and print out how much they made\n",
    "* Example: 4.0 hours = \\$60.00\n",
    "* Example: 10.0 hours = \\$170.00\n",
    "\n",
    "[Note, don't worry about printing the correct number of decimal points]."
   ]
  },
  {
   "cell_type": "code",
   "execution_count": 4,
   "metadata": {},
   "outputs": [
    {
     "name": "stdout",
     "output_type": "stream",
     "text": [
      "145.0\n"
     ]
    }
   ],
   "source": [
    "workday = 15\n",
    "overtime = 25\n",
    "hours = float(input(\"How many hours did you work today?\"))\n",
    "if hours > 8:\n",
    "    print(workday * 8 + (overtime * (hours - 8)))\n",
    "else:\n",
    "    print(hours * workday)\n"
   ]
  },
  {
   "cell_type": "markdown",
   "metadata": {},
   "source": [
    "### Q5. Penalty kick.\n",
    "\n",
    "Two teams (A and B) have played a soccer match to a scoreless draw, with the final outcome to be decided by a single penalty kick. Team A's striker chooses where she wants to aim: \"left\", \"right\", or \"center\". At the same time, Team B's goalie gets chooses where he wants to defend: \"left\", \"right\", or \"center\".\n",
    "\n",
    "Ask the user for two sets of input: \"left\", \"right\", or \"center\" from the striker and \"left\", \"right\", or \"center\", from the goalie. Your code should return an error if the striker or goalie makes an invalid choice.\n",
    "\n",
    "Then, using `if`/`else` statements, decide who wins the game. If a goal is scored, Team A wins, otherwise Team B wins. A goal is blocked if both the striker and goalie pick \"center\", or if the striker picks \"left\" and the goalie picks \"right\", or if the striker picks \"right\" and the goalie picks \"left\" (because the striker and goalie face in opposite directions)."
   ]
  },
  {
   "cell_type": "code",
   "execution_count": 19,
   "metadata": {},
   "outputs": [
    {
     "name": "stdout",
     "output_type": "stream",
     "text": [
      "Penalty scored, Team A wins\n"
     ]
    }
   ],
   "source": [
    "directions = [\"left\", \"right\", \"center\"]\n",
    "kick_dir = str(input(\"Which direction does Team A's striker kick the ball? \"))\n",
    "save_dir = str(input(\"Which direction does Team B's keeper block? \"))\n",
    "if (kick_dir in directions) and (save_dir in directions):\n",
    "    if ((kick_dir == \"left\") and (save_dir == \"right\")) or ((kick_dir == \"right\") and (save_dir == \"left\")) or ((kick_dir == \"center\") and (\"save_dir\" == \"center\")):\n",
    "        print(\"Penalty saved, Team B wins\")\n",
    "    else:\n",
    "        print(\"Penalty scored, Team A wins\")\n",
    "else:\n",
    "    print(\"Invalid direction\")\n",
    "        "
   ]
  },
  {
   "cell_type": "markdown",
   "metadata": {},
   "source": [
    "### Save your notebook (.ipynb) and output an .html version. To receive credit for this in-class exercise, upload both of these files (.ipynb and .html) to WebCampus."
   ]
  }
 ],
 "metadata": {
  "kernelspec": {
   "display_name": "Python 3 (ipykernel)",
   "language": "python",
   "name": "python3"
  },
  "language_info": {
   "codemirror_mode": {
    "name": "ipython",
    "version": 3
   },
   "file_extension": ".py",
   "mimetype": "text/x-python",
   "name": "python",
   "nbconvert_exporter": "python",
   "pygments_lexer": "ipython3",
   "version": "3.10.9"
  }
 },
 "nbformat": 4,
 "nbformat_minor": 4
}
