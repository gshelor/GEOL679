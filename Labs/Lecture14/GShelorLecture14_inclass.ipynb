{
 "cells": [
  {
   "cell_type": "markdown",
   "metadata": {},
   "source": [
    "Griffin Shelor\\\n",
    "13-3-2024"
   ]
  },
  {
   "cell_type": "markdown",
   "metadata": {},
   "source": [
    "## In-class Exercises: Pandas 1"
   ]
  },
  {
   "cell_type": "code",
   "execution_count": 1,
   "metadata": {},
   "outputs": [],
   "source": [
    "import numpy as np\n",
    "import pandas as pd\n",
    "import matplotlib.pyplot as plt"
   ]
  },
  {
   "cell_type": "markdown",
   "metadata": {},
   "source": [
    "### Q1. Read the file 'lecture14_athletes_men400m_bmi.csv' into a pandas `DataFrame`\n",
    "\n",
    "We created this one in class!"
   ]
  },
  {
   "cell_type": "code",
   "execution_count": 2,
   "metadata": {},
   "outputs": [],
   "source": [
    "m400m_bmi = pd.read_csv('lecture14_athletes_men400m_bmi.csv', sep=\",\")"
   ]
  },
  {
   "cell_type": "markdown",
   "metadata": {},
   "source": [
    "### Q2. Display the first 5 rows"
   ]
  },
  {
   "cell_type": "code",
   "execution_count": 3,
   "metadata": {},
   "outputs": [
    {
     "data": {
      "text/html": [
       "<div>\n",
       "<style scoped>\n",
       "    .dataframe tbody tr th:only-of-type {\n",
       "        vertical-align: middle;\n",
       "    }\n",
       "\n",
       "    .dataframe tbody tr th {\n",
       "        vertical-align: top;\n",
       "    }\n",
       "\n",
       "    .dataframe thead th {\n",
       "        text-align: right;\n",
       "    }\n",
       "</style>\n",
       "<table border=\"1\" class=\"dataframe\">\n",
       "  <thead>\n",
       "    <tr style=\"text-align: right;\">\n",
       "      <th></th>\n",
       "      <th>Name</th>\n",
       "      <th>Sex</th>\n",
       "      <th>Age</th>\n",
       "      <th>Height</th>\n",
       "      <th>Weight</th>\n",
       "      <th>Team</th>\n",
       "      <th>Year</th>\n",
       "      <th>Medal</th>\n",
       "      <th>BMI</th>\n",
       "    </tr>\n",
       "  </thead>\n",
       "  <tbody>\n",
       "    <tr>\n",
       "      <th>0</th>\n",
       "      <td>Abubakar Abbas Abbas</td>\n",
       "      <td>M</td>\n",
       "      <td>20.0</td>\n",
       "      <td>175.0</td>\n",
       "      <td>66.0</td>\n",
       "      <td>Bahrain</td>\n",
       "      <td>2016</td>\n",
       "      <td>NaN</td>\n",
       "      <td>21.551020</td>\n",
       "    </tr>\n",
       "    <tr>\n",
       "      <th>1</th>\n",
       "      <td>Maher Abbas</td>\n",
       "      <td>M</td>\n",
       "      <td>22.0</td>\n",
       "      <td>178.0</td>\n",
       "      <td>78.0</td>\n",
       "      <td>Lebanon</td>\n",
       "      <td>1988</td>\n",
       "      <td>NaN</td>\n",
       "      <td>24.618104</td>\n",
       "    </tr>\n",
       "    <tr>\n",
       "      <th>2</th>\n",
       "      <td>Moustafa Abdel Naser</td>\n",
       "      <td>M</td>\n",
       "      <td>21.0</td>\n",
       "      <td>176.0</td>\n",
       "      <td>74.0</td>\n",
       "      <td>Libya</td>\n",
       "      <td>1996</td>\n",
       "      <td>NaN</td>\n",
       "      <td>23.889463</td>\n",
       "    </tr>\n",
       "    <tr>\n",
       "      <th>3</th>\n",
       "      <td>Hassane Abdou</td>\n",
       "      <td>M</td>\n",
       "      <td>23.0</td>\n",
       "      <td>185.0</td>\n",
       "      <td>67.0</td>\n",
       "      <td>Comoros</td>\n",
       "      <td>1996</td>\n",
       "      <td>NaN</td>\n",
       "      <td>19.576333</td>\n",
       "    </tr>\n",
       "    <tr>\n",
       "      <th>4</th>\n",
       "      <td>Nagmeldin Ali Abubakr</td>\n",
       "      <td>M</td>\n",
       "      <td>18.0</td>\n",
       "      <td>172.0</td>\n",
       "      <td>63.0</td>\n",
       "      <td>Sudan</td>\n",
       "      <td>2004</td>\n",
       "      <td>NaN</td>\n",
       "      <td>21.295295</td>\n",
       "    </tr>\n",
       "  </tbody>\n",
       "</table>\n",
       "</div>"
      ],
      "text/plain": [
       "                    Name Sex   Age  Height  Weight     Team  Year Medal  \\\n",
       "0   Abubakar Abbas Abbas   M  20.0   175.0    66.0  Bahrain  2016   NaN   \n",
       "1            Maher Abbas   M  22.0   178.0    78.0  Lebanon  1988   NaN   \n",
       "2   Moustafa Abdel Naser   M  21.0   176.0    74.0    Libya  1996   NaN   \n",
       "3          Hassane Abdou   M  23.0   185.0    67.0  Comoros  1996   NaN   \n",
       "4  Nagmeldin Ali Abubakr   M  18.0   172.0    63.0    Sudan  2004   NaN   \n",
       "\n",
       "         BMI  \n",
       "0  21.551020  \n",
       "1  24.618104  \n",
       "2  23.889463  \n",
       "3  19.576333  \n",
       "4  21.295295  "
      ]
     },
     "execution_count": 3,
     "metadata": {},
     "output_type": "execute_result"
    }
   ],
   "source": [
    "m400m_bmi.head()"
   ]
  },
  {
   "cell_type": "markdown",
   "metadata": {},
   "source": [
    "### Q3. Display a table of descriptive statistics for the `DataFrame`."
   ]
  },
  {
   "cell_type": "code",
   "execution_count": 4,
   "metadata": {},
   "outputs": [
    {
     "data": {
      "text/html": [
       "<div>\n",
       "<style scoped>\n",
       "    .dataframe tbody tr th:only-of-type {\n",
       "        vertical-align: middle;\n",
       "    }\n",
       "\n",
       "    .dataframe tbody tr th {\n",
       "        vertical-align: top;\n",
       "    }\n",
       "\n",
       "    .dataframe thead th {\n",
       "        text-align: right;\n",
       "    }\n",
       "</style>\n",
       "<table border=\"1\" class=\"dataframe\">\n",
       "  <thead>\n",
       "    <tr style=\"text-align: right;\">\n",
       "      <th></th>\n",
       "      <th>Age</th>\n",
       "      <th>Height</th>\n",
       "      <th>Weight</th>\n",
       "      <th>Year</th>\n",
       "      <th>BMI</th>\n",
       "    </tr>\n",
       "  </thead>\n",
       "  <tbody>\n",
       "    <tr>\n",
       "      <th>count</th>\n",
       "      <td>1352.000000</td>\n",
       "      <td>1124.000000</td>\n",
       "      <td>1112.000000</td>\n",
       "      <td>1417.000000</td>\n",
       "      <td>1107.000000</td>\n",
       "    </tr>\n",
       "    <tr>\n",
       "      <th>mean</th>\n",
       "      <td>23.804734</td>\n",
       "      <td>179.788256</td>\n",
       "      <td>71.587230</td>\n",
       "      <td>1966.434721</td>\n",
       "      <td>22.127859</td>\n",
       "    </tr>\n",
       "    <tr>\n",
       "      <th>std</th>\n",
       "      <td>3.319686</td>\n",
       "      <td>6.664429</td>\n",
       "      <td>6.643354</td>\n",
       "      <td>33.061535</td>\n",
       "      <td>1.486782</td>\n",
       "    </tr>\n",
       "    <tr>\n",
       "      <th>min</th>\n",
       "      <td>16.000000</td>\n",
       "      <td>160.000000</td>\n",
       "      <td>49.000000</td>\n",
       "      <td>1896.000000</td>\n",
       "      <td>16.586119</td>\n",
       "    </tr>\n",
       "    <tr>\n",
       "      <th>25%</th>\n",
       "      <td>21.000000</td>\n",
       "      <td>175.000000</td>\n",
       "      <td>67.000000</td>\n",
       "      <td>1936.000000</td>\n",
       "      <td>21.220009</td>\n",
       "    </tr>\n",
       "    <tr>\n",
       "      <th>50%</th>\n",
       "      <td>23.000000</td>\n",
       "      <td>180.000000</td>\n",
       "      <td>72.000000</td>\n",
       "      <td>1972.000000</td>\n",
       "      <td>22.152647</td>\n",
       "    </tr>\n",
       "    <tr>\n",
       "      <th>75%</th>\n",
       "      <td>26.000000</td>\n",
       "      <td>185.000000</td>\n",
       "      <td>76.000000</td>\n",
       "      <td>1992.000000</td>\n",
       "      <td>23.040020</td>\n",
       "    </tr>\n",
       "    <tr>\n",
       "      <th>max</th>\n",
       "      <td>37.000000</td>\n",
       "      <td>201.000000</td>\n",
       "      <td>99.000000</td>\n",
       "      <td>2016.000000</td>\n",
       "      <td>28.125000</td>\n",
       "    </tr>\n",
       "  </tbody>\n",
       "</table>\n",
       "</div>"
      ],
      "text/plain": [
       "               Age       Height       Weight         Year          BMI\n",
       "count  1352.000000  1124.000000  1112.000000  1417.000000  1107.000000\n",
       "mean     23.804734   179.788256    71.587230  1966.434721    22.127859\n",
       "std       3.319686     6.664429     6.643354    33.061535     1.486782\n",
       "min      16.000000   160.000000    49.000000  1896.000000    16.586119\n",
       "25%      21.000000   175.000000    67.000000  1936.000000    21.220009\n",
       "50%      23.000000   180.000000    72.000000  1972.000000    22.152647\n",
       "75%      26.000000   185.000000    76.000000  1992.000000    23.040020\n",
       "max      37.000000   201.000000    99.000000  2016.000000    28.125000"
      ]
     },
     "execution_count": 4,
     "metadata": {},
     "output_type": "execute_result"
    }
   ],
   "source": [
    "m400m_bmi.describe()"
   ]
  },
  {
   "cell_type": "markdown",
   "metadata": {},
   "source": [
    "### Q4. Display an information table that includes how many non-null data values there are in each column."
   ]
  },
  {
   "cell_type": "code",
   "execution_count": 5,
   "metadata": {},
   "outputs": [
    {
     "name": "stdout",
     "output_type": "stream",
     "text": [
      "<class 'pandas.core.frame.DataFrame'>\n",
      "RangeIndex: 1417 entries, 0 to 1416\n",
      "Data columns (total 9 columns):\n",
      " #   Column  Non-Null Count  Dtype  \n",
      "---  ------  --------------  -----  \n",
      " 0   Name    1417 non-null   object \n",
      " 1   Sex     1417 non-null   object \n",
      " 2   Age     1352 non-null   float64\n",
      " 3   Height  1124 non-null   float64\n",
      " 4   Weight  1112 non-null   float64\n",
      " 5   Team    1417 non-null   object \n",
      " 6   Year    1417 non-null   int64  \n",
      " 7   Medal   86 non-null     object \n",
      " 8   BMI     1107 non-null   float64\n",
      "dtypes: float64(4), int64(1), object(4)\n",
      "memory usage: 99.8+ KB\n"
     ]
    }
   ],
   "source": [
    "m400m_bmi.info()"
   ]
  },
  {
   "cell_type": "markdown",
   "metadata": {},
   "source": [
    "### Q5. Calculate the mean \"BMI\" for all athletes, and compare this with the mean \"BMI\" of the gold medal winners."
   ]
  },
  {
   "cell_type": "code",
   "execution_count": 15,
   "metadata": {},
   "outputs": [
    {
     "name": "stdout",
     "output_type": "stream",
     "text": [
      "mean BMI for all athletes: 22.127859080683212\n",
      "mean BMI for gold medalists: BMI    22.307096\n",
      "dtype: float64\n"
     ]
    }
   ],
   "source": [
    "all_bmi = m400m_bmi['BMI'].mean()\n",
    "# Only gold medal data\n",
    "bmi_gold = m400m_bmi.loc[(m400m_bmi[\"Medal\"] == 'Gold'), ['BMI']].mean()\n",
    "\n",
    "print('mean BMI for all athletes:',all_bmi)\n",
    "print('mean BMI for gold medalists:',bmi_gold)\n",
    "\n"
   ]
  },
  {
   "cell_type": "markdown",
   "metadata": {},
   "source": [
    "### Q6. Create 3 subsets of data: one with all gold-medal winners, one with all silver-medal winners, and one with all bronze-medal winners."
   ]
  },
  {
   "cell_type": "code",
   "execution_count": 7,
   "metadata": {},
   "outputs": [],
   "source": [
    "m400m_gold = m400m_bmi[m400m_bmi[\"Medal\"] == 'Gold']\n",
    "m400m_silver = m400m_bmi[m400m_bmi[\"Medal\"] == 'Silver']\n",
    "m400m_bronze = m400m_bmi[m400m_bmi[\"Medal\"] == 'Bronze']"
   ]
  },
  {
   "cell_type": "markdown",
   "metadata": {},
   "source": [
    "### Q7. Plot \"Year\" on the x-axis and \"BMI\" on the y-axis for these three subsets of data: the bronze, silver, and gold medal winners. Plot gold, silver, and bronze medal subsets with different colors, and add a legend that indicates which is which."
   ]
  },
  {
   "cell_type": "code",
   "execution_count": 8,
   "metadata": {},
   "outputs": [
    {
     "data": {
      "image/png": "[encoded data removed]",
      "text/plain": [
       "<Figure size 640x480 with 1 Axes>"
      ]
     },
     "metadata": {},
     "output_type": "display_data"
    }
   ],
   "source": [
    "plt.plot(m400m_gold['Year'], m400m_gold['BMI'], 'x', color = 'gold', label = 'Gold')\n",
    "plt.plot(m400m_silver['Year'], m400m_silver['BMI'], 'x', color = 'slategray', label = 'Silver')\n",
    "plt.plot(m400m_bronze['Year'], m400m_bronze['BMI'], 'x', color = 'sienna', label = 'Bronze')\n",
    "plt.xlabel('Year')\n",
    "plt.ylabel('BMI')\n",
    "plt.legend(loc = 'best');\n",
    "\n"
   ]
  },
  {
   "cell_type": "markdown",
   "metadata": {},
   "source": [
    "### Save your notebook and output an html version. To receive credit for this in-class exercise upload both the .html and .ipynb files."
   ]
  }
 ],
 "metadata": {
  "kernelspec": {
   "display_name": "Python 3 (ipykernel)",
   "language": "python",
   "name": "python3"
  },
  "language_info": {
   "codemirror_mode": {
    "name": "ipython",
    "version": 3
   },
   "file_extension": ".py",
   "mimetype": "text/x-python",
   "name": "python",
   "nbconvert_exporter": "python",
   "pygments_lexer": "ipython3",
   "version": "3.10.13"
  }
 },
 "nbformat": 4,
 "nbformat_minor": 4
}
