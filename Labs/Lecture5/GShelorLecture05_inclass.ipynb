{
 "cells": [
  {
   "cell_type": "markdown",
   "metadata": {},
   "source": [
    "Griffin Shelor \\\n",
    "7-2-2024"
   ]
  },
  {
   "cell_type": "markdown",
   "metadata": {},
   "source": [
    "# In-class Exercises: Loops"
   ]
  },
  {
   "cell_type": "markdown",
   "metadata": {},
   "source": [
    "### Q1. Use a loop to print the values of the list `[8, 4, 2, 0]`, each on a separate line."
   ]
  },
  {
   "cell_type": "code",
   "execution_count": 7,
   "metadata": {},
   "outputs": [
    {
     "name": "stdout",
     "output_type": "stream",
     "text": [
      "8\n",
      "4\n",
      "2\n",
      "0\n"
     ]
    }
   ],
   "source": [
    "list1 = [8,4,2,0]\n",
    "for item in list1:\n",
    "    print(item)"
   ]
  },
  {
   "cell_type": "markdown",
   "metadata": {},
   "source": [
    "### Q2. Loop through the integers 1 through 101 (inclusive), and print those that are divisible by 10."
   ]
  },
  {
   "cell_type": "code",
   "execution_count": 8,
   "metadata": {},
   "outputs": [
    {
     "name": "stdout",
     "output_type": "stream",
     "text": [
      "10\n",
      "20\n",
      "30\n",
      "40\n",
      "50\n",
      "60\n",
      "70\n",
      "80\n",
      "90\n",
      "100\n"
     ]
    }
   ],
   "source": [
    "for number in range(1,102):\n",
    "    if number % 10 == 0:\n",
    "        print(number)"
   ]
  },
  {
   "cell_type": "markdown",
   "metadata": {},
   "source": [
    "### Q3. Use a similar loop to calculate *the sum* of all the integers between 1 and 101 (inclusive) that are divisible by 10. Print the final answer.\n",
    "\n",
    "(hint: it should be 550)"
   ]
  },
  {
   "cell_type": "code",
   "execution_count": 13,
   "metadata": {},
   "outputs": [
    {
     "name": "stdout",
     "output_type": "stream",
     "text": [
      "550\n"
     ]
    }
   ],
   "source": [
    "number_sum = 0\n",
    "for number in range(0,102):\n",
    "    if number % 10 == 0:\n",
    "        number_sum += number\n",
    "print(number_sum)"
   ]
  },
  {
   "cell_type": "markdown",
   "metadata": {},
   "source": [
    "### Q4. Consider `List1=[0, 2, 2, 6]`, `List2=[8, 3, 4, 5]`. Using a single loop, print the corresponding values of each list. In each printed line, there should be two values (e.g. `0 8` on the first line)."
   ]
  },
  {
   "cell_type": "code",
   "execution_count": 10,
   "metadata": {},
   "outputs": [
    {
     "name": "stdout",
     "output_type": "stream",
     "text": [
      "0 8\n",
      "2 3\n",
      "2 4\n",
      "6 5\n"
     ]
    }
   ],
   "source": [
    "List1 = [0,2,2,6]\n",
    "List2 = [8,3,4,5]\n",
    "for index_val in range(len(List1)):\n",
    "    print(List1[index_val], List2[index_val])"
   ]
  },
  {
   "cell_type": "markdown",
   "metadata": {},
   "source": [
    "### Q5. Create a `list` called `List3` whose elements are the sum of the corresponding elements in `List1` and `List2`. Print `List3`."
   ]
  },
  {
   "cell_type": "code",
   "execution_count": 11,
   "metadata": {},
   "outputs": [
    {
     "name": "stdout",
     "output_type": "stream",
     "text": [
      "[8, 5, 6, 11]\n"
     ]
    }
   ],
   "source": [
    "List3 = []\n",
    "for num1, num2 in zip(List1, List2):\n",
    "    List3.append(num1 + num2)\n",
    "print(List3)"
   ]
  },
  {
   "cell_type": "markdown",
   "metadata": {},
   "source": [
    "### Q6. Practice with a `while` loop: sum and average of input values\n",
    "* Ask a user to input either a value or 'q' to quit \n",
    "* After the user quits, print out the sum and average of all the previously input values\n",
    "* Careful: what happens if the user quits before entering a value?"
   ]
  },
  {
   "cell_type": "code",
   "execution_count": 12,
   "metadata": {},
   "outputs": [
    {
     "name": "stdout",
     "output_type": "stream",
     "text": [
      "You have quit. Here is your sum and average:\n",
      "24.0\n",
      "4.0\n"
     ]
    }
   ],
   "source": [
    "numeric_ints = [\"0\", \"1\", \"2\", \"3\", \"4\", \"5\", \"6\", \"7\", \"8\", \"9\"]\n",
    "user_sum = 0.0\n",
    "counter = 0.0\n",
    "while True:\n",
    "    user_val = input(\"Please input a numeric value, or type 'q' to quit: \")\n",
    "    if counter == 0.0 and user_val == 'q':\n",
    "        print(\"You have quit without entering a value. The sum and average of the values is 0.\")\n",
    "        break\n",
    "    elif user_val == 'q':\n",
    "        print(\"You have quit. Here is your sum and average:\")\n",
    "        break\n",
    "    elif user_val[0] in numeric_ints:\n",
    "        user_val = float(user_val)\n",
    "        user_sum += user_val\n",
    "        counter += 1\n",
    "    else:\n",
    "        print(\"You have not entered a value or q, please try again:\")\n",
    "if counter > 0:\n",
    "    print(user_sum)\n",
    "    print(user_sum / counter)"
   ]
  },
  {
   "cell_type": "markdown",
   "metadata": {},
   "source": [
    "### Save your notebook and output an html file. To get credit for this assignment upload both files to Canvas."
   ]
  }
 ],
 "metadata": {
  "kernelspec": {
   "display_name": "Python 3 (ipykernel)",
   "language": "python",
   "name": "python3"
  },
  "language_info": {
   "codemirror_mode": {
    "name": "ipython",
    "version": 3
   },
   "file_extension": ".py",
   "mimetype": "text/x-python",
   "name": "python",
   "nbconvert_exporter": "python",
   "pygments_lexer": "ipython3",
   "version": "3.10.9"
  }
 },
 "nbformat": 4,
 "nbformat_minor": 4
}
