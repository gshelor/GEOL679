{
 "cells": [
  {
   "cell_type": "markdown",
   "metadata": {},
   "source": [
    "Griffin Shelor \\\n",
    "10-2-2024"
   ]
  },
  {
   "cell_type": "markdown",
   "metadata": {},
   "source": [
    "# In-class Exercise: Functions\n",
    "\n",
    "* Note, in the questions below, many of the desired functions have the \"input arguments\". This is not the same as using the function `input()`, which we also have covered in lecture and makes an interactive request from the user."
   ]
  },
  {
   "cell_type": "markdown",
   "metadata": {},
   "source": [
    "### Q1. Write a function that prints the odd numbers in a list. Pass the list as an input argument to the function. The function does not need to return anything."
   ]
  },
  {
   "cell_type": "code",
   "execution_count": 14,
   "metadata": {},
   "outputs": [
    {
     "name": "stdout",
     "output_type": "stream",
     "text": [
      "1\n",
      "3\n",
      "5\n",
      "5\n",
      "55\n",
      "53\n",
      "21\n",
      "29\n",
      "19\n",
      "9\n"
     ]
    }
   ],
   "source": [
    "nums = [1,2,3,4,5,5,55,53,22,21,20,34,29,20,19,16,14,9]\n",
    "def odd_func(x):\n",
    "    for i in x:\n",
    "        if i % 2 == 1:\n",
    "            print(i)\n",
    "odd_func(nums)"
   ]
  },
  {
   "cell_type": "markdown",
   "metadata": {},
   "source": [
    "### Q2. Write a function that computes the sum of all of the even numbers in a list. Pass the list as an input argument to the function, and return the sum. [This time, there should be no print statements inside the function.]"
   ]
  },
  {
   "cell_type": "code",
   "execution_count": 6,
   "metadata": {},
   "outputs": [
    {
     "data": {
      "text/plain": [
       "132"
      ]
     },
     "execution_count": 6,
     "metadata": {},
     "output_type": "execute_result"
    }
   ],
   "source": [
    "def even_func(x):\n",
    "    even_sum = 0\n",
    "    for i in x:\n",
    "        if i % 2 == 0:\n",
    "            even_sum += i\n",
    "    return even_sum\n",
    "even_func(nums)"
   ]
  },
  {
   "cell_type": "markdown",
   "metadata": {},
   "source": [
    "### Q3. Write a function that takes as an input argument an integer between 0-9 and returns the English word equivalent of the integer value (e.g., 'zero', 'one', etc.). Your function should print an error if the passed value is not between 0-9, but otherwise you should not print the values inside the function."
   ]
  },
  {
   "cell_type": "code",
   "execution_count": 1,
   "metadata": {},
   "outputs": [
    {
     "name": "stdout",
     "output_type": "stream",
     "text": [
      "Error! Not an integer between 0 and 9!\n",
      "Error! Not an integer between 0 and 9!\n"
     ]
    }
   ],
   "source": [
    "## setting lists of acceptable integers and their corresponding words\n",
    "integers = [0,1,2,3,4,5,6,7,8,9]\n",
    "integer_words = [\"zero\", \"one\", \"two\", \"three\", \"four\", \"five\", \"six\", \"seven\", \"eight\", \"nine\"]\n",
    "def int_words(x):\n",
    "    if x not in integers:\n",
    "        print(\"Error! Not an integer between 0 and 9!\")\n",
    "    else:\n",
    "        word_index = integers.index(x)\n",
    "        return integer_words[word_index]\n",
    "\n",
    "# calling function on different numbers\n",
    "int_words(4)\n",
    "int_words(6)\n",
    "int_words(0)\n",
    "int_words(10)\n",
    "int_words(\"tacos\")"
   ]
  },
  {
   "cell_type": "markdown",
   "metadata": {},
   "source": [
    "### Q4. Use a `for` loop to run the Q3 function for the values 0-9 *in reversed order* (i.e., counting down from 9), printing the returned value after each function call."
   ]
  },
  {
   "cell_type": "code",
   "execution_count": 4,
   "metadata": {},
   "outputs": [
    {
     "name": "stdout",
     "output_type": "stream",
     "text": [
      "nine\n",
      "eight\n",
      "seven\n",
      "six\n",
      "five\n",
      "four\n",
      "three\n",
      "two\n",
      "one\n",
      "zero\n"
     ]
    }
   ],
   "source": [
    "for i in range(9,-1,-1):\n",
    "    print(int_words(i))"
   ]
  },
  {
   "cell_type": "markdown",
   "metadata": {},
   "source": [
    "### Save your notebook and output an html version. To receive credit for this in-class exercise upload both the .html and .ipynb files."
   ]
  }
 ],
 "metadata": {
  "kernelspec": {
   "display_name": "Python 3 (ipykernel)",
   "language": "python",
   "name": "python3"
  },
  "language_info": {
   "codemirror_mode": {
    "name": "ipython",
    "version": 3
   },
   "file_extension": ".py",
   "mimetype": "text/x-python",
   "name": "python",
   "nbconvert_exporter": "python",
   "pygments_lexer": "ipython3",
   "version": "3.10.9"
  }
 },
 "nbformat": 4,
 "nbformat_minor": 4
}
