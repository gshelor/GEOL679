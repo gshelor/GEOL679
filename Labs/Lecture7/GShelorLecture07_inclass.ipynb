{
 "cells": [
  {
   "cell_type": "markdown",
   "metadata": {},
   "source": [
    "Griffin Shelor \\\n",
    "16-2-2024"
   ]
  },
  {
   "cell_type": "markdown",
   "metadata": {},
   "source": [
    "# In-class Exercises: Modules and Dictionaries"
   ]
  },
  {
   "cell_type": "markdown",
   "metadata": {},
   "source": [
    "### Q1. Write a loop to flip a coin 22 times (use `random.choice()`), printing out either 'heads' or 'tails' each time"
   ]
  },
  {
   "cell_type": "code",
   "execution_count": 51,
   "metadata": {},
   "outputs": [
    {
     "name": "stdout",
     "output_type": "stream",
     "text": [
      "heads\n",
      "tails\n",
      "tails\n",
      "tails\n",
      "heads\n",
      "tails\n",
      "tails\n",
      "tails\n",
      "heads\n",
      "tails\n",
      "heads\n",
      "heads\n",
      "tails\n",
      "tails\n",
      "heads\n",
      "tails\n",
      "heads\n",
      "tails\n",
      "heads\n",
      "heads\n",
      "tails\n",
      "tails\n"
     ]
    }
   ],
   "source": [
    "import random\n",
    "random.seed(802)\n",
    "for x in range(1,23):\n",
    "    print(random.choice(['heads', 'tails']))"
   ]
  },
  {
   "cell_type": "markdown",
   "metadata": {},
   "source": [
    "### Q2. Calculate and print (a) the cosine of pi/4, (b) the cosine of 2*pi/3, and (c) the degrees equivalent of pi/5 radians. Use the `math` module."
   ]
  },
  {
   "cell_type": "code",
   "execution_count": 52,
   "metadata": {},
   "outputs": [
    {
     "name": "stdout",
     "output_type": "stream",
     "text": [
      "0.7071067811865476\n",
      "-0.49999999999999983\n",
      "36.0\n"
     ]
    }
   ],
   "source": [
    "import math\n",
    "print(math.cos(math.pi/4))\n",
    "print(math.cos(2*math.pi/3))\n",
    "print(math.degrees(math.pi/5))"
   ]
  },
  {
   "cell_type": "markdown",
   "metadata": {},
   "source": [
    "### Q3. Use `random.random()` 1000 times and count how many times the value was >=0.7. Print the final count."
   ]
  },
  {
   "cell_type": "code",
   "execution_count": 53,
   "metadata": {},
   "outputs": [
    {
     "name": "stdout",
     "output_type": "stream",
     "text": [
      "304\n"
     ]
    }
   ],
   "source": [
    "random.seed(802)\n",
    "count = 0\n",
    "for x in range(0,1000):\n",
    "    num = random.random()\n",
    "    if num >= 0.7:\n",
    "        count += 1\n",
    "print(count)"
   ]
  },
  {
   "cell_type": "markdown",
   "metadata": {},
   "source": [
    "### Q4. Make a 4-word English-to-Spanish dictionary called `eng2spa` and print it. The content should indicate the translations: 'dog'->'perro', 'cat'->'gato', 'walrus'->'morsa', 'snake'->'serpiente'"
   ]
  },
  {
   "cell_type": "code",
   "execution_count": 54,
   "metadata": {},
   "outputs": [
    {
     "name": "stdout",
     "output_type": "stream",
     "text": [
      "{'dog': 'perro', 'cat': 'gato', 'walrus': 'morsa', 'snake': 'serpiente'}\n"
     ]
    }
   ],
   "source": [
    "eng2spa = {'dog': 'perro', 'cat': 'gato', 'walrus': 'morsa', 'snake': 'serpiente'}\n",
    "print(eng2spa)"
   ]
  },
  {
   "cell_type": "markdown",
   "metadata": {},
   "source": [
    "### Q5. Make a dictionary with keys being the integers 1 through 10 and values being the cube of the keys (e.g., key 2->value 8; key 3->value 27). Print your dictionary."
   ]
  },
  {
   "cell_type": "code",
   "execution_count": 55,
   "metadata": {},
   "outputs": [
    {
     "name": "stdout",
     "output_type": "stream",
     "text": [
      "{1: 1, 2: 8, 3: 27, 4: 64, 5: 125, 6: 216, 7: 343, 8: 512, 9: 729, 10: 1000}\n"
     ]
    }
   ],
   "source": [
    "cube_dict = {1:1, 2:2**3, 3:3**3, 4:4**3, 5:5**3, 6:6**3, 7:7**3, 8:8**3, 9:9**3, 10:10**3}\n",
    "print(cube_dict)"
   ]
  },
  {
   "cell_type": "markdown",
   "metadata": {},
   "source": [
    "### Q6. Use a dictionary to count the number of times each letter occurs in the sentence: \"the quick brown fox jumps over the lazy dog\". Print the letter counts in alphabetical order. You may ignore blank spaces.\n",
    "\n",
    "**Hint**: Review the last example in lecture."
   ]
  },
  {
   "cell_type": "code",
   "execution_count": 56,
   "metadata": {},
   "outputs": [
    {
     "name": "stdout",
     "output_type": "stream",
     "text": [
      "{'a': 1, 'b': 1, 'c': 1, 'd': 1, 'e': 3, 'f': 1, 'g': 1, 'h': 2, 'i': 1, 'j': 1, 'k': 1, 'l': 1, 'm': 1, 'n': 1, 'o': 4, 'p': 1, 'q': 1, 'r': 2, 's': 1, 't': 2, 'u': 2, 'v': 1, 'w': 1, 'x': 1, 'y': 1, 'z': 1}\n",
      "26\n"
     ]
    }
   ],
   "source": [
    "## setting string and letters\n",
    "string = \"the quick brown fox jumps over the lazy dog\"\n",
    "letters_dict = {\"a\":0, \"b\":0, \"c\":0, \"d\":0, \"e\":0, \"f\":0, \"g\":0, \"h\":0, \"i\":0, \"j\":0, \"k\":0, \"l\":0, \"m\":0, \"n\":0, \"o\":0, \"p\":0, \"q\":0, \"r\":0, \"s\":0, \"t\":0, \"u\":0, \"v\":0, \"w\":0, \"x\":0, \"y\":0, \"z\":0}\n",
    "## turning string to list of words\n",
    "word_list = string.lower().split()\n",
    "for word in word_list:\n",
    "    for letter in word:\n",
    "        if letter in letters_dict.keys():\n",
    "            letters_dict[letter] += 1\n",
    "        else:\n",
    "            print(\"Error!\")\n",
    "final_lettercount = {key:value for (key,value) in letters_dict.items() if value > 0}\n",
    "print(final_lettercount)\n",
    "print(len(final_lettercount))"
   ]
  },
  {
   "cell_type": "markdown",
   "metadata": {},
   "source": [
    "### Save your notebook and output an html version. To receive credit for this in-class exercise upload both the .html and .ipynb files."
   ]
  }
 ],
 "metadata": {
  "kernelspec": {
   "display_name": "Python 3 (ipykernel)",
   "language": "python",
   "name": "python3"
  },
  "language_info": {
   "codemirror_mode": {
    "name": "ipython",
    "version": 3
   },
   "file_extension": ".py",
   "mimetype": "text/x-python",
   "name": "python",
   "nbconvert_exporter": "python",
   "pygments_lexer": "ipython3",
   "version": "3.10.9"
  }
 },
 "nbformat": 4,
 "nbformat_minor": 4
}
