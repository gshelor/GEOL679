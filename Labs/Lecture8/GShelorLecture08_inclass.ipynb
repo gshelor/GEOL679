{
 "cells": [
  {
   "cell_type": "markdown",
   "metadata": {},
   "source": [
    "Griffin Shelor \\\n",
    "21-2-2024"
   ]
  },
  {
   "cell_type": "markdown",
   "metadata": {},
   "source": [
    "# In-class Exercises: Strings"
   ]
  },
  {
   "cell_type": "markdown",
   "metadata": {},
   "source": [
    "#### We'll use the following in these examples:"
   ]
  },
  {
   "cell_type": "code",
   "execution_count": 18,
   "metadata": {},
   "outputs": [],
   "source": [
    "list1=['giraffe', 'monkey', 'tiger', 'lion',\n",
    "       'hyena', 'coyote', 'panda', 'snake', 'longhorn']\n",
    "sentence1 = 'I have a cat named Ygritte.'\n",
    "sentence2 = 'She likes to code in Python.'"
   ]
  },
  {
   "cell_type": "markdown",
   "metadata": {},
   "source": [
    "### Q1. Loop through `list1` and print each word in all capitals (one word printed per line)."
   ]
  },
  {
   "cell_type": "code",
   "execution_count": 19,
   "metadata": {},
   "outputs": [
    {
     "name": "stdout",
     "output_type": "stream",
     "text": [
      "GIRAFFE\n",
      "MONKEY\n",
      "TIGER\n",
      "LION\n",
      "HYENA\n",
      "COYOTE\n",
      "PANDA\n",
      "SNAKE\n",
      "LONGHORN\n"
     ]
    }
   ],
   "source": [
    "for x in list1:\n",
    "    print(x.upper())"
   ]
  },
  {
   "cell_type": "markdown",
   "metadata": {},
   "source": [
    "### Q2. Print the position (index) of 'Ygr' in `sentence1`."
   ]
  },
  {
   "cell_type": "code",
   "execution_count": 20,
   "metadata": {},
   "outputs": [
    {
     "name": "stdout",
     "output_type": "stream",
     "text": [
      "19\n"
     ]
    }
   ],
   "source": [
    "print(sentence1.index('Ygr'))"
   ]
  },
  {
   "cell_type": "markdown",
   "metadata": {},
   "source": [
    "### Q3. Combine `sentence1` and `sentence2` into a new string called `sentences`. Make sure there is a space between the two sentences."
   ]
  },
  {
   "cell_type": "code",
   "execution_count": 21,
   "metadata": {},
   "outputs": [
    {
     "name": "stdout",
     "output_type": "stream",
     "text": [
      "I have a cat named Ygritte. She likes to code in Python.\n"
     ]
    }
   ],
   "source": [
    "sentences = sentence1 + \" \" + sentence2\n",
    "print(sentences)"
   ]
  },
  {
   "cell_type": "markdown",
   "metadata": {},
   "source": [
    "### Q4. Use the `split()` command to make a list that contains all of the words from `sentences`, making sure that there are no spaces or punctuation."
   ]
  },
  {
   "cell_type": "code",
   "execution_count": 22,
   "metadata": {},
   "outputs": [
    {
     "name": "stdout",
     "output_type": "stream",
     "text": [
      "['I', 'have', 'a', 'cat', 'named', 'Ygritte', 'She', 'likes', 'to', 'code', 'in', 'Python']\n"
     ]
    }
   ],
   "source": [
    "sentences_nopunc = sentences.replace(\".\",\"\")\n",
    "sentences_split = sentences_nopunc.split()\n",
    "print(sentences_split)"
   ]
  },
  {
   "cell_type": "markdown",
   "metadata": {},
   "source": [
    "### Q5. Work or sleep? In-class exercise from Lecture 4 revisited!\n",
    "\n",
    "* Ask the user to enter a day of the week\n",
    "* If it is a weekday, print \"Wake up, you need to go to work!\"\n",
    "* If it is a weekend, day print \"Good news, you get to sleep in!\"\n",
    "* If the user didn't enter a proper day print \"ERROR - enter a valid day of the week: Monday through Sunday\"\n",
    "* **Your code should work regardless of whether the user enters uppercase or lowercase letters**"
   ]
  },
  {
   "cell_type": "code",
   "execution_count": 23,
   "metadata": {},
   "outputs": [
    {
     "name": "stdout",
     "output_type": "stream",
     "text": [
      "Wake up, you need to go to work!\n"
     ]
    }
   ],
   "source": [
    "weekdays_list = ['monday', 'tuesday', 'wednesday', 'thursday', 'friday']\n",
    "weekend_list = ['sunday', 'saturday']\n",
    "day_init = input(\"Please enter a day of the week:\")\n",
    "day = day_init.lower()\n",
    "if day in weekdays_list:\n",
    "    print(\"Wake up, you need to go to work!\")\n",
    "elif day in weekend_list:\n",
    "    print(\"Good news, you get to sleep in!\")\n",
    "else:\n",
    "    print(\"Error - enter a valid day of the week: Monday through Sunday\")"
   ]
  },
  {
   "cell_type": "markdown",
   "metadata": {},
   "source": [
    "### Q6. Write a function that takes a list of words as its input parameter. The function should then identifies the longest word and returns this word back to the function caller. Test this function on `list1` defined at the top of this notebook.\n",
    "\n",
    "[If there is a tie for longest word, it is ok to return any of the words with that length.]"
   ]
  },
  {
   "cell_type": "code",
   "execution_count": 24,
   "metadata": {},
   "outputs": [
    {
     "data": {
      "text/plain": [
       "('longhorn', 8)"
      ]
     },
     "execution_count": 24,
     "metadata": {},
     "output_type": "execute_result"
    }
   ],
   "source": [
    "def longest_word(wordlist):\n",
    "    max_length = 0\n",
    "    for word in wordlist:\n",
    "        if len(word) > max_length:\n",
    "            max_length = len(word)\n",
    "            max_word = word\n",
    "    return max_word, max_length\n",
    "longest_word(list1)\n"
   ]
  },
  {
   "cell_type": "markdown",
   "metadata": {},
   "source": [
    "### Save your notebook and output a .html version. To receive credit for this in-class exercise upload both the .html and .ipynb files."
   ]
  }
 ],
 "metadata": {
  "kernelspec": {
   "display_name": "Python 3 (ipykernel)",
   "language": "python",
   "name": "python3"
  },
  "language_info": {
   "codemirror_mode": {
    "name": "ipython",
    "version": 3
   },
   "file_extension": ".py",
   "mimetype": "text/x-python",
   "name": "python",
   "nbconvert_exporter": "python",
   "pygments_lexer": "ipython3",
   "version": "3.10.9"
  }
 },
 "nbformat": 4,
 "nbformat_minor": 4
}
