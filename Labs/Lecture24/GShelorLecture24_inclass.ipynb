{
 "cells": [
  {
   "cell_type": "markdown",
   "metadata": {},
   "source": [
    "# In-class Exercise: Supervised Learning 2"
   ]
  },
  {
   "cell_type": "code",
   "execution_count": null,
   "metadata": {},
   "outputs": [],
   "source": [
    "# Import packages\n",
    "import matplotlib.pyplot as plt\n",
    "from sklearn.model_selection import train_test_split\n",
    "from sklearn.linear_model import LogisticRegression\n",
    "from sklearn.ensemble import RandomForestClassifier\n",
    "from sklearn.metrics import accuracy_score\n",
    "from sklearn.datasets import load_digits"
   ]
  },
  {
   "cell_type": "markdown",
   "metadata": {},
   "source": [
    "### For this in-class exercise, we'll be working with the classification of hand-written digits (numbers)."
   ]
  },
  {
   "cell_type": "code",
   "execution_count": null,
   "metadata": {},
   "outputs": [],
   "source": [
    "# Load the dataset\n",
    "digits = load_digits()"
   ]
  },
  {
   "cell_type": "code",
   "execution_count": null,
   "metadata": {},
   "outputs": [],
   "source": [
    "# Function to plot data\n",
    "def plot_digit(digits, i):\n",
    "    plt.figure(figsize=(2, 2))\n",
    "    plt.imshow(digits.images[i], cmap='binary', interpolation='nearest')\n",
    "    plt.xticks([])\n",
    "    plt.yticks([])\n",
    "    plt.text(8, 0.1, str(digits.target[i]), color='green', fontsize=16)"
   ]
  },
  {
   "cell_type": "code",
   "execution_count": null,
   "metadata": {},
   "outputs": [],
   "source": [
    "# Example plot\n",
    "plot_digit(digits,0)"
   ]
  },
  {
   "cell_type": "markdown",
   "metadata": {},
   "source": [
    "### We will work with a 'flattened' array e.g., instead of 8x8 grid use a 64x1 grid. `scikit-learn` has provided this for us. We will set up the feature and target arrays."
   ]
  },
  {
   "cell_type": "code",
   "execution_count": null,
   "metadata": {},
   "outputs": [],
   "source": [
    "X_digits = digits.data\n",
    "y_digits = digits.target"
   ]
  },
  {
   "cell_type": "markdown",
   "metadata": {},
   "source": [
    "### Q1. Make 5 different pairs of training and test datasets, with the following characteristics:\n",
    "1. Use a `train_size` of 0.9, `random_state` = 15\n",
    "2. Use a `train_size` of 0.8, `random_state` = 15\n",
    "3. Use a `train_size` of 0.7, `random_state` = 15\n",
    "4. Use a `train_size` of 0.6, `random_state` = 15\n",
    "5. Use a `train_size` of 0.5, `random_state` = 15"
   ]
  },
  {
   "cell_type": "code",
   "execution_count": null,
   "metadata": {},
   "outputs": [],
   "source": []
  },
  {
   "cell_type": "markdown",
   "metadata": {},
   "source": [
    "### Q2. Using logistic regression (`solver='liblinear'`, `multi_class='auto'`) fit on the training data set, predict on the test data set, and calculate an accuracy score for each of the five training and test datasets. Save each accuracy score in a variable, and print the accuracy score.\n",
    "* we add `multi_class = 'auto'` to get rid of a warning because this is not a binary classification problem..."
   ]
  },
  {
   "cell_type": "code",
   "execution_count": null,
   "metadata": {},
   "outputs": [],
   "source": []
  },
  {
   "cell_type": "markdown",
   "metadata": {},
   "source": [
    "### Q3. Make a plot of training size on the x axis and accuracy score on the y-axis. Label the x and y axes."
   ]
  },
  {
   "cell_type": "code",
   "execution_count": null,
   "metadata": {},
   "outputs": [],
   "source": []
  },
  {
   "cell_type": "markdown",
   "metadata": {},
   "source": [
    "### Q4. What have you learned about the effect of training size on accuracy score? Why might it be a bad idea to have a training size near 1.0?"
   ]
  },
  {
   "cell_type": "code",
   "execution_count": null,
   "metadata": {},
   "outputs": [],
   "source": [
    "####### ANSWER HERE #######\n",
    "# (can convert cell type to markdown to write text if you want)\n",
    "\n"
   ]
  },
  {
   "cell_type": "markdown",
   "metadata": {},
   "source": [
    "### Q5. Train a `RandomForestClassifier` model on the Q1 split dataset that had a train_size of 0.7. Create six different models with different `n_estimators` = 2, 4, 8, 16, 32, 64. Fit your model on the training data set and predict on the test data set. Calculate an accuracy score. Save each accuracy score in a variable and print the accuracy score. "
   ]
  },
  {
   "cell_type": "code",
   "execution_count": null,
   "metadata": {},
   "outputs": [],
   "source": []
  },
  {
   "cell_type": "markdown",
   "metadata": {},
   "source": [
    "### Q6. Make a plot with `n_estimators` on the x axis and accuracy score on the y-axis. Label the x and y axes."
   ]
  },
  {
   "cell_type": "code",
   "execution_count": null,
   "metadata": {},
   "outputs": [],
   "source": []
  },
  {
   "cell_type": "markdown",
   "metadata": {},
   "source": [
    "### Q7. What have you learned about `n_estimators`?"
   ]
  },
  {
   "cell_type": "code",
   "execution_count": null,
   "metadata": {},
   "outputs": [],
   "source": [
    "####### ANSWER HERE #######\n",
    "# (can convert cell type to markdown to write text if you want)\n",
    "\n"
   ]
  },
  {
   "cell_type": "markdown",
   "metadata": {},
   "source": [
    "### Save your notebook and output an html version. To receive credit for this in-class exercise upload both the .html and .ipynb files."
   ]
  }
 ],
 "metadata": {
  "kernelspec": {
   "display_name": "Python 3 (ipykernel)",
   "language": "python",
   "name": "python3"
  },
  "language_info": {
   "codemirror_mode": {
    "name": "ipython",
    "version": 3
   },
   "file_extension": ".py",
   "mimetype": "text/x-python",
   "name": "python",
   "nbconvert_exporter": "python",
   "pygments_lexer": "ipython3",
   "version": "3.10.13"
  }
 },
 "nbformat": 4,
 "nbformat_minor": 4
}
