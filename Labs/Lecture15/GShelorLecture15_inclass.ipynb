{
 "cells": [
  {
   "cell_type": "markdown",
   "metadata": {},
   "source": [
    "Griffin Shelor\\\n",
    "18-3-2024"
   ]
  },
  {
   "cell_type": "markdown",
   "metadata": {},
   "source": [
    "# In-class Exercises: Pandas 2"
   ]
  },
  {
   "cell_type": "code",
   "execution_count": 1,
   "metadata": {},
   "outputs": [],
   "source": [
    "import numpy as np\n",
    "import pandas as pd\n",
    "import matplotlib.pyplot as plt"
   ]
  },
  {
   "cell_type": "markdown",
   "metadata": {},
   "source": [
    "### Q1. Load 'lecture14_athletes_men400m.csv' and 'lecture15_athletes_menhammer.csv' into two different `DataFrames`"
   ]
  },
  {
   "cell_type": "code",
   "execution_count": 2,
   "metadata": {},
   "outputs": [],
   "source": [
    "## reading in data\n",
    "men400m_df = pd.read_csv('lecture14_athletes_men400m.csv')\n",
    "menhammer_df = pd.read_csv('lecture15_athletes_menhammer.csv')"
   ]
  },
  {
   "cell_type": "markdown",
   "metadata": {},
   "source": [
    "### Q2. Concatenate the two `DataFrames` into a single `DataFrame`"
   ]
  },
  {
   "cell_type": "code",
   "execution_count": 3,
   "metadata": {},
   "outputs": [],
   "source": [
    "## combining data frames\n",
    "men_athletes = pd.concat([men400m_df, menhammer_df])"
   ]
  },
  {
   "cell_type": "markdown",
   "metadata": {},
   "source": [
    "### Q3. Use `.dropna()` to drop all `NaN` values in the merged `DataFrame`, and reset the index (row numbers). We'll be working with this `DataFrame` for the rest of the exercise."
   ]
  },
  {
   "cell_type": "code",
   "execution_count": 4,
   "metadata": {},
   "outputs": [],
   "source": [
    "athletes_clean = men_athletes.dropna()"
   ]
  },
  {
   "cell_type": "code",
   "execution_count": 5,
   "metadata": {},
   "outputs": [
    {
     "data": {
      "text/html": [
       "<div>\n",
       "<style scoped>\n",
       "    .dataframe tbody tr th:only-of-type {\n",
       "        vertical-align: middle;\n",
       "    }\n",
       "\n",
       "    .dataframe tbody tr th {\n",
       "        vertical-align: top;\n",
       "    }\n",
       "\n",
       "    .dataframe thead th {\n",
       "        text-align: right;\n",
       "    }\n",
       "</style>\n",
       "<table border=\"1\" class=\"dataframe\">\n",
       "  <thead>\n",
       "    <tr style=\"text-align: right;\">\n",
       "      <th></th>\n",
       "      <th>Name</th>\n",
       "      <th>Sex</th>\n",
       "      <th>Age</th>\n",
       "      <th>Height</th>\n",
       "      <th>Weight</th>\n",
       "      <th>Team</th>\n",
       "      <th>Year</th>\n",
       "      <th>Event</th>\n",
       "      <th>Medal</th>\n",
       "    </tr>\n",
       "  </thead>\n",
       "  <tbody>\n",
       "    <tr>\n",
       "      <th>83</th>\n",
       "      <td>Alonzo Carl Babers</td>\n",
       "      <td>M</td>\n",
       "      <td>22.0</td>\n",
       "      <td>188.0</td>\n",
       "      <td>70.0</td>\n",
       "      <td>United States</td>\n",
       "      <td>1984</td>\n",
       "      <td>Athletics Men's 400 meters</td>\n",
       "      <td>Gold</td>\n",
       "    </tr>\n",
       "    <tr>\n",
       "      <th>91</th>\n",
       "      <td>Andrzej Stanisaw Badeski</td>\n",
       "      <td>M</td>\n",
       "      <td>21.0</td>\n",
       "      <td>173.0</td>\n",
       "      <td>68.0</td>\n",
       "      <td>Poland</td>\n",
       "      <td>1964</td>\n",
       "      <td>Athletics Men's 400 meters</td>\n",
       "      <td>Bronze</td>\n",
       "    </tr>\n",
       "    <tr>\n",
       "      <th>98</th>\n",
       "      <td>James Allan \"Jimmy\" Ball</td>\n",
       "      <td>M</td>\n",
       "      <td>25.0</td>\n",
       "      <td>180.0</td>\n",
       "      <td>69.0</td>\n",
       "      <td>Canada</td>\n",
       "      <td>1928</td>\n",
       "      <td>Athletics Men's 400 meters</td>\n",
       "      <td>Silver</td>\n",
       "    </tr>\n",
       "    <tr>\n",
       "      <th>107</th>\n",
       "      <td>Raymond James \"Ray\" Barbuti</td>\n",
       "      <td>M</td>\n",
       "      <td>22.0</td>\n",
       "      <td>183.0</td>\n",
       "      <td>82.0</td>\n",
       "      <td>United States</td>\n",
       "      <td>1928</td>\n",
       "      <td>Athletics Men's 400 meters</td>\n",
       "      <td>Gold</td>\n",
       "    </tr>\n",
       "    <tr>\n",
       "      <th>146</th>\n",
       "      <td>Roger Anthony Black</td>\n",
       "      <td>M</td>\n",
       "      <td>30.0</td>\n",
       "      <td>190.0</td>\n",
       "      <td>79.0</td>\n",
       "      <td>Great Britain</td>\n",
       "      <td>1996</td>\n",
       "      <td>Athletics Men's 400 meters</td>\n",
       "      <td>Silver</td>\n",
       "    </tr>\n",
       "    <tr>\n",
       "      <th>...</th>\n",
       "      <td>...</td>\n",
       "      <td>...</td>\n",
       "      <td>...</td>\n",
       "      <td>...</td>\n",
       "      <td>...</td>\n",
       "      <td>...</td>\n",
       "      <td>...</td>\n",
       "      <td>...</td>\n",
       "      <td>...</td>\n",
       "    </tr>\n",
       "    <tr>\n",
       "      <th>638</th>\n",
       "      <td>Peter Timothy \"Pete\" Zaremba</td>\n",
       "      <td>M</td>\n",
       "      <td>24.0</td>\n",
       "      <td>195.0</td>\n",
       "      <td>92.0</td>\n",
       "      <td>United States</td>\n",
       "      <td>1932</td>\n",
       "      <td>Athletics Men's Hammer Throw</td>\n",
       "      <td>Bronze</td>\n",
       "    </tr>\n",
       "    <tr>\n",
       "      <th>642</th>\n",
       "      <td>Szymon Zikowski</td>\n",
       "      <td>M</td>\n",
       "      <td>24.0</td>\n",
       "      <td>192.0</td>\n",
       "      <td>120.0</td>\n",
       "      <td>Poland</td>\n",
       "      <td>2000</td>\n",
       "      <td>Athletics Men's Hammer Throw</td>\n",
       "      <td>Gold</td>\n",
       "    </tr>\n",
       "    <tr>\n",
       "      <th>646</th>\n",
       "      <td>Gyula Zsivtzky</td>\n",
       "      <td>M</td>\n",
       "      <td>23.0</td>\n",
       "      <td>190.0</td>\n",
       "      <td>102.0</td>\n",
       "      <td>Hungary</td>\n",
       "      <td>1960</td>\n",
       "      <td>Athletics Men's Hammer Throw</td>\n",
       "      <td>Silver</td>\n",
       "    </tr>\n",
       "    <tr>\n",
       "      <th>647</th>\n",
       "      <td>Gyula Zsivtzky</td>\n",
       "      <td>M</td>\n",
       "      <td>27.0</td>\n",
       "      <td>190.0</td>\n",
       "      <td>102.0</td>\n",
       "      <td>Hungary</td>\n",
       "      <td>1964</td>\n",
       "      <td>Athletics Men's Hammer Throw</td>\n",
       "      <td>Silver</td>\n",
       "    </tr>\n",
       "    <tr>\n",
       "      <th>648</th>\n",
       "      <td>Gyula Zsivtzky</td>\n",
       "      <td>M</td>\n",
       "      <td>31.0</td>\n",
       "      <td>190.0</td>\n",
       "      <td>102.0</td>\n",
       "      <td>Hungary</td>\n",
       "      <td>1968</td>\n",
       "      <td>Athletics Men's Hammer Throw</td>\n",
       "      <td>Gold</td>\n",
       "    </tr>\n",
       "  </tbody>\n",
       "</table>\n",
       "<p>152 rows × 9 columns</p>\n",
       "</div>"
      ],
      "text/plain": [
       "                             Name Sex   Age  Height  Weight           Team  \\\n",
       "83             Alonzo Carl Babers   M  22.0   188.0    70.0  United States   \n",
       "91       Andrzej Stanisaw Badeski   M  21.0   173.0    68.0         Poland   \n",
       "98       James Allan \"Jimmy\" Ball   M  25.0   180.0    69.0         Canada   \n",
       "107   Raymond James \"Ray\" Barbuti   M  22.0   183.0    82.0  United States   \n",
       "146           Roger Anthony Black   M  30.0   190.0    79.0  Great Britain   \n",
       "..                            ...  ..   ...     ...     ...            ...   \n",
       "638  Peter Timothy \"Pete\" Zaremba   M  24.0   195.0    92.0  United States   \n",
       "642               Szymon Zikowski   M  24.0   192.0   120.0         Poland   \n",
       "646                Gyula Zsivtzky   M  23.0   190.0   102.0        Hungary   \n",
       "647                Gyula Zsivtzky   M  27.0   190.0   102.0        Hungary   \n",
       "648                Gyula Zsivtzky   M  31.0   190.0   102.0        Hungary   \n",
       "\n",
       "     Year                         Event   Medal  \n",
       "83   1984    Athletics Men's 400 meters    Gold  \n",
       "91   1964    Athletics Men's 400 meters  Bronze  \n",
       "98   1928    Athletics Men's 400 meters  Silver  \n",
       "107  1928    Athletics Men's 400 meters    Gold  \n",
       "146  1996    Athletics Men's 400 meters  Silver  \n",
       "..    ...                           ...     ...  \n",
       "638  1932  Athletics Men's Hammer Throw  Bronze  \n",
       "642  2000  Athletics Men's Hammer Throw    Gold  \n",
       "646  1960  Athletics Men's Hammer Throw  Silver  \n",
       "647  1964  Athletics Men's Hammer Throw  Silver  \n",
       "648  1968  Athletics Men's Hammer Throw    Gold  \n",
       "\n",
       "[152 rows x 9 columns]"
      ]
     },
     "execution_count": 5,
     "metadata": {},
     "output_type": "execute_result"
    }
   ],
   "source": [
    "athletes_clean"
   ]
  },
  {
   "cell_type": "markdown",
   "metadata": {},
   "source": [
    "### Q4. Apply `groupby` to the 'Event' column, and and use this grouped `DataFrame` to plot histograms of 'Weight' for each group. \n",
    "* Make sure to look at the lecture to see how to do this - the example in the lecture grouped by 'Sex' and plotted histograms of 'Age' for each group.\n",
    "* Here, we 'groupby' 'Event' and plot histograms of 'Weight' for each group."
   ]
  },
  {
   "cell_type": "code",
   "execution_count": 6,
   "metadata": {},
   "outputs": [
    {
     "data": {
      "image/png": "[encoded data removed]",
      "text/plain": [
       "<Figure size 640x480 with 1 Axes>"
      ]
     },
     "metadata": {},
     "output_type": "display_data"
    }
   ],
   "source": [
    "athletes_grp_event = athletes_clean.groupby(\"Event\")\n",
    "for group_key, group_value in athletes_grp_event:\n",
    "    plt.hist(group_value[\"Weight\"], range(55,135),\n",
    "             alpha=0.65, label=group_key, edgecolor=\"k\") # note the label to tag the group key\n",
    "plt.xlabel('Weight')\n",
    "plt.ylabel('Count')\n",
    "plt.title('Weight of Olympic Athletes by Event')\n",
    "plt.legend(loc='best');"
   ]
  },
  {
   "cell_type": "markdown",
   "metadata": {},
   "source": [
    "### Q5. Apply `groupby` to with both 'Event' and 'Year' (simultaneously). Use this grouped `DataFrame` to plot 'Year' on the x-axis and mean 'Weight' on the y-axis, with different symbols for the 400m and hammer throw athletes. \n",
    "* Make sure to look at the lecture to see how to do this - the example in the lecture grouped 400m athletes by 'Sex' and 'Year', then plotted 'Year' and mean 'Age' for male and female groups.\n",
    "* Here we groupby 'Event' and 'Year', then plot 'Year' and mean 'Weight' for 400m and hammer throw groups."
   ]
  },
  {
   "cell_type": "code",
   "execution_count": 7,
   "metadata": {},
   "outputs": [
    {
     "data": {
      "image/png": "[encoded data removed]",
      "text/plain": [
       "<Figure size 640x480 with 1 Axes>"
      ]
     },
     "metadata": {},
     "output_type": "display_data"
    }
   ],
   "source": [
    "event_yr_grp = athletes_clean.groupby([\"Event\", \"Year\"],)\n",
    "\n",
    "# Plot Age vs Year for each Group\n",
    "\n",
    "# track the first time we plot for labeling purposes\n",
    "first_hammer = True \n",
    "first_400m = True\n",
    "\n",
    "# iterate over groups: these are (sex, year) tuples\n",
    "#     - the values here are dataframe subsets of that (sex, year)\n",
    "for group_key, group_value in event_yr_grp:\n",
    "    \n",
    "    # plot year versus mean age in each year: Men\n",
    "    if(group_key[0] == \"Athletics Men's 400 meters\"): \n",
    "        if first_400m: # with label\n",
    "            plt.plot(group_key[1], group_value[\"Weight\"].mean(), 'b^', label = '400m Athletes')\n",
    "            first_400m = False\n",
    "        else:      # without label\n",
    "            plt.plot(group_key[1], group_value[\"Weight\"].mean(), 'b^')\n",
    "    \n",
    "    # plot year versus mean age in each year: Women\n",
    "    else: \n",
    "        if first_hammer: # with label\n",
    "            plt.plot(group_key[1], group_value[\"Weight\"].mean(), 'ro', label = 'Hammer Athletes')\n",
    "            first_hammer = False\n",
    "        else:      # without label\n",
    "            plt.plot(group_key[1], group_value[\"Weight\"].mean(), 'ro')\n",
    "\n",
    "# format plot\n",
    "plt.xlabel('Year')\n",
    "plt.ylabel('Weight')\n",
    "plt.grid(lw=0.5)\n",
    "plt.title('Olympic 400-m and Hammer Throw Athletes')\n",
    "plt.legend(loc='best');"
   ]
  },
  {
   "cell_type": "markdown",
   "metadata": {},
   "source": [
    "### Q6. Use `groupby` to display the mean 'Age', 'Weight', and 'Height' for gold, silver, and bronze medal winners for the 400m and hammer throw athletes."
   ]
  },
  {
   "cell_type": "code",
   "execution_count": 8,
   "metadata": {},
   "outputs": [
    {
     "data": {
      "text/html": [
       "<div>\n",
       "<style scoped>\n",
       "    .dataframe tbody tr th:only-of-type {\n",
       "        vertical-align: middle;\n",
       "    }\n",
       "\n",
       "    .dataframe tbody tr th {\n",
       "        vertical-align: top;\n",
       "    }\n",
       "\n",
       "    .dataframe thead th {\n",
       "        text-align: right;\n",
       "    }\n",
       "</style>\n",
       "<table border=\"1\" class=\"dataframe\">\n",
       "  <thead>\n",
       "    <tr style=\"text-align: right;\">\n",
       "      <th></th>\n",
       "      <th></th>\n",
       "      <th>Age</th>\n",
       "      <th>Weight</th>\n",
       "      <th>Height</th>\n",
       "    </tr>\n",
       "    <tr>\n",
       "      <th>Medal</th>\n",
       "      <th>Event</th>\n",
       "      <th></th>\n",
       "      <th></th>\n",
       "      <th></th>\n",
       "    </tr>\n",
       "  </thead>\n",
       "  <tbody>\n",
       "    <tr>\n",
       "      <th rowspan=\"2\" valign=\"top\">Bronze</th>\n",
       "      <th>Athletics Men's 400 meters</th>\n",
       "      <td>23.583333</td>\n",
       "      <td>74.833333</td>\n",
       "      <td>181.083333</td>\n",
       "    </tr>\n",
       "    <tr>\n",
       "      <th>Athletics Men's Hammer Throw</th>\n",
       "      <td>27.458333</td>\n",
       "      <td>105.541667</td>\n",
       "      <td>188.000000</td>\n",
       "    </tr>\n",
       "    <tr>\n",
       "      <th rowspan=\"2\" valign=\"top\">Gold</th>\n",
       "      <th>Athletics Men's 400 meters</th>\n",
       "      <td>23.357143</td>\n",
       "      <td>75.214286</td>\n",
       "      <td>183.571429</td>\n",
       "    </tr>\n",
       "    <tr>\n",
       "      <th>Athletics Men's Hammer Throw</th>\n",
       "      <td>28.777778</td>\n",
       "      <td>104.814815</td>\n",
       "      <td>183.888889</td>\n",
       "    </tr>\n",
       "    <tr>\n",
       "      <th rowspan=\"2\" valign=\"top\">Silver</th>\n",
       "      <th>Athletics Men's 400 meters</th>\n",
       "      <td>23.480000</td>\n",
       "      <td>72.880000</td>\n",
       "      <td>182.240000</td>\n",
       "    </tr>\n",
       "    <tr>\n",
       "      <th>Athletics Men's Hammer Throw</th>\n",
       "      <td>30.708333</td>\n",
       "      <td>107.020833</td>\n",
       "      <td>185.875000</td>\n",
       "    </tr>\n",
       "  </tbody>\n",
       "</table>\n",
       "</div>"
      ],
      "text/plain": [
       "                                           Age      Weight      Height\n",
       "Medal  Event                                                          \n",
       "Bronze Athletics Men's 400 meters    23.583333   74.833333  181.083333\n",
       "       Athletics Men's Hammer Throw  27.458333  105.541667  188.000000\n",
       "Gold   Athletics Men's 400 meters    23.357143   75.214286  183.571429\n",
       "       Athletics Men's Hammer Throw  28.777778  104.814815  183.888889\n",
       "Silver Athletics Men's 400 meters    23.480000   72.880000  182.240000\n",
       "       Athletics Men's Hammer Throw  30.708333  107.020833  185.875000"
      ]
     },
     "execution_count": 8,
     "metadata": {},
     "output_type": "execute_result"
    }
   ],
   "source": [
    "age_ht_wt_grp = athletes_clean.groupby(['Medal', 'Event'])\n",
    "age_ht_wt_grp[[\"Age\", \"Weight\", \"Height\"]].mean() "
   ]
  },
  {
   "cell_type": "markdown",
   "metadata": {},
   "source": [
    "### Save your notebook and output an html version. To receive credit for this in-class exercise upload both the .html and .ipynb files.¶"
   ]
  }
 ],
 "metadata": {
  "kernelspec": {
   "display_name": "Python 3 (ipykernel)",
   "language": "python",
   "name": "python3"
  },
  "language_info": {
   "codemirror_mode": {
    "name": "ipython",
    "version": 3
   },
   "file_extension": ".py",
   "mimetype": "text/x-python",
   "name": "python",
   "nbconvert_exporter": "python",
   "pygments_lexer": "ipython3",
   "version": "3.10.13"
  }
 },
 "nbformat": 4,
 "nbformat_minor": 4
}
