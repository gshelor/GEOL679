{
 "cells": [
  {
   "cell_type": "markdown",
   "metadata": {},
   "source": [
    "Griffin Shelor\\\n",
    "3-4-2024"
   ]
  },
  {
   "cell_type": "markdown",
   "metadata": {},
   "source": [
    "# In-class Exercises: SciPy Misc Functions"
   ]
  },
  {
   "cell_type": "code",
   "execution_count": 1,
   "metadata": {},
   "outputs": [],
   "source": [
    "import pandas as pd\n",
    "import numpy as np\n",
    "import matplotlib.pyplot as plt\n",
    "from scipy.interpolate import interp1d\n",
    "from geopy.distance import geodesic"
   ]
  },
  {
   "cell_type": "markdown",
   "metadata": {},
   "source": [
    "#### Q1. Read the file 'lecture18_magnetics.csv' into a `pandas` `DataFrame`."
   ]
  },
  {
   "cell_type": "code",
   "execution_count": 2,
   "metadata": {},
   "outputs": [],
   "source": [
    "## reading in csv\n",
    "magnetics = pd.read_csv('lecture18_magnetics.csv')"
   ]
  },
  {
   "cell_type": "markdown",
   "metadata": {},
   "source": [
    "#### Q2. Fit a curve to 'Longitude' vs 'Age' from your magnetics `DataFrame` using `interp1d(...)`. "
   ]
  },
  {
   "cell_type": "code",
   "execution_count": 3,
   "metadata": {},
   "outputs": [],
   "source": [
    "fit = interp1d(magnetics['Longitude'], magnetics['Age'])"
   ]
  },
  {
   "cell_type": "markdown",
   "metadata": {},
   "source": [
    "#### Q3. Read the file 'lecture18_drillsites.csv' into a `pandas` `DataFrame`"
   ]
  },
  {
   "cell_type": "code",
   "execution_count": 4,
   "metadata": {},
   "outputs": [],
   "source": [
    "drillsites = pd.read_csv('lecture18_drillsites.csv')"
   ]
  },
  {
   "cell_type": "markdown",
   "metadata": {},
   "source": [
    "#### Q4. Using the interpolation function you created in Q2, add an 'Age' column to your drillsites `DataFrame`. Display the `DataFrame`.\n",
    "\n",
    "To do this, you will evaluate your interpolant from Q2 at the 'Longitude' points in the Q3 `DataFrame`."
   ]
  },
  {
   "cell_type": "code",
   "execution_count": 9,
   "metadata": {},
   "outputs": [
    {
     "data": {
      "text/html": [
       "<div>\n",
       "<style scoped>\n",
       "    .dataframe tbody tr th:only-of-type {\n",
       "        vertical-align: middle;\n",
       "    }\n",
       "\n",
       "    .dataframe tbody tr th {\n",
       "        vertical-align: top;\n",
       "    }\n",
       "\n",
       "    .dataframe thead th {\n",
       "        text-align: right;\n",
       "    }\n",
       "</style>\n",
       "<table border=\"1\" class=\"dataframe\">\n",
       "  <thead>\n",
       "    <tr style=\"text-align: right;\">\n",
       "      <th></th>\n",
       "      <th>Site</th>\n",
       "      <th>Primary/ Alternate</th>\n",
       "      <th>Profile</th>\n",
       "      <th>CDP</th>\n",
       "      <th>Latitude</th>\n",
       "      <th>Longitude</th>\n",
       "      <th>Sediment Thickness</th>\n",
       "      <th>Water Depth</th>\n",
       "      <th>Age</th>\n",
       "    </tr>\n",
       "  </thead>\n",
       "  <tbody>\n",
       "    <tr>\n",
       "      <th>0</th>\n",
       "      <td>11B</td>\n",
       "      <td>Alternate</td>\n",
       "      <td>CREST01</td>\n",
       "      <td>12603</td>\n",
       "      <td>-30.22233</td>\n",
       "      <td>-15.03817</td>\n",
       "      <td>104</td>\n",
       "      <td>3057</td>\n",
       "      <td>6.552149</td>\n",
       "    </tr>\n",
       "    <tr>\n",
       "      <th>1</th>\n",
       "      <td>12A</td>\n",
       "      <td>Alternate</td>\n",
       "      <td>CREST01</td>\n",
       "      <td>14712</td>\n",
       "      <td>-30.10376</td>\n",
       "      <td>-15.04832</td>\n",
       "      <td>96</td>\n",
       "      <td>3373</td>\n",
       "      <td>6.610624</td>\n",
       "    </tr>\n",
       "    <tr>\n",
       "      <th>2</th>\n",
       "      <td>13A</td>\n",
       "      <td>Primary</td>\n",
       "      <td>CREST01</td>\n",
       "      <td>11923</td>\n",
       "      <td>-30.26056</td>\n",
       "      <td>-15.03490</td>\n",
       "      <td>50</td>\n",
       "      <td>3047</td>\n",
       "      <td>6.533310</td>\n",
       "    </tr>\n",
       "    <tr>\n",
       "      <th>3</th>\n",
       "      <td>23A</td>\n",
       "      <td>Alternate</td>\n",
       "      <td>CREST1E</td>\n",
       "      <td>8724</td>\n",
       "      <td>-30.39535</td>\n",
       "      <td>-16.87974</td>\n",
       "      <td>162</td>\n",
       "      <td>3819</td>\n",
       "      <td>14.667926</td>\n",
       "    </tr>\n",
       "    <tr>\n",
       "      <th>4</th>\n",
       "      <td>24A</td>\n",
       "      <td>Alternate</td>\n",
       "      <td>CREST1DE</td>\n",
       "      <td>3434</td>\n",
       "      <td>-30.40021</td>\n",
       "      <td>-16.93053</td>\n",
       "      <td>94</td>\n",
       "      <td>3676</td>\n",
       "      <td>14.879114</td>\n",
       "    </tr>\n",
       "    <tr>\n",
       "      <th>5</th>\n",
       "      <td>25A</td>\n",
       "      <td>Primary</td>\n",
       "      <td>CREST02</td>\n",
       "      <td>12770</td>\n",
       "      <td>-30.40344</td>\n",
       "      <td>-16.92282</td>\n",
       "      <td>104</td>\n",
       "      <td>3691</td>\n",
       "      <td>14.847055</td>\n",
       "    </tr>\n",
       "    <tr>\n",
       "      <th>6</th>\n",
       "      <td>31A</td>\n",
       "      <td>Alternate</td>\n",
       "      <td>CREST03</td>\n",
       "      <td>11346</td>\n",
       "      <td>-30.76406</td>\n",
       "      <td>-20.43255</td>\n",
       "      <td>183</td>\n",
       "      <td>4188</td>\n",
       "      <td>30.391235</td>\n",
       "    </tr>\n",
       "    <tr>\n",
       "      <th>7</th>\n",
       "      <td>33B</td>\n",
       "      <td>Primary</td>\n",
       "      <td>CREST03</td>\n",
       "      <td>12300</td>\n",
       "      <td>-30.71029</td>\n",
       "      <td>-20.43390</td>\n",
       "      <td>138</td>\n",
       "      <td>4193</td>\n",
       "      <td>30.396655</td>\n",
       "    </tr>\n",
       "    <tr>\n",
       "      <th>8</th>\n",
       "      <td>35A</td>\n",
       "      <td>Alternate</td>\n",
       "      <td>CREST03</td>\n",
       "      <td>13680</td>\n",
       "      <td>-30.63251</td>\n",
       "      <td>-20.43586</td>\n",
       "      <td>93</td>\n",
       "      <td>4157</td>\n",
       "      <td>30.404524</td>\n",
       "    </tr>\n",
       "    <tr>\n",
       "      <th>9</th>\n",
       "      <td>41A</td>\n",
       "      <td>Alternate</td>\n",
       "      <td>CREST04</td>\n",
       "      <td>10926</td>\n",
       "      <td>-31.00332</td>\n",
       "      <td>-24.81913</td>\n",
       "      <td>203</td>\n",
       "      <td>4408</td>\n",
       "      <td>48.948384</td>\n",
       "    </tr>\n",
       "    <tr>\n",
       "      <th>10</th>\n",
       "      <td>43A</td>\n",
       "      <td>Primary</td>\n",
       "      <td>CREST1BC</td>\n",
       "      <td>3252</td>\n",
       "      <td>-30.89618</td>\n",
       "      <td>-24.84162</td>\n",
       "      <td>148</td>\n",
       "      <td>4323</td>\n",
       "      <td>49.053633</td>\n",
       "    </tr>\n",
       "    <tr>\n",
       "      <th>11</th>\n",
       "      <td>44A</td>\n",
       "      <td>Alternate</td>\n",
       "      <td>CREST1BC</td>\n",
       "      <td>2825</td>\n",
       "      <td>-30.89703</td>\n",
       "      <td>-24.86951</td>\n",
       "      <td>176</td>\n",
       "      <td>4283</td>\n",
       "      <td>49.184152</td>\n",
       "    </tr>\n",
       "    <tr>\n",
       "      <th>12</th>\n",
       "      <td>53B</td>\n",
       "      <td>Primary</td>\n",
       "      <td>CREST1AB</td>\n",
       "      <td>3410</td>\n",
       "      <td>-30.94207</td>\n",
       "      <td>-26.69912</td>\n",
       "      <td>180</td>\n",
       "      <td>4985</td>\n",
       "      <td>60.776776</td>\n",
       "    </tr>\n",
       "    <tr>\n",
       "      <th>13</th>\n",
       "      <td>54A</td>\n",
       "      <td>Primary</td>\n",
       "      <td>CREST1AB</td>\n",
       "      <td>3062</td>\n",
       "      <td>-30.94242</td>\n",
       "      <td>-26.72188</td>\n",
       "      <td>639</td>\n",
       "      <td>4996</td>\n",
       "      <td>60.934762</td>\n",
       "    </tr>\n",
       "    <tr>\n",
       "      <th>14</th>\n",
       "      <td>55A</td>\n",
       "      <td>Alternate</td>\n",
       "      <td>CREST05</td>\n",
       "      <td>16750</td>\n",
       "      <td>-30.72151</td>\n",
       "      <td>-26.69525</td>\n",
       "      <td>126</td>\n",
       "      <td>4857</td>\n",
       "      <td>60.749913</td>\n",
       "    </tr>\n",
       "    <tr>\n",
       "      <th>15</th>\n",
       "      <td>56A</td>\n",
       "      <td>Alternate</td>\n",
       "      <td>CREST1AB</td>\n",
       "      <td>4470</td>\n",
       "      <td>-30.94091</td>\n",
       "      <td>-26.62983</td>\n",
       "      <td>510</td>\n",
       "      <td>4998</td>\n",
       "      <td>60.295808</td>\n",
       "    </tr>\n",
       "  </tbody>\n",
       "</table>\n",
       "</div>"
      ],
      "text/plain": [
       "   Site Primary/ Alternate   Profile    CDP  Latitude  Longitude  \\\n",
       "0   11B          Alternate   CREST01  12603 -30.22233  -15.03817   \n",
       "1   12A          Alternate   CREST01  14712 -30.10376  -15.04832   \n",
       "2   13A            Primary   CREST01  11923 -30.26056  -15.03490   \n",
       "3   23A          Alternate   CREST1E   8724 -30.39535  -16.87974   \n",
       "4   24A          Alternate  CREST1DE   3434 -30.40021  -16.93053   \n",
       "5   25A            Primary   CREST02  12770 -30.40344  -16.92282   \n",
       "6   31A          Alternate   CREST03  11346 -30.76406  -20.43255   \n",
       "7   33B            Primary   CREST03  12300 -30.71029  -20.43390   \n",
       "8   35A          Alternate   CREST03  13680 -30.63251  -20.43586   \n",
       "9   41A          Alternate   CREST04  10926 -31.00332  -24.81913   \n",
       "10  43A            Primary  CREST1BC   3252 -30.89618  -24.84162   \n",
       "11  44A          Alternate  CREST1BC   2825 -30.89703  -24.86951   \n",
       "12  53B            Primary  CREST1AB   3410 -30.94207  -26.69912   \n",
       "13  54A            Primary  CREST1AB   3062 -30.94242  -26.72188   \n",
       "14  55A          Alternate   CREST05  16750 -30.72151  -26.69525   \n",
       "15  56A          Alternate  CREST1AB   4470 -30.94091  -26.62983   \n",
       "\n",
       "    Sediment Thickness  Water Depth        Age  \n",
       "0                  104         3057   6.552149  \n",
       "1                   96         3373   6.610624  \n",
       "2                   50         3047   6.533310  \n",
       "3                  162         3819  14.667926  \n",
       "4                   94         3676  14.879114  \n",
       "5                  104         3691  14.847055  \n",
       "6                  183         4188  30.391235  \n",
       "7                  138         4193  30.396655  \n",
       "8                   93         4157  30.404524  \n",
       "9                  203         4408  48.948384  \n",
       "10                 148         4323  49.053633  \n",
       "11                 176         4283  49.184152  \n",
       "12                 180         4985  60.776776  \n",
       "13                 639         4996  60.934762  \n",
       "14                 126         4857  60.749913  \n",
       "15                 510         4998  60.295808  "
      ]
     },
     "execution_count": 9,
     "metadata": {},
     "output_type": "execute_result"
    }
   ],
   "source": [
    "drillsites['Age'] = fit(drillsites['Longitude'])\n",
    "drillsites"
   ]
  },
  {
   "cell_type": "markdown",
   "metadata": {},
   "source": [
    "#### Q5. On a single figure, plot 'Longitude' (x-axis) vs 'Age' (y-axis) for both the magnetics and drillsite `DataFrames`. For the magnetics data use a solid line for your plot, and for the drillsites use symbols (and no line). Label the axes and add a legend."
   ]
  },
  {
   "cell_type": "code",
   "execution_count": 6,
   "metadata": {},
   "outputs": [
    {
     "data": {
      "image/png": "[encoded data removed]",
      "text/plain": [
       "<Figure size 640x480 with 1 Axes>"
      ]
     },
     "metadata": {},
     "output_type": "display_data"
    }
   ],
   "source": [
    "## plotting magnetics\n",
    "plt.plot(magnetics['Longitude'], magnetics['Age'], label = 'Magnetics')\n",
    "plt.plot(drillsites['Longitude'], drillsites['Age'], 'o', label = 'Drillsites')\n",
    "plt.xlabel('Longitude')\n",
    "plt.ylabel('Age')\n",
    "plt.title(\"Age Relative to Longitude\")\n",
    "plt.legend(loc = 'best');"
   ]
  },
  {
   "cell_type": "markdown",
   "metadata": {},
   "source": [
    "#### Q6. Calculate the geodesic distance in kilometers between Site 13A and Site 25A.\n",
    "\n",
    "These are two different rows in the drillsite `DataFrame`; your first step here should be to find the site coordinates for each."
   ]
  },
  {
   "cell_type": "code",
   "execution_count": 7,
   "metadata": {},
   "outputs": [
    {
     "data": {
      "text/plain": [
       "182.2364554668959"
      ]
     },
     "execution_count": 7,
     "metadata": {},
     "output_type": "execute_result"
    }
   ],
   "source": [
    "## getting coordinates\n",
    "lat13a = drillsites[drillsites['Site']=='13A']['Latitude'].values[0]\n",
    "lon13a = drillsites[drillsites['Site']=='13A']['Longitude'].values[0]\n",
    "\n",
    "lat25a = drillsites[drillsites['Site']=='25A']['Latitude'].values[0]\n",
    "lon25a = drillsites[drillsites['Site']=='25A']['Longitude'].values[0]\n",
    "\n",
    "## calculating geodesic distance\n",
    "geodist = geodesic((lat13a, lon13a), (lat25a, lon25a)).km\n",
    "geodist"
   ]
  },
  {
   "cell_type": "markdown",
   "metadata": {},
   "source": [
    "#### Q7. The drill ship has an average transit speed of 10 knots (nautical mile per hour).  How long will it take to travel between Site 13A and Site 25A?\n",
    "* Note that 1 km = 0.54 nautical miles."
   ]
  },
  {
   "cell_type": "code",
   "execution_count": 8,
   "metadata": {},
   "outputs": [
    {
     "data": {
      "text/plain": [
       "9.840768595212378"
      ]
     },
     "execution_count": 8,
     "metadata": {},
     "output_type": "execute_result"
    }
   ],
   "source": [
    "## converting to km/hour\n",
    "km_hour = 10 / 0.54\n",
    "\n",
    "## estimating travel time in hours\n",
    "travel_time = geodist / km_hour\n",
    "\n",
    "travel_time"
   ]
  },
  {
   "cell_type": "markdown",
   "metadata": {},
   "source": [
    "### Save your notebook and output an html version. To receive credit for this in-class exercise upload both the .html and .ipynb files."
   ]
  }
 ],
 "metadata": {
  "kernelspec": {
   "display_name": "Python 3 (ipykernel)",
   "language": "python",
   "name": "python3"
  },
  "language_info": {
   "codemirror_mode": {
    "name": "ipython",
    "version": 3
   },
   "file_extension": ".py",
   "mimetype": "text/x-python",
   "name": "python",
   "nbconvert_exporter": "python",
   "pygments_lexer": "ipython3",
   "version": "3.10.13"
  }
 },
 "nbformat": 4,
 "nbformat_minor": 4
}
