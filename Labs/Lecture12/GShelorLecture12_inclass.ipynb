{
 "cells": [
  {
   "cell_type": "markdown",
   "metadata": {},
   "source": [
    "Griffin Shelor\\\n",
    "5-3-2024"
   ]
  },
  {
   "cell_type": "markdown",
   "metadata": {},
   "source": [
    "# In-class Exercises: Advanced Loops"
   ]
  },
  {
   "cell_type": "code",
   "execution_count": 1,
   "metadata": {},
   "outputs": [],
   "source": [
    "import numpy as np\n",
    "import matplotlib.pyplot as plt\n",
    "import math"
   ]
  },
  {
   "cell_type": "markdown",
   "metadata": {},
   "source": [
    "### Q1. Make 3 lists or `numpy` arrays of length 6, then use the `zip()` function to loop through and print the values of each list. The first line should have the first values of each list, the second line the second values of each list, etc. "
   ]
  },
  {
   "cell_type": "code",
   "execution_count": 2,
   "metadata": {},
   "outputs": [
    {
     "name": "stdout",
     "output_type": "stream",
     "text": [
      "0.9537212404498385 0.9680638341166001 0.889523027847998\n",
      "0.6924429825263098 0.8685774430350137 0.2893749963804434\n",
      "0.8718547458821116 0.03281478195923204 0.8694389003153962\n",
      "0.7680776195886594 0.31821265586294045 0.9429215319924258\n",
      "0.5175612699911344 0.35983167901315183 0.35417146971008884\n",
      "0.8938303719781966 0.6049152464936594 0.7433562445531776\n"
     ]
    }
   ],
   "source": [
    "arr1 = np.random.rand(6)\n",
    "arr2 = np.random.rand(6)\n",
    "arr3 = np.random.rand(6)\n",
    "for i1, i2, i3 in zip(arr1, arr2, arr3):\n",
    "    print(i1, i2, i3)"
   ]
  },
  {
   "cell_type": "markdown",
   "metadata": {},
   "source": [
    "### Q2. Using a list comprehension, create a new list called `newlist` containing only the negative numbers out of the list `numbers` given below"
   ]
  },
  {
   "cell_type": "code",
   "execution_count": 3,
   "metadata": {},
   "outputs": [],
   "source": [
    "numbers = [34.6, -203.4, 44.9, 68.3, -12.2, 44.6, 12.7] # use this list"
   ]
  },
  {
   "cell_type": "code",
   "execution_count": 4,
   "metadata": {},
   "outputs": [
    {
     "name": "stdout",
     "output_type": "stream",
     "text": [
      "[-203.4, -12.2]\n"
     ]
    }
   ],
   "source": [
    "newlist = [a for a in numbers if a < 0]\n",
    "print(newlist)"
   ]
  },
  {
   "cell_type": "markdown",
   "metadata": {},
   "source": [
    "### Q3. Use a list comprehension to make a list of the _perfect squares_ between 1 and 100 (inclusive)\n",
    "* The integer will be a perfect square `if i**0.5 % 1 == 0`"
   ]
  },
  {
   "cell_type": "code",
   "execution_count": 5,
   "metadata": {},
   "outputs": [
    {
     "name": "stdout",
     "output_type": "stream",
     "text": [
      "[1, 4, 9, 16, 25, 36, 49, 64, 81, 100]\n"
     ]
    }
   ],
   "source": [
    "perf_sqrs = [x for x in range(1,101) if math.sqrt(x) % 1 ==  0]\n",
    "print(perf_sqrs)"
   ]
  },
  {
   "cell_type": "markdown",
   "metadata": {},
   "source": [
    "### Data for Q4-Q6:\n",
    "* `cities` - a list of city names\n",
    "* `decades` - a list of decades\n",
    "* `values` - a numpy array containing average high temperature for each city for each decade"
   ]
  },
  {
   "cell_type": "code",
   "execution_count": 6,
   "metadata": {},
   "outputs": [
    {
     "name": "stdout",
     "output_type": "stream",
     "text": [
      "(3, 5)\n"
     ]
    }
   ],
   "source": [
    "cities = ['Austin', 'Seattle', 'New York', 'Chicago',' Tampa']\n",
    "decades = ['1990s', '2000s', '2010s']\n",
    "temps = np.array([[79.6, 60.4, 63.3, 60.2, 82.5],\n",
    "                  [80.4, 59.5, 62.2, 59.8, 82.0],\n",
    "                  [81.3, 61.1, 63.3, 60.4, 82.8]])\n",
    "print(temps.shape)"
   ]
  },
  {
   "cell_type": "markdown",
   "metadata": {},
   "source": [
    "### Q4. Use a nested loop to print the row index, column index, and the value of the corresponding data point at that row/column index in the array `temps`."
   ]
  },
  {
   "cell_type": "code",
   "execution_count": 7,
   "metadata": {},
   "outputs": [
    {
     "name": "stdout",
     "output_type": "stream",
     "text": [
      "row index: 0 column index: 0 value: 79.6\n",
      "row index: 1 column index: 0 value: 80.4\n",
      "row index: 2 column index: 0 value: 81.3\n",
      "row index: 0 column index: 1 value: 60.4\n",
      "row index: 1 column index: 1 value: 59.5\n",
      "row index: 2 column index: 1 value: 61.1\n",
      "row index: 0 column index: 2 value: 63.3\n",
      "row index: 1 column index: 2 value: 62.2\n",
      "row index: 2 column index: 2 value: 63.3\n",
      "row index: 0 column index: 3 value: 60.2\n",
      "row index: 1 column index: 3 value: 59.8\n",
      "row index: 2 column index: 3 value: 60.4\n",
      "row index: 0 column index: 4 value: 82.5\n",
      "row index: 1 column index: 4 value: 82.0\n",
      "row index: 2 column index: 4 value: 82.8\n"
     ]
    }
   ],
   "source": [
    "for c in range(len(cities)):\n",
    "    for d in range(len(decades)):\n",
    "        print(\"row index:\", d, \"column index:\", c, \"value:\", temps[d,c])"
   ]
  },
  {
   "cell_type": "markdown",
   "metadata": {},
   "source": [
    "### Q5. Print the city, decade, and temperature for each instance in which `temps` < 61 degrees"
   ]
  },
  {
   "cell_type": "code",
   "execution_count": 8,
   "metadata": {},
   "outputs": [
    {
     "name": "stdout",
     "output_type": "stream",
     "text": [
      "City: Seattle Decade: 1990s value: 60.4\n",
      "City: Seattle Decade: 2000s value: 59.5\n",
      "City: Chicago Decade: 1990s value: 60.2\n",
      "City: Chicago Decade: 2000s value: 59.8\n",
      "City: Chicago Decade: 2010s value: 60.4\n"
     ]
    }
   ],
   "source": [
    "for c in range(len(cities)):\n",
    "    for d in range(len(decades)):\n",
    "        if temps[d,c] < 61:\n",
    "            print(\"City:\", cities[c], \"Decade:\", decades[d], \"value:\", temps[d,c])"
   ]
  },
  {
   "cell_type": "markdown",
   "metadata": {},
   "source": [
    "### Q6. Use a for loop to plot the temperature values during each decade for each city. Label the axes and add a legend. This should be a single plot for all cities, not one plot for each city."
   ]
  },
  {
   "cell_type": "code",
   "execution_count": 9,
   "metadata": {},
   "outputs": [
    {
     "data": {
      "image/png": "[encoded data removed]",
      "text/plain": [
       "<Figure size 640x480 with 1 Axes>"
      ]
     },
     "metadata": {},
     "output_type": "display_data"
    }
   ],
   "source": [
    "temps_transposed = temps.transpose()\n",
    "for i, city in enumerate(cities):\n",
    "    plt.scatter(decades, temps_transposed[i], label = [city])\n",
    "\n",
    "plt.xlabel = 'Decades'\n",
    "plt.ylabel = 'Temperature'\n",
    "plt.legend(loc = 'best');"
   ]
  },
  {
   "cell_type": "markdown",
   "metadata": {},
   "source": [
    "### Save your notebook and output an html version. To receive credit for this in-class exercise upload both the .html and .ipynb files."
   ]
  }
 ],
 "metadata": {
  "kernelspec": {
   "display_name": "Python 3 (ipykernel)",
   "language": "python",
   "name": "python3"
  },
  "language_info": {
   "codemirror_mode": {
    "name": "ipython",
    "version": 3
   },
   "file_extension": ".py",
   "mimetype": "text/x-python",
   "name": "python",
   "nbconvert_exporter": "python",
   "pygments_lexer": "ipython3",
   "version": "3.10.13"
  }
 },
 "nbformat": 4,
 "nbformat_minor": 4
}
