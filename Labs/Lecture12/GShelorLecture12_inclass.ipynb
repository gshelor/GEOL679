{
 "cells": [
  {
   "cell_type": "markdown",
   "metadata": {},
   "source": [
    "# In-class Exercises: Advanced Loops"
   ]
  },
  {
   "cell_type": "code",
   "execution_count": null,
   "metadata": {},
   "outputs": [],
   "source": [
    "import numpy as np\n",
    "import matplotlib.pyplot as plt"
   ]
  },
  {
   "cell_type": "markdown",
   "metadata": {},
   "source": [
    "### Q1. Make 3 lists or `numpy` arrays of length 6, then use the `zip()` function to loop through and print the values of each list. The first line should have the first values of each list, the second line the second values of each list, etc. "
   ]
  },
  {
   "cell_type": "code",
   "execution_count": null,
   "metadata": {},
   "outputs": [],
   "source": []
  },
  {
   "cell_type": "markdown",
   "metadata": {},
   "source": [
    "### Q2. Using a list comprehension, create a new list called `newlist` containing only the negative numbers out of the list `numbers` given below"
   ]
  },
  {
   "cell_type": "code",
   "execution_count": null,
   "metadata": {},
   "outputs": [],
   "source": [
    "numbers = [34.6, -203.4, 44.9, 68.3, -12.2, 44.6, 12.7] # use this list"
   ]
  },
  {
   "cell_type": "code",
   "execution_count": null,
   "metadata": {},
   "outputs": [],
   "source": []
  },
  {
   "cell_type": "markdown",
   "metadata": {},
   "source": [
    "### Q3. Use a list comprehension to make a list of the _perfect squares_ between 1 and 100 (inclusive)\n",
    "* The integer will be a perfect square `if i**0.5 % 1 == 0`"
   ]
  },
  {
   "cell_type": "code",
   "execution_count": null,
   "metadata": {},
   "outputs": [],
   "source": []
  },
  {
   "cell_type": "markdown",
   "metadata": {},
   "source": [
    "### Data for Q4-Q6:\n",
    "* `cities` - a list of city names\n",
    "* `decades` - a list of decades\n",
    "* `values` - a numpy array containing average high temperature for each city for each decade"
   ]
  },
  {
   "cell_type": "code",
   "execution_count": null,
   "metadata": {},
   "outputs": [],
   "source": [
    "cities = ['Austin', 'Seattle', 'New York', 'Chicago',' Tampa']\n",
    "decades = ['1990s', '2000s', '2010s']\n",
    "temps = np.array([[79.6, 60.4, 63.3, 60.2, 82.5],\n",
    "                  [80.4, 59.5, 62.2, 59.8, 82.0],\n",
    "                  [81.3, 61.1, 63.3, 60.4, 82.8]])\n",
    "print(temps.shape)"
   ]
  },
  {
   "cell_type": "markdown",
   "metadata": {},
   "source": [
    "### Q4. Use a nested loop to print the row index, column index, and the value of the corresponding data point at that row/column index in the array `temps`."
   ]
  },
  {
   "cell_type": "code",
   "execution_count": null,
   "metadata": {},
   "outputs": [],
   "source": []
  },
  {
   "cell_type": "markdown",
   "metadata": {},
   "source": [
    "### Q5. Print the city, decade, and temperature for each instance in which `temps` < 61 degrees"
   ]
  },
  {
   "cell_type": "code",
   "execution_count": null,
   "metadata": {},
   "outputs": [],
   "source": []
  },
  {
   "cell_type": "markdown",
   "metadata": {},
   "source": [
    "### Q6. Use a for loop to plot the temperature values during each decade for each city. Label the axes and add a legend. This should be a single plot for all cities, not one plot for each city."
   ]
  },
  {
   "cell_type": "code",
   "execution_count": null,
   "metadata": {},
   "outputs": [],
   "source": []
  },
  {
   "cell_type": "markdown",
   "metadata": {},
   "source": [
    "### Save your notebook and output an html version. To receive credit for this in-class exercise upload both the .html and .ipynb files."
   ]
  }
 ],
 "metadata": {
  "kernelspec": {
   "display_name": "Python 3 (ipykernel)",
   "language": "python",
   "name": "python3"
  },
  "language_info": {
   "codemirror_mode": {
    "name": "ipython",
    "version": 3
   },
   "file_extension": ".py",
   "mimetype": "text/x-python",
   "name": "python",
   "nbconvert_exporter": "python",
   "pygments_lexer": "ipython3",
   "version": "3.10.13"
  }
 },
 "nbformat": 4,
 "nbformat_minor": 4
}
